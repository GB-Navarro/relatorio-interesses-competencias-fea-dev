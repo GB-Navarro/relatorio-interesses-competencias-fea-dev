{
 "cells": [
  {
   "cell_type": "markdown",
   "metadata": {},
   "source": [
    "## **Perguntas a serem respondidas neste notebook**\n",
    "\n",
    "**Obs.: Membros da gestão devem ser excluídos de todas as análises.**\n",
    "\n",
    "1. **Quais membros não pretendem seguir ativos na entidade ?**\n",
    "   \n",
    "2. **Dos membros que pretendem continuar ativos, quais colocaram a FEA.Dev como tendo prioridade média em seu semestre ?**\n",
    "   - **Dentre os membros mencionados na resposta acima, quantos pretendem liderar projetos ?**\n",
    "\n",
    "3. **Dos membros que pretendem continuar ativos, quais colocaram a FEA.Dev como tendo prioridade alta em seu semestre ?**\n",
    "   - **Dentre os membros mencionados na resposta acima, quantos pretendem liderar projetos ?**\n",
    "\n",
    "4. **Dos membros que pretendem continuar ativos, algum colocou a FEA.Dev como tendo prioridade baixa em seu semestre ?**\n",
    "\n",
    "5. **Como é a distribuição dos níveis de competências dos membros que pretendem continuar ativos ?**\n",
    "   \n",
    "6. **Como é a distribuição dos interesses dos membros que pretendem continuar ativos ?**"
   ]
  },
  {
   "cell_type": "markdown",
   "metadata": {
    "vscode": {
     "languageId": "plaintext"
    }
   },
   "source": [
    "## **Preparação do notebook**"
   ]
  },
  {
   "cell_type": "markdown",
   "metadata": {},
   "source": [
    "### Instalação de bibliotecas"
   ]
  },
  {
   "cell_type": "code",
   "execution_count": 1,
   "metadata": {},
   "outputs": [
    {
     "name": "stdout",
     "output_type": "stream",
     "text": [
      "Defaulting to user installation because normal site-packages is not writeable\n",
      "Requirement already satisfied: pandas in /home/user/.local/lib/python3.10/site-packages (2.0.3)\n",
      "Requirement already satisfied: openpyxl in /home/user/.local/lib/python3.10/site-packages (3.1.5)\n",
      "Requirement already satisfied: plotly in /home/user/.local/lib/python3.10/site-packages (5.23.0)\n",
      "Requirement already satisfied: dash in /home/user/.local/lib/python3.10/site-packages (2.18.1)\n",
      "Requirement already satisfied: dash-bootstrap-components in /home/user/.local/lib/python3.10/site-packages (1.6.0)\n",
      "Requirement already satisfied: python-dateutil>=2.8.2 in /home/user/.local/lib/python3.10/site-packages (from pandas) (2.9.0.post0)\n",
      "Requirement already satisfied: numpy>=1.21.0 in /home/user/.local/lib/python3.10/site-packages (from pandas) (1.24.3)\n",
      "Requirement already satisfied: pytz>=2020.1 in /home/user/.local/lib/python3.10/site-packages (from pandas) (2024.1)\n",
      "Requirement already satisfied: tzdata>=2022.1 in /home/user/.local/lib/python3.10/site-packages (from pandas) (2024.1)\n",
      "Requirement already satisfied: et-xmlfile in /home/user/.local/lib/python3.10/site-packages (from openpyxl) (2.0.0)\n",
      "Requirement already satisfied: packaging in /home/user/.local/lib/python3.10/site-packages (from plotly) (23.1)\n",
      "Requirement already satisfied: tenacity>=6.2.0 in /home/user/.local/lib/python3.10/site-packages (from plotly) (8.2.3)\n",
      "Requirement already satisfied: Werkzeug<3.1 in /home/user/.local/lib/python3.10/site-packages (from dash) (3.0.1)\n",
      "Requirement already satisfied: requests in /home/user/.local/lib/python3.10/site-packages (from dash) (2.31.0)\n",
      "Requirement already satisfied: dash-html-components==2.0.0 in /home/user/.local/lib/python3.10/site-packages (from dash) (2.0.0)\n",
      "Requirement already satisfied: setuptools in /home/user/.local/lib/python3.10/site-packages (from dash) (75.6.0)\n",
      "Requirement already satisfied: retrying in /home/user/.local/lib/python3.10/site-packages (from dash) (1.3.4)\n",
      "Requirement already satisfied: dash-table==5.0.0 in /home/user/.local/lib/python3.10/site-packages (from dash) (5.0.0)\n",
      "Requirement already satisfied: dash-core-components==2.0.0 in /home/user/.local/lib/python3.10/site-packages (from dash) (2.0.0)\n",
      "Requirement already satisfied: importlib-metadata in /usr/lib/python3/dist-packages (from dash) (4.6.4)\n",
      "Requirement already satisfied: nest-asyncio in /home/user/.local/lib/python3.10/site-packages (from dash) (1.6.0)\n",
      "Requirement already satisfied: typing-extensions>=4.1.1 in /home/user/.local/lib/python3.10/site-packages (from dash) (4.10.0)\n",
      "Requirement already satisfied: Flask<3.1,>=1.0.4 in /home/user/.local/lib/python3.10/site-packages (from dash) (3.0.0)\n",
      "Requirement already satisfied: blinker>=1.6.2 in /home/user/.local/lib/python3.10/site-packages (from Flask<3.1,>=1.0.4->dash) (1.7.0)\n",
      "Requirement already satisfied: Jinja2>=3.1.2 in /home/user/.local/lib/python3.10/site-packages (from Flask<3.1,>=1.0.4->dash) (3.1.2)\n",
      "Requirement already satisfied: click>=8.1.3 in /home/user/.local/lib/python3.10/site-packages (from Flask<3.1,>=1.0.4->dash) (8.1.7)\n",
      "Requirement already satisfied: itsdangerous>=2.1.2 in /home/user/.local/lib/python3.10/site-packages (from Flask<3.1,>=1.0.4->dash) (2.1.2)\n",
      "Requirement already satisfied: six>=1.5 in /usr/lib/python3/dist-packages (from python-dateutil>=2.8.2->pandas) (1.16.0)\n",
      "Requirement already satisfied: MarkupSafe>=2.1.1 in /home/user/.local/lib/python3.10/site-packages (from Werkzeug<3.1->dash) (2.1.3)\n",
      "Requirement already satisfied: urllib3<3,>=1.21.1 in /usr/lib/python3/dist-packages (from requests->dash) (1.26.5)\n",
      "Requirement already satisfied: idna<4,>=2.5 in /usr/lib/python3/dist-packages (from requests->dash) (3.3)\n",
      "Requirement already satisfied: charset-normalizer<4,>=2 in /home/user/.local/lib/python3.10/site-packages (from requests->dash) (3.3.2)\n",
      "Requirement already satisfied: certifi>=2017.4.17 in /home/user/.local/lib/python3.10/site-packages (from requests->dash) (2024.12.14)\n"
     ]
    }
   ],
   "source": [
    "!pip install pandas openpyxl plotly dash dash-bootstrap-components"
   ]
  },
  {
   "cell_type": "markdown",
   "metadata": {
    "vscode": {
     "languageId": "plaintext"
    }
   },
   "source": [
    "### Importação de bibliotecas"
   ]
  },
  {
   "cell_type": "code",
   "execution_count": 2,
   "metadata": {},
   "outputs": [],
   "source": [
    "# Biblioteca para manipulação e análise de dados.\n",
    "import pandas as pd\n",
    "\n",
    "# Bibliotecas para visualização de dados interativa.\n",
    "import plotly.express as px\n",
    "import plotly.graph_objects as go\n",
    "\n",
    "# Bibliotecas para desenvolvimento de aplicações web interativas.\n",
    "from dash import dash, dcc, html\n",
    "import dash_bootstrap_components as dbc\n",
    "\n",
    "# Bibliotecas para abrir automaticamente o navegador ao iniciar o servidor Dash.\n",
    "import webbrowser\n",
    "import threading"
   ]
  },
  {
   "cell_type": "markdown",
   "metadata": {},
   "source": [
    "## **Preparação do dataframe**"
   ]
  },
  {
   "cell_type": "markdown",
   "metadata": {},
   "source": [
    "### Leitura do .xlsx"
   ]
  },
  {
   "cell_type": "code",
   "execution_count": 3,
   "metadata": {},
   "outputs": [
    {
     "data": {
      "text/html": [
       "<div>\n",
       "<style scoped>\n",
       "    .dataframe tbody tr th:only-of-type {\n",
       "        vertical-align: middle;\n",
       "    }\n",
       "\n",
       "    .dataframe tbody tr th {\n",
       "        vertical-align: top;\n",
       "    }\n",
       "\n",
       "    .dataframe thead th {\n",
       "        text-align: right;\n",
       "    }\n",
       "</style>\n",
       "<table border=\"1\" class=\"dataframe\">\n",
       "  <thead>\n",
       "    <tr style=\"text-align: right;\">\n",
       "      <th></th>\n",
       "      <th>Carimbo de data/hora</th>\n",
       "      <th>Endereço de e-mail</th>\n",
       "      <th>Seu nome completo:</th>\n",
       "      <th>🖤 Pretende seguir ativo na entidade no primeiro semestre de 2025?\\n\\nIsto implica:\\na) participar das reuniões de áreas administrativas;\\nb) participar das reuniões de grupos de estudos;\\nc) desenvolver as tarefas a mim delegadas e as que eu assumir por livre iniciativa;\\nd) comparecer, conforme possível, aos eventos organizados pela entidade e\\ne) prestar satisfação frente às responsabilidades aqui assumidas.</th>\n",
       "      <th>Como será sua rotina no próximo semestre? Fale um pouco sobre seus horários e as atividades que pretende desenvolver.</th>\n",
       "      <th>Você pretende estagiar? Se sim, quando (curto, médio, longo prazo)?</th>\n",
       "      <th>Avalie a prioridade dos itens abaixo para você no próximo semestre. [Estágio]</th>\n",
       "      <th>Avalie a prioridade dos itens abaixo para você no próximo semestre. [Outras entidades]</th>\n",
       "      <th>Avalie a prioridade dos itens abaixo para você no próximo semestre. [FEA.dev]</th>\n",
       "      <th>Avalie a prioridade dos itens abaixo para você no próximo semestre. [Faculdade]</th>\n",
       "      <th>...</th>\n",
       "      <th>Estatística</th>\n",
       "      <th>Probabilidade</th>\n",
       "      <th>Computação</th>\n",
       "      <th>Matemática Financeira</th>\n",
       "      <th>Econometria</th>\n",
       "      <th>Economia</th>\n",
       "      <th>Negócios</th>\n",
       "      <th>Por favor, compartilhe suas percepções sobre suas competências. Em quais áreas ou disciplinas você sente maior domínio? Em quais acredita que há oportunidade de melhoria? Caso deseje, também pode mencionar habilidades ou conhecimentos que gostaria de desenvolver durante sua participação na entidade.</th>\n",
       "      <th>Quais áreas ou setores do mercado de trabalho você pretende seguir ou utilizar seus conhecimentos no futuro? (Ex.: Finanças, Marketing, Consultoria, Tecnologia, etc.). Caso ainda não tenha definido, sinta-se à vontade para indicar suas áreas de interesse.</th>\n",
       "      <th>Coluna auxiliar</th>\n",
       "    </tr>\n",
       "  </thead>\n",
       "  <tbody>\n",
       "    <tr>\n",
       "      <th>0</th>\n",
       "      <td>2025-01-20 23:27:48.370</td>\n",
       "      <td>lucas.camargo1@usp.br</td>\n",
       "      <td>Lucas dos Santos Camargo</td>\n",
       "      <td>Pretendo seguir ativo na entidade e estou cien...</td>\n",
       "      <td>No próximo semestre irei fazer duas matérias n...</td>\n",
       "      <td>Já trabalho</td>\n",
       "      <td>Alta Prioridade</td>\n",
       "      <td>Não realizo essa atividade</td>\n",
       "      <td>Média Prioridade</td>\n",
       "      <td>Média Prioridade</td>\n",
       "      <td>...</td>\n",
       "      <td>3.0</td>\n",
       "      <td>4.0</td>\n",
       "      <td>2.0</td>\n",
       "      <td>3.0</td>\n",
       "      <td>2.0</td>\n",
       "      <td>3.0</td>\n",
       "      <td>3.0</td>\n",
       "      <td>NaN</td>\n",
       "      <td>Tenho interesse em seguir em finanças</td>\n",
       "      <td>Respondeu</td>\n",
       "    </tr>\n",
       "    <tr>\n",
       "      <th>1</th>\n",
       "      <td>2025-01-21 16:04:27.702</td>\n",
       "      <td>andrepennini@usp.br</td>\n",
       "      <td>André Menniti Pennini</td>\n",
       "      <td>Não pretendo seguir ativo na entidade, o que c...</td>\n",
       "      <td>NaN</td>\n",
       "      <td>NaN</td>\n",
       "      <td>NaN</td>\n",
       "      <td>NaN</td>\n",
       "      <td>NaN</td>\n",
       "      <td>NaN</td>\n",
       "      <td>...</td>\n",
       "      <td>NaN</td>\n",
       "      <td>NaN</td>\n",
       "      <td>NaN</td>\n",
       "      <td>NaN</td>\n",
       "      <td>NaN</td>\n",
       "      <td>NaN</td>\n",
       "      <td>NaN</td>\n",
       "      <td>NaN</td>\n",
       "      <td>NaN</td>\n",
       "      <td>Respondeu</td>\n",
       "    </tr>\n",
       "    <tr>\n",
       "      <th>2</th>\n",
       "      <td>2025-01-21 16:46:12.969</td>\n",
       "      <td>paulosergio_1@usp.br</td>\n",
       "      <td>Paulo Sergio Almeida de Oliveira</td>\n",
       "      <td>Não pretendo seguir ativo na entidade, o que c...</td>\n",
       "      <td>NaN</td>\n",
       "      <td>NaN</td>\n",
       "      <td>NaN</td>\n",
       "      <td>NaN</td>\n",
       "      <td>NaN</td>\n",
       "      <td>NaN</td>\n",
       "      <td>...</td>\n",
       "      <td>NaN</td>\n",
       "      <td>NaN</td>\n",
       "      <td>NaN</td>\n",
       "      <td>NaN</td>\n",
       "      <td>NaN</td>\n",
       "      <td>NaN</td>\n",
       "      <td>NaN</td>\n",
       "      <td>NaN</td>\n",
       "      <td>NaN</td>\n",
       "      <td>Respondeu</td>\n",
       "    </tr>\n",
       "    <tr>\n",
       "      <th>3</th>\n",
       "      <td>2025-01-21 16:46:22.403</td>\n",
       "      <td>vinicius.pereira.54@usp.br</td>\n",
       "      <td>Vinicius Dos Santos Pereira</td>\n",
       "      <td>Pretendo seguir ativo na entidade e estou cien...</td>\n",
       "      <td>Estarei estudando durante o período diurno ent...</td>\n",
       "      <td>Sim, no longo prazo</td>\n",
       "      <td>Média Prioridade</td>\n",
       "      <td>Baixa Prioridade</td>\n",
       "      <td>Alta Prioridade</td>\n",
       "      <td>Alta Prioridade</td>\n",
       "      <td>...</td>\n",
       "      <td>3.0</td>\n",
       "      <td>3.0</td>\n",
       "      <td>2.0</td>\n",
       "      <td>3.0</td>\n",
       "      <td>1.0</td>\n",
       "      <td>3.0</td>\n",
       "      <td>2.0</td>\n",
       "      <td>A minha fundamentação matematica para a comput...</td>\n",
       "      <td>Eu particularmente gostaria de aplicar os conh...</td>\n",
       "      <td>Respondeu</td>\n",
       "    </tr>\n",
       "    <tr>\n",
       "      <th>4</th>\n",
       "      <td>2025-01-21 17:00:24.328</td>\n",
       "      <td>vitor.katayama@usp.br</td>\n",
       "      <td>Vitor Aratani Katayama</td>\n",
       "      <td>Pretendo seguir ativo na entidade e estou cien...</td>\n",
       "      <td>Estou no último ano da graduação, terei poucas...</td>\n",
       "      <td>Curto prazo.</td>\n",
       "      <td>Alta Prioridade</td>\n",
       "      <td>Não realizo essa atividade</td>\n",
       "      <td>Média Prioridade</td>\n",
       "      <td>Baixa Prioridade</td>\n",
       "      <td>...</td>\n",
       "      <td>3.0</td>\n",
       "      <td>2.0</td>\n",
       "      <td>3.0</td>\n",
       "      <td>3.0</td>\n",
       "      <td>1.0</td>\n",
       "      <td>4.0</td>\n",
       "      <td>3.0</td>\n",
       "      <td>Ao longo da graduação de adm, sinto que precis...</td>\n",
       "      <td>Pretendo seguir carreira na área de finanças, ...</td>\n",
       "      <td>Respondeu</td>\n",
       "    </tr>\n",
       "    <tr>\n",
       "      <th>5</th>\n",
       "      <td>2025-01-21 17:11:18.247</td>\n",
       "      <td>gabrielfinamore@usp.br</td>\n",
       "      <td>Gabriel Finamore</td>\n",
       "      <td>Pretendo seguir ativo na entidade e estou cien...</td>\n",
       "      <td>Terei aulas de segunda a quinta na faculdade e...</td>\n",
       "      <td>Sim, mas apenas estágio de férias no inverno</td>\n",
       "      <td>Não realizo essa atividade</td>\n",
       "      <td>Não realizo essa atividade</td>\n",
       "      <td>Alta Prioridade</td>\n",
       "      <td>Alta Prioridade</td>\n",
       "      <td>...</td>\n",
       "      <td>3.0</td>\n",
       "      <td>5.0</td>\n",
       "      <td>3.0</td>\n",
       "      <td>3.0</td>\n",
       "      <td>4.0</td>\n",
       "      <td>4.0</td>\n",
       "      <td>3.0</td>\n",
       "      <td>Gostaria de trabalhar mais finanças na entidade</td>\n",
       "      <td>Finanças (mercado financeiro)</td>\n",
       "      <td>Respondeu</td>\n",
       "    </tr>\n",
       "    <tr>\n",
       "      <th>6</th>\n",
       "      <td>2025-01-21 17:19:38.163</td>\n",
       "      <td>igorpife@usp.br</td>\n",
       "      <td>Igor Pires Ferreira</td>\n",
       "      <td>Pretendo seguir ativo na entidade e estou cien...</td>\n",
       "      <td>Dizem que é o semestre mais dificil do curso d...</td>\n",
       "      <td>Não</td>\n",
       "      <td>Não realizo essa atividade</td>\n",
       "      <td>Não realizo essa atividade</td>\n",
       "      <td>Alta Prioridade</td>\n",
       "      <td>Alta Prioridade</td>\n",
       "      <td>...</td>\n",
       "      <td>4.0</td>\n",
       "      <td>2.0</td>\n",
       "      <td>4.0</td>\n",
       "      <td>3.0</td>\n",
       "      <td>1.0</td>\n",
       "      <td>3.0</td>\n",
       "      <td>4.0</td>\n",
       "      <td>NaN</td>\n",
       "      <td>NaN</td>\n",
       "      <td>Respondeu</td>\n",
       "    </tr>\n",
       "    <tr>\n",
       "      <th>7</th>\n",
       "      <td>2025-01-21 17:55:39.084</td>\n",
       "      <td>amabilegn@usp.br</td>\n",
       "      <td>Amabile Guerra Nunes</td>\n",
       "      <td>Pretendo seguir ativo na entidade e estou cien...</td>\n",
       "      <td>Pretendo seguir com a graduação no diurno (Eco...</td>\n",
       "      <td>Sim, estagiarei esse semestre (curto prazo).</td>\n",
       "      <td>Alta Prioridade</td>\n",
       "      <td>Baixa Prioridade</td>\n",
       "      <td>Alta Prioridade</td>\n",
       "      <td>Alta Prioridade</td>\n",
       "      <td>...</td>\n",
       "      <td>4.0</td>\n",
       "      <td>3.0</td>\n",
       "      <td>3.0</td>\n",
       "      <td>3.0</td>\n",
       "      <td>3.0</td>\n",
       "      <td>4.0</td>\n",
       "      <td>4.0</td>\n",
       "      <td>NaN</td>\n",
       "      <td>NaN</td>\n",
       "      <td>Respondeu</td>\n",
       "    </tr>\n",
       "    <tr>\n",
       "      <th>8</th>\n",
       "      <td>2025-01-21 18:00:26.061</td>\n",
       "      <td>annayoshi@usp.br</td>\n",
       "      <td>Anna Yoshi Une Mesquita</td>\n",
       "      <td>Pretendo seguir ativo na entidade e estou cien...</td>\n",
       "      <td>Estarei estagiando e em outra entidade. Estare...</td>\n",
       "      <td>Sim, em fevereiro deste ano</td>\n",
       "      <td>Alta Prioridade</td>\n",
       "      <td>Média Prioridade</td>\n",
       "      <td>Média Prioridade</td>\n",
       "      <td>Baixa Prioridade</td>\n",
       "      <td>...</td>\n",
       "      <td>3.0</td>\n",
       "      <td>3.0</td>\n",
       "      <td>1.0</td>\n",
       "      <td>3.0</td>\n",
       "      <td>1.0</td>\n",
       "      <td>4.0</td>\n",
       "      <td>3.0</td>\n",
       "      <td>Economia e Negócios. Computação</td>\n",
       "      <td>NaN</td>\n",
       "      <td>Respondeu</td>\n",
       "    </tr>\n",
       "    <tr>\n",
       "      <th>9</th>\n",
       "      <td>2025-01-21 18:18:37.953</td>\n",
       "      <td>miramos10@usp.br</td>\n",
       "      <td>Milena da Silva Ramos</td>\n",
       "      <td>Não pretendo seguir ativo na entidade, o que c...</td>\n",
       "      <td>NaN</td>\n",
       "      <td>NaN</td>\n",
       "      <td>NaN</td>\n",
       "      <td>NaN</td>\n",
       "      <td>NaN</td>\n",
       "      <td>NaN</td>\n",
       "      <td>...</td>\n",
       "      <td>NaN</td>\n",
       "      <td>NaN</td>\n",
       "      <td>NaN</td>\n",
       "      <td>NaN</td>\n",
       "      <td>NaN</td>\n",
       "      <td>NaN</td>\n",
       "      <td>NaN</td>\n",
       "      <td>NaN</td>\n",
       "      <td>NaN</td>\n",
       "      <td>Respondeu</td>\n",
       "    </tr>\n",
       "    <tr>\n",
       "      <th>10</th>\n",
       "      <td>2025-01-21 18:19:14.651</td>\n",
       "      <td>luisa2005.yumi@usp.br</td>\n",
       "      <td>Luisa Yumi Aoki Ribas</td>\n",
       "      <td>Pretendo seguir ativo na entidade e estou cien...</td>\n",
       "      <td>Então, estou estagiando desde o fim do ano pas...</td>\n",
       "      <td>Sim, pelo resto do ano.</td>\n",
       "      <td>Alta Prioridade</td>\n",
       "      <td>Média Prioridade</td>\n",
       "      <td>Média Prioridade</td>\n",
       "      <td>Alta Prioridade</td>\n",
       "      <td>...</td>\n",
       "      <td>1.0</td>\n",
       "      <td>1.0</td>\n",
       "      <td>1.0</td>\n",
       "      <td>2.0</td>\n",
       "      <td>1.0</td>\n",
       "      <td>3.0</td>\n",
       "      <td>3.0</td>\n",
       "      <td>NaN</td>\n",
       "      <td>Acredito que finanças.</td>\n",
       "      <td>Respondeu</td>\n",
       "    </tr>\n",
       "    <tr>\n",
       "      <th>11</th>\n",
       "      <td>2025-01-21 19:26:17.461</td>\n",
       "      <td>marcos.felipe@usp.br</td>\n",
       "      <td>Marcos Felipe da Silva</td>\n",
       "      <td>Pretendo seguir ativo na entidade e estou cien...</td>\n",
       "      <td>Estágio em horário comercial presencial e aula...</td>\n",
       "      <td>Sim, curto prazo</td>\n",
       "      <td>Alta Prioridade</td>\n",
       "      <td>Não realizo essa atividade</td>\n",
       "      <td>Alta Prioridade</td>\n",
       "      <td>Média Prioridade</td>\n",
       "      <td>...</td>\n",
       "      <td>1.0</td>\n",
       "      <td>1.0</td>\n",
       "      <td>4.0</td>\n",
       "      <td>3.0</td>\n",
       "      <td>1.0</td>\n",
       "      <td>1.0</td>\n",
       "      <td>5.0</td>\n",
       "      <td>Pouco interesse e conhecimento em conceitos ma...</td>\n",
       "      <td>No trabalho, crédito. Na vida a longo prazo, e...</td>\n",
       "      <td>Respondeu</td>\n",
       "    </tr>\n",
       "    <tr>\n",
       "      <th>12</th>\n",
       "      <td>2025-01-21 21:23:30.230</td>\n",
       "      <td>jessi.sayuri@usp.br</td>\n",
       "      <td>Jessica Sayuri Goya Higa</td>\n",
       "      <td>Pretendo seguir ativo na entidade e estou cien...</td>\n",
       "      <td>Pegarei matérias todos os dias a noite e farei...</td>\n",
       "      <td>Sim, a princí por 1 ano</td>\n",
       "      <td>Alta Prioridade</td>\n",
       "      <td>Não realizo essa atividade</td>\n",
       "      <td>Média Prioridade</td>\n",
       "      <td>Média Prioridade</td>\n",
       "      <td>...</td>\n",
       "      <td>1.0</td>\n",
       "      <td>1.0</td>\n",
       "      <td>1.0</td>\n",
       "      <td>3.0</td>\n",
       "      <td>1.0</td>\n",
       "      <td>1.0</td>\n",
       "      <td>1.0</td>\n",
       "      <td>NaN</td>\n",
       "      <td>NaN</td>\n",
       "      <td>Respondeu</td>\n",
       "    </tr>\n",
       "    <tr>\n",
       "      <th>13</th>\n",
       "      <td>2025-01-21 21:32:00.920</td>\n",
       "      <td>joseeduardo7474@usp.br</td>\n",
       "      <td>José Eduardo Santos Sarrico</td>\n",
       "      <td>Pretendo seguir ativo na entidade e estou cien...</td>\n",
       "      <td>Estágio: 9 as 15\\nFaculdade: 19:30 as 23\\nPret...</td>\n",
       "      <td>Estou estagiando</td>\n",
       "      <td>Alta Prioridade</td>\n",
       "      <td>Baixa Prioridade</td>\n",
       "      <td>Média Prioridade</td>\n",
       "      <td>Média Prioridade</td>\n",
       "      <td>...</td>\n",
       "      <td>2.0</td>\n",
       "      <td>2.0</td>\n",
       "      <td>3.0</td>\n",
       "      <td>3.0</td>\n",
       "      <td>1.0</td>\n",
       "      <td>1.0</td>\n",
       "      <td>3.0</td>\n",
       "      <td>Acredito que o que aprendi até aqui com a dev ...</td>\n",
       "      <td>Automação de processos e finanças</td>\n",
       "      <td>Respondeu</td>\n",
       "    </tr>\n",
       "    <tr>\n",
       "      <th>14</th>\n",
       "      <td>2025-01-21 22:19:56.040</td>\n",
       "      <td>felipe0308.fs@usp.br</td>\n",
       "      <td>Felipe da Silva Melo</td>\n",
       "      <td>Pretendo seguir ativo na entidade e estou cien...</td>\n",
       "      <td>Estarei desenvolvendo minha monografia e estar...</td>\n",
       "      <td>Já faço estágio.</td>\n",
       "      <td>Alta Prioridade</td>\n",
       "      <td>Não realizo essa atividade</td>\n",
       "      <td>Alta Prioridade</td>\n",
       "      <td>Média Prioridade</td>\n",
       "      <td>...</td>\n",
       "      <td>4.0</td>\n",
       "      <td>3.0</td>\n",
       "      <td>2.0</td>\n",
       "      <td>2.0</td>\n",
       "      <td>5.0</td>\n",
       "      <td>5.0</td>\n",
       "      <td>1.0</td>\n",
       "      <td>NaN</td>\n",
       "      <td>NaN</td>\n",
       "      <td>Respondeu</td>\n",
       "    </tr>\n",
       "    <tr>\n",
       "      <th>15</th>\n",
       "      <td>2025-01-22 17:58:59.596</td>\n",
       "      <td>lindoso70@usp.br</td>\n",
       "      <td>Henrique Nogueira Pedro Lindoso</td>\n",
       "      <td>Pretendo seguir ativo na entidade e estou cien...</td>\n",
       "      <td>Terei 9 matérias. Algumas serão de manhã, e ou...</td>\n",
       "      <td>Não pretendo estagiar no promeiro semestre, ma...</td>\n",
       "      <td>Não realizo essa atividade</td>\n",
       "      <td>Não realizo essa atividade</td>\n",
       "      <td>Alta Prioridade</td>\n",
       "      <td>Alta Prioridade</td>\n",
       "      <td>...</td>\n",
       "      <td>4.0</td>\n",
       "      <td>2.0</td>\n",
       "      <td>3.0</td>\n",
       "      <td>3.0</td>\n",
       "      <td>2.0</td>\n",
       "      <td>3.0</td>\n",
       "      <td>4.0</td>\n",
       "      <td>Áreas que meu desempenho é melhor são aquelas ...</td>\n",
       "      <td>Tenho interesse em Consultoria, Marketing, Ciê...</td>\n",
       "      <td>Respondeu</td>\n",
       "    </tr>\n",
       "    <tr>\n",
       "      <th>16</th>\n",
       "      <td>2025-01-22 19:53:26.505</td>\n",
       "      <td>miguel.feitosa@usp.br</td>\n",
       "      <td>Miguel dos Santos Rodrigues Feitosa</td>\n",
       "      <td>Não pretendo seguir ativo na entidade, o que c...</td>\n",
       "      <td>NaN</td>\n",
       "      <td>NaN</td>\n",
       "      <td>NaN</td>\n",
       "      <td>NaN</td>\n",
       "      <td>NaN</td>\n",
       "      <td>NaN</td>\n",
       "      <td>...</td>\n",
       "      <td>NaN</td>\n",
       "      <td>NaN</td>\n",
       "      <td>NaN</td>\n",
       "      <td>NaN</td>\n",
       "      <td>NaN</td>\n",
       "      <td>NaN</td>\n",
       "      <td>NaN</td>\n",
       "      <td>NaN</td>\n",
       "      <td>NaN</td>\n",
       "      <td>Respondeu</td>\n",
       "    </tr>\n",
       "    <tr>\n",
       "      <th>17</th>\n",
       "      <td>2025-01-23 18:22:13.573</td>\n",
       "      <td>juliabtoledo@usp.br</td>\n",
       "      <td>Julia Babam de Toledo</td>\n",
       "      <td>Pretendo seguir ativo na entidade e estou cien...</td>\n",
       "      <td>No próximo semestre, continuarei estagiando no...</td>\n",
       "      <td>Já estagio.</td>\n",
       "      <td>Alta Prioridade</td>\n",
       "      <td>Não realizo essa atividade</td>\n",
       "      <td>Alta Prioridade</td>\n",
       "      <td>Média Prioridade</td>\n",
       "      <td>...</td>\n",
       "      <td>4.0</td>\n",
       "      <td>5.0</td>\n",
       "      <td>2.0</td>\n",
       "      <td>3.0</td>\n",
       "      <td>4.0</td>\n",
       "      <td>5.0</td>\n",
       "      <td>3.0</td>\n",
       "      <td>Em economia, probabilidade, estatística e econ...</td>\n",
       "      <td>Dados, Crédito.</td>\n",
       "      <td>Respondeu</td>\n",
       "    </tr>\n",
       "    <tr>\n",
       "      <th>18</th>\n",
       "      <td>2025-01-23 21:43:58.349</td>\n",
       "      <td>rafaelderricoabreu@usp.br</td>\n",
       "      <td>Rafael Derrico dos Santos Abreu</td>\n",
       "      <td>Pretendo seguir ativo na entidade e estou cien...</td>\n",
       "      <td>Minha rotina vai ser bem complicada. Segunda-f...</td>\n",
       "      <td>Comecei a estagiar segunda-feira</td>\n",
       "      <td>Alta Prioridade</td>\n",
       "      <td>Média Prioridade</td>\n",
       "      <td>Média Prioridade</td>\n",
       "      <td>Alta Prioridade</td>\n",
       "      <td>...</td>\n",
       "      <td>4.0</td>\n",
       "      <td>4.0</td>\n",
       "      <td>2.0</td>\n",
       "      <td>1.0</td>\n",
       "      <td>4.0</td>\n",
       "      <td>3.0</td>\n",
       "      <td>2.0</td>\n",
       "      <td>Maior domínio na parte de economia e econometr...</td>\n",
       "      <td>Principalmente dados, finanças e tecnologia</td>\n",
       "      <td>Respondeu</td>\n",
       "    </tr>\n",
       "    <tr>\n",
       "      <th>19</th>\n",
       "      <td>2025-01-24 09:50:10.149</td>\n",
       "      <td>lucastortelli@usp.br</td>\n",
       "      <td>Lucas Tortelli de Moura</td>\n",
       "      <td>Pretendo seguir ativo na entidade e estou cien...</td>\n",
       "      <td>Terei terça, quarta e quinta a tarde livre</td>\n",
       "      <td>Médio longo prazo</td>\n",
       "      <td>Baixa Prioridade</td>\n",
       "      <td>Baixa Prioridade</td>\n",
       "      <td>Alta Prioridade</td>\n",
       "      <td>Média Prioridade</td>\n",
       "      <td>...</td>\n",
       "      <td>2.0</td>\n",
       "      <td>2.0</td>\n",
       "      <td>2.0</td>\n",
       "      <td>3.0</td>\n",
       "      <td>1.0</td>\n",
       "      <td>3.0</td>\n",
       "      <td>2.0</td>\n",
       "      <td>Acredito que ano passado na Dev aprendi muito ...</td>\n",
       "      <td>Finanças ou Tecnologia</td>\n",
       "      <td>Respondeu</td>\n",
       "    </tr>\n",
       "    <tr>\n",
       "      <th>20</th>\n",
       "      <td>2025-01-25 19:32:46.187</td>\n",
       "      <td>andreibonifacio@usp.br</td>\n",
       "      <td>Andrei Schoschlakow Bonifácio</td>\n",
       "      <td>Não pretendo seguir ativo na entidade, o que c...</td>\n",
       "      <td>NaN</td>\n",
       "      <td>NaN</td>\n",
       "      <td>NaN</td>\n",
       "      <td>NaN</td>\n",
       "      <td>NaN</td>\n",
       "      <td>NaN</td>\n",
       "      <td>...</td>\n",
       "      <td>NaN</td>\n",
       "      <td>NaN</td>\n",
       "      <td>NaN</td>\n",
       "      <td>NaN</td>\n",
       "      <td>NaN</td>\n",
       "      <td>NaN</td>\n",
       "      <td>NaN</td>\n",
       "      <td>NaN</td>\n",
       "      <td>NaN</td>\n",
       "      <td>Respondeu</td>\n",
       "    </tr>\n",
       "    <tr>\n",
       "      <th>21</th>\n",
       "      <td>2025-01-26 11:38:47.624</td>\n",
       "      <td>theoborten@usp.br</td>\n",
       "      <td>Theo Borten Radesca Migliano</td>\n",
       "      <td>Não pretendo seguir ativo na entidade, o que c...</td>\n",
       "      <td>NaN</td>\n",
       "      <td>NaN</td>\n",
       "      <td>NaN</td>\n",
       "      <td>NaN</td>\n",
       "      <td>NaN</td>\n",
       "      <td>NaN</td>\n",
       "      <td>...</td>\n",
       "      <td>NaN</td>\n",
       "      <td>NaN</td>\n",
       "      <td>NaN</td>\n",
       "      <td>NaN</td>\n",
       "      <td>NaN</td>\n",
       "      <td>NaN</td>\n",
       "      <td>NaN</td>\n",
       "      <td>NaN</td>\n",
       "      <td>NaN</td>\n",
       "      <td>Respondeu</td>\n",
       "    </tr>\n",
       "    <tr>\n",
       "      <th>22</th>\n",
       "      <td>2025-01-26 11:40:36.814</td>\n",
       "      <td>lorenzocavalcante05@usp.br</td>\n",
       "      <td>Lorenzo Cavalcante</td>\n",
       "      <td>Pretendo seguir ativo na entidade e estou cien...</td>\n",
       "      <td>Estarei mudando de curso para econo, então meu...</td>\n",
       "      <td>Não pretendo</td>\n",
       "      <td>Não realizo essa atividade</td>\n",
       "      <td>Baixa Prioridade</td>\n",
       "      <td>Alta Prioridade</td>\n",
       "      <td>Alta Prioridade</td>\n",
       "      <td>...</td>\n",
       "      <td>3.0</td>\n",
       "      <td>3.0</td>\n",
       "      <td>3.0</td>\n",
       "      <td>4.0</td>\n",
       "      <td>1.0</td>\n",
       "      <td>1.0</td>\n",
       "      <td>1.0</td>\n",
       "      <td>Cálculo e Computação, porém gostaria bastante ...</td>\n",
       "      <td>Finanças ou Tecnologia.</td>\n",
       "      <td>Respondeu</td>\n",
       "    </tr>\n",
       "    <tr>\n",
       "      <th>23</th>\n",
       "      <td>2025-01-26 13:51:22.050</td>\n",
       "      <td>juliacervieira@usp.br</td>\n",
       "      <td>Julia Cerqueira Vieira</td>\n",
       "      <td>Pretendo seguir ativo na entidade e estou cien...</td>\n",
       "      <td>aulas da graduação e estágio de segunda e quin...</td>\n",
       "      <td>já estou estagiando</td>\n",
       "      <td>Média Prioridade</td>\n",
       "      <td>Não realizo essa atividade</td>\n",
       "      <td>Alta Prioridade</td>\n",
       "      <td>Alta Prioridade</td>\n",
       "      <td>...</td>\n",
       "      <td>4.0</td>\n",
       "      <td>4.0</td>\n",
       "      <td>2.0</td>\n",
       "      <td>2.0</td>\n",
       "      <td>4.0</td>\n",
       "      <td>3.0</td>\n",
       "      <td>1.0</td>\n",
       "      <td>embora possua maior domínio em áreas que apren...</td>\n",
       "      <td>pesquisa qualitativa e finanças (setor finance...</td>\n",
       "      <td>Respondeu</td>\n",
       "    </tr>\n",
       "    <tr>\n",
       "      <th>24</th>\n",
       "      <td>2025-01-26 20:14:02.346</td>\n",
       "      <td>gbnavarro@usp.br</td>\n",
       "      <td>Gabriel da Silva Navarro</td>\n",
       "      <td>Pretendo seguir ativo na entidade e estou cien...</td>\n",
       "      <td>No próximo semestre, terei uma carga considerá...</td>\n",
       "      <td>Sim, no medio prazo</td>\n",
       "      <td>Média Prioridade</td>\n",
       "      <td>Não realizo essa atividade</td>\n",
       "      <td>Alta Prioridade</td>\n",
       "      <td>Alta Prioridade</td>\n",
       "      <td>...</td>\n",
       "      <td>3.0</td>\n",
       "      <td>5.0</td>\n",
       "      <td>5.0</td>\n",
       "      <td>1.0</td>\n",
       "      <td>1.0</td>\n",
       "      <td>1.0</td>\n",
       "      <td>3.0</td>\n",
       "      <td>Tenho maior domínio nas áreas de computação e ...</td>\n",
       "      <td>Pretendo utilizar os meus conhecimentos nos se...</td>\n",
       "      <td>Respondeu</td>\n",
       "    </tr>\n",
       "    <tr>\n",
       "      <th>25</th>\n",
       "      <td>2025-01-26 20:22:09.258</td>\n",
       "      <td>gabriel_braz@usp.br</td>\n",
       "      <td>Gabriel de Sousa Braz</td>\n",
       "      <td>Pretendo seguir ativo na entidade e estou cien...</td>\n",
       "      <td>Presidência na FEA.dev (o dia todo); estágio; ...</td>\n",
       "      <td>Sim, já estou estagiando.</td>\n",
       "      <td>Média Prioridade</td>\n",
       "      <td>Não realizo essa atividade</td>\n",
       "      <td>Alta Prioridade</td>\n",
       "      <td>Alta Prioridade</td>\n",
       "      <td>...</td>\n",
       "      <td>3.0</td>\n",
       "      <td>4.0</td>\n",
       "      <td>3.0</td>\n",
       "      <td>3.0</td>\n",
       "      <td>1.0</td>\n",
       "      <td>3.0</td>\n",
       "      <td>4.0</td>\n",
       "      <td>Áreas que sinto maior domínio: Análise de dado...</td>\n",
       "      <td>Setor securitário; finanças; prevenção a fraud...</td>\n",
       "      <td>Respondeu</td>\n",
       "    </tr>\n",
       "    <tr>\n",
       "      <th>26</th>\n",
       "      <td>2025-01-26 22:42:08.744</td>\n",
       "      <td>ygorronnan@usp.br</td>\n",
       "      <td>Ygor Ronnan Miguel Reis</td>\n",
       "      <td>Pretendo seguir ativo na entidade e estou cien...</td>\n",
       "      <td>Pretendo me dedicar mais pra exclusivamente es...</td>\n",
       "      <td>Pretendo, entre o próximo semestre e o começo ...</td>\n",
       "      <td>Não realizo essa atividade</td>\n",
       "      <td>Não realizo essa atividade</td>\n",
       "      <td>Alta Prioridade</td>\n",
       "      <td>Alta Prioridade</td>\n",
       "      <td>...</td>\n",
       "      <td>3.0</td>\n",
       "      <td>5.0</td>\n",
       "      <td>4.0</td>\n",
       "      <td>4.0</td>\n",
       "      <td>1.0</td>\n",
       "      <td>3.0</td>\n",
       "      <td>4.0</td>\n",
       "      <td>Acredito ter uma defasagem especialmente nos c...</td>\n",
       "      <td>Finanças</td>\n",
       "      <td>Respondeu</td>\n",
       "    </tr>\n",
       "    <tr>\n",
       "      <th>27</th>\n",
       "      <td>2025-01-26 23:54:02.593</td>\n",
       "      <td>felippe.bertollo@usp.br</td>\n",
       "      <td>Felippe Gomes Bertollo</td>\n",
       "      <td>Pretendo seguir ativo na entidade e estou cien...</td>\n",
       "      <td>Corrida. Fui efetivado no trabalho e, mesmo co...</td>\n",
       "      <td>Estou trabalhando como efetivo.</td>\n",
       "      <td>Alta Prioridade</td>\n",
       "      <td>Não realizo essa atividade</td>\n",
       "      <td>Média Prioridade</td>\n",
       "      <td>Alta Prioridade</td>\n",
       "      <td>...</td>\n",
       "      <td>4.0</td>\n",
       "      <td>3.0</td>\n",
       "      <td>2.0</td>\n",
       "      <td>3.0</td>\n",
       "      <td>1.0</td>\n",
       "      <td>4.0</td>\n",
       "      <td>5.0</td>\n",
       "      <td>No trabalho, percebo que tenho mais facilidade...</td>\n",
       "      <td>Atualmente estou em auditoria, área com uma fo...</td>\n",
       "      <td>Respondeu</td>\n",
       "    </tr>\n",
       "    <tr>\n",
       "      <th>28</th>\n",
       "      <td>2025-01-27 10:31:48.069</td>\n",
       "      <td>hidekikomi@usp.br</td>\n",
       "      <td>Felipe Hideki Komi</td>\n",
       "      <td>Pretendo seguir ativo na entidade e estou cien...</td>\n",
       "      <td>Apenas aulas noturnas</td>\n",
       "      <td>Sim, espero que logo kkkkkkk</td>\n",
       "      <td>Alta Prioridade</td>\n",
       "      <td>Alta Prioridade</td>\n",
       "      <td>Média Prioridade</td>\n",
       "      <td>Baixa Prioridade</td>\n",
       "      <td>...</td>\n",
       "      <td>2.0</td>\n",
       "      <td>3.0</td>\n",
       "      <td>4.0</td>\n",
       "      <td>5.0</td>\n",
       "      <td>3.0</td>\n",
       "      <td>3.0</td>\n",
       "      <td>5.0</td>\n",
       "      <td>NaN</td>\n",
       "      <td>NaN</td>\n",
       "      <td>Respondeu</td>\n",
       "    </tr>\n",
       "    <tr>\n",
       "      <th>29</th>\n",
       "      <td>2025-01-27 22:11:30.888</td>\n",
       "      <td>emmanuelitaemmanuel@usp.br</td>\n",
       "      <td>Emmanuelita Stephene Emmanuel</td>\n",
       "      <td>Pretendo seguir ativo na entidade e estou cien...</td>\n",
       "      <td>Estudo no noturno e trabalho. Nas minhas horas...</td>\n",
       "      <td>Já trabalho.</td>\n",
       "      <td>Alta Prioridade</td>\n",
       "      <td>Baixa Prioridade</td>\n",
       "      <td>Alta Prioridade</td>\n",
       "      <td>Alta Prioridade</td>\n",
       "      <td>...</td>\n",
       "      <td>1.0</td>\n",
       "      <td>1.0</td>\n",
       "      <td>1.0</td>\n",
       "      <td>1.0</td>\n",
       "      <td>1.0</td>\n",
       "      <td>1.0</td>\n",
       "      <td>2.0</td>\n",
       "      <td>NaN</td>\n",
       "      <td>NaN</td>\n",
       "      <td>Respondeu</td>\n",
       "    </tr>\n",
       "    <tr>\n",
       "      <th>30</th>\n",
       "      <td>2025-01-28 19:11:26.704</td>\n",
       "      <td>camilliaraujo@usp.br</td>\n",
       "      <td>Camilli Santos de Araujo</td>\n",
       "      <td>Não pretendo seguir ativo na entidade, o que c...</td>\n",
       "      <td>NaN</td>\n",
       "      <td>NaN</td>\n",
       "      <td>NaN</td>\n",
       "      <td>NaN</td>\n",
       "      <td>NaN</td>\n",
       "      <td>NaN</td>\n",
       "      <td>...</td>\n",
       "      <td>NaN</td>\n",
       "      <td>NaN</td>\n",
       "      <td>NaN</td>\n",
       "      <td>NaN</td>\n",
       "      <td>NaN</td>\n",
       "      <td>NaN</td>\n",
       "      <td>NaN</td>\n",
       "      <td>NaN</td>\n",
       "      <td>NaN</td>\n",
       "      <td>NaN</td>\n",
       "    </tr>\n",
       "    <tr>\n",
       "      <th>31</th>\n",
       "      <td>2025-01-29 14:19:00.681</td>\n",
       "      <td>caiohuang@usp.br</td>\n",
       "      <td>Caio Huang</td>\n",
       "      <td>Pretendo seguir ativo na entidade e estou cien...</td>\n",
       "      <td>Minhas aulas são diurnas, acaba às 11h. Caso t...</td>\n",
       "      <td>Já estou a procura de estágio</td>\n",
       "      <td>Alta Prioridade</td>\n",
       "      <td>Baixa Prioridade</td>\n",
       "      <td>Média Prioridade</td>\n",
       "      <td>Média Prioridade</td>\n",
       "      <td>...</td>\n",
       "      <td>3.0</td>\n",
       "      <td>2.0</td>\n",
       "      <td>3.0</td>\n",
       "      <td>3.0</td>\n",
       "      <td>1.0</td>\n",
       "      <td>4.0</td>\n",
       "      <td>4.0</td>\n",
       "      <td>NaN</td>\n",
       "      <td>NaN</td>\n",
       "      <td>NaN</td>\n",
       "    </tr>\n",
       "  </tbody>\n",
       "</table>\n",
       "<p>32 rows × 32 columns</p>\n",
       "</div>"
      ],
      "text/plain": [
       "      Carimbo de data/hora          Endereço de e-mail  \\\n",
       "0  2025-01-20 23:27:48.370       lucas.camargo1@usp.br   \n",
       "1  2025-01-21 16:04:27.702         andrepennini@usp.br   \n",
       "2  2025-01-21 16:46:12.969        paulosergio_1@usp.br   \n",
       "3  2025-01-21 16:46:22.403  vinicius.pereira.54@usp.br   \n",
       "4  2025-01-21 17:00:24.328       vitor.katayama@usp.br   \n",
       "5  2025-01-21 17:11:18.247      gabrielfinamore@usp.br   \n",
       "6  2025-01-21 17:19:38.163             igorpife@usp.br   \n",
       "7  2025-01-21 17:55:39.084            amabilegn@usp.br   \n",
       "8  2025-01-21 18:00:26.061            annayoshi@usp.br   \n",
       "9  2025-01-21 18:18:37.953            miramos10@usp.br   \n",
       "10 2025-01-21 18:19:14.651       luisa2005.yumi@usp.br   \n",
       "11 2025-01-21 19:26:17.461        marcos.felipe@usp.br   \n",
       "12 2025-01-21 21:23:30.230         jessi.sayuri@usp.br   \n",
       "13 2025-01-21 21:32:00.920      joseeduardo7474@usp.br   \n",
       "14 2025-01-21 22:19:56.040        felipe0308.fs@usp.br   \n",
       "15 2025-01-22 17:58:59.596            lindoso70@usp.br   \n",
       "16 2025-01-22 19:53:26.505       miguel.feitosa@usp.br   \n",
       "17 2025-01-23 18:22:13.573         juliabtoledo@usp.br   \n",
       "18 2025-01-23 21:43:58.349   rafaelderricoabreu@usp.br   \n",
       "19 2025-01-24 09:50:10.149        lucastortelli@usp.br   \n",
       "20 2025-01-25 19:32:46.187      andreibonifacio@usp.br   \n",
       "21 2025-01-26 11:38:47.624           theoborten@usp.br   \n",
       "22 2025-01-26 11:40:36.814  lorenzocavalcante05@usp.br   \n",
       "23 2025-01-26 13:51:22.050       juliacervieira@usp.br   \n",
       "24 2025-01-26 20:14:02.346            gbnavarro@usp.br   \n",
       "25 2025-01-26 20:22:09.258         gabriel_braz@usp.br   \n",
       "26 2025-01-26 22:42:08.744           ygorronnan@usp.br   \n",
       "27 2025-01-26 23:54:02.593     felippe.bertollo@usp.br   \n",
       "28 2025-01-27 10:31:48.069           hidekikomi@usp.br   \n",
       "29 2025-01-27 22:11:30.888  emmanuelitaemmanuel@usp.br   \n",
       "30 2025-01-28 19:11:26.704        camilliaraujo@usp.br   \n",
       "31 2025-01-29 14:19:00.681            caiohuang@usp.br   \n",
       "\n",
       "                     Seu nome completo:  \\\n",
       "0              Lucas dos Santos Camargo   \n",
       "1                 André Menniti Pennini   \n",
       "2      Paulo Sergio Almeida de Oliveira   \n",
       "3          Vinicius Dos Santos Pereira    \n",
       "4                Vitor Aratani Katayama   \n",
       "5                      Gabriel Finamore   \n",
       "6                   Igor Pires Ferreira   \n",
       "7                  Amabile Guerra Nunes   \n",
       "8               Anna Yoshi Une Mesquita   \n",
       "9                 Milena da Silva Ramos   \n",
       "10               Luisa Yumi Aoki Ribas    \n",
       "11               Marcos Felipe da Silva   \n",
       "12             Jessica Sayuri Goya Higa   \n",
       "13         José Eduardo Santos Sarrico    \n",
       "14                 Felipe da Silva Melo   \n",
       "15      Henrique Nogueira Pedro Lindoso   \n",
       "16  Miguel dos Santos Rodrigues Feitosa   \n",
       "17                Julia Babam de Toledo   \n",
       "18     Rafael Derrico dos Santos Abreu    \n",
       "19              Lucas Tortelli de Moura   \n",
       "20        Andrei Schoschlakow Bonifácio   \n",
       "21        Theo Borten Radesca Migliano    \n",
       "22                   Lorenzo Cavalcante   \n",
       "23               Julia Cerqueira Vieira   \n",
       "24             Gabriel da Silva Navarro   \n",
       "25                Gabriel de Sousa Braz   \n",
       "26              Ygor Ronnan Miguel Reis   \n",
       "27               Felippe Gomes Bertollo   \n",
       "28                   Felipe Hideki Komi   \n",
       "29       Emmanuelita Stephene Emmanuel    \n",
       "30             Camilli Santos de Araujo   \n",
       "31                           Caio Huang   \n",
       "\n",
       "   🖤 Pretende seguir ativo na entidade no primeiro semestre de 2025?\\n\\nIsto implica:\\na) participar das reuniões de áreas administrativas;\\nb) participar das reuniões de grupos de estudos;\\nc) desenvolver as tarefas a mim delegadas e as que eu assumir por livre iniciativa;\\nd) comparecer, conforme possível, aos eventos organizados pela entidade e\\ne) prestar satisfação frente às responsabilidades aqui assumidas.  \\\n",
       "0   Pretendo seguir ativo na entidade e estou cien...                                                                                                                                                                                                                                                                                                                                                                              \n",
       "1   Não pretendo seguir ativo na entidade, o que c...                                                                                                                                                                                                                                                                                                                                                                              \n",
       "2   Não pretendo seguir ativo na entidade, o que c...                                                                                                                                                                                                                                                                                                                                                                              \n",
       "3   Pretendo seguir ativo na entidade e estou cien...                                                                                                                                                                                                                                                                                                                                                                              \n",
       "4   Pretendo seguir ativo na entidade e estou cien...                                                                                                                                                                                                                                                                                                                                                                              \n",
       "5   Pretendo seguir ativo na entidade e estou cien...                                                                                                                                                                                                                                                                                                                                                                              \n",
       "6   Pretendo seguir ativo na entidade e estou cien...                                                                                                                                                                                                                                                                                                                                                                              \n",
       "7   Pretendo seguir ativo na entidade e estou cien...                                                                                                                                                                                                                                                                                                                                                                              \n",
       "8   Pretendo seguir ativo na entidade e estou cien...                                                                                                                                                                                                                                                                                                                                                                              \n",
       "9   Não pretendo seguir ativo na entidade, o que c...                                                                                                                                                                                                                                                                                                                                                                              \n",
       "10  Pretendo seguir ativo na entidade e estou cien...                                                                                                                                                                                                                                                                                                                                                                              \n",
       "11  Pretendo seguir ativo na entidade e estou cien...                                                                                                                                                                                                                                                                                                                                                                              \n",
       "12  Pretendo seguir ativo na entidade e estou cien...                                                                                                                                                                                                                                                                                                                                                                              \n",
       "13  Pretendo seguir ativo na entidade e estou cien...                                                                                                                                                                                                                                                                                                                                                                              \n",
       "14  Pretendo seguir ativo na entidade e estou cien...                                                                                                                                                                                                                                                                                                                                                                              \n",
       "15  Pretendo seguir ativo na entidade e estou cien...                                                                                                                                                                                                                                                                                                                                                                              \n",
       "16  Não pretendo seguir ativo na entidade, o que c...                                                                                                                                                                                                                                                                                                                                                                              \n",
       "17  Pretendo seguir ativo na entidade e estou cien...                                                                                                                                                                                                                                                                                                                                                                              \n",
       "18  Pretendo seguir ativo na entidade e estou cien...                                                                                                                                                                                                                                                                                                                                                                              \n",
       "19  Pretendo seguir ativo na entidade e estou cien...                                                                                                                                                                                                                                                                                                                                                                              \n",
       "20  Não pretendo seguir ativo na entidade, o que c...                                                                                                                                                                                                                                                                                                                                                                              \n",
       "21  Não pretendo seguir ativo na entidade, o que c...                                                                                                                                                                                                                                                                                                                                                                              \n",
       "22  Pretendo seguir ativo na entidade e estou cien...                                                                                                                                                                                                                                                                                                                                                                              \n",
       "23  Pretendo seguir ativo na entidade e estou cien...                                                                                                                                                                                                                                                                                                                                                                              \n",
       "24  Pretendo seguir ativo na entidade e estou cien...                                                                                                                                                                                                                                                                                                                                                                              \n",
       "25  Pretendo seguir ativo na entidade e estou cien...                                                                                                                                                                                                                                                                                                                                                                              \n",
       "26  Pretendo seguir ativo na entidade e estou cien...                                                                                                                                                                                                                                                                                                                                                                              \n",
       "27  Pretendo seguir ativo na entidade e estou cien...                                                                                                                                                                                                                                                                                                                                                                              \n",
       "28  Pretendo seguir ativo na entidade e estou cien...                                                                                                                                                                                                                                                                                                                                                                              \n",
       "29  Pretendo seguir ativo na entidade e estou cien...                                                                                                                                                                                                                                                                                                                                                                              \n",
       "30  Não pretendo seguir ativo na entidade, o que c...                                                                                                                                                                                                                                                                                                                                                                              \n",
       "31  Pretendo seguir ativo na entidade e estou cien...                                                                                                                                                                                                                                                                                                                                                                              \n",
       "\n",
       "   Como será sua rotina no próximo semestre? Fale um pouco sobre seus horários e as atividades que pretende desenvolver.  \\\n",
       "0   No próximo semestre irei fazer duas matérias n...                                                                      \n",
       "1                                                 NaN                                                                      \n",
       "2                                                 NaN                                                                      \n",
       "3   Estarei estudando durante o período diurno ent...                                                                      \n",
       "4   Estou no último ano da graduação, terei poucas...                                                                      \n",
       "5   Terei aulas de segunda a quinta na faculdade e...                                                                      \n",
       "6   Dizem que é o semestre mais dificil do curso d...                                                                      \n",
       "7   Pretendo seguir com a graduação no diurno (Eco...                                                                      \n",
       "8   Estarei estagiando e em outra entidade. Estare...                                                                      \n",
       "9                                                 NaN                                                                      \n",
       "10  Então, estou estagiando desde o fim do ano pas...                                                                      \n",
       "11  Estágio em horário comercial presencial e aula...                                                                      \n",
       "12  Pegarei matérias todos os dias a noite e farei...                                                                      \n",
       "13  Estágio: 9 as 15\\nFaculdade: 19:30 as 23\\nPret...                                                                      \n",
       "14  Estarei desenvolvendo minha monografia e estar...                                                                      \n",
       "15  Terei 9 matérias. Algumas serão de manhã, e ou...                                                                      \n",
       "16                                                NaN                                                                      \n",
       "17  No próximo semestre, continuarei estagiando no...                                                                      \n",
       "18  Minha rotina vai ser bem complicada. Segunda-f...                                                                      \n",
       "19        Terei terça, quarta e quinta a tarde livre                                                                       \n",
       "20                                                NaN                                                                      \n",
       "21                                                NaN                                                                      \n",
       "22  Estarei mudando de curso para econo, então meu...                                                                      \n",
       "23  aulas da graduação e estágio de segunda e quin...                                                                      \n",
       "24  No próximo semestre, terei uma carga considerá...                                                                      \n",
       "25  Presidência na FEA.dev (o dia todo); estágio; ...                                                                      \n",
       "26  Pretendo me dedicar mais pra exclusivamente es...                                                                      \n",
       "27  Corrida. Fui efetivado no trabalho e, mesmo co...                                                                      \n",
       "28                              Apenas aulas noturnas                                                                      \n",
       "29  Estudo no noturno e trabalho. Nas minhas horas...                                                                      \n",
       "30                                                NaN                                                                      \n",
       "31  Minhas aulas são diurnas, acaba às 11h. Caso t...                                                                      \n",
       "\n",
       "   Você pretende estagiar? Se sim, quando (curto, médio, longo prazo)?  \\\n",
       "0                                         Já trabalho                    \n",
       "1                                                 NaN                    \n",
       "2                                                 NaN                    \n",
       "3                                Sim, no longo prazo                     \n",
       "4                                        Curto prazo.                    \n",
       "5        Sim, mas apenas estágio de férias no inverno                    \n",
       "6                                                 Não                    \n",
       "7        Sim, estagiarei esse semestre (curto prazo).                    \n",
       "8                         Sim, em fevereiro deste ano                    \n",
       "9                                                 NaN                    \n",
       "10                            Sim, pelo resto do ano.                    \n",
       "11                                   Sim, curto prazo                    \n",
       "12                           Sim, a princí por 1 ano                     \n",
       "13                                   Estou estagiando                    \n",
       "14                                   Já faço estágio.                    \n",
       "15  Não pretendo estagiar no promeiro semestre, ma...                    \n",
       "16                                                NaN                    \n",
       "17                                        Já estagio.                    \n",
       "18                   Comecei a estagiar segunda-feira                    \n",
       "19                                 Médio longo prazo                     \n",
       "20                                                NaN                    \n",
       "21                                                NaN                    \n",
       "22                                       Não pretendo                    \n",
       "23                               já estou estagiando                     \n",
       "24                                Sim, no medio prazo                    \n",
       "25                          Sim, já estou estagiando.                    \n",
       "26  Pretendo, entre o próximo semestre e o começo ...                    \n",
       "27                    Estou trabalhando como efetivo.                    \n",
       "28                       Sim, espero que logo kkkkkkk                    \n",
       "29                                       Já trabalho.                    \n",
       "30                                                NaN                    \n",
       "31                     Já estou a procura de estágio                     \n",
       "\n",
       "    Avalie a prioridade dos itens abaixo para você no próximo semestre. [Estágio]  \\\n",
       "0                                     Alta Prioridade                               \n",
       "1                                                 NaN                               \n",
       "2                                                 NaN                               \n",
       "3                                    Média Prioridade                               \n",
       "4                                     Alta Prioridade                               \n",
       "5                          Não realizo essa atividade                               \n",
       "6                          Não realizo essa atividade                               \n",
       "7                                     Alta Prioridade                               \n",
       "8                                     Alta Prioridade                               \n",
       "9                                                 NaN                               \n",
       "10                                    Alta Prioridade                               \n",
       "11                                    Alta Prioridade                               \n",
       "12                                    Alta Prioridade                               \n",
       "13                                    Alta Prioridade                               \n",
       "14                                    Alta Prioridade                               \n",
       "15                         Não realizo essa atividade                               \n",
       "16                                                NaN                               \n",
       "17                                    Alta Prioridade                               \n",
       "18                                    Alta Prioridade                               \n",
       "19                                   Baixa Prioridade                               \n",
       "20                                                NaN                               \n",
       "21                                                NaN                               \n",
       "22                         Não realizo essa atividade                               \n",
       "23                                   Média Prioridade                               \n",
       "24                                   Média Prioridade                               \n",
       "25                                   Média Prioridade                               \n",
       "26                         Não realizo essa atividade                               \n",
       "27                                    Alta Prioridade                               \n",
       "28                                    Alta Prioridade                               \n",
       "29                                    Alta Prioridade                               \n",
       "30                                                NaN                               \n",
       "31                                    Alta Prioridade                               \n",
       "\n",
       "    Avalie a prioridade dos itens abaixo para você no próximo semestre. [Outras entidades]  \\\n",
       "0                          Não realizo essa atividade                                        \n",
       "1                                                 NaN                                        \n",
       "2                                                 NaN                                        \n",
       "3                                    Baixa Prioridade                                        \n",
       "4                          Não realizo essa atividade                                        \n",
       "5                          Não realizo essa atividade                                        \n",
       "6                          Não realizo essa atividade                                        \n",
       "7                                    Baixa Prioridade                                        \n",
       "8                                    Média Prioridade                                        \n",
       "9                                                 NaN                                        \n",
       "10                                   Média Prioridade                                        \n",
       "11                         Não realizo essa atividade                                        \n",
       "12                         Não realizo essa atividade                                        \n",
       "13                                   Baixa Prioridade                                        \n",
       "14                         Não realizo essa atividade                                        \n",
       "15                         Não realizo essa atividade                                        \n",
       "16                                                NaN                                        \n",
       "17                         Não realizo essa atividade                                        \n",
       "18                                   Média Prioridade                                        \n",
       "19                                   Baixa Prioridade                                        \n",
       "20                                                NaN                                        \n",
       "21                                                NaN                                        \n",
       "22                                   Baixa Prioridade                                        \n",
       "23                         Não realizo essa atividade                                        \n",
       "24                         Não realizo essa atividade                                        \n",
       "25                         Não realizo essa atividade                                        \n",
       "26                         Não realizo essa atividade                                        \n",
       "27                         Não realizo essa atividade                                        \n",
       "28                                    Alta Prioridade                                        \n",
       "29                                   Baixa Prioridade                                        \n",
       "30                                                NaN                                        \n",
       "31                                   Baixa Prioridade                                        \n",
       "\n",
       "    Avalie a prioridade dos itens abaixo para você no próximo semestre. [FEA.dev]  \\\n",
       "0                                    Média Prioridade                               \n",
       "1                                                 NaN                               \n",
       "2                                                 NaN                               \n",
       "3                                     Alta Prioridade                               \n",
       "4                                    Média Prioridade                               \n",
       "5                                     Alta Prioridade                               \n",
       "6                                     Alta Prioridade                               \n",
       "7                                     Alta Prioridade                               \n",
       "8                                    Média Prioridade                               \n",
       "9                                                 NaN                               \n",
       "10                                   Média Prioridade                               \n",
       "11                                    Alta Prioridade                               \n",
       "12                                   Média Prioridade                               \n",
       "13                                   Média Prioridade                               \n",
       "14                                    Alta Prioridade                               \n",
       "15                                    Alta Prioridade                               \n",
       "16                                                NaN                               \n",
       "17                                    Alta Prioridade                               \n",
       "18                                   Média Prioridade                               \n",
       "19                                    Alta Prioridade                               \n",
       "20                                                NaN                               \n",
       "21                                                NaN                               \n",
       "22                                    Alta Prioridade                               \n",
       "23                                    Alta Prioridade                               \n",
       "24                                    Alta Prioridade                               \n",
       "25                                    Alta Prioridade                               \n",
       "26                                    Alta Prioridade                               \n",
       "27                                   Média Prioridade                               \n",
       "28                                   Média Prioridade                               \n",
       "29                                    Alta Prioridade                               \n",
       "30                                                NaN                               \n",
       "31                                   Média Prioridade                               \n",
       "\n",
       "    Avalie a prioridade dos itens abaixo para você no próximo semestre. [Faculdade]  \\\n",
       "0                                    Média Prioridade                                 \n",
       "1                                                 NaN                                 \n",
       "2                                                 NaN                                 \n",
       "3                                     Alta Prioridade                                 \n",
       "4                                    Baixa Prioridade                                 \n",
       "5                                     Alta Prioridade                                 \n",
       "6                                     Alta Prioridade                                 \n",
       "7                                     Alta Prioridade                                 \n",
       "8                                    Baixa Prioridade                                 \n",
       "9                                                 NaN                                 \n",
       "10                                    Alta Prioridade                                 \n",
       "11                                   Média Prioridade                                 \n",
       "12                                   Média Prioridade                                 \n",
       "13                                   Média Prioridade                                 \n",
       "14                                   Média Prioridade                                 \n",
       "15                                    Alta Prioridade                                 \n",
       "16                                                NaN                                 \n",
       "17                                   Média Prioridade                                 \n",
       "18                                    Alta Prioridade                                 \n",
       "19                                   Média Prioridade                                 \n",
       "20                                                NaN                                 \n",
       "21                                                NaN                                 \n",
       "22                                    Alta Prioridade                                 \n",
       "23                                    Alta Prioridade                                 \n",
       "24                                    Alta Prioridade                                 \n",
       "25                                    Alta Prioridade                                 \n",
       "26                                    Alta Prioridade                                 \n",
       "27                                    Alta Prioridade                                 \n",
       "28                                   Baixa Prioridade                                 \n",
       "29                                    Alta Prioridade                                 \n",
       "30                                                NaN                                 \n",
       "31                                   Média Prioridade                                 \n",
       "\n",
       "    ... Estatística Probabilidade Computação Matemática Financeira  \\\n",
       "0   ...         3.0           4.0        2.0                   3.0   \n",
       "1   ...         NaN           NaN        NaN                   NaN   \n",
       "2   ...         NaN           NaN        NaN                   NaN   \n",
       "3   ...         3.0           3.0        2.0                   3.0   \n",
       "4   ...         3.0           2.0        3.0                   3.0   \n",
       "5   ...         3.0           5.0        3.0                   3.0   \n",
       "6   ...         4.0           2.0        4.0                   3.0   \n",
       "7   ...         4.0           3.0        3.0                   3.0   \n",
       "8   ...         3.0           3.0        1.0                   3.0   \n",
       "9   ...         NaN           NaN        NaN                   NaN   \n",
       "10  ...         1.0           1.0        1.0                   2.0   \n",
       "11  ...         1.0           1.0        4.0                   3.0   \n",
       "12  ...         1.0           1.0        1.0                   3.0   \n",
       "13  ...         2.0           2.0        3.0                   3.0   \n",
       "14  ...         4.0           3.0        2.0                   2.0   \n",
       "15  ...         4.0           2.0        3.0                   3.0   \n",
       "16  ...         NaN           NaN        NaN                   NaN   \n",
       "17  ...         4.0           5.0        2.0                   3.0   \n",
       "18  ...         4.0           4.0        2.0                   1.0   \n",
       "19  ...         2.0           2.0        2.0                   3.0   \n",
       "20  ...         NaN           NaN        NaN                   NaN   \n",
       "21  ...         NaN           NaN        NaN                   NaN   \n",
       "22  ...         3.0           3.0        3.0                   4.0   \n",
       "23  ...         4.0           4.0        2.0                   2.0   \n",
       "24  ...         3.0           5.0        5.0                   1.0   \n",
       "25  ...         3.0           4.0        3.0                   3.0   \n",
       "26  ...         3.0           5.0        4.0                   4.0   \n",
       "27  ...         4.0           3.0        2.0                   3.0   \n",
       "28  ...         2.0           3.0        4.0                   5.0   \n",
       "29  ...         1.0           1.0        1.0                   1.0   \n",
       "30  ...         NaN           NaN        NaN                   NaN   \n",
       "31  ...         3.0           2.0        3.0                   3.0   \n",
       "\n",
       "   Econometria Economia Negócios  \\\n",
       "0          2.0      3.0      3.0   \n",
       "1          NaN      NaN      NaN   \n",
       "2          NaN      NaN      NaN   \n",
       "3          1.0      3.0      2.0   \n",
       "4          1.0      4.0      3.0   \n",
       "5          4.0      4.0      3.0   \n",
       "6          1.0      3.0      4.0   \n",
       "7          3.0      4.0      4.0   \n",
       "8          1.0      4.0      3.0   \n",
       "9          NaN      NaN      NaN   \n",
       "10         1.0      3.0      3.0   \n",
       "11         1.0      1.0      5.0   \n",
       "12         1.0      1.0      1.0   \n",
       "13         1.0      1.0      3.0   \n",
       "14         5.0      5.0      1.0   \n",
       "15         2.0      3.0      4.0   \n",
       "16         NaN      NaN      NaN   \n",
       "17         4.0      5.0      3.0   \n",
       "18         4.0      3.0      2.0   \n",
       "19         1.0      3.0      2.0   \n",
       "20         NaN      NaN      NaN   \n",
       "21         NaN      NaN      NaN   \n",
       "22         1.0      1.0      1.0   \n",
       "23         4.0      3.0      1.0   \n",
       "24         1.0      1.0      3.0   \n",
       "25         1.0      3.0      4.0   \n",
       "26         1.0      3.0      4.0   \n",
       "27         1.0      4.0      5.0   \n",
       "28         3.0      3.0      5.0   \n",
       "29         1.0      1.0      2.0   \n",
       "30         NaN      NaN      NaN   \n",
       "31         1.0      4.0      4.0   \n",
       "\n",
       "   Por favor, compartilhe suas percepções sobre suas competências. Em quais áreas ou disciplinas você sente maior domínio? Em quais acredita que há oportunidade de melhoria? Caso deseje, também pode mencionar habilidades ou conhecimentos que gostaria de desenvolver durante sua participação na entidade.  \\\n",
       "0                                                 NaN                                                                                                                                                                                                                                                             \n",
       "1                                                 NaN                                                                                                                                                                                                                                                             \n",
       "2                                                 NaN                                                                                                                                                                                                                                                             \n",
       "3   A minha fundamentação matematica para a comput...                                                                                                                                                                                                                                                             \n",
       "4   Ao longo da graduação de adm, sinto que precis...                                                                                                                                                                                                                                                             \n",
       "5     Gostaria de trabalhar mais finanças na entidade                                                                                                                                                                                                                                                             \n",
       "6                                                 NaN                                                                                                                                                                                                                                                             \n",
       "7                                                 NaN                                                                                                                                                                                                                                                             \n",
       "8                     Economia e Negócios. Computação                                                                                                                                                                                                                                                             \n",
       "9                                                 NaN                                                                                                                                                                                                                                                             \n",
       "10                                                NaN                                                                                                                                                                                                                                                             \n",
       "11  Pouco interesse e conhecimento em conceitos ma...                                                                                                                                                                                                                                                             \n",
       "12                                                NaN                                                                                                                                                                                                                                                             \n",
       "13  Acredito que o que aprendi até aqui com a dev ...                                                                                                                                                                                                                                                             \n",
       "14                                                NaN                                                                                                                                                                                                                                                             \n",
       "15  Áreas que meu desempenho é melhor são aquelas ...                                                                                                                                                                                                                                                             \n",
       "16                                                NaN                                                                                                                                                                                                                                                             \n",
       "17  Em economia, probabilidade, estatística e econ...                                                                                                                                                                                                                                                             \n",
       "18  Maior domínio na parte de economia e econometr...                                                                                                                                                                                                                                                             \n",
       "19  Acredito que ano passado na Dev aprendi muito ...                                                                                                                                                                                                                                                             \n",
       "20                                                NaN                                                                                                                                                                                                                                                             \n",
       "21                                                NaN                                                                                                                                                                                                                                                             \n",
       "22  Cálculo e Computação, porém gostaria bastante ...                                                                                                                                                                                                                                                             \n",
       "23  embora possua maior domínio em áreas que apren...                                                                                                                                                                                                                                                             \n",
       "24  Tenho maior domínio nas áreas de computação e ...                                                                                                                                                                                                                                                             \n",
       "25  Áreas que sinto maior domínio: Análise de dado...                                                                                                                                                                                                                                                             \n",
       "26  Acredito ter uma defasagem especialmente nos c...                                                                                                                                                                                                                                                             \n",
       "27  No trabalho, percebo que tenho mais facilidade...                                                                                                                                                                                                                                                             \n",
       "28                                                NaN                                                                                                                                                                                                                                                             \n",
       "29                                                NaN                                                                                                                                                                                                                                                             \n",
       "30                                                NaN                                                                                                                                                                                                                                                             \n",
       "31                                                NaN                                                                                                                                                                                                                                                             \n",
       "\n",
       "   Quais áreas ou setores do mercado de trabalho você pretende seguir ou utilizar seus conhecimentos no futuro? (Ex.: Finanças, Marketing, Consultoria, Tecnologia, etc.). Caso ainda não tenha definido, sinta-se à vontade para indicar suas áreas de interesse.  \\\n",
       "0               Tenho interesse em seguir em finanças                                                                                                                                                                                                                \n",
       "1                                                 NaN                                                                                                                                                                                                                \n",
       "2                                                 NaN                                                                                                                                                                                                                \n",
       "3   Eu particularmente gostaria de aplicar os conh...                                                                                                                                                                                                                \n",
       "4   Pretendo seguir carreira na área de finanças, ...                                                                                                                                                                                                                \n",
       "5                       Finanças (mercado financeiro)                                                                                                                                                                                                                \n",
       "6                                                 NaN                                                                                                                                                                                                                \n",
       "7                                                 NaN                                                                                                                                                                                                                \n",
       "8                                                 NaN                                                                                                                                                                                                                \n",
       "9                                                 NaN                                                                                                                                                                                                                \n",
       "10                             Acredito que finanças.                                                                                                                                                                                                                \n",
       "11  No trabalho, crédito. Na vida a longo prazo, e...                                                                                                                                                                                                                \n",
       "12                                                NaN                                                                                                                                                                                                                \n",
       "13                 Automação de processos e finanças                                                                                                                                                                                                                 \n",
       "14                                                NaN                                                                                                                                                                                                                \n",
       "15  Tenho interesse em Consultoria, Marketing, Ciê...                                                                                                                                                                                                                \n",
       "16                                                NaN                                                                                                                                                                                                                \n",
       "17                                    Dados, Crédito.                                                                                                                                                                                                                \n",
       "18        Principalmente dados, finanças e tecnologia                                                                                                                                                                                                                \n",
       "19                            Finanças ou Tecnologia                                                                                                                                                                                                                 \n",
       "20                                                NaN                                                                                                                                                                                                                \n",
       "21                                                NaN                                                                                                                                                                                                                \n",
       "22                            Finanças ou Tecnologia.                                                                                                                                                                                                                \n",
       "23  pesquisa qualitativa e finanças (setor finance...                                                                                                                                                                                                                \n",
       "24  Pretendo utilizar os meus conhecimentos nos se...                                                                                                                                                                                                                \n",
       "25  Setor securitário; finanças; prevenção a fraud...                                                                                                                                                                                                                \n",
       "26                                           Finanças                                                                                                                                                                                                                \n",
       "27  Atualmente estou em auditoria, área com uma fo...                                                                                                                                                                                                                \n",
       "28                                                NaN                                                                                                                                                                                                                \n",
       "29                                                NaN                                                                                                                                                                                                                \n",
       "30                                                NaN                                                                                                                                                                                                                \n",
       "31                                                NaN                                                                                                                                                                                                                \n",
       "\n",
       "   Coluna auxiliar  \n",
       "0        Respondeu  \n",
       "1        Respondeu  \n",
       "2        Respondeu  \n",
       "3        Respondeu  \n",
       "4        Respondeu  \n",
       "5        Respondeu  \n",
       "6        Respondeu  \n",
       "7        Respondeu  \n",
       "8        Respondeu  \n",
       "9        Respondeu  \n",
       "10       Respondeu  \n",
       "11       Respondeu  \n",
       "12       Respondeu  \n",
       "13       Respondeu  \n",
       "14       Respondeu  \n",
       "15       Respondeu  \n",
       "16       Respondeu  \n",
       "17       Respondeu  \n",
       "18       Respondeu  \n",
       "19       Respondeu  \n",
       "20       Respondeu  \n",
       "21       Respondeu  \n",
       "22       Respondeu  \n",
       "23       Respondeu  \n",
       "24       Respondeu  \n",
       "25       Respondeu  \n",
       "26       Respondeu  \n",
       "27       Respondeu  \n",
       "28       Respondeu  \n",
       "29       Respondeu  \n",
       "30             NaN  \n",
       "31             NaN  \n",
       "\n",
       "[32 rows x 32 columns]"
      ]
     },
     "execution_count": 3,
     "metadata": {},
     "output_type": "execute_result"
    }
   ],
   "source": [
    "# Lê o arquivo forms.xlsx, o transforma em um dataframe pandas.\n",
    "df = pd.read_excel('forms.xlsx')\n",
    "\n",
    "# Exibe o dataframe criado.\n",
    "df"
   ]
  },
  {
   "cell_type": "markdown",
   "metadata": {},
   "source": [
    "### Excluindo os membros da gestão"
   ]
  },
  {
   "cell_type": "code",
   "execution_count": 4,
   "metadata": {},
   "outputs": [],
   "source": [
    "# Obs: A Luane não respondeu o forms, por conta disso, o email dela não aparece na lista abaixo.\n",
    "\n",
    "# Cria uma lista com o email de todos os membros da gestão.\n",
    "emails_gestao = ['lucas.camargo1@usp.br', 'vinicius.pereira.54@usp.br', 'igorpife@usp.br', 'amabilegn@usp.br', 'marcos.felipe@usp.br', 'juliabtoledo@usp.br', 'lorenzocavalcante05@usp.br', 'juliacervieira@usp.br', 'gbnavarro@usp.br', 'gabriel_braz@usp.br', ]"
   ]
  },
  {
   "cell_type": "code",
   "execution_count": 5,
   "metadata": {},
   "outputs": [
    {
     "data": {
      "text/html": [
       "<div>\n",
       "<style scoped>\n",
       "    .dataframe tbody tr th:only-of-type {\n",
       "        vertical-align: middle;\n",
       "    }\n",
       "\n",
       "    .dataframe tbody tr th {\n",
       "        vertical-align: top;\n",
       "    }\n",
       "\n",
       "    .dataframe thead th {\n",
       "        text-align: right;\n",
       "    }\n",
       "</style>\n",
       "<table border=\"1\" class=\"dataframe\">\n",
       "  <thead>\n",
       "    <tr style=\"text-align: right;\">\n",
       "      <th></th>\n",
       "      <th>Carimbo de data/hora</th>\n",
       "      <th>Endereço de e-mail</th>\n",
       "      <th>Seu nome completo:</th>\n",
       "      <th>🖤 Pretende seguir ativo na entidade no primeiro semestre de 2025?\\n\\nIsto implica:\\na) participar das reuniões de áreas administrativas;\\nb) participar das reuniões de grupos de estudos;\\nc) desenvolver as tarefas a mim delegadas e as que eu assumir por livre iniciativa;\\nd) comparecer, conforme possível, aos eventos organizados pela entidade e\\ne) prestar satisfação frente às responsabilidades aqui assumidas.</th>\n",
       "      <th>Como será sua rotina no próximo semestre? Fale um pouco sobre seus horários e as atividades que pretende desenvolver.</th>\n",
       "      <th>Você pretende estagiar? Se sim, quando (curto, médio, longo prazo)?</th>\n",
       "      <th>Avalie a prioridade dos itens abaixo para você no próximo semestre. [Estágio]</th>\n",
       "      <th>Avalie a prioridade dos itens abaixo para você no próximo semestre. [Outras entidades]</th>\n",
       "      <th>Avalie a prioridade dos itens abaixo para você no próximo semestre. [FEA.dev]</th>\n",
       "      <th>Avalie a prioridade dos itens abaixo para você no próximo semestre. [Faculdade]</th>\n",
       "      <th>...</th>\n",
       "      <th>Estatística</th>\n",
       "      <th>Probabilidade</th>\n",
       "      <th>Computação</th>\n",
       "      <th>Matemática Financeira</th>\n",
       "      <th>Econometria</th>\n",
       "      <th>Economia</th>\n",
       "      <th>Negócios</th>\n",
       "      <th>Por favor, compartilhe suas percepções sobre suas competências. Em quais áreas ou disciplinas você sente maior domínio? Em quais acredita que há oportunidade de melhoria? Caso deseje, também pode mencionar habilidades ou conhecimentos que gostaria de desenvolver durante sua participação na entidade.</th>\n",
       "      <th>Quais áreas ou setores do mercado de trabalho você pretende seguir ou utilizar seus conhecimentos no futuro? (Ex.: Finanças, Marketing, Consultoria, Tecnologia, etc.). Caso ainda não tenha definido, sinta-se à vontade para indicar suas áreas de interesse.</th>\n",
       "      <th>Coluna auxiliar</th>\n",
       "    </tr>\n",
       "  </thead>\n",
       "  <tbody>\n",
       "    <tr>\n",
       "      <th>1</th>\n",
       "      <td>2025-01-21 16:04:27.702</td>\n",
       "      <td>andrepennini@usp.br</td>\n",
       "      <td>André Menniti Pennini</td>\n",
       "      <td>Não pretendo seguir ativo na entidade, o que c...</td>\n",
       "      <td>NaN</td>\n",
       "      <td>NaN</td>\n",
       "      <td>NaN</td>\n",
       "      <td>NaN</td>\n",
       "      <td>NaN</td>\n",
       "      <td>NaN</td>\n",
       "      <td>...</td>\n",
       "      <td>NaN</td>\n",
       "      <td>NaN</td>\n",
       "      <td>NaN</td>\n",
       "      <td>NaN</td>\n",
       "      <td>NaN</td>\n",
       "      <td>NaN</td>\n",
       "      <td>NaN</td>\n",
       "      <td>NaN</td>\n",
       "      <td>NaN</td>\n",
       "      <td>Respondeu</td>\n",
       "    </tr>\n",
       "    <tr>\n",
       "      <th>2</th>\n",
       "      <td>2025-01-21 16:46:12.969</td>\n",
       "      <td>paulosergio_1@usp.br</td>\n",
       "      <td>Paulo Sergio Almeida de Oliveira</td>\n",
       "      <td>Não pretendo seguir ativo na entidade, o que c...</td>\n",
       "      <td>NaN</td>\n",
       "      <td>NaN</td>\n",
       "      <td>NaN</td>\n",
       "      <td>NaN</td>\n",
       "      <td>NaN</td>\n",
       "      <td>NaN</td>\n",
       "      <td>...</td>\n",
       "      <td>NaN</td>\n",
       "      <td>NaN</td>\n",
       "      <td>NaN</td>\n",
       "      <td>NaN</td>\n",
       "      <td>NaN</td>\n",
       "      <td>NaN</td>\n",
       "      <td>NaN</td>\n",
       "      <td>NaN</td>\n",
       "      <td>NaN</td>\n",
       "      <td>Respondeu</td>\n",
       "    </tr>\n",
       "    <tr>\n",
       "      <th>4</th>\n",
       "      <td>2025-01-21 17:00:24.328</td>\n",
       "      <td>vitor.katayama@usp.br</td>\n",
       "      <td>Vitor Aratani Katayama</td>\n",
       "      <td>Pretendo seguir ativo na entidade e estou cien...</td>\n",
       "      <td>Estou no último ano da graduação, terei poucas...</td>\n",
       "      <td>Curto prazo.</td>\n",
       "      <td>Alta Prioridade</td>\n",
       "      <td>Não realizo essa atividade</td>\n",
       "      <td>Média Prioridade</td>\n",
       "      <td>Baixa Prioridade</td>\n",
       "      <td>...</td>\n",
       "      <td>3.0</td>\n",
       "      <td>2.0</td>\n",
       "      <td>3.0</td>\n",
       "      <td>3.0</td>\n",
       "      <td>1.0</td>\n",
       "      <td>4.0</td>\n",
       "      <td>3.0</td>\n",
       "      <td>Ao longo da graduação de adm, sinto que precis...</td>\n",
       "      <td>Pretendo seguir carreira na área de finanças, ...</td>\n",
       "      <td>Respondeu</td>\n",
       "    </tr>\n",
       "    <tr>\n",
       "      <th>5</th>\n",
       "      <td>2025-01-21 17:11:18.247</td>\n",
       "      <td>gabrielfinamore@usp.br</td>\n",
       "      <td>Gabriel Finamore</td>\n",
       "      <td>Pretendo seguir ativo na entidade e estou cien...</td>\n",
       "      <td>Terei aulas de segunda a quinta na faculdade e...</td>\n",
       "      <td>Sim, mas apenas estágio de férias no inverno</td>\n",
       "      <td>Não realizo essa atividade</td>\n",
       "      <td>Não realizo essa atividade</td>\n",
       "      <td>Alta Prioridade</td>\n",
       "      <td>Alta Prioridade</td>\n",
       "      <td>...</td>\n",
       "      <td>3.0</td>\n",
       "      <td>5.0</td>\n",
       "      <td>3.0</td>\n",
       "      <td>3.0</td>\n",
       "      <td>4.0</td>\n",
       "      <td>4.0</td>\n",
       "      <td>3.0</td>\n",
       "      <td>Gostaria de trabalhar mais finanças na entidade</td>\n",
       "      <td>Finanças (mercado financeiro)</td>\n",
       "      <td>Respondeu</td>\n",
       "    </tr>\n",
       "    <tr>\n",
       "      <th>8</th>\n",
       "      <td>2025-01-21 18:00:26.061</td>\n",
       "      <td>annayoshi@usp.br</td>\n",
       "      <td>Anna Yoshi Une Mesquita</td>\n",
       "      <td>Pretendo seguir ativo na entidade e estou cien...</td>\n",
       "      <td>Estarei estagiando e em outra entidade. Estare...</td>\n",
       "      <td>Sim, em fevereiro deste ano</td>\n",
       "      <td>Alta Prioridade</td>\n",
       "      <td>Média Prioridade</td>\n",
       "      <td>Média Prioridade</td>\n",
       "      <td>Baixa Prioridade</td>\n",
       "      <td>...</td>\n",
       "      <td>3.0</td>\n",
       "      <td>3.0</td>\n",
       "      <td>1.0</td>\n",
       "      <td>3.0</td>\n",
       "      <td>1.0</td>\n",
       "      <td>4.0</td>\n",
       "      <td>3.0</td>\n",
       "      <td>Economia e Negócios. Computação</td>\n",
       "      <td>NaN</td>\n",
       "      <td>Respondeu</td>\n",
       "    </tr>\n",
       "    <tr>\n",
       "      <th>9</th>\n",
       "      <td>2025-01-21 18:18:37.953</td>\n",
       "      <td>miramos10@usp.br</td>\n",
       "      <td>Milena da Silva Ramos</td>\n",
       "      <td>Não pretendo seguir ativo na entidade, o que c...</td>\n",
       "      <td>NaN</td>\n",
       "      <td>NaN</td>\n",
       "      <td>NaN</td>\n",
       "      <td>NaN</td>\n",
       "      <td>NaN</td>\n",
       "      <td>NaN</td>\n",
       "      <td>...</td>\n",
       "      <td>NaN</td>\n",
       "      <td>NaN</td>\n",
       "      <td>NaN</td>\n",
       "      <td>NaN</td>\n",
       "      <td>NaN</td>\n",
       "      <td>NaN</td>\n",
       "      <td>NaN</td>\n",
       "      <td>NaN</td>\n",
       "      <td>NaN</td>\n",
       "      <td>Respondeu</td>\n",
       "    </tr>\n",
       "    <tr>\n",
       "      <th>10</th>\n",
       "      <td>2025-01-21 18:19:14.651</td>\n",
       "      <td>luisa2005.yumi@usp.br</td>\n",
       "      <td>Luisa Yumi Aoki Ribas</td>\n",
       "      <td>Pretendo seguir ativo na entidade e estou cien...</td>\n",
       "      <td>Então, estou estagiando desde o fim do ano pas...</td>\n",
       "      <td>Sim, pelo resto do ano.</td>\n",
       "      <td>Alta Prioridade</td>\n",
       "      <td>Média Prioridade</td>\n",
       "      <td>Média Prioridade</td>\n",
       "      <td>Alta Prioridade</td>\n",
       "      <td>...</td>\n",
       "      <td>1.0</td>\n",
       "      <td>1.0</td>\n",
       "      <td>1.0</td>\n",
       "      <td>2.0</td>\n",
       "      <td>1.0</td>\n",
       "      <td>3.0</td>\n",
       "      <td>3.0</td>\n",
       "      <td>NaN</td>\n",
       "      <td>Acredito que finanças.</td>\n",
       "      <td>Respondeu</td>\n",
       "    </tr>\n",
       "    <tr>\n",
       "      <th>12</th>\n",
       "      <td>2025-01-21 21:23:30.230</td>\n",
       "      <td>jessi.sayuri@usp.br</td>\n",
       "      <td>Jessica Sayuri Goya Higa</td>\n",
       "      <td>Pretendo seguir ativo na entidade e estou cien...</td>\n",
       "      <td>Pegarei matérias todos os dias a noite e farei...</td>\n",
       "      <td>Sim, a princí por 1 ano</td>\n",
       "      <td>Alta Prioridade</td>\n",
       "      <td>Não realizo essa atividade</td>\n",
       "      <td>Média Prioridade</td>\n",
       "      <td>Média Prioridade</td>\n",
       "      <td>...</td>\n",
       "      <td>1.0</td>\n",
       "      <td>1.0</td>\n",
       "      <td>1.0</td>\n",
       "      <td>3.0</td>\n",
       "      <td>1.0</td>\n",
       "      <td>1.0</td>\n",
       "      <td>1.0</td>\n",
       "      <td>NaN</td>\n",
       "      <td>NaN</td>\n",
       "      <td>Respondeu</td>\n",
       "    </tr>\n",
       "    <tr>\n",
       "      <th>13</th>\n",
       "      <td>2025-01-21 21:32:00.920</td>\n",
       "      <td>joseeduardo7474@usp.br</td>\n",
       "      <td>José Eduardo Santos Sarrico</td>\n",
       "      <td>Pretendo seguir ativo na entidade e estou cien...</td>\n",
       "      <td>Estágio: 9 as 15\\nFaculdade: 19:30 as 23\\nPret...</td>\n",
       "      <td>Estou estagiando</td>\n",
       "      <td>Alta Prioridade</td>\n",
       "      <td>Baixa Prioridade</td>\n",
       "      <td>Média Prioridade</td>\n",
       "      <td>Média Prioridade</td>\n",
       "      <td>...</td>\n",
       "      <td>2.0</td>\n",
       "      <td>2.0</td>\n",
       "      <td>3.0</td>\n",
       "      <td>3.0</td>\n",
       "      <td>1.0</td>\n",
       "      <td>1.0</td>\n",
       "      <td>3.0</td>\n",
       "      <td>Acredito que o que aprendi até aqui com a dev ...</td>\n",
       "      <td>Automação de processos e finanças</td>\n",
       "      <td>Respondeu</td>\n",
       "    </tr>\n",
       "    <tr>\n",
       "      <th>14</th>\n",
       "      <td>2025-01-21 22:19:56.040</td>\n",
       "      <td>felipe0308.fs@usp.br</td>\n",
       "      <td>Felipe da Silva Melo</td>\n",
       "      <td>Pretendo seguir ativo na entidade e estou cien...</td>\n",
       "      <td>Estarei desenvolvendo minha monografia e estar...</td>\n",
       "      <td>Já faço estágio.</td>\n",
       "      <td>Alta Prioridade</td>\n",
       "      <td>Não realizo essa atividade</td>\n",
       "      <td>Alta Prioridade</td>\n",
       "      <td>Média Prioridade</td>\n",
       "      <td>...</td>\n",
       "      <td>4.0</td>\n",
       "      <td>3.0</td>\n",
       "      <td>2.0</td>\n",
       "      <td>2.0</td>\n",
       "      <td>5.0</td>\n",
       "      <td>5.0</td>\n",
       "      <td>1.0</td>\n",
       "      <td>NaN</td>\n",
       "      <td>NaN</td>\n",
       "      <td>Respondeu</td>\n",
       "    </tr>\n",
       "    <tr>\n",
       "      <th>15</th>\n",
       "      <td>2025-01-22 17:58:59.596</td>\n",
       "      <td>lindoso70@usp.br</td>\n",
       "      <td>Henrique Nogueira Pedro Lindoso</td>\n",
       "      <td>Pretendo seguir ativo na entidade e estou cien...</td>\n",
       "      <td>Terei 9 matérias. Algumas serão de manhã, e ou...</td>\n",
       "      <td>Não pretendo estagiar no promeiro semestre, ma...</td>\n",
       "      <td>Não realizo essa atividade</td>\n",
       "      <td>Não realizo essa atividade</td>\n",
       "      <td>Alta Prioridade</td>\n",
       "      <td>Alta Prioridade</td>\n",
       "      <td>...</td>\n",
       "      <td>4.0</td>\n",
       "      <td>2.0</td>\n",
       "      <td>3.0</td>\n",
       "      <td>3.0</td>\n",
       "      <td>2.0</td>\n",
       "      <td>3.0</td>\n",
       "      <td>4.0</td>\n",
       "      <td>Áreas que meu desempenho é melhor são aquelas ...</td>\n",
       "      <td>Tenho interesse em Consultoria, Marketing, Ciê...</td>\n",
       "      <td>Respondeu</td>\n",
       "    </tr>\n",
       "    <tr>\n",
       "      <th>16</th>\n",
       "      <td>2025-01-22 19:53:26.505</td>\n",
       "      <td>miguel.feitosa@usp.br</td>\n",
       "      <td>Miguel dos Santos Rodrigues Feitosa</td>\n",
       "      <td>Não pretendo seguir ativo na entidade, o que c...</td>\n",
       "      <td>NaN</td>\n",
       "      <td>NaN</td>\n",
       "      <td>NaN</td>\n",
       "      <td>NaN</td>\n",
       "      <td>NaN</td>\n",
       "      <td>NaN</td>\n",
       "      <td>...</td>\n",
       "      <td>NaN</td>\n",
       "      <td>NaN</td>\n",
       "      <td>NaN</td>\n",
       "      <td>NaN</td>\n",
       "      <td>NaN</td>\n",
       "      <td>NaN</td>\n",
       "      <td>NaN</td>\n",
       "      <td>NaN</td>\n",
       "      <td>NaN</td>\n",
       "      <td>Respondeu</td>\n",
       "    </tr>\n",
       "    <tr>\n",
       "      <th>18</th>\n",
       "      <td>2025-01-23 21:43:58.349</td>\n",
       "      <td>rafaelderricoabreu@usp.br</td>\n",
       "      <td>Rafael Derrico dos Santos Abreu</td>\n",
       "      <td>Pretendo seguir ativo na entidade e estou cien...</td>\n",
       "      <td>Minha rotina vai ser bem complicada. Segunda-f...</td>\n",
       "      <td>Comecei a estagiar segunda-feira</td>\n",
       "      <td>Alta Prioridade</td>\n",
       "      <td>Média Prioridade</td>\n",
       "      <td>Média Prioridade</td>\n",
       "      <td>Alta Prioridade</td>\n",
       "      <td>...</td>\n",
       "      <td>4.0</td>\n",
       "      <td>4.0</td>\n",
       "      <td>2.0</td>\n",
       "      <td>1.0</td>\n",
       "      <td>4.0</td>\n",
       "      <td>3.0</td>\n",
       "      <td>2.0</td>\n",
       "      <td>Maior domínio na parte de economia e econometr...</td>\n",
       "      <td>Principalmente dados, finanças e tecnologia</td>\n",
       "      <td>Respondeu</td>\n",
       "    </tr>\n",
       "    <tr>\n",
       "      <th>19</th>\n",
       "      <td>2025-01-24 09:50:10.149</td>\n",
       "      <td>lucastortelli@usp.br</td>\n",
       "      <td>Lucas Tortelli de Moura</td>\n",
       "      <td>Pretendo seguir ativo na entidade e estou cien...</td>\n",
       "      <td>Terei terça, quarta e quinta a tarde livre</td>\n",
       "      <td>Médio longo prazo</td>\n",
       "      <td>Baixa Prioridade</td>\n",
       "      <td>Baixa Prioridade</td>\n",
       "      <td>Alta Prioridade</td>\n",
       "      <td>Média Prioridade</td>\n",
       "      <td>...</td>\n",
       "      <td>2.0</td>\n",
       "      <td>2.0</td>\n",
       "      <td>2.0</td>\n",
       "      <td>3.0</td>\n",
       "      <td>1.0</td>\n",
       "      <td>3.0</td>\n",
       "      <td>2.0</td>\n",
       "      <td>Acredito que ano passado na Dev aprendi muito ...</td>\n",
       "      <td>Finanças ou Tecnologia</td>\n",
       "      <td>Respondeu</td>\n",
       "    </tr>\n",
       "    <tr>\n",
       "      <th>20</th>\n",
       "      <td>2025-01-25 19:32:46.187</td>\n",
       "      <td>andreibonifacio@usp.br</td>\n",
       "      <td>Andrei Schoschlakow Bonifácio</td>\n",
       "      <td>Não pretendo seguir ativo na entidade, o que c...</td>\n",
       "      <td>NaN</td>\n",
       "      <td>NaN</td>\n",
       "      <td>NaN</td>\n",
       "      <td>NaN</td>\n",
       "      <td>NaN</td>\n",
       "      <td>NaN</td>\n",
       "      <td>...</td>\n",
       "      <td>NaN</td>\n",
       "      <td>NaN</td>\n",
       "      <td>NaN</td>\n",
       "      <td>NaN</td>\n",
       "      <td>NaN</td>\n",
       "      <td>NaN</td>\n",
       "      <td>NaN</td>\n",
       "      <td>NaN</td>\n",
       "      <td>NaN</td>\n",
       "      <td>Respondeu</td>\n",
       "    </tr>\n",
       "    <tr>\n",
       "      <th>21</th>\n",
       "      <td>2025-01-26 11:38:47.624</td>\n",
       "      <td>theoborten@usp.br</td>\n",
       "      <td>Theo Borten Radesca Migliano</td>\n",
       "      <td>Não pretendo seguir ativo na entidade, o que c...</td>\n",
       "      <td>NaN</td>\n",
       "      <td>NaN</td>\n",
       "      <td>NaN</td>\n",
       "      <td>NaN</td>\n",
       "      <td>NaN</td>\n",
       "      <td>NaN</td>\n",
       "      <td>...</td>\n",
       "      <td>NaN</td>\n",
       "      <td>NaN</td>\n",
       "      <td>NaN</td>\n",
       "      <td>NaN</td>\n",
       "      <td>NaN</td>\n",
       "      <td>NaN</td>\n",
       "      <td>NaN</td>\n",
       "      <td>NaN</td>\n",
       "      <td>NaN</td>\n",
       "      <td>Respondeu</td>\n",
       "    </tr>\n",
       "    <tr>\n",
       "      <th>26</th>\n",
       "      <td>2025-01-26 22:42:08.744</td>\n",
       "      <td>ygorronnan@usp.br</td>\n",
       "      <td>Ygor Ronnan Miguel Reis</td>\n",
       "      <td>Pretendo seguir ativo na entidade e estou cien...</td>\n",
       "      <td>Pretendo me dedicar mais pra exclusivamente es...</td>\n",
       "      <td>Pretendo, entre o próximo semestre e o começo ...</td>\n",
       "      <td>Não realizo essa atividade</td>\n",
       "      <td>Não realizo essa atividade</td>\n",
       "      <td>Alta Prioridade</td>\n",
       "      <td>Alta Prioridade</td>\n",
       "      <td>...</td>\n",
       "      <td>3.0</td>\n",
       "      <td>5.0</td>\n",
       "      <td>4.0</td>\n",
       "      <td>4.0</td>\n",
       "      <td>1.0</td>\n",
       "      <td>3.0</td>\n",
       "      <td>4.0</td>\n",
       "      <td>Acredito ter uma defasagem especialmente nos c...</td>\n",
       "      <td>Finanças</td>\n",
       "      <td>Respondeu</td>\n",
       "    </tr>\n",
       "    <tr>\n",
       "      <th>27</th>\n",
       "      <td>2025-01-26 23:54:02.593</td>\n",
       "      <td>felippe.bertollo@usp.br</td>\n",
       "      <td>Felippe Gomes Bertollo</td>\n",
       "      <td>Pretendo seguir ativo na entidade e estou cien...</td>\n",
       "      <td>Corrida. Fui efetivado no trabalho e, mesmo co...</td>\n",
       "      <td>Estou trabalhando como efetivo.</td>\n",
       "      <td>Alta Prioridade</td>\n",
       "      <td>Não realizo essa atividade</td>\n",
       "      <td>Média Prioridade</td>\n",
       "      <td>Alta Prioridade</td>\n",
       "      <td>...</td>\n",
       "      <td>4.0</td>\n",
       "      <td>3.0</td>\n",
       "      <td>2.0</td>\n",
       "      <td>3.0</td>\n",
       "      <td>1.0</td>\n",
       "      <td>4.0</td>\n",
       "      <td>5.0</td>\n",
       "      <td>No trabalho, percebo que tenho mais facilidade...</td>\n",
       "      <td>Atualmente estou em auditoria, área com uma fo...</td>\n",
       "      <td>Respondeu</td>\n",
       "    </tr>\n",
       "    <tr>\n",
       "      <th>28</th>\n",
       "      <td>2025-01-27 10:31:48.069</td>\n",
       "      <td>hidekikomi@usp.br</td>\n",
       "      <td>Felipe Hideki Komi</td>\n",
       "      <td>Pretendo seguir ativo na entidade e estou cien...</td>\n",
       "      <td>Apenas aulas noturnas</td>\n",
       "      <td>Sim, espero que logo kkkkkkk</td>\n",
       "      <td>Alta Prioridade</td>\n",
       "      <td>Alta Prioridade</td>\n",
       "      <td>Média Prioridade</td>\n",
       "      <td>Baixa Prioridade</td>\n",
       "      <td>...</td>\n",
       "      <td>2.0</td>\n",
       "      <td>3.0</td>\n",
       "      <td>4.0</td>\n",
       "      <td>5.0</td>\n",
       "      <td>3.0</td>\n",
       "      <td>3.0</td>\n",
       "      <td>5.0</td>\n",
       "      <td>NaN</td>\n",
       "      <td>NaN</td>\n",
       "      <td>Respondeu</td>\n",
       "    </tr>\n",
       "    <tr>\n",
       "      <th>29</th>\n",
       "      <td>2025-01-27 22:11:30.888</td>\n",
       "      <td>emmanuelitaemmanuel@usp.br</td>\n",
       "      <td>Emmanuelita Stephene Emmanuel</td>\n",
       "      <td>Pretendo seguir ativo na entidade e estou cien...</td>\n",
       "      <td>Estudo no noturno e trabalho. Nas minhas horas...</td>\n",
       "      <td>Já trabalho.</td>\n",
       "      <td>Alta Prioridade</td>\n",
       "      <td>Baixa Prioridade</td>\n",
       "      <td>Alta Prioridade</td>\n",
       "      <td>Alta Prioridade</td>\n",
       "      <td>...</td>\n",
       "      <td>1.0</td>\n",
       "      <td>1.0</td>\n",
       "      <td>1.0</td>\n",
       "      <td>1.0</td>\n",
       "      <td>1.0</td>\n",
       "      <td>1.0</td>\n",
       "      <td>2.0</td>\n",
       "      <td>NaN</td>\n",
       "      <td>NaN</td>\n",
       "      <td>Respondeu</td>\n",
       "    </tr>\n",
       "    <tr>\n",
       "      <th>30</th>\n",
       "      <td>2025-01-28 19:11:26.704</td>\n",
       "      <td>camilliaraujo@usp.br</td>\n",
       "      <td>Camilli Santos de Araujo</td>\n",
       "      <td>Não pretendo seguir ativo na entidade, o que c...</td>\n",
       "      <td>NaN</td>\n",
       "      <td>NaN</td>\n",
       "      <td>NaN</td>\n",
       "      <td>NaN</td>\n",
       "      <td>NaN</td>\n",
       "      <td>NaN</td>\n",
       "      <td>...</td>\n",
       "      <td>NaN</td>\n",
       "      <td>NaN</td>\n",
       "      <td>NaN</td>\n",
       "      <td>NaN</td>\n",
       "      <td>NaN</td>\n",
       "      <td>NaN</td>\n",
       "      <td>NaN</td>\n",
       "      <td>NaN</td>\n",
       "      <td>NaN</td>\n",
       "      <td>NaN</td>\n",
       "    </tr>\n",
       "    <tr>\n",
       "      <th>31</th>\n",
       "      <td>2025-01-29 14:19:00.681</td>\n",
       "      <td>caiohuang@usp.br</td>\n",
       "      <td>Caio Huang</td>\n",
       "      <td>Pretendo seguir ativo na entidade e estou cien...</td>\n",
       "      <td>Minhas aulas são diurnas, acaba às 11h. Caso t...</td>\n",
       "      <td>Já estou a procura de estágio</td>\n",
       "      <td>Alta Prioridade</td>\n",
       "      <td>Baixa Prioridade</td>\n",
       "      <td>Média Prioridade</td>\n",
       "      <td>Média Prioridade</td>\n",
       "      <td>...</td>\n",
       "      <td>3.0</td>\n",
       "      <td>2.0</td>\n",
       "      <td>3.0</td>\n",
       "      <td>3.0</td>\n",
       "      <td>1.0</td>\n",
       "      <td>4.0</td>\n",
       "      <td>4.0</td>\n",
       "      <td>NaN</td>\n",
       "      <td>NaN</td>\n",
       "      <td>NaN</td>\n",
       "    </tr>\n",
       "  </tbody>\n",
       "</table>\n",
       "<p>22 rows × 32 columns</p>\n",
       "</div>"
      ],
      "text/plain": [
       "      Carimbo de data/hora          Endereço de e-mail  \\\n",
       "1  2025-01-21 16:04:27.702         andrepennini@usp.br   \n",
       "2  2025-01-21 16:46:12.969        paulosergio_1@usp.br   \n",
       "4  2025-01-21 17:00:24.328       vitor.katayama@usp.br   \n",
       "5  2025-01-21 17:11:18.247      gabrielfinamore@usp.br   \n",
       "8  2025-01-21 18:00:26.061            annayoshi@usp.br   \n",
       "9  2025-01-21 18:18:37.953            miramos10@usp.br   \n",
       "10 2025-01-21 18:19:14.651       luisa2005.yumi@usp.br   \n",
       "12 2025-01-21 21:23:30.230         jessi.sayuri@usp.br   \n",
       "13 2025-01-21 21:32:00.920      joseeduardo7474@usp.br   \n",
       "14 2025-01-21 22:19:56.040        felipe0308.fs@usp.br   \n",
       "15 2025-01-22 17:58:59.596            lindoso70@usp.br   \n",
       "16 2025-01-22 19:53:26.505       miguel.feitosa@usp.br   \n",
       "18 2025-01-23 21:43:58.349   rafaelderricoabreu@usp.br   \n",
       "19 2025-01-24 09:50:10.149        lucastortelli@usp.br   \n",
       "20 2025-01-25 19:32:46.187      andreibonifacio@usp.br   \n",
       "21 2025-01-26 11:38:47.624           theoborten@usp.br   \n",
       "26 2025-01-26 22:42:08.744           ygorronnan@usp.br   \n",
       "27 2025-01-26 23:54:02.593     felippe.bertollo@usp.br   \n",
       "28 2025-01-27 10:31:48.069           hidekikomi@usp.br   \n",
       "29 2025-01-27 22:11:30.888  emmanuelitaemmanuel@usp.br   \n",
       "30 2025-01-28 19:11:26.704        camilliaraujo@usp.br   \n",
       "31 2025-01-29 14:19:00.681            caiohuang@usp.br   \n",
       "\n",
       "                     Seu nome completo:  \\\n",
       "1                 André Menniti Pennini   \n",
       "2      Paulo Sergio Almeida de Oliveira   \n",
       "4                Vitor Aratani Katayama   \n",
       "5                      Gabriel Finamore   \n",
       "8               Anna Yoshi Une Mesquita   \n",
       "9                 Milena da Silva Ramos   \n",
       "10               Luisa Yumi Aoki Ribas    \n",
       "12             Jessica Sayuri Goya Higa   \n",
       "13         José Eduardo Santos Sarrico    \n",
       "14                 Felipe da Silva Melo   \n",
       "15      Henrique Nogueira Pedro Lindoso   \n",
       "16  Miguel dos Santos Rodrigues Feitosa   \n",
       "18     Rafael Derrico dos Santos Abreu    \n",
       "19              Lucas Tortelli de Moura   \n",
       "20        Andrei Schoschlakow Bonifácio   \n",
       "21        Theo Borten Radesca Migliano    \n",
       "26              Ygor Ronnan Miguel Reis   \n",
       "27               Felippe Gomes Bertollo   \n",
       "28                   Felipe Hideki Komi   \n",
       "29       Emmanuelita Stephene Emmanuel    \n",
       "30             Camilli Santos de Araujo   \n",
       "31                           Caio Huang   \n",
       "\n",
       "   🖤 Pretende seguir ativo na entidade no primeiro semestre de 2025?\\n\\nIsto implica:\\na) participar das reuniões de áreas administrativas;\\nb) participar das reuniões de grupos de estudos;\\nc) desenvolver as tarefas a mim delegadas e as que eu assumir por livre iniciativa;\\nd) comparecer, conforme possível, aos eventos organizados pela entidade e\\ne) prestar satisfação frente às responsabilidades aqui assumidas.  \\\n",
       "1   Não pretendo seguir ativo na entidade, o que c...                                                                                                                                                                                                                                                                                                                                                                              \n",
       "2   Não pretendo seguir ativo na entidade, o que c...                                                                                                                                                                                                                                                                                                                                                                              \n",
       "4   Pretendo seguir ativo na entidade e estou cien...                                                                                                                                                                                                                                                                                                                                                                              \n",
       "5   Pretendo seguir ativo na entidade e estou cien...                                                                                                                                                                                                                                                                                                                                                                              \n",
       "8   Pretendo seguir ativo na entidade e estou cien...                                                                                                                                                                                                                                                                                                                                                                              \n",
       "9   Não pretendo seguir ativo na entidade, o que c...                                                                                                                                                                                                                                                                                                                                                                              \n",
       "10  Pretendo seguir ativo na entidade e estou cien...                                                                                                                                                                                                                                                                                                                                                                              \n",
       "12  Pretendo seguir ativo na entidade e estou cien...                                                                                                                                                                                                                                                                                                                                                                              \n",
       "13  Pretendo seguir ativo na entidade e estou cien...                                                                                                                                                                                                                                                                                                                                                                              \n",
       "14  Pretendo seguir ativo na entidade e estou cien...                                                                                                                                                                                                                                                                                                                                                                              \n",
       "15  Pretendo seguir ativo na entidade e estou cien...                                                                                                                                                                                                                                                                                                                                                                              \n",
       "16  Não pretendo seguir ativo na entidade, o que c...                                                                                                                                                                                                                                                                                                                                                                              \n",
       "18  Pretendo seguir ativo na entidade e estou cien...                                                                                                                                                                                                                                                                                                                                                                              \n",
       "19  Pretendo seguir ativo na entidade e estou cien...                                                                                                                                                                                                                                                                                                                                                                              \n",
       "20  Não pretendo seguir ativo na entidade, o que c...                                                                                                                                                                                                                                                                                                                                                                              \n",
       "21  Não pretendo seguir ativo na entidade, o que c...                                                                                                                                                                                                                                                                                                                                                                              \n",
       "26  Pretendo seguir ativo na entidade e estou cien...                                                                                                                                                                                                                                                                                                                                                                              \n",
       "27  Pretendo seguir ativo na entidade e estou cien...                                                                                                                                                                                                                                                                                                                                                                              \n",
       "28  Pretendo seguir ativo na entidade e estou cien...                                                                                                                                                                                                                                                                                                                                                                              \n",
       "29  Pretendo seguir ativo na entidade e estou cien...                                                                                                                                                                                                                                                                                                                                                                              \n",
       "30  Não pretendo seguir ativo na entidade, o que c...                                                                                                                                                                                                                                                                                                                                                                              \n",
       "31  Pretendo seguir ativo na entidade e estou cien...                                                                                                                                                                                                                                                                                                                                                                              \n",
       "\n",
       "   Como será sua rotina no próximo semestre? Fale um pouco sobre seus horários e as atividades que pretende desenvolver.  \\\n",
       "1                                                 NaN                                                                      \n",
       "2                                                 NaN                                                                      \n",
       "4   Estou no último ano da graduação, terei poucas...                                                                      \n",
       "5   Terei aulas de segunda a quinta na faculdade e...                                                                      \n",
       "8   Estarei estagiando e em outra entidade. Estare...                                                                      \n",
       "9                                                 NaN                                                                      \n",
       "10  Então, estou estagiando desde o fim do ano pas...                                                                      \n",
       "12  Pegarei matérias todos os dias a noite e farei...                                                                      \n",
       "13  Estágio: 9 as 15\\nFaculdade: 19:30 as 23\\nPret...                                                                      \n",
       "14  Estarei desenvolvendo minha monografia e estar...                                                                      \n",
       "15  Terei 9 matérias. Algumas serão de manhã, e ou...                                                                      \n",
       "16                                                NaN                                                                      \n",
       "18  Minha rotina vai ser bem complicada. Segunda-f...                                                                      \n",
       "19        Terei terça, quarta e quinta a tarde livre                                                                       \n",
       "20                                                NaN                                                                      \n",
       "21                                                NaN                                                                      \n",
       "26  Pretendo me dedicar mais pra exclusivamente es...                                                                      \n",
       "27  Corrida. Fui efetivado no trabalho e, mesmo co...                                                                      \n",
       "28                              Apenas aulas noturnas                                                                      \n",
       "29  Estudo no noturno e trabalho. Nas minhas horas...                                                                      \n",
       "30                                                NaN                                                                      \n",
       "31  Minhas aulas são diurnas, acaba às 11h. Caso t...                                                                      \n",
       "\n",
       "   Você pretende estagiar? Se sim, quando (curto, médio, longo prazo)?  \\\n",
       "1                                                 NaN                    \n",
       "2                                                 NaN                    \n",
       "4                                        Curto prazo.                    \n",
       "5        Sim, mas apenas estágio de férias no inverno                    \n",
       "8                         Sim, em fevereiro deste ano                    \n",
       "9                                                 NaN                    \n",
       "10                            Sim, pelo resto do ano.                    \n",
       "12                           Sim, a princí por 1 ano                     \n",
       "13                                   Estou estagiando                    \n",
       "14                                   Já faço estágio.                    \n",
       "15  Não pretendo estagiar no promeiro semestre, ma...                    \n",
       "16                                                NaN                    \n",
       "18                   Comecei a estagiar segunda-feira                    \n",
       "19                                 Médio longo prazo                     \n",
       "20                                                NaN                    \n",
       "21                                                NaN                    \n",
       "26  Pretendo, entre o próximo semestre e o começo ...                    \n",
       "27                    Estou trabalhando como efetivo.                    \n",
       "28                       Sim, espero que logo kkkkkkk                    \n",
       "29                                       Já trabalho.                    \n",
       "30                                                NaN                    \n",
       "31                     Já estou a procura de estágio                     \n",
       "\n",
       "    Avalie a prioridade dos itens abaixo para você no próximo semestre. [Estágio]  \\\n",
       "1                                                 NaN                               \n",
       "2                                                 NaN                               \n",
       "4                                     Alta Prioridade                               \n",
       "5                          Não realizo essa atividade                               \n",
       "8                                     Alta Prioridade                               \n",
       "9                                                 NaN                               \n",
       "10                                    Alta Prioridade                               \n",
       "12                                    Alta Prioridade                               \n",
       "13                                    Alta Prioridade                               \n",
       "14                                    Alta Prioridade                               \n",
       "15                         Não realizo essa atividade                               \n",
       "16                                                NaN                               \n",
       "18                                    Alta Prioridade                               \n",
       "19                                   Baixa Prioridade                               \n",
       "20                                                NaN                               \n",
       "21                                                NaN                               \n",
       "26                         Não realizo essa atividade                               \n",
       "27                                    Alta Prioridade                               \n",
       "28                                    Alta Prioridade                               \n",
       "29                                    Alta Prioridade                               \n",
       "30                                                NaN                               \n",
       "31                                    Alta Prioridade                               \n",
       "\n",
       "    Avalie a prioridade dos itens abaixo para você no próximo semestre. [Outras entidades]  \\\n",
       "1                                                 NaN                                        \n",
       "2                                                 NaN                                        \n",
       "4                          Não realizo essa atividade                                        \n",
       "5                          Não realizo essa atividade                                        \n",
       "8                                    Média Prioridade                                        \n",
       "9                                                 NaN                                        \n",
       "10                                   Média Prioridade                                        \n",
       "12                         Não realizo essa atividade                                        \n",
       "13                                   Baixa Prioridade                                        \n",
       "14                         Não realizo essa atividade                                        \n",
       "15                         Não realizo essa atividade                                        \n",
       "16                                                NaN                                        \n",
       "18                                   Média Prioridade                                        \n",
       "19                                   Baixa Prioridade                                        \n",
       "20                                                NaN                                        \n",
       "21                                                NaN                                        \n",
       "26                         Não realizo essa atividade                                        \n",
       "27                         Não realizo essa atividade                                        \n",
       "28                                    Alta Prioridade                                        \n",
       "29                                   Baixa Prioridade                                        \n",
       "30                                                NaN                                        \n",
       "31                                   Baixa Prioridade                                        \n",
       "\n",
       "    Avalie a prioridade dos itens abaixo para você no próximo semestre. [FEA.dev]  \\\n",
       "1                                                 NaN                               \n",
       "2                                                 NaN                               \n",
       "4                                    Média Prioridade                               \n",
       "5                                     Alta Prioridade                               \n",
       "8                                    Média Prioridade                               \n",
       "9                                                 NaN                               \n",
       "10                                   Média Prioridade                               \n",
       "12                                   Média Prioridade                               \n",
       "13                                   Média Prioridade                               \n",
       "14                                    Alta Prioridade                               \n",
       "15                                    Alta Prioridade                               \n",
       "16                                                NaN                               \n",
       "18                                   Média Prioridade                               \n",
       "19                                    Alta Prioridade                               \n",
       "20                                                NaN                               \n",
       "21                                                NaN                               \n",
       "26                                    Alta Prioridade                               \n",
       "27                                   Média Prioridade                               \n",
       "28                                   Média Prioridade                               \n",
       "29                                    Alta Prioridade                               \n",
       "30                                                NaN                               \n",
       "31                                   Média Prioridade                               \n",
       "\n",
       "    Avalie a prioridade dos itens abaixo para você no próximo semestre. [Faculdade]  \\\n",
       "1                                                 NaN                                 \n",
       "2                                                 NaN                                 \n",
       "4                                    Baixa Prioridade                                 \n",
       "5                                     Alta Prioridade                                 \n",
       "8                                    Baixa Prioridade                                 \n",
       "9                                                 NaN                                 \n",
       "10                                    Alta Prioridade                                 \n",
       "12                                   Média Prioridade                                 \n",
       "13                                   Média Prioridade                                 \n",
       "14                                   Média Prioridade                                 \n",
       "15                                    Alta Prioridade                                 \n",
       "16                                                NaN                                 \n",
       "18                                    Alta Prioridade                                 \n",
       "19                                   Média Prioridade                                 \n",
       "20                                                NaN                                 \n",
       "21                                                NaN                                 \n",
       "26                                    Alta Prioridade                                 \n",
       "27                                    Alta Prioridade                                 \n",
       "28                                   Baixa Prioridade                                 \n",
       "29                                    Alta Prioridade                                 \n",
       "30                                                NaN                                 \n",
       "31                                   Média Prioridade                                 \n",
       "\n",
       "    ... Estatística Probabilidade Computação Matemática Financeira  \\\n",
       "1   ...         NaN           NaN        NaN                   NaN   \n",
       "2   ...         NaN           NaN        NaN                   NaN   \n",
       "4   ...         3.0           2.0        3.0                   3.0   \n",
       "5   ...         3.0           5.0        3.0                   3.0   \n",
       "8   ...         3.0           3.0        1.0                   3.0   \n",
       "9   ...         NaN           NaN        NaN                   NaN   \n",
       "10  ...         1.0           1.0        1.0                   2.0   \n",
       "12  ...         1.0           1.0        1.0                   3.0   \n",
       "13  ...         2.0           2.0        3.0                   3.0   \n",
       "14  ...         4.0           3.0        2.0                   2.0   \n",
       "15  ...         4.0           2.0        3.0                   3.0   \n",
       "16  ...         NaN           NaN        NaN                   NaN   \n",
       "18  ...         4.0           4.0        2.0                   1.0   \n",
       "19  ...         2.0           2.0        2.0                   3.0   \n",
       "20  ...         NaN           NaN        NaN                   NaN   \n",
       "21  ...         NaN           NaN        NaN                   NaN   \n",
       "26  ...         3.0           5.0        4.0                   4.0   \n",
       "27  ...         4.0           3.0        2.0                   3.0   \n",
       "28  ...         2.0           3.0        4.0                   5.0   \n",
       "29  ...         1.0           1.0        1.0                   1.0   \n",
       "30  ...         NaN           NaN        NaN                   NaN   \n",
       "31  ...         3.0           2.0        3.0                   3.0   \n",
       "\n",
       "   Econometria Economia Negócios  \\\n",
       "1          NaN      NaN      NaN   \n",
       "2          NaN      NaN      NaN   \n",
       "4          1.0      4.0      3.0   \n",
       "5          4.0      4.0      3.0   \n",
       "8          1.0      4.0      3.0   \n",
       "9          NaN      NaN      NaN   \n",
       "10         1.0      3.0      3.0   \n",
       "12         1.0      1.0      1.0   \n",
       "13         1.0      1.0      3.0   \n",
       "14         5.0      5.0      1.0   \n",
       "15         2.0      3.0      4.0   \n",
       "16         NaN      NaN      NaN   \n",
       "18         4.0      3.0      2.0   \n",
       "19         1.0      3.0      2.0   \n",
       "20         NaN      NaN      NaN   \n",
       "21         NaN      NaN      NaN   \n",
       "26         1.0      3.0      4.0   \n",
       "27         1.0      4.0      5.0   \n",
       "28         3.0      3.0      5.0   \n",
       "29         1.0      1.0      2.0   \n",
       "30         NaN      NaN      NaN   \n",
       "31         1.0      4.0      4.0   \n",
       "\n",
       "   Por favor, compartilhe suas percepções sobre suas competências. Em quais áreas ou disciplinas você sente maior domínio? Em quais acredita que há oportunidade de melhoria? Caso deseje, também pode mencionar habilidades ou conhecimentos que gostaria de desenvolver durante sua participação na entidade.  \\\n",
       "1                                                 NaN                                                                                                                                                                                                                                                             \n",
       "2                                                 NaN                                                                                                                                                                                                                                                             \n",
       "4   Ao longo da graduação de adm, sinto que precis...                                                                                                                                                                                                                                                             \n",
       "5     Gostaria de trabalhar mais finanças na entidade                                                                                                                                                                                                                                                             \n",
       "8                     Economia e Negócios. Computação                                                                                                                                                                                                                                                             \n",
       "9                                                 NaN                                                                                                                                                                                                                                                             \n",
       "10                                                NaN                                                                                                                                                                                                                                                             \n",
       "12                                                NaN                                                                                                                                                                                                                                                             \n",
       "13  Acredito que o que aprendi até aqui com a dev ...                                                                                                                                                                                                                                                             \n",
       "14                                                NaN                                                                                                                                                                                                                                                             \n",
       "15  Áreas que meu desempenho é melhor são aquelas ...                                                                                                                                                                                                                                                             \n",
       "16                                                NaN                                                                                                                                                                                                                                                             \n",
       "18  Maior domínio na parte de economia e econometr...                                                                                                                                                                                                                                                             \n",
       "19  Acredito que ano passado na Dev aprendi muito ...                                                                                                                                                                                                                                                             \n",
       "20                                                NaN                                                                                                                                                                                                                                                             \n",
       "21                                                NaN                                                                                                                                                                                                                                                             \n",
       "26  Acredito ter uma defasagem especialmente nos c...                                                                                                                                                                                                                                                             \n",
       "27  No trabalho, percebo que tenho mais facilidade...                                                                                                                                                                                                                                                             \n",
       "28                                                NaN                                                                                                                                                                                                                                                             \n",
       "29                                                NaN                                                                                                                                                                                                                                                             \n",
       "30                                                NaN                                                                                                                                                                                                                                                             \n",
       "31                                                NaN                                                                                                                                                                                                                                                             \n",
       "\n",
       "   Quais áreas ou setores do mercado de trabalho você pretende seguir ou utilizar seus conhecimentos no futuro? (Ex.: Finanças, Marketing, Consultoria, Tecnologia, etc.). Caso ainda não tenha definido, sinta-se à vontade para indicar suas áreas de interesse.  \\\n",
       "1                                                 NaN                                                                                                                                                                                                                \n",
       "2                                                 NaN                                                                                                                                                                                                                \n",
       "4   Pretendo seguir carreira na área de finanças, ...                                                                                                                                                                                                                \n",
       "5                       Finanças (mercado financeiro)                                                                                                                                                                                                                \n",
       "8                                                 NaN                                                                                                                                                                                                                \n",
       "9                                                 NaN                                                                                                                                                                                                                \n",
       "10                             Acredito que finanças.                                                                                                                                                                                                                \n",
       "12                                                NaN                                                                                                                                                                                                                \n",
       "13                 Automação de processos e finanças                                                                                                                                                                                                                 \n",
       "14                                                NaN                                                                                                                                                                                                                \n",
       "15  Tenho interesse em Consultoria, Marketing, Ciê...                                                                                                                                                                                                                \n",
       "16                                                NaN                                                                                                                                                                                                                \n",
       "18        Principalmente dados, finanças e tecnologia                                                                                                                                                                                                                \n",
       "19                            Finanças ou Tecnologia                                                                                                                                                                                                                 \n",
       "20                                                NaN                                                                                                                                                                                                                \n",
       "21                                                NaN                                                                                                                                                                                                                \n",
       "26                                           Finanças                                                                                                                                                                                                                \n",
       "27  Atualmente estou em auditoria, área com uma fo...                                                                                                                                                                                                                \n",
       "28                                                NaN                                                                                                                                                                                                                \n",
       "29                                                NaN                                                                                                                                                                                                                \n",
       "30                                                NaN                                                                                                                                                                                                                \n",
       "31                                                NaN                                                                                                                                                                                                                \n",
       "\n",
       "   Coluna auxiliar  \n",
       "1        Respondeu  \n",
       "2        Respondeu  \n",
       "4        Respondeu  \n",
       "5        Respondeu  \n",
       "8        Respondeu  \n",
       "9        Respondeu  \n",
       "10       Respondeu  \n",
       "12       Respondeu  \n",
       "13       Respondeu  \n",
       "14       Respondeu  \n",
       "15       Respondeu  \n",
       "16       Respondeu  \n",
       "18       Respondeu  \n",
       "19       Respondeu  \n",
       "20       Respondeu  \n",
       "21       Respondeu  \n",
       "26       Respondeu  \n",
       "27       Respondeu  \n",
       "28       Respondeu  \n",
       "29       Respondeu  \n",
       "30             NaN  \n",
       "31             NaN  \n",
       "\n",
       "[22 rows x 32 columns]"
      ]
     },
     "execution_count": 5,
     "metadata": {},
     "output_type": "execute_result"
    }
   ],
   "source": [
    "# Filtra o dataframe para que este contenha apenas os membros que não fazem parte da atual gestão.\n",
    "df = df[~df['Endereço de e-mail'].isin(emails_gestao)]\n",
    "\n",
    "# Exibe o dataframe filtrado.\n",
    "df"
   ]
  },
  {
   "cell_type": "code",
   "execution_count": 6,
   "metadata": {},
   "outputs": [],
   "source": [
    "# Remove a coluna 'Carimbo de data/hora'.\n",
    "df = df.iloc[:,1:]"
   ]
  },
  {
   "cell_type": "markdown",
   "metadata": {},
   "source": [
    "### Renomeando algumas colunas do dataframe"
   ]
  },
  {
   "cell_type": "code",
   "execution_count": null,
   "metadata": {},
   "outputs": [
    {
     "data": {
      "text/plain": [
       "Index(['Endereço de e-mail', 'Seu nome completo:',\n",
       "       '🖤 Pretende seguir ativo na entidade no primeiro semestre de 2025?\\n\\nIsto implica:\\na) participar das reuniões de áreas administrativas;\\nb) participar das reuniões de grupos de estudos;\\nc) desenvolver as tarefas a mim delegadas e as que eu assumir por livre iniciativa;\\nd) comparecer, conforme possível, aos eventos organizados pela entidade e\\ne) prestar satisfação frente às responsabilidades aqui assumidas.',\n",
       "       'Como será sua rotina no próximo semestre? Fale um pouco sobre seus horários e as atividades que pretende desenvolver.',\n",
       "       'Você pretende estagiar? Se sim, quando (curto, médio, longo prazo)?',\n",
       "       ' Avalie a prioridade dos itens abaixo para você no próximo semestre. [Estágio]',\n",
       "       ' Avalie a prioridade dos itens abaixo para você no próximo semestre. [Outras entidades]',\n",
       "       ' Avalie a prioridade dos itens abaixo para você no próximo semestre. [FEA.dev]',\n",
       "       ' Avalie a prioridade dos itens abaixo para você no próximo semestre. [Faculdade]',\n",
       "       ' Avalie a prioridade dos itens abaixo para você no próximo semestre. [Iniciação Científica]',\n",
       "       'Caso tenha marcado média prioridade e alta prioridade para mais de um item na pergunta anterior, como pretende conciliá-los no próximo semestre? ',\n",
       "       '1ª área administrativa de interesse',\n",
       "       '2ª área administrativa de interesse',\n",
       "       'Tem interesse em ser um padrinho/ uma madrinha?',\n",
       "       'Você tem interesse em liderar algum projeto que venha a ser proposto pela entidade?',\n",
       "       '1º tema de interesse:', '2º tema de interesse:',\n",
       "       '3º tema de interesse:', '4º tema de interesse:', 'Cálculo',\n",
       "       'Álgebra linear', 'Estatística', 'Probabilidade', 'Computação',\n",
       "       'Matemática Financeira', 'Econometria', 'Economia', 'Negócios',\n",
       "       'Por favor, compartilhe suas percepções sobre suas competências. Em quais áreas ou disciplinas você sente maior domínio? Em quais acredita que há oportunidade de melhoria? Caso deseje, também pode mencionar habilidades ou conhecimentos que gostaria de desenvolver durante sua participação na entidade.',\n",
       "       'Quais áreas ou setores do mercado de trabalho você pretende seguir ou utilizar seus conhecimentos no futuro? (Ex.: Finanças, Marketing, Consultoria, Tecnologia, etc.). Caso ainda não tenha definido, sinta-se à vontade para indicar suas áreas de interesse.',\n",
       "       'Coluna auxiliar'],\n",
       "      dtype='object')"
      ]
     },
     "execution_count": 7,
     "metadata": {},
     "output_type": "execute_result"
    }
   ],
   "source": [
    "# Exibe as colunas do dataframe.\n",
    "df.columns"
   ]
  },
  {
   "cell_type": "code",
   "execution_count": 8,
   "metadata": {},
   "outputs": [],
   "source": [
    "# Renomeia algumas colunas do dataframe, visando facilitar a manipulação e visualização do mesmo.\n",
    "df = df.rename(columns=({'Endereço de e-mail':'E-mail', \n",
    "                        'Seu nome completo:':'Nome',\n",
    "                        '🖤 Pretende seguir ativo na entidade no primeiro semestre de 2025?\\n\\nIsto implica:\\na) participar das reuniões de áreas administrativas;\\nb) participar das reuniões de grupos de estudos;\\nc) desenvolver as tarefas a mim delegadas e as que eu assumir por livre iniciativa;\\nd) comparecer, conforme possível, aos eventos organizados pela entidade e\\ne) prestar satisfação frente às responsabilidades aqui assumidas.':'Pretende seguir ativo?',\n",
    "                        'Como será sua rotina no próximo semestre? Fale um pouco sobre seus horários e as atividades que pretende desenvolver.':'Como será a rotina no próximo semestre?',\n",
    "                        'Você pretende estagiar? Se sim, quando (curto, médio, longo prazo)?':'Pretende estagiar?',\n",
    "                        ' Avalie a prioridade dos itens abaixo para você no próximo semestre. [Estágio]':'Prioridade [Estágio]',\n",
    "                        ' Avalie a prioridade dos itens abaixo para você no próximo semestre. [Outras entidades]':'Prioridade [Outras entidades]',\n",
    "                        ' Avalie a prioridade dos itens abaixo para você no próximo semestre. [FEA.dev]':'Prioridade [FEA.dev]',\n",
    "                        ' Avalie a prioridade dos itens abaixo para você no próximo semestre. [Faculdade]':'Prioridade [Faculdade]',\n",
    "                        ' Avalie a prioridade dos itens abaixo para você no próximo semestre. [Iniciação Científica]':'Prioridade [Iniciação Científica]',\n",
    "                        'Caso tenha marcado média prioridade e alta prioridade para mais de um item na pergunta anterior, como pretende conciliá-los no próximo semestre? ':'Como pretende conciliar as prioridades?',\n",
    "                        'Você tem interesse em liderar algum projeto que venha a ser proposto pela entidade?':'Quer liderar projetos?',\n",
    "                        'Por favor, compartilhe suas percepções sobre suas competências. Em quais áreas ou disciplinas você sente maior domínio? Em quais acredita que há oportunidade de melhoria? Caso deseje, também pode mencionar habilidades ou conhecimentos que gostaria de desenvolver durante sua participação na entidade.':'Autoavaliação das competências',\n",
    "                        'Quais áreas ou setores do mercado de trabalho você pretende seguir ou utilizar seus conhecimentos no futuro? (Ex.: Finanças, Marketing, Consultoria, Tecnologia, etc.). Caso ainda não tenha definido, sinta-se à vontade para indicar suas áreas de interesse.':'Áreas de interesse no mercado de trabalho'\n",
    "       }))"
   ]
  },
  {
   "cell_type": "code",
   "execution_count": null,
   "metadata": {},
   "outputs": [
    {
     "data": {
      "text/html": [
       "<div>\n",
       "<style scoped>\n",
       "    .dataframe tbody tr th:only-of-type {\n",
       "        vertical-align: middle;\n",
       "    }\n",
       "\n",
       "    .dataframe tbody tr th {\n",
       "        vertical-align: top;\n",
       "    }\n",
       "\n",
       "    .dataframe thead th {\n",
       "        text-align: right;\n",
       "    }\n",
       "</style>\n",
       "<table border=\"1\" class=\"dataframe\">\n",
       "  <thead>\n",
       "    <tr style=\"text-align: right;\">\n",
       "      <th></th>\n",
       "      <th>E-mail</th>\n",
       "      <th>Nome</th>\n",
       "      <th>Pretende seguir ativo?</th>\n",
       "      <th>Como será a rotina no próximo semestre?</th>\n",
       "      <th>Pretende estagiar?</th>\n",
       "      <th>Prioridade [Estágio]</th>\n",
       "      <th>Prioridade [Outras entidades]</th>\n",
       "      <th>Prioridade [FEA.dev]</th>\n",
       "      <th>Prioridade [Faculdade]</th>\n",
       "      <th>Prioridade [Iniciação Científica]</th>\n",
       "      <th>...</th>\n",
       "      <th>Estatística</th>\n",
       "      <th>Probabilidade</th>\n",
       "      <th>Computação</th>\n",
       "      <th>Matemática Financeira</th>\n",
       "      <th>Econometria</th>\n",
       "      <th>Economia</th>\n",
       "      <th>Negócios</th>\n",
       "      <th>Autoavaliação das competências</th>\n",
       "      <th>Áreas de interesse no mercado de trabalho</th>\n",
       "      <th>Coluna auxiliar</th>\n",
       "    </tr>\n",
       "  </thead>\n",
       "  <tbody>\n",
       "    <tr>\n",
       "      <th>1</th>\n",
       "      <td>andrepennini@usp.br</td>\n",
       "      <td>André Menniti Pennini</td>\n",
       "      <td>Não pretendo seguir ativo na entidade, o que c...</td>\n",
       "      <td>NaN</td>\n",
       "      <td>NaN</td>\n",
       "      <td>NaN</td>\n",
       "      <td>NaN</td>\n",
       "      <td>NaN</td>\n",
       "      <td>NaN</td>\n",
       "      <td>NaN</td>\n",
       "      <td>...</td>\n",
       "      <td>NaN</td>\n",
       "      <td>NaN</td>\n",
       "      <td>NaN</td>\n",
       "      <td>NaN</td>\n",
       "      <td>NaN</td>\n",
       "      <td>NaN</td>\n",
       "      <td>NaN</td>\n",
       "      <td>NaN</td>\n",
       "      <td>NaN</td>\n",
       "      <td>Respondeu</td>\n",
       "    </tr>\n",
       "    <tr>\n",
       "      <th>2</th>\n",
       "      <td>paulosergio_1@usp.br</td>\n",
       "      <td>Paulo Sergio Almeida de Oliveira</td>\n",
       "      <td>Não pretendo seguir ativo na entidade, o que c...</td>\n",
       "      <td>NaN</td>\n",
       "      <td>NaN</td>\n",
       "      <td>NaN</td>\n",
       "      <td>NaN</td>\n",
       "      <td>NaN</td>\n",
       "      <td>NaN</td>\n",
       "      <td>NaN</td>\n",
       "      <td>...</td>\n",
       "      <td>NaN</td>\n",
       "      <td>NaN</td>\n",
       "      <td>NaN</td>\n",
       "      <td>NaN</td>\n",
       "      <td>NaN</td>\n",
       "      <td>NaN</td>\n",
       "      <td>NaN</td>\n",
       "      <td>NaN</td>\n",
       "      <td>NaN</td>\n",
       "      <td>Respondeu</td>\n",
       "    </tr>\n",
       "    <tr>\n",
       "      <th>4</th>\n",
       "      <td>vitor.katayama@usp.br</td>\n",
       "      <td>Vitor Aratani Katayama</td>\n",
       "      <td>Pretendo seguir ativo na entidade e estou cien...</td>\n",
       "      <td>Estou no último ano da graduação, terei poucas...</td>\n",
       "      <td>Curto prazo.</td>\n",
       "      <td>Alta Prioridade</td>\n",
       "      <td>Não realizo essa atividade</td>\n",
       "      <td>Média Prioridade</td>\n",
       "      <td>Baixa Prioridade</td>\n",
       "      <td>Não realizo essa atividade</td>\n",
       "      <td>...</td>\n",
       "      <td>3.0</td>\n",
       "      <td>2.0</td>\n",
       "      <td>3.0</td>\n",
       "      <td>3.0</td>\n",
       "      <td>1.0</td>\n",
       "      <td>4.0</td>\n",
       "      <td>3.0</td>\n",
       "      <td>Ao longo da graduação de adm, sinto que precis...</td>\n",
       "      <td>Pretendo seguir carreira na área de finanças, ...</td>\n",
       "      <td>Respondeu</td>\n",
       "    </tr>\n",
       "    <tr>\n",
       "      <th>5</th>\n",
       "      <td>gabrielfinamore@usp.br</td>\n",
       "      <td>Gabriel Finamore</td>\n",
       "      <td>Pretendo seguir ativo na entidade e estou cien...</td>\n",
       "      <td>Terei aulas de segunda a quinta na faculdade e...</td>\n",
       "      <td>Sim, mas apenas estágio de férias no inverno</td>\n",
       "      <td>Não realizo essa atividade</td>\n",
       "      <td>Não realizo essa atividade</td>\n",
       "      <td>Alta Prioridade</td>\n",
       "      <td>Alta Prioridade</td>\n",
       "      <td>Não realizo essa atividade</td>\n",
       "      <td>...</td>\n",
       "      <td>3.0</td>\n",
       "      <td>5.0</td>\n",
       "      <td>3.0</td>\n",
       "      <td>3.0</td>\n",
       "      <td>4.0</td>\n",
       "      <td>4.0</td>\n",
       "      <td>3.0</td>\n",
       "      <td>Gostaria de trabalhar mais finanças na entidade</td>\n",
       "      <td>Finanças (mercado financeiro)</td>\n",
       "      <td>Respondeu</td>\n",
       "    </tr>\n",
       "    <tr>\n",
       "      <th>8</th>\n",
       "      <td>annayoshi@usp.br</td>\n",
       "      <td>Anna Yoshi Une Mesquita</td>\n",
       "      <td>Pretendo seguir ativo na entidade e estou cien...</td>\n",
       "      <td>Estarei estagiando e em outra entidade. Estare...</td>\n",
       "      <td>Sim, em fevereiro deste ano</td>\n",
       "      <td>Alta Prioridade</td>\n",
       "      <td>Média Prioridade</td>\n",
       "      <td>Média Prioridade</td>\n",
       "      <td>Baixa Prioridade</td>\n",
       "      <td>Não realizo essa atividade</td>\n",
       "      <td>...</td>\n",
       "      <td>3.0</td>\n",
       "      <td>3.0</td>\n",
       "      <td>1.0</td>\n",
       "      <td>3.0</td>\n",
       "      <td>1.0</td>\n",
       "      <td>4.0</td>\n",
       "      <td>3.0</td>\n",
       "      <td>Economia e Negócios. Computação</td>\n",
       "      <td>NaN</td>\n",
       "      <td>Respondeu</td>\n",
       "    </tr>\n",
       "    <tr>\n",
       "      <th>9</th>\n",
       "      <td>miramos10@usp.br</td>\n",
       "      <td>Milena da Silva Ramos</td>\n",
       "      <td>Não pretendo seguir ativo na entidade, o que c...</td>\n",
       "      <td>NaN</td>\n",
       "      <td>NaN</td>\n",
       "      <td>NaN</td>\n",
       "      <td>NaN</td>\n",
       "      <td>NaN</td>\n",
       "      <td>NaN</td>\n",
       "      <td>NaN</td>\n",
       "      <td>...</td>\n",
       "      <td>NaN</td>\n",
       "      <td>NaN</td>\n",
       "      <td>NaN</td>\n",
       "      <td>NaN</td>\n",
       "      <td>NaN</td>\n",
       "      <td>NaN</td>\n",
       "      <td>NaN</td>\n",
       "      <td>NaN</td>\n",
       "      <td>NaN</td>\n",
       "      <td>Respondeu</td>\n",
       "    </tr>\n",
       "    <tr>\n",
       "      <th>10</th>\n",
       "      <td>luisa2005.yumi@usp.br</td>\n",
       "      <td>Luisa Yumi Aoki Ribas</td>\n",
       "      <td>Pretendo seguir ativo na entidade e estou cien...</td>\n",
       "      <td>Então, estou estagiando desde o fim do ano pas...</td>\n",
       "      <td>Sim, pelo resto do ano.</td>\n",
       "      <td>Alta Prioridade</td>\n",
       "      <td>Média Prioridade</td>\n",
       "      <td>Média Prioridade</td>\n",
       "      <td>Alta Prioridade</td>\n",
       "      <td>Baixa Prioridade</td>\n",
       "      <td>...</td>\n",
       "      <td>1.0</td>\n",
       "      <td>1.0</td>\n",
       "      <td>1.0</td>\n",
       "      <td>2.0</td>\n",
       "      <td>1.0</td>\n",
       "      <td>3.0</td>\n",
       "      <td>3.0</td>\n",
       "      <td>NaN</td>\n",
       "      <td>Acredito que finanças.</td>\n",
       "      <td>Respondeu</td>\n",
       "    </tr>\n",
       "    <tr>\n",
       "      <th>12</th>\n",
       "      <td>jessi.sayuri@usp.br</td>\n",
       "      <td>Jessica Sayuri Goya Higa</td>\n",
       "      <td>Pretendo seguir ativo na entidade e estou cien...</td>\n",
       "      <td>Pegarei matérias todos os dias a noite e farei...</td>\n",
       "      <td>Sim, a princí por 1 ano</td>\n",
       "      <td>Alta Prioridade</td>\n",
       "      <td>Não realizo essa atividade</td>\n",
       "      <td>Média Prioridade</td>\n",
       "      <td>Média Prioridade</td>\n",
       "      <td>Não realizo essa atividade</td>\n",
       "      <td>...</td>\n",
       "      <td>1.0</td>\n",
       "      <td>1.0</td>\n",
       "      <td>1.0</td>\n",
       "      <td>3.0</td>\n",
       "      <td>1.0</td>\n",
       "      <td>1.0</td>\n",
       "      <td>1.0</td>\n",
       "      <td>NaN</td>\n",
       "      <td>NaN</td>\n",
       "      <td>Respondeu</td>\n",
       "    </tr>\n",
       "    <tr>\n",
       "      <th>13</th>\n",
       "      <td>joseeduardo7474@usp.br</td>\n",
       "      <td>José Eduardo Santos Sarrico</td>\n",
       "      <td>Pretendo seguir ativo na entidade e estou cien...</td>\n",
       "      <td>Estágio: 9 as 15\\nFaculdade: 19:30 as 23\\nPret...</td>\n",
       "      <td>Estou estagiando</td>\n",
       "      <td>Alta Prioridade</td>\n",
       "      <td>Baixa Prioridade</td>\n",
       "      <td>Média Prioridade</td>\n",
       "      <td>Média Prioridade</td>\n",
       "      <td>Baixa Prioridade</td>\n",
       "      <td>...</td>\n",
       "      <td>2.0</td>\n",
       "      <td>2.0</td>\n",
       "      <td>3.0</td>\n",
       "      <td>3.0</td>\n",
       "      <td>1.0</td>\n",
       "      <td>1.0</td>\n",
       "      <td>3.0</td>\n",
       "      <td>Acredito que o que aprendi até aqui com a dev ...</td>\n",
       "      <td>Automação de processos e finanças</td>\n",
       "      <td>Respondeu</td>\n",
       "    </tr>\n",
       "    <tr>\n",
       "      <th>14</th>\n",
       "      <td>felipe0308.fs@usp.br</td>\n",
       "      <td>Felipe da Silva Melo</td>\n",
       "      <td>Pretendo seguir ativo na entidade e estou cien...</td>\n",
       "      <td>Estarei desenvolvendo minha monografia e estar...</td>\n",
       "      <td>Já faço estágio.</td>\n",
       "      <td>Alta Prioridade</td>\n",
       "      <td>Não realizo essa atividade</td>\n",
       "      <td>Alta Prioridade</td>\n",
       "      <td>Média Prioridade</td>\n",
       "      <td>Não realizo essa atividade</td>\n",
       "      <td>...</td>\n",
       "      <td>4.0</td>\n",
       "      <td>3.0</td>\n",
       "      <td>2.0</td>\n",
       "      <td>2.0</td>\n",
       "      <td>5.0</td>\n",
       "      <td>5.0</td>\n",
       "      <td>1.0</td>\n",
       "      <td>NaN</td>\n",
       "      <td>NaN</td>\n",
       "      <td>Respondeu</td>\n",
       "    </tr>\n",
       "    <tr>\n",
       "      <th>15</th>\n",
       "      <td>lindoso70@usp.br</td>\n",
       "      <td>Henrique Nogueira Pedro Lindoso</td>\n",
       "      <td>Pretendo seguir ativo na entidade e estou cien...</td>\n",
       "      <td>Terei 9 matérias. Algumas serão de manhã, e ou...</td>\n",
       "      <td>Não pretendo estagiar no promeiro semestre, ma...</td>\n",
       "      <td>Não realizo essa atividade</td>\n",
       "      <td>Não realizo essa atividade</td>\n",
       "      <td>Alta Prioridade</td>\n",
       "      <td>Alta Prioridade</td>\n",
       "      <td>Não realizo essa atividade</td>\n",
       "      <td>...</td>\n",
       "      <td>4.0</td>\n",
       "      <td>2.0</td>\n",
       "      <td>3.0</td>\n",
       "      <td>3.0</td>\n",
       "      <td>2.0</td>\n",
       "      <td>3.0</td>\n",
       "      <td>4.0</td>\n",
       "      <td>Áreas que meu desempenho é melhor são aquelas ...</td>\n",
       "      <td>Tenho interesse em Consultoria, Marketing, Ciê...</td>\n",
       "      <td>Respondeu</td>\n",
       "    </tr>\n",
       "    <tr>\n",
       "      <th>16</th>\n",
       "      <td>miguel.feitosa@usp.br</td>\n",
       "      <td>Miguel dos Santos Rodrigues Feitosa</td>\n",
       "      <td>Não pretendo seguir ativo na entidade, o que c...</td>\n",
       "      <td>NaN</td>\n",
       "      <td>NaN</td>\n",
       "      <td>NaN</td>\n",
       "      <td>NaN</td>\n",
       "      <td>NaN</td>\n",
       "      <td>NaN</td>\n",
       "      <td>NaN</td>\n",
       "      <td>...</td>\n",
       "      <td>NaN</td>\n",
       "      <td>NaN</td>\n",
       "      <td>NaN</td>\n",
       "      <td>NaN</td>\n",
       "      <td>NaN</td>\n",
       "      <td>NaN</td>\n",
       "      <td>NaN</td>\n",
       "      <td>NaN</td>\n",
       "      <td>NaN</td>\n",
       "      <td>Respondeu</td>\n",
       "    </tr>\n",
       "    <tr>\n",
       "      <th>18</th>\n",
       "      <td>rafaelderricoabreu@usp.br</td>\n",
       "      <td>Rafael Derrico dos Santos Abreu</td>\n",
       "      <td>Pretendo seguir ativo na entidade e estou cien...</td>\n",
       "      <td>Minha rotina vai ser bem complicada. Segunda-f...</td>\n",
       "      <td>Comecei a estagiar segunda-feira</td>\n",
       "      <td>Alta Prioridade</td>\n",
       "      <td>Média Prioridade</td>\n",
       "      <td>Média Prioridade</td>\n",
       "      <td>Alta Prioridade</td>\n",
       "      <td>Não realizo essa atividade</td>\n",
       "      <td>...</td>\n",
       "      <td>4.0</td>\n",
       "      <td>4.0</td>\n",
       "      <td>2.0</td>\n",
       "      <td>1.0</td>\n",
       "      <td>4.0</td>\n",
       "      <td>3.0</td>\n",
       "      <td>2.0</td>\n",
       "      <td>Maior domínio na parte de economia e econometr...</td>\n",
       "      <td>Principalmente dados, finanças e tecnologia</td>\n",
       "      <td>Respondeu</td>\n",
       "    </tr>\n",
       "    <tr>\n",
       "      <th>19</th>\n",
       "      <td>lucastortelli@usp.br</td>\n",
       "      <td>Lucas Tortelli de Moura</td>\n",
       "      <td>Pretendo seguir ativo na entidade e estou cien...</td>\n",
       "      <td>Terei terça, quarta e quinta a tarde livre</td>\n",
       "      <td>Médio longo prazo</td>\n",
       "      <td>Baixa Prioridade</td>\n",
       "      <td>Baixa Prioridade</td>\n",
       "      <td>Alta Prioridade</td>\n",
       "      <td>Média Prioridade</td>\n",
       "      <td>Média Prioridade</td>\n",
       "      <td>...</td>\n",
       "      <td>2.0</td>\n",
       "      <td>2.0</td>\n",
       "      <td>2.0</td>\n",
       "      <td>3.0</td>\n",
       "      <td>1.0</td>\n",
       "      <td>3.0</td>\n",
       "      <td>2.0</td>\n",
       "      <td>Acredito que ano passado na Dev aprendi muito ...</td>\n",
       "      <td>Finanças ou Tecnologia</td>\n",
       "      <td>Respondeu</td>\n",
       "    </tr>\n",
       "    <tr>\n",
       "      <th>20</th>\n",
       "      <td>andreibonifacio@usp.br</td>\n",
       "      <td>Andrei Schoschlakow Bonifácio</td>\n",
       "      <td>Não pretendo seguir ativo na entidade, o que c...</td>\n",
       "      <td>NaN</td>\n",
       "      <td>NaN</td>\n",
       "      <td>NaN</td>\n",
       "      <td>NaN</td>\n",
       "      <td>NaN</td>\n",
       "      <td>NaN</td>\n",
       "      <td>NaN</td>\n",
       "      <td>...</td>\n",
       "      <td>NaN</td>\n",
       "      <td>NaN</td>\n",
       "      <td>NaN</td>\n",
       "      <td>NaN</td>\n",
       "      <td>NaN</td>\n",
       "      <td>NaN</td>\n",
       "      <td>NaN</td>\n",
       "      <td>NaN</td>\n",
       "      <td>NaN</td>\n",
       "      <td>Respondeu</td>\n",
       "    </tr>\n",
       "    <tr>\n",
       "      <th>21</th>\n",
       "      <td>theoborten@usp.br</td>\n",
       "      <td>Theo Borten Radesca Migliano</td>\n",
       "      <td>Não pretendo seguir ativo na entidade, o que c...</td>\n",
       "      <td>NaN</td>\n",
       "      <td>NaN</td>\n",
       "      <td>NaN</td>\n",
       "      <td>NaN</td>\n",
       "      <td>NaN</td>\n",
       "      <td>NaN</td>\n",
       "      <td>NaN</td>\n",
       "      <td>...</td>\n",
       "      <td>NaN</td>\n",
       "      <td>NaN</td>\n",
       "      <td>NaN</td>\n",
       "      <td>NaN</td>\n",
       "      <td>NaN</td>\n",
       "      <td>NaN</td>\n",
       "      <td>NaN</td>\n",
       "      <td>NaN</td>\n",
       "      <td>NaN</td>\n",
       "      <td>Respondeu</td>\n",
       "    </tr>\n",
       "    <tr>\n",
       "      <th>26</th>\n",
       "      <td>ygorronnan@usp.br</td>\n",
       "      <td>Ygor Ronnan Miguel Reis</td>\n",
       "      <td>Pretendo seguir ativo na entidade e estou cien...</td>\n",
       "      <td>Pretendo me dedicar mais pra exclusivamente es...</td>\n",
       "      <td>Pretendo, entre o próximo semestre e o começo ...</td>\n",
       "      <td>Não realizo essa atividade</td>\n",
       "      <td>Não realizo essa atividade</td>\n",
       "      <td>Alta Prioridade</td>\n",
       "      <td>Alta Prioridade</td>\n",
       "      <td>Não realizo essa atividade</td>\n",
       "      <td>...</td>\n",
       "      <td>3.0</td>\n",
       "      <td>5.0</td>\n",
       "      <td>4.0</td>\n",
       "      <td>4.0</td>\n",
       "      <td>1.0</td>\n",
       "      <td>3.0</td>\n",
       "      <td>4.0</td>\n",
       "      <td>Acredito ter uma defasagem especialmente nos c...</td>\n",
       "      <td>Finanças</td>\n",
       "      <td>Respondeu</td>\n",
       "    </tr>\n",
       "    <tr>\n",
       "      <th>27</th>\n",
       "      <td>felippe.bertollo@usp.br</td>\n",
       "      <td>Felippe Gomes Bertollo</td>\n",
       "      <td>Pretendo seguir ativo na entidade e estou cien...</td>\n",
       "      <td>Corrida. Fui efetivado no trabalho e, mesmo co...</td>\n",
       "      <td>Estou trabalhando como efetivo.</td>\n",
       "      <td>Alta Prioridade</td>\n",
       "      <td>Não realizo essa atividade</td>\n",
       "      <td>Média Prioridade</td>\n",
       "      <td>Alta Prioridade</td>\n",
       "      <td>Não realizo essa atividade</td>\n",
       "      <td>...</td>\n",
       "      <td>4.0</td>\n",
       "      <td>3.0</td>\n",
       "      <td>2.0</td>\n",
       "      <td>3.0</td>\n",
       "      <td>1.0</td>\n",
       "      <td>4.0</td>\n",
       "      <td>5.0</td>\n",
       "      <td>No trabalho, percebo que tenho mais facilidade...</td>\n",
       "      <td>Atualmente estou em auditoria, área com uma fo...</td>\n",
       "      <td>Respondeu</td>\n",
       "    </tr>\n",
       "    <tr>\n",
       "      <th>28</th>\n",
       "      <td>hidekikomi@usp.br</td>\n",
       "      <td>Felipe Hideki Komi</td>\n",
       "      <td>Pretendo seguir ativo na entidade e estou cien...</td>\n",
       "      <td>Apenas aulas noturnas</td>\n",
       "      <td>Sim, espero que logo kkkkkkk</td>\n",
       "      <td>Alta Prioridade</td>\n",
       "      <td>Alta Prioridade</td>\n",
       "      <td>Média Prioridade</td>\n",
       "      <td>Baixa Prioridade</td>\n",
       "      <td>Não realizo essa atividade</td>\n",
       "      <td>...</td>\n",
       "      <td>2.0</td>\n",
       "      <td>3.0</td>\n",
       "      <td>4.0</td>\n",
       "      <td>5.0</td>\n",
       "      <td>3.0</td>\n",
       "      <td>3.0</td>\n",
       "      <td>5.0</td>\n",
       "      <td>NaN</td>\n",
       "      <td>NaN</td>\n",
       "      <td>Respondeu</td>\n",
       "    </tr>\n",
       "    <tr>\n",
       "      <th>29</th>\n",
       "      <td>emmanuelitaemmanuel@usp.br</td>\n",
       "      <td>Emmanuelita Stephene Emmanuel</td>\n",
       "      <td>Pretendo seguir ativo na entidade e estou cien...</td>\n",
       "      <td>Estudo no noturno e trabalho. Nas minhas horas...</td>\n",
       "      <td>Já trabalho.</td>\n",
       "      <td>Alta Prioridade</td>\n",
       "      <td>Baixa Prioridade</td>\n",
       "      <td>Alta Prioridade</td>\n",
       "      <td>Alta Prioridade</td>\n",
       "      <td>Baixa Prioridade</td>\n",
       "      <td>...</td>\n",
       "      <td>1.0</td>\n",
       "      <td>1.0</td>\n",
       "      <td>1.0</td>\n",
       "      <td>1.0</td>\n",
       "      <td>1.0</td>\n",
       "      <td>1.0</td>\n",
       "      <td>2.0</td>\n",
       "      <td>NaN</td>\n",
       "      <td>NaN</td>\n",
       "      <td>Respondeu</td>\n",
       "    </tr>\n",
       "    <tr>\n",
       "      <th>30</th>\n",
       "      <td>camilliaraujo@usp.br</td>\n",
       "      <td>Camilli Santos de Araujo</td>\n",
       "      <td>Não pretendo seguir ativo na entidade, o que c...</td>\n",
       "      <td>NaN</td>\n",
       "      <td>NaN</td>\n",
       "      <td>NaN</td>\n",
       "      <td>NaN</td>\n",
       "      <td>NaN</td>\n",
       "      <td>NaN</td>\n",
       "      <td>NaN</td>\n",
       "      <td>...</td>\n",
       "      <td>NaN</td>\n",
       "      <td>NaN</td>\n",
       "      <td>NaN</td>\n",
       "      <td>NaN</td>\n",
       "      <td>NaN</td>\n",
       "      <td>NaN</td>\n",
       "      <td>NaN</td>\n",
       "      <td>NaN</td>\n",
       "      <td>NaN</td>\n",
       "      <td>NaN</td>\n",
       "    </tr>\n",
       "    <tr>\n",
       "      <th>31</th>\n",
       "      <td>caiohuang@usp.br</td>\n",
       "      <td>Caio Huang</td>\n",
       "      <td>Pretendo seguir ativo na entidade e estou cien...</td>\n",
       "      <td>Minhas aulas são diurnas, acaba às 11h. Caso t...</td>\n",
       "      <td>Já estou a procura de estágio</td>\n",
       "      <td>Alta Prioridade</td>\n",
       "      <td>Baixa Prioridade</td>\n",
       "      <td>Média Prioridade</td>\n",
       "      <td>Média Prioridade</td>\n",
       "      <td>Baixa Prioridade</td>\n",
       "      <td>...</td>\n",
       "      <td>3.0</td>\n",
       "      <td>2.0</td>\n",
       "      <td>3.0</td>\n",
       "      <td>3.0</td>\n",
       "      <td>1.0</td>\n",
       "      <td>4.0</td>\n",
       "      <td>4.0</td>\n",
       "      <td>NaN</td>\n",
       "      <td>NaN</td>\n",
       "      <td>NaN</td>\n",
       "    </tr>\n",
       "  </tbody>\n",
       "</table>\n",
       "<p>22 rows × 31 columns</p>\n",
       "</div>"
      ],
      "text/plain": [
       "                        E-mail                                 Nome  \\\n",
       "1          andrepennini@usp.br                André Menniti Pennini   \n",
       "2         paulosergio_1@usp.br     Paulo Sergio Almeida de Oliveira   \n",
       "4        vitor.katayama@usp.br               Vitor Aratani Katayama   \n",
       "5       gabrielfinamore@usp.br                     Gabriel Finamore   \n",
       "8             annayoshi@usp.br              Anna Yoshi Une Mesquita   \n",
       "9             miramos10@usp.br                Milena da Silva Ramos   \n",
       "10       luisa2005.yumi@usp.br               Luisa Yumi Aoki Ribas    \n",
       "12         jessi.sayuri@usp.br             Jessica Sayuri Goya Higa   \n",
       "13      joseeduardo7474@usp.br         José Eduardo Santos Sarrico    \n",
       "14        felipe0308.fs@usp.br                 Felipe da Silva Melo   \n",
       "15            lindoso70@usp.br      Henrique Nogueira Pedro Lindoso   \n",
       "16       miguel.feitosa@usp.br  Miguel dos Santos Rodrigues Feitosa   \n",
       "18   rafaelderricoabreu@usp.br     Rafael Derrico dos Santos Abreu    \n",
       "19        lucastortelli@usp.br              Lucas Tortelli de Moura   \n",
       "20      andreibonifacio@usp.br        Andrei Schoschlakow Bonifácio   \n",
       "21           theoborten@usp.br        Theo Borten Radesca Migliano    \n",
       "26           ygorronnan@usp.br              Ygor Ronnan Miguel Reis   \n",
       "27     felippe.bertollo@usp.br               Felippe Gomes Bertollo   \n",
       "28           hidekikomi@usp.br                   Felipe Hideki Komi   \n",
       "29  emmanuelitaemmanuel@usp.br       Emmanuelita Stephene Emmanuel    \n",
       "30        camilliaraujo@usp.br             Camilli Santos de Araujo   \n",
       "31            caiohuang@usp.br                           Caio Huang   \n",
       "\n",
       "                               Pretende seguir ativo?  \\\n",
       "1   Não pretendo seguir ativo na entidade, o que c...   \n",
       "2   Não pretendo seguir ativo na entidade, o que c...   \n",
       "4   Pretendo seguir ativo na entidade e estou cien...   \n",
       "5   Pretendo seguir ativo na entidade e estou cien...   \n",
       "8   Pretendo seguir ativo na entidade e estou cien...   \n",
       "9   Não pretendo seguir ativo na entidade, o que c...   \n",
       "10  Pretendo seguir ativo na entidade e estou cien...   \n",
       "12  Pretendo seguir ativo na entidade e estou cien...   \n",
       "13  Pretendo seguir ativo na entidade e estou cien...   \n",
       "14  Pretendo seguir ativo na entidade e estou cien...   \n",
       "15  Pretendo seguir ativo na entidade e estou cien...   \n",
       "16  Não pretendo seguir ativo na entidade, o que c...   \n",
       "18  Pretendo seguir ativo na entidade e estou cien...   \n",
       "19  Pretendo seguir ativo na entidade e estou cien...   \n",
       "20  Não pretendo seguir ativo na entidade, o que c...   \n",
       "21  Não pretendo seguir ativo na entidade, o que c...   \n",
       "26  Pretendo seguir ativo na entidade e estou cien...   \n",
       "27  Pretendo seguir ativo na entidade e estou cien...   \n",
       "28  Pretendo seguir ativo na entidade e estou cien...   \n",
       "29  Pretendo seguir ativo na entidade e estou cien...   \n",
       "30  Não pretendo seguir ativo na entidade, o que c...   \n",
       "31  Pretendo seguir ativo na entidade e estou cien...   \n",
       "\n",
       "              Como será a rotina no próximo semestre?  \\\n",
       "1                                                 NaN   \n",
       "2                                                 NaN   \n",
       "4   Estou no último ano da graduação, terei poucas...   \n",
       "5   Terei aulas de segunda a quinta na faculdade e...   \n",
       "8   Estarei estagiando e em outra entidade. Estare...   \n",
       "9                                                 NaN   \n",
       "10  Então, estou estagiando desde o fim do ano pas...   \n",
       "12  Pegarei matérias todos os dias a noite e farei...   \n",
       "13  Estágio: 9 as 15\\nFaculdade: 19:30 as 23\\nPret...   \n",
       "14  Estarei desenvolvendo minha monografia e estar...   \n",
       "15  Terei 9 matérias. Algumas serão de manhã, e ou...   \n",
       "16                                                NaN   \n",
       "18  Minha rotina vai ser bem complicada. Segunda-f...   \n",
       "19        Terei terça, quarta e quinta a tarde livre    \n",
       "20                                                NaN   \n",
       "21                                                NaN   \n",
       "26  Pretendo me dedicar mais pra exclusivamente es...   \n",
       "27  Corrida. Fui efetivado no trabalho e, mesmo co...   \n",
       "28                              Apenas aulas noturnas   \n",
       "29  Estudo no noturno e trabalho. Nas minhas horas...   \n",
       "30                                                NaN   \n",
       "31  Minhas aulas são diurnas, acaba às 11h. Caso t...   \n",
       "\n",
       "                                   Pretende estagiar?  \\\n",
       "1                                                 NaN   \n",
       "2                                                 NaN   \n",
       "4                                        Curto prazo.   \n",
       "5        Sim, mas apenas estágio de férias no inverno   \n",
       "8                         Sim, em fevereiro deste ano   \n",
       "9                                                 NaN   \n",
       "10                            Sim, pelo resto do ano.   \n",
       "12                           Sim, a princí por 1 ano    \n",
       "13                                   Estou estagiando   \n",
       "14                                   Já faço estágio.   \n",
       "15  Não pretendo estagiar no promeiro semestre, ma...   \n",
       "16                                                NaN   \n",
       "18                   Comecei a estagiar segunda-feira   \n",
       "19                                 Médio longo prazo    \n",
       "20                                                NaN   \n",
       "21                                                NaN   \n",
       "26  Pretendo, entre o próximo semestre e o começo ...   \n",
       "27                    Estou trabalhando como efetivo.   \n",
       "28                       Sim, espero que logo kkkkkkk   \n",
       "29                                       Já trabalho.   \n",
       "30                                                NaN   \n",
       "31                     Já estou a procura de estágio    \n",
       "\n",
       "          Prioridade [Estágio] Prioridade [Outras entidades]  \\\n",
       "1                          NaN                           NaN   \n",
       "2                          NaN                           NaN   \n",
       "4              Alta Prioridade    Não realizo essa atividade   \n",
       "5   Não realizo essa atividade    Não realizo essa atividade   \n",
       "8              Alta Prioridade              Média Prioridade   \n",
       "9                          NaN                           NaN   \n",
       "10             Alta Prioridade              Média Prioridade   \n",
       "12             Alta Prioridade    Não realizo essa atividade   \n",
       "13             Alta Prioridade              Baixa Prioridade   \n",
       "14             Alta Prioridade    Não realizo essa atividade   \n",
       "15  Não realizo essa atividade    Não realizo essa atividade   \n",
       "16                         NaN                           NaN   \n",
       "18             Alta Prioridade              Média Prioridade   \n",
       "19            Baixa Prioridade              Baixa Prioridade   \n",
       "20                         NaN                           NaN   \n",
       "21                         NaN                           NaN   \n",
       "26  Não realizo essa atividade    Não realizo essa atividade   \n",
       "27             Alta Prioridade    Não realizo essa atividade   \n",
       "28             Alta Prioridade               Alta Prioridade   \n",
       "29             Alta Prioridade              Baixa Prioridade   \n",
       "30                         NaN                           NaN   \n",
       "31             Alta Prioridade              Baixa Prioridade   \n",
       "\n",
       "   Prioridade [FEA.dev] Prioridade [Faculdade]  \\\n",
       "1                   NaN                    NaN   \n",
       "2                   NaN                    NaN   \n",
       "4      Média Prioridade       Baixa Prioridade   \n",
       "5       Alta Prioridade        Alta Prioridade   \n",
       "8      Média Prioridade       Baixa Prioridade   \n",
       "9                   NaN                    NaN   \n",
       "10     Média Prioridade        Alta Prioridade   \n",
       "12     Média Prioridade       Média Prioridade   \n",
       "13     Média Prioridade       Média Prioridade   \n",
       "14      Alta Prioridade       Média Prioridade   \n",
       "15      Alta Prioridade        Alta Prioridade   \n",
       "16                  NaN                    NaN   \n",
       "18     Média Prioridade        Alta Prioridade   \n",
       "19      Alta Prioridade       Média Prioridade   \n",
       "20                  NaN                    NaN   \n",
       "21                  NaN                    NaN   \n",
       "26      Alta Prioridade        Alta Prioridade   \n",
       "27     Média Prioridade        Alta Prioridade   \n",
       "28     Média Prioridade       Baixa Prioridade   \n",
       "29      Alta Prioridade        Alta Prioridade   \n",
       "30                  NaN                    NaN   \n",
       "31     Média Prioridade       Média Prioridade   \n",
       "\n",
       "   Prioridade [Iniciação Científica]  ... Estatística Probabilidade  \\\n",
       "1                                NaN  ...         NaN           NaN   \n",
       "2                                NaN  ...         NaN           NaN   \n",
       "4         Não realizo essa atividade  ...         3.0           2.0   \n",
       "5         Não realizo essa atividade  ...         3.0           5.0   \n",
       "8         Não realizo essa atividade  ...         3.0           3.0   \n",
       "9                                NaN  ...         NaN           NaN   \n",
       "10                  Baixa Prioridade  ...         1.0           1.0   \n",
       "12        Não realizo essa atividade  ...         1.0           1.0   \n",
       "13                  Baixa Prioridade  ...         2.0           2.0   \n",
       "14        Não realizo essa atividade  ...         4.0           3.0   \n",
       "15        Não realizo essa atividade  ...         4.0           2.0   \n",
       "16                               NaN  ...         NaN           NaN   \n",
       "18        Não realizo essa atividade  ...         4.0           4.0   \n",
       "19                  Média Prioridade  ...         2.0           2.0   \n",
       "20                               NaN  ...         NaN           NaN   \n",
       "21                               NaN  ...         NaN           NaN   \n",
       "26        Não realizo essa atividade  ...         3.0           5.0   \n",
       "27        Não realizo essa atividade  ...         4.0           3.0   \n",
       "28        Não realizo essa atividade  ...         2.0           3.0   \n",
       "29                  Baixa Prioridade  ...         1.0           1.0   \n",
       "30                               NaN  ...         NaN           NaN   \n",
       "31                  Baixa Prioridade  ...         3.0           2.0   \n",
       "\n",
       "   Computação Matemática Financeira Econometria Economia Negócios  \\\n",
       "1         NaN                   NaN         NaN      NaN      NaN   \n",
       "2         NaN                   NaN         NaN      NaN      NaN   \n",
       "4         3.0                   3.0         1.0      4.0      3.0   \n",
       "5         3.0                   3.0         4.0      4.0      3.0   \n",
       "8         1.0                   3.0         1.0      4.0      3.0   \n",
       "9         NaN                   NaN         NaN      NaN      NaN   \n",
       "10        1.0                   2.0         1.0      3.0      3.0   \n",
       "12        1.0                   3.0         1.0      1.0      1.0   \n",
       "13        3.0                   3.0         1.0      1.0      3.0   \n",
       "14        2.0                   2.0         5.0      5.0      1.0   \n",
       "15        3.0                   3.0         2.0      3.0      4.0   \n",
       "16        NaN                   NaN         NaN      NaN      NaN   \n",
       "18        2.0                   1.0         4.0      3.0      2.0   \n",
       "19        2.0                   3.0         1.0      3.0      2.0   \n",
       "20        NaN                   NaN         NaN      NaN      NaN   \n",
       "21        NaN                   NaN         NaN      NaN      NaN   \n",
       "26        4.0                   4.0         1.0      3.0      4.0   \n",
       "27        2.0                   3.0         1.0      4.0      5.0   \n",
       "28        4.0                   5.0         3.0      3.0      5.0   \n",
       "29        1.0                   1.0         1.0      1.0      2.0   \n",
       "30        NaN                   NaN         NaN      NaN      NaN   \n",
       "31        3.0                   3.0         1.0      4.0      4.0   \n",
       "\n",
       "                       Autoavaliação das competências  \\\n",
       "1                                                 NaN   \n",
       "2                                                 NaN   \n",
       "4   Ao longo da graduação de adm, sinto que precis...   \n",
       "5     Gostaria de trabalhar mais finanças na entidade   \n",
       "8                     Economia e Negócios. Computação   \n",
       "9                                                 NaN   \n",
       "10                                                NaN   \n",
       "12                                                NaN   \n",
       "13  Acredito que o que aprendi até aqui com a dev ...   \n",
       "14                                                NaN   \n",
       "15  Áreas que meu desempenho é melhor são aquelas ...   \n",
       "16                                                NaN   \n",
       "18  Maior domínio na parte de economia e econometr...   \n",
       "19  Acredito que ano passado na Dev aprendi muito ...   \n",
       "20                                                NaN   \n",
       "21                                                NaN   \n",
       "26  Acredito ter uma defasagem especialmente nos c...   \n",
       "27  No trabalho, percebo que tenho mais facilidade...   \n",
       "28                                                NaN   \n",
       "29                                                NaN   \n",
       "30                                                NaN   \n",
       "31                                                NaN   \n",
       "\n",
       "            Áreas de interesse no mercado de trabalho  Coluna auxiliar  \n",
       "1                                                 NaN        Respondeu  \n",
       "2                                                 NaN        Respondeu  \n",
       "4   Pretendo seguir carreira na área de finanças, ...        Respondeu  \n",
       "5                       Finanças (mercado financeiro)        Respondeu  \n",
       "8                                                 NaN        Respondeu  \n",
       "9                                                 NaN        Respondeu  \n",
       "10                             Acredito que finanças.        Respondeu  \n",
       "12                                                NaN        Respondeu  \n",
       "13                 Automação de processos e finanças         Respondeu  \n",
       "14                                                NaN        Respondeu  \n",
       "15  Tenho interesse em Consultoria, Marketing, Ciê...        Respondeu  \n",
       "16                                                NaN        Respondeu  \n",
       "18        Principalmente dados, finanças e tecnologia        Respondeu  \n",
       "19                            Finanças ou Tecnologia         Respondeu  \n",
       "20                                                NaN        Respondeu  \n",
       "21                                                NaN        Respondeu  \n",
       "26                                           Finanças        Respondeu  \n",
       "27  Atualmente estou em auditoria, área com uma fo...        Respondeu  \n",
       "28                                                NaN        Respondeu  \n",
       "29                                                NaN        Respondeu  \n",
       "30                                                NaN              NaN  \n",
       "31                                                NaN              NaN  \n",
       "\n",
       "[22 rows x 31 columns]"
      ]
     },
     "execution_count": 9,
     "metadata": {},
     "output_type": "execute_result"
    }
   ],
   "source": [
    "# Exibe o dataframe após a renomeação de suas colunas.\n",
    "df"
   ]
  },
  {
   "cell_type": "markdown",
   "metadata": {},
   "source": [
    "### Excluindo colunas desnecessárias"
   ]
  },
  {
   "cell_type": "code",
   "execution_count": 10,
   "metadata": {},
   "outputs": [
    {
     "data": {
      "text/plain": [
       "Index(['E-mail', 'Nome', 'Pretende seguir ativo?',\n",
       "       'Como será a rotina no próximo semestre?', 'Pretende estagiar?',\n",
       "       'Prioridade [Estágio]', 'Prioridade [Outras entidades]',\n",
       "       'Prioridade [FEA.dev]', 'Prioridade [Faculdade]',\n",
       "       'Prioridade [Iniciação Científica]',\n",
       "       'Como pretende conciliar as prioridades?',\n",
       "       '1ª área administrativa de interesse',\n",
       "       '2ª área administrativa de interesse',\n",
       "       'Tem interesse em ser um padrinho/ uma madrinha?',\n",
       "       'Quer liderar projetos?', '1º tema de interesse:',\n",
       "       '2º tema de interesse:', '3º tema de interesse:',\n",
       "       '4º tema de interesse:', 'Cálculo', 'Álgebra linear', 'Estatística',\n",
       "       'Probabilidade', 'Computação', 'Matemática Financeira', 'Econometria',\n",
       "       'Economia', 'Negócios', 'Autoavaliação das competências',\n",
       "       'Áreas de interesse no mercado de trabalho', 'Coluna auxiliar'],\n",
       "      dtype='object')"
      ]
     },
     "execution_count": 10,
     "metadata": {},
     "output_type": "execute_result"
    }
   ],
   "source": [
    "# Exibe as colunas do dataframe.\n",
    "df.columns"
   ]
  },
  {
   "cell_type": "code",
   "execution_count": 11,
   "metadata": {},
   "outputs": [],
   "source": [
    "#Obs: As colunas removidas a seguir não são relevantes para a análise da Diretoria de Tecnologia. No entanto, isso não significa que sejam inúteis, pois é provável que tenham grande importância para outras diretorias da entidade.\n",
    "\n",
    "# Remove colunas que não serão necessárias na análise da Diretoria de Tecnologia.\n",
    "df.drop(columns=['1ª área administrativa de interesse','2ª área administrativa de interesse','Tem interesse em ser um padrinho/ uma madrinha?', 'Coluna auxiliar'], inplace=True)"
   ]
  },
  {
   "cell_type": "code",
   "execution_count": 12,
   "metadata": {},
   "outputs": [
    {
     "data": {
      "text/plain": [
       "Index(['E-mail', 'Nome', 'Pretende seguir ativo?',\n",
       "       'Como será a rotina no próximo semestre?', 'Pretende estagiar?',\n",
       "       'Prioridade [Estágio]', 'Prioridade [Outras entidades]',\n",
       "       'Prioridade [FEA.dev]', 'Prioridade [Faculdade]',\n",
       "       'Prioridade [Iniciação Científica]',\n",
       "       'Como pretende conciliar as prioridades?', 'Quer liderar projetos?',\n",
       "       '1º tema de interesse:', '2º tema de interesse:',\n",
       "       '3º tema de interesse:', '4º tema de interesse:', 'Cálculo',\n",
       "       'Álgebra linear', 'Estatística', 'Probabilidade', 'Computação',\n",
       "       'Matemática Financeira', 'Econometria', 'Economia', 'Negócios',\n",
       "       'Autoavaliação das competências',\n",
       "       'Áreas de interesse no mercado de trabalho'],\n",
       "      dtype='object')"
      ]
     },
     "execution_count": 12,
     "metadata": {},
     "output_type": "execute_result"
    }
   ],
   "source": [
    "# Exibe as colunas do dataframe após a remoção feita acima.\n",
    "df.columns"
   ]
  },
  {
   "cell_type": "markdown",
   "metadata": {},
   "source": [
    "### Separando os membros que pretendem permanecer ativos dos membros que não pretendem"
   ]
  },
  {
   "cell_type": "code",
   "execution_count": 13,
   "metadata": {},
   "outputs": [],
   "source": [
    "# Cria um dataframe que contém apenas os dados dos membros que se tornarão inativos na entidade.\n",
    "df_inativos = df[df['Pretende seguir ativo?'].str.startswith('Não', na=False)]\n",
    "\n",
    "# Cria um dataframe que contém apenas os dados dos membros que permanecerão ativos na entidade.\n",
    "df_ativos = df[~df['Pretende seguir ativo?'].str.startswith('Não', na=False)]"
   ]
  },
  {
   "cell_type": "markdown",
   "metadata": {},
   "source": [
    "## **Elaborando respostas para as perguntas apresentadas**"
   ]
  },
  {
   "cell_type": "markdown",
   "metadata": {},
   "source": [
    "### Quais membros não pretendem seguir ativos na entidade ?"
   ]
  },
  {
   "cell_type": "code",
   "execution_count": 14,
   "metadata": {},
   "outputs": [
    {
     "name": "stdout",
     "output_type": "stream",
     "text": [
      "O(A) membro(a) André Menniti Pennini não participará das atividades da entidade nesse semestre.\n",
      "\n",
      "O(A) membro(a) Paulo Sergio Almeida de Oliveira não participará das atividades da entidade nesse semestre.\n",
      "\n",
      "O(A) membro(a) Milena da Silva Ramos não participará das atividades da entidade nesse semestre.\n",
      "\n",
      "O(A) membro(a) Miguel dos Santos Rodrigues Feitosa não participará das atividades da entidade nesse semestre.\n",
      "\n",
      "O(A) membro(a) Andrei Schoschlakow Bonifácio não participará das atividades da entidade nesse semestre.\n",
      "\n",
      "O(A) membro(a) Theo Borten Radesca Migliano  não participará das atividades da entidade nesse semestre.\n",
      "\n",
      "O(A) membro(a) Camilli Santos de Araujo não participará das atividades da entidade nesse semestre.\n",
      "\n"
     ]
    }
   ],
   "source": [
    "# Exibe o nome dos membros que não pretendem seguir ativos na entidade.\n",
    "for nome in df_inativos['Nome']:\n",
    "    print(f\"O(A) membro(a) {nome} não participará das atividades da entidade nesse semestre.\\n\")"
   ]
  },
  {
   "cell_type": "markdown",
   "metadata": {},
   "source": [
    "### Dos membros que pretendem continuar ativos, algum colocou a FEA.Dev como tendo prioridade baixa em seu semestre ?"
   ]
  },
  {
   "cell_type": "code",
   "execution_count": 15,
   "metadata": {},
   "outputs": [
    {
     "name": "stdout",
     "output_type": "stream",
     "text": [
      "Nenhum dos membros que pretendem continuar ativos colocou a FEA.Dev como tendo prioridade baixa em seu semestre.\n",
      "\n"
     ]
    }
   ],
   "source": [
    "# Obtem os nomes dos membros que pretendem continuar ativos e colocaram a FEA.Dev como tendo prioridade baixa em seu semestre.\n",
    "membros_baixa_prioridade = df_ativos[df_ativos['Prioridade [FEA.dev]'] == 'Baixa Prioridade']['Nome'] == []\n",
    "\n",
    "if membros_baixa_prioridade.empty:\n",
    "    print(\"Nenhum dos membros que pretendem continuar ativos colocou a FEA.Dev como tendo prioridade baixa em seu semestre.\\n\")\n",
    "else:\n",
    "    for nome in membros_baixa_prioridade:\n",
    "        print(f\"O(A) membro(a) {nome} colocou a FEA.Dev como tendo prioridade baixa em seu semestre.\\n\")"
   ]
  },
  {
   "cell_type": "markdown",
   "metadata": {},
   "source": [
    "### Dos membros que pretendem continuar ativos, quais colocaram a FEA.Dev como tendo prioridade média em seu semestre ?"
   ]
  },
  {
   "cell_type": "code",
   "execution_count": 16,
   "metadata": {},
   "outputs": [
    {
     "name": "stdout",
     "output_type": "stream",
     "text": [
      "O(A) membro(a) Vitor Aratani Katayama colocou a FEA.dev como tendo prioridade média no seu semestre.\n",
      "\n",
      "O(A) membro(a) Anna Yoshi Une Mesquita colocou a FEA.dev como tendo prioridade média no seu semestre.\n",
      "\n",
      "O(A) membro(a) Luisa Yumi Aoki Ribas  colocou a FEA.dev como tendo prioridade média no seu semestre.\n",
      "\n",
      "O(A) membro(a) Jessica Sayuri Goya Higa colocou a FEA.dev como tendo prioridade média no seu semestre.\n",
      "\n",
      "O(A) membro(a) José Eduardo Santos Sarrico  colocou a FEA.dev como tendo prioridade média no seu semestre.\n",
      "\n",
      "O(A) membro(a) Rafael Derrico dos Santos Abreu  colocou a FEA.dev como tendo prioridade média no seu semestre.\n",
      "\n",
      "O(A) membro(a) Felippe Gomes Bertollo colocou a FEA.dev como tendo prioridade média no seu semestre.\n",
      "\n",
      "O(A) membro(a) Felipe Hideki Komi colocou a FEA.dev como tendo prioridade média no seu semestre.\n",
      "\n",
      "O(A) membro(a) Caio Huang colocou a FEA.dev como tendo prioridade média no seu semestre.\n",
      "\n"
     ]
    }
   ],
   "source": [
    "# Obtem os nomes dos membros que pretendem continuar ativos e colocaram a FEA.Dev como tendo prioridade média em seu semestre.\n",
    "ativos_prioridade_media = df_ativos[df_ativos['Prioridade [FEA.dev]'] == 'Média Prioridade']['Nome']\n",
    "\n",
    "# Exibe os nomes obtidos acima.\n",
    "for nome in ativos_prioridade_media:\n",
    "    print(f\"O(A) membro(a) {nome} colocou a FEA.dev como tendo prioridade média no seu semestre.\\n\")"
   ]
  },
  {
   "cell_type": "markdown",
   "metadata": {},
   "source": [
    "### Dentre os membros mencionados na resposta acima, quantos pretendem liderar projetos ?"
   ]
  },
  {
   "cell_type": "code",
   "execution_count": 17,
   "metadata": {},
   "outputs": [
    {
     "name": "stdout",
     "output_type": "stream",
     "text": [
      "Nenhum dos membros acima tem o desejo de liderar projetos.\n",
      "\n"
     ]
    }
   ],
   "source": [
    "# Armazena em uma variável os nomes dos membros mencionados na resposta acima que desejam liderar projetos na entidade.\n",
    "lideres_media_prioridade = df_ativos[(df_ativos['Nome'].isin(ativos_prioridade_media)) & (df_ativos['Quer liderar projetos?'] == 'Sim')]['Nome']\n",
    "\n",
    "if lideres_media_prioridade.empty:\n",
    "    print(\"Nenhum dos membros acima tem o desejo de liderar projetos.\\n\")\n",
    "else:\n",
    "    for nome in lideres_media_prioridade:\n",
    "        print(f\"O(A) membro(a) {nome} tem o desejo de liderar projetos.\\n\")"
   ]
  },
  {
   "cell_type": "markdown",
   "metadata": {},
   "source": [
    "### Dos membros que pretendem continuar ativos, quais colocaram a FEA.Dev como tendo prioridade alta em seu semestre ?"
   ]
  },
  {
   "cell_type": "code",
   "execution_count": 18,
   "metadata": {},
   "outputs": [
    {
     "name": "stdout",
     "output_type": "stream",
     "text": [
      "O(A) membro(a) Gabriel Finamore colocou a FEA.dev como tendo prioridade alta no seu semestre.\n",
      "\n",
      "O(A) membro(a) Felipe da Silva Melo colocou a FEA.dev como tendo prioridade alta no seu semestre.\n",
      "\n",
      "O(A) membro(a) Henrique Nogueira Pedro Lindoso colocou a FEA.dev como tendo prioridade alta no seu semestre.\n",
      "\n",
      "O(A) membro(a) Lucas Tortelli de Moura colocou a FEA.dev como tendo prioridade alta no seu semestre.\n",
      "\n",
      "O(A) membro(a) Ygor Ronnan Miguel Reis colocou a FEA.dev como tendo prioridade alta no seu semestre.\n",
      "\n",
      "O(A) membro(a) Emmanuelita Stephene Emmanuel  colocou a FEA.dev como tendo prioridade alta no seu semestre.\n",
      "\n"
     ]
    }
   ],
   "source": [
    "# Obtem os nomes dos membros que pretendem continuar ativos e colocaram a FEA.Dev como tendo prioridade alta em seu semestre.\n",
    "ativos_prioridade_alta = df_ativos[df_ativos['Prioridade [FEA.dev]'] == 'Alta Prioridade']['Nome']\n",
    "\n",
    "# Exibe os nomes obtidos acima.\n",
    "for nome in ativos_prioridade_alta:\n",
    "    print(f\"O(A) membro(a) {nome} colocou a FEA.dev como tendo prioridade alta no seu semestre.\\n\")"
   ]
  },
  {
   "cell_type": "markdown",
   "metadata": {},
   "source": [
    "### Dentre os membros mencionados na resposta acima, quantos pretendem liderar projetos ?"
   ]
  },
  {
   "cell_type": "code",
   "execution_count": 19,
   "metadata": {},
   "outputs": [
    {
     "name": "stdout",
     "output_type": "stream",
     "text": [
      "O(A) membro(a) Gabriel Finamore tem o desejo de liderar projetos.\n",
      "\n",
      "O(A) membro(a) Henrique Nogueira Pedro Lindoso tem o desejo de liderar projetos.\n",
      "\n",
      "O(A) membro(a) Lucas Tortelli de Moura tem o desejo de liderar projetos.\n",
      "\n",
      "O(A) membro(a) Ygor Ronnan Miguel Reis tem o desejo de liderar projetos.\n",
      "\n"
     ]
    }
   ],
   "source": [
    "# Armazena em uma variável os nomes dos membros mencionados na resposta acima que desejam liderar projetos na entidade.\n",
    "lideres_alta_prioridade = df_ativos[(df_ativos['Nome'].isin(ativos_prioridade_alta)) & (df_ativos['Quer liderar projetos?'] == 'Sim')]['Nome']\n",
    "\n",
    "if lideres_alta_prioridade.empty:\n",
    "    print(\"Nenhum dos membros acima tem o desejo de liderar projetos.\\n\")\n",
    "else:\n",
    "    for nome in lideres_alta_prioridade:\n",
    "        print(f\"O(A) membro(a) {nome} tem o desejo de liderar projetos.\\n\")"
   ]
  },
  {
   "cell_type": "markdown",
   "metadata": {},
   "source": [
    "### Como é a distribuição dos níveis de competências dos membros que pretendem continuar ativos ?"
   ]
  },
  {
   "cell_type": "code",
   "execution_count": 20,
   "metadata": {},
   "outputs": [
    {
     "data": {
      "text/html": [
       "<div>\n",
       "<style scoped>\n",
       "    .dataframe tbody tr th:only-of-type {\n",
       "        vertical-align: middle;\n",
       "    }\n",
       "\n",
       "    .dataframe tbody tr th {\n",
       "        vertical-align: top;\n",
       "    }\n",
       "\n",
       "    .dataframe thead th {\n",
       "        text-align: right;\n",
       "    }\n",
       "</style>\n",
       "<table border=\"1\" class=\"dataframe\">\n",
       "  <thead>\n",
       "    <tr style=\"text-align: right;\">\n",
       "      <th></th>\n",
       "      <th>Nome</th>\n",
       "      <th>Cálculo</th>\n",
       "      <th>Álgebra linear</th>\n",
       "      <th>Estatística</th>\n",
       "      <th>Probabilidade</th>\n",
       "      <th>Computação</th>\n",
       "      <th>Matemática Financeira</th>\n",
       "      <th>Econometria</th>\n",
       "      <th>Economia</th>\n",
       "      <th>Negócios</th>\n",
       "    </tr>\n",
       "  </thead>\n",
       "  <tbody>\n",
       "    <tr>\n",
       "      <th>4</th>\n",
       "      <td>Vitor Aratani Katayama</td>\n",
       "      <td>2.0</td>\n",
       "      <td>1.0</td>\n",
       "      <td>3.0</td>\n",
       "      <td>2.0</td>\n",
       "      <td>3.0</td>\n",
       "      <td>3.0</td>\n",
       "      <td>1.0</td>\n",
       "      <td>4.0</td>\n",
       "      <td>3.0</td>\n",
       "    </tr>\n",
       "    <tr>\n",
       "      <th>5</th>\n",
       "      <td>Gabriel Finamore</td>\n",
       "      <td>4.0</td>\n",
       "      <td>4.0</td>\n",
       "      <td>3.0</td>\n",
       "      <td>5.0</td>\n",
       "      <td>3.0</td>\n",
       "      <td>3.0</td>\n",
       "      <td>4.0</td>\n",
       "      <td>4.0</td>\n",
       "      <td>3.0</td>\n",
       "    </tr>\n",
       "    <tr>\n",
       "      <th>8</th>\n",
       "      <td>Anna Yoshi Une Mesquita</td>\n",
       "      <td>1.0</td>\n",
       "      <td>1.0</td>\n",
       "      <td>3.0</td>\n",
       "      <td>3.0</td>\n",
       "      <td>1.0</td>\n",
       "      <td>3.0</td>\n",
       "      <td>1.0</td>\n",
       "      <td>4.0</td>\n",
       "      <td>3.0</td>\n",
       "    </tr>\n",
       "    <tr>\n",
       "      <th>10</th>\n",
       "      <td>Luisa Yumi Aoki Ribas</td>\n",
       "      <td>1.0</td>\n",
       "      <td>1.0</td>\n",
       "      <td>1.0</td>\n",
       "      <td>1.0</td>\n",
       "      <td>1.0</td>\n",
       "      <td>2.0</td>\n",
       "      <td>1.0</td>\n",
       "      <td>3.0</td>\n",
       "      <td>3.0</td>\n",
       "    </tr>\n",
       "    <tr>\n",
       "      <th>12</th>\n",
       "      <td>Jessica Sayuri Goya Higa</td>\n",
       "      <td>2.0</td>\n",
       "      <td>1.0</td>\n",
       "      <td>1.0</td>\n",
       "      <td>1.0</td>\n",
       "      <td>1.0</td>\n",
       "      <td>3.0</td>\n",
       "      <td>1.0</td>\n",
       "      <td>1.0</td>\n",
       "      <td>1.0</td>\n",
       "    </tr>\n",
       "    <tr>\n",
       "      <th>13</th>\n",
       "      <td>José Eduardo Santos Sarrico</td>\n",
       "      <td>1.0</td>\n",
       "      <td>1.0</td>\n",
       "      <td>2.0</td>\n",
       "      <td>2.0</td>\n",
       "      <td>3.0</td>\n",
       "      <td>3.0</td>\n",
       "      <td>1.0</td>\n",
       "      <td>1.0</td>\n",
       "      <td>3.0</td>\n",
       "    </tr>\n",
       "    <tr>\n",
       "      <th>14</th>\n",
       "      <td>Felipe da Silva Melo</td>\n",
       "      <td>4.0</td>\n",
       "      <td>2.0</td>\n",
       "      <td>4.0</td>\n",
       "      <td>3.0</td>\n",
       "      <td>2.0</td>\n",
       "      <td>2.0</td>\n",
       "      <td>5.0</td>\n",
       "      <td>5.0</td>\n",
       "      <td>1.0</td>\n",
       "    </tr>\n",
       "    <tr>\n",
       "      <th>15</th>\n",
       "      <td>Henrique Nogueira Pedro Lindoso</td>\n",
       "      <td>2.0</td>\n",
       "      <td>1.0</td>\n",
       "      <td>4.0</td>\n",
       "      <td>2.0</td>\n",
       "      <td>3.0</td>\n",
       "      <td>3.0</td>\n",
       "      <td>2.0</td>\n",
       "      <td>3.0</td>\n",
       "      <td>4.0</td>\n",
       "    </tr>\n",
       "    <tr>\n",
       "      <th>18</th>\n",
       "      <td>Rafael Derrico dos Santos Abreu</td>\n",
       "      <td>4.0</td>\n",
       "      <td>2.0</td>\n",
       "      <td>4.0</td>\n",
       "      <td>4.0</td>\n",
       "      <td>2.0</td>\n",
       "      <td>1.0</td>\n",
       "      <td>4.0</td>\n",
       "      <td>3.0</td>\n",
       "      <td>2.0</td>\n",
       "    </tr>\n",
       "    <tr>\n",
       "      <th>19</th>\n",
       "      <td>Lucas Tortelli de Moura</td>\n",
       "      <td>1.0</td>\n",
       "      <td>1.0</td>\n",
       "      <td>2.0</td>\n",
       "      <td>2.0</td>\n",
       "      <td>2.0</td>\n",
       "      <td>3.0</td>\n",
       "      <td>1.0</td>\n",
       "      <td>3.0</td>\n",
       "      <td>2.0</td>\n",
       "    </tr>\n",
       "    <tr>\n",
       "      <th>26</th>\n",
       "      <td>Ygor Ronnan Miguel Reis</td>\n",
       "      <td>3.0</td>\n",
       "      <td>1.0</td>\n",
       "      <td>3.0</td>\n",
       "      <td>5.0</td>\n",
       "      <td>4.0</td>\n",
       "      <td>4.0</td>\n",
       "      <td>1.0</td>\n",
       "      <td>3.0</td>\n",
       "      <td>4.0</td>\n",
       "    </tr>\n",
       "    <tr>\n",
       "      <th>27</th>\n",
       "      <td>Felippe Gomes Bertollo</td>\n",
       "      <td>2.0</td>\n",
       "      <td>1.0</td>\n",
       "      <td>4.0</td>\n",
       "      <td>3.0</td>\n",
       "      <td>2.0</td>\n",
       "      <td>3.0</td>\n",
       "      <td>1.0</td>\n",
       "      <td>4.0</td>\n",
       "      <td>5.0</td>\n",
       "    </tr>\n",
       "    <tr>\n",
       "      <th>28</th>\n",
       "      <td>Felipe Hideki Komi</td>\n",
       "      <td>4.0</td>\n",
       "      <td>1.0</td>\n",
       "      <td>2.0</td>\n",
       "      <td>3.0</td>\n",
       "      <td>4.0</td>\n",
       "      <td>5.0</td>\n",
       "      <td>3.0</td>\n",
       "      <td>3.0</td>\n",
       "      <td>5.0</td>\n",
       "    </tr>\n",
       "    <tr>\n",
       "      <th>29</th>\n",
       "      <td>Emmanuelita Stephene Emmanuel</td>\n",
       "      <td>1.0</td>\n",
       "      <td>1.0</td>\n",
       "      <td>1.0</td>\n",
       "      <td>1.0</td>\n",
       "      <td>1.0</td>\n",
       "      <td>1.0</td>\n",
       "      <td>1.0</td>\n",
       "      <td>1.0</td>\n",
       "      <td>2.0</td>\n",
       "    </tr>\n",
       "    <tr>\n",
       "      <th>31</th>\n",
       "      <td>Caio Huang</td>\n",
       "      <td>2.0</td>\n",
       "      <td>1.0</td>\n",
       "      <td>3.0</td>\n",
       "      <td>2.0</td>\n",
       "      <td>3.0</td>\n",
       "      <td>3.0</td>\n",
       "      <td>1.0</td>\n",
       "      <td>4.0</td>\n",
       "      <td>4.0</td>\n",
       "    </tr>\n",
       "  </tbody>\n",
       "</table>\n",
       "</div>"
      ],
      "text/plain": [
       "                                Nome  Cálculo  Álgebra linear  Estatística  \\\n",
       "4             Vitor Aratani Katayama      2.0             1.0          3.0   \n",
       "5                   Gabriel Finamore      4.0             4.0          3.0   \n",
       "8            Anna Yoshi Une Mesquita      1.0             1.0          3.0   \n",
       "10            Luisa Yumi Aoki Ribas       1.0             1.0          1.0   \n",
       "12          Jessica Sayuri Goya Higa      2.0             1.0          1.0   \n",
       "13      José Eduardo Santos Sarrico       1.0             1.0          2.0   \n",
       "14              Felipe da Silva Melo      4.0             2.0          4.0   \n",
       "15   Henrique Nogueira Pedro Lindoso      2.0             1.0          4.0   \n",
       "18  Rafael Derrico dos Santos Abreu       4.0             2.0          4.0   \n",
       "19           Lucas Tortelli de Moura      1.0             1.0          2.0   \n",
       "26           Ygor Ronnan Miguel Reis      3.0             1.0          3.0   \n",
       "27            Felippe Gomes Bertollo      2.0             1.0          4.0   \n",
       "28                Felipe Hideki Komi      4.0             1.0          2.0   \n",
       "29    Emmanuelita Stephene Emmanuel       1.0             1.0          1.0   \n",
       "31                        Caio Huang      2.0             1.0          3.0   \n",
       "\n",
       "    Probabilidade  Computação  Matemática Financeira  Econometria  Economia  \\\n",
       "4             2.0         3.0                    3.0          1.0       4.0   \n",
       "5             5.0         3.0                    3.0          4.0       4.0   \n",
       "8             3.0         1.0                    3.0          1.0       4.0   \n",
       "10            1.0         1.0                    2.0          1.0       3.0   \n",
       "12            1.0         1.0                    3.0          1.0       1.0   \n",
       "13            2.0         3.0                    3.0          1.0       1.0   \n",
       "14            3.0         2.0                    2.0          5.0       5.0   \n",
       "15            2.0         3.0                    3.0          2.0       3.0   \n",
       "18            4.0         2.0                    1.0          4.0       3.0   \n",
       "19            2.0         2.0                    3.0          1.0       3.0   \n",
       "26            5.0         4.0                    4.0          1.0       3.0   \n",
       "27            3.0         2.0                    3.0          1.0       4.0   \n",
       "28            3.0         4.0                    5.0          3.0       3.0   \n",
       "29            1.0         1.0                    1.0          1.0       1.0   \n",
       "31            2.0         3.0                    3.0          1.0       4.0   \n",
       "\n",
       "    Negócios  \n",
       "4        3.0  \n",
       "5        3.0  \n",
       "8        3.0  \n",
       "10       3.0  \n",
       "12       1.0  \n",
       "13       3.0  \n",
       "14       1.0  \n",
       "15       4.0  \n",
       "18       2.0  \n",
       "19       2.0  \n",
       "26       4.0  \n",
       "27       5.0  \n",
       "28       5.0  \n",
       "29       2.0  \n",
       "31       4.0  "
      ]
     },
     "execution_count": 20,
     "metadata": {},
     "output_type": "execute_result"
    }
   ],
   "source": [
    "# Filtra as colunas específicas do DataFrame 'df_ativos' que contêm informações sobre os nomes dos ativos e suas competências.\n",
    "df_ativos_competencias = df_ativos[['Nome', 'Cálculo', 'Álgebra linear', 'Estatística', 'Probabilidade', 'Computação', 'Matemática Financeira', 'Econometria', 'Economia', 'Negócios']]\n",
    "\n",
    "# Exibe o DataFrame resultante contendo apenas as colunas selecionadas.\n",
    "df_ativos_competencias"
   ]
  },
  {
   "cell_type": "code",
   "execution_count": 21,
   "metadata": {},
   "outputs": [],
   "source": [
    "def criar_grafico_barras(frequencias:pd.Series, title=\"\", x_axis_title=\"\", y_axis_title=\"\", media=False) -> go.Figure:\n",
    "    '''\n",
    "        Description:\n",
    "            Cria um gráfico de barras utilizando Plotly.\n",
    "        Args:\n",
    "            frequencias (pd.Series): Série contendo os valores do eixo X (índices) e suas respectivas frequências (valores).\n",
    "            valor_media (float): Valor da média que pode ser destacado no gráfico, caso `media=True`.\n",
    "            media (bool, opcional): Se True, adiciona uma anotação indicando a média no gráfico. Padrão é False.\n",
    "            title (str, opcional): Título do gráfico. Padrão é uma string vazia.\n",
    "            x_axis_title (str, opcional): Rótulo do eixo X. Padrão é uma string vazia.\n",
    "            y_axis_title (str, opcional): Rótulo do eixo Y. Padrão é uma string vazia.\n",
    "        Returns:\n",
    "            go.Figure: Objeto Figure contendo o gráfico de barras gerado.\n",
    "    '''\n",
    "    \n",
    "    # Cria um gráfico de barras com os dados fornecidos.\n",
    "    fig = go.Figure(\n",
    "        data=[\n",
    "            go.Bar(\n",
    "                x=frequencias.index,  # Define os valores do eixo X.\n",
    "                y=frequencias.values,  # Define as alturas das barras no eixo Y.\n",
    "                marker_color='royalblue'  # Define a cor das barras.\n",
    "            )\n",
    "        ]\n",
    "    )\n",
    "    \n",
    "    if media != False:\n",
    "        # Adiciona uma anotação para indicar a média no gráfico.\n",
    "        fig.add_annotation(\n",
    "            x=media,  # Posição da anotação no eixo X.\n",
    "            y=max(frequencias.values) * 0.9,  # Posição da anotação no eixo Y (próximo ao topo do gráfico).\n",
    "            text=f\"Média: {media:.2f}\",  # Texto exibido na anotação.\n",
    "            showarrow=True,  # Exibe uma seta apontando para a média.\n",
    "            arrowhead=2,  # Define o estilo da ponta da seta.\n",
    "            ax=0,  # Posição horizontal da seta.\n",
    "            ay=-40,  # Posição vertical da seta.\n",
    "            font=dict(size=14, color=\"red\"),  # Define o estilo da fonte do texto da anotação.\n",
    "            bgcolor=\"white\"  # Define o fundo da anotação.\n",
    "        )\n",
    "\n",
    "    # Configura o layout do gráfico.\n",
    "    fig.update_layout(\n",
    "        title={\n",
    "            \"text\": title, # Define o título do gráfico.\n",
    "            \"x\": 0.5,  # Centraliza o título.\n",
    "            \"xanchor\": \"center\"  # Garante a ancoragem do título ao centro.\n",
    "        },\n",
    "        xaxis_title=x_axis_title,  # Define o rótulo do eixo X.\n",
    "        yaxis_title=y_axis_title  # Define o rótulo do eixo Y.\n",
    "    )\n",
    "\n",
    "    return fig"
   ]
  },
  {
   "cell_type": "code",
   "execution_count": 22,
   "metadata": {},
   "outputs": [
    {
     "data": {
      "application/vnd.plotly.v1+json": {
       "config": {
        "plotlyServerURL": "https://plot.ly"
       },
       "data": [
        {
         "marker": {
          "color": "royalblue"
         },
         "type": "bar",
         "x": [
          1,
          2,
          3,
          4,
          5
         ],
         "y": [
          5,
          5,
          1,
          4,
          0
         ]
        }
       ],
       "layout": {
        "annotations": [
         {
          "arrowhead": 2,
          "ax": 0,
          "ay": -40,
          "bgcolor": "white",
          "font": {
           "color": "red",
           "size": 14
          },
          "showarrow": true,
          "text": "Média: 2.27",
          "x": 2.2666666666666666,
          "y": 4.5
         }
        ],
        "template": {
         "data": {
          "bar": [
           {
            "error_x": {
             "color": "#2a3f5f"
            },
            "error_y": {
             "color": "#2a3f5f"
            },
            "marker": {
             "line": {
              "color": "#E5ECF6",
              "width": 0.5
             },
             "pattern": {
              "fillmode": "overlay",
              "size": 10,
              "solidity": 0.2
             }
            },
            "type": "bar"
           }
          ],
          "barpolar": [
           {
            "marker": {
             "line": {
              "color": "#E5ECF6",
              "width": 0.5
             },
             "pattern": {
              "fillmode": "overlay",
              "size": 10,
              "solidity": 0.2
             }
            },
            "type": "barpolar"
           }
          ],
          "carpet": [
           {
            "aaxis": {
             "endlinecolor": "#2a3f5f",
             "gridcolor": "white",
             "linecolor": "white",
             "minorgridcolor": "white",
             "startlinecolor": "#2a3f5f"
            },
            "baxis": {
             "endlinecolor": "#2a3f5f",
             "gridcolor": "white",
             "linecolor": "white",
             "minorgridcolor": "white",
             "startlinecolor": "#2a3f5f"
            },
            "type": "carpet"
           }
          ],
          "choropleth": [
           {
            "colorbar": {
             "outlinewidth": 0,
             "ticks": ""
            },
            "type": "choropleth"
           }
          ],
          "contour": [
           {
            "colorbar": {
             "outlinewidth": 0,
             "ticks": ""
            },
            "colorscale": [
             [
              0,
              "#0d0887"
             ],
             [
              0.1111111111111111,
              "#46039f"
             ],
             [
              0.2222222222222222,
              "#7201a8"
             ],
             [
              0.3333333333333333,
              "#9c179e"
             ],
             [
              0.4444444444444444,
              "#bd3786"
             ],
             [
              0.5555555555555556,
              "#d8576b"
             ],
             [
              0.6666666666666666,
              "#ed7953"
             ],
             [
              0.7777777777777778,
              "#fb9f3a"
             ],
             [
              0.8888888888888888,
              "#fdca26"
             ],
             [
              1,
              "#f0f921"
             ]
            ],
            "type": "contour"
           }
          ],
          "contourcarpet": [
           {
            "colorbar": {
             "outlinewidth": 0,
             "ticks": ""
            },
            "type": "contourcarpet"
           }
          ],
          "heatmap": [
           {
            "colorbar": {
             "outlinewidth": 0,
             "ticks": ""
            },
            "colorscale": [
             [
              0,
              "#0d0887"
             ],
             [
              0.1111111111111111,
              "#46039f"
             ],
             [
              0.2222222222222222,
              "#7201a8"
             ],
             [
              0.3333333333333333,
              "#9c179e"
             ],
             [
              0.4444444444444444,
              "#bd3786"
             ],
             [
              0.5555555555555556,
              "#d8576b"
             ],
             [
              0.6666666666666666,
              "#ed7953"
             ],
             [
              0.7777777777777778,
              "#fb9f3a"
             ],
             [
              0.8888888888888888,
              "#fdca26"
             ],
             [
              1,
              "#f0f921"
             ]
            ],
            "type": "heatmap"
           }
          ],
          "heatmapgl": [
           {
            "colorbar": {
             "outlinewidth": 0,
             "ticks": ""
            },
            "colorscale": [
             [
              0,
              "#0d0887"
             ],
             [
              0.1111111111111111,
              "#46039f"
             ],
             [
              0.2222222222222222,
              "#7201a8"
             ],
             [
              0.3333333333333333,
              "#9c179e"
             ],
             [
              0.4444444444444444,
              "#bd3786"
             ],
             [
              0.5555555555555556,
              "#d8576b"
             ],
             [
              0.6666666666666666,
              "#ed7953"
             ],
             [
              0.7777777777777778,
              "#fb9f3a"
             ],
             [
              0.8888888888888888,
              "#fdca26"
             ],
             [
              1,
              "#f0f921"
             ]
            ],
            "type": "heatmapgl"
           }
          ],
          "histogram": [
           {
            "marker": {
             "pattern": {
              "fillmode": "overlay",
              "size": 10,
              "solidity": 0.2
             }
            },
            "type": "histogram"
           }
          ],
          "histogram2d": [
           {
            "colorbar": {
             "outlinewidth": 0,
             "ticks": ""
            },
            "colorscale": [
             [
              0,
              "#0d0887"
             ],
             [
              0.1111111111111111,
              "#46039f"
             ],
             [
              0.2222222222222222,
              "#7201a8"
             ],
             [
              0.3333333333333333,
              "#9c179e"
             ],
             [
              0.4444444444444444,
              "#bd3786"
             ],
             [
              0.5555555555555556,
              "#d8576b"
             ],
             [
              0.6666666666666666,
              "#ed7953"
             ],
             [
              0.7777777777777778,
              "#fb9f3a"
             ],
             [
              0.8888888888888888,
              "#fdca26"
             ],
             [
              1,
              "#f0f921"
             ]
            ],
            "type": "histogram2d"
           }
          ],
          "histogram2dcontour": [
           {
            "colorbar": {
             "outlinewidth": 0,
             "ticks": ""
            },
            "colorscale": [
             [
              0,
              "#0d0887"
             ],
             [
              0.1111111111111111,
              "#46039f"
             ],
             [
              0.2222222222222222,
              "#7201a8"
             ],
             [
              0.3333333333333333,
              "#9c179e"
             ],
             [
              0.4444444444444444,
              "#bd3786"
             ],
             [
              0.5555555555555556,
              "#d8576b"
             ],
             [
              0.6666666666666666,
              "#ed7953"
             ],
             [
              0.7777777777777778,
              "#fb9f3a"
             ],
             [
              0.8888888888888888,
              "#fdca26"
             ],
             [
              1,
              "#f0f921"
             ]
            ],
            "type": "histogram2dcontour"
           }
          ],
          "mesh3d": [
           {
            "colorbar": {
             "outlinewidth": 0,
             "ticks": ""
            },
            "type": "mesh3d"
           }
          ],
          "parcoords": [
           {
            "line": {
             "colorbar": {
              "outlinewidth": 0,
              "ticks": ""
             }
            },
            "type": "parcoords"
           }
          ],
          "pie": [
           {
            "automargin": true,
            "type": "pie"
           }
          ],
          "scatter": [
           {
            "fillpattern": {
             "fillmode": "overlay",
             "size": 10,
             "solidity": 0.2
            },
            "type": "scatter"
           }
          ],
          "scatter3d": [
           {
            "line": {
             "colorbar": {
              "outlinewidth": 0,
              "ticks": ""
             }
            },
            "marker": {
             "colorbar": {
              "outlinewidth": 0,
              "ticks": ""
             }
            },
            "type": "scatter3d"
           }
          ],
          "scattercarpet": [
           {
            "marker": {
             "colorbar": {
              "outlinewidth": 0,
              "ticks": ""
             }
            },
            "type": "scattercarpet"
           }
          ],
          "scattergeo": [
           {
            "marker": {
             "colorbar": {
              "outlinewidth": 0,
              "ticks": ""
             }
            },
            "type": "scattergeo"
           }
          ],
          "scattergl": [
           {
            "marker": {
             "colorbar": {
              "outlinewidth": 0,
              "ticks": ""
             }
            },
            "type": "scattergl"
           }
          ],
          "scattermapbox": [
           {
            "marker": {
             "colorbar": {
              "outlinewidth": 0,
              "ticks": ""
             }
            },
            "type": "scattermapbox"
           }
          ],
          "scatterpolar": [
           {
            "marker": {
             "colorbar": {
              "outlinewidth": 0,
              "ticks": ""
             }
            },
            "type": "scatterpolar"
           }
          ],
          "scatterpolargl": [
           {
            "marker": {
             "colorbar": {
              "outlinewidth": 0,
              "ticks": ""
             }
            },
            "type": "scatterpolargl"
           }
          ],
          "scatterternary": [
           {
            "marker": {
             "colorbar": {
              "outlinewidth": 0,
              "ticks": ""
             }
            },
            "type": "scatterternary"
           }
          ],
          "surface": [
           {
            "colorbar": {
             "outlinewidth": 0,
             "ticks": ""
            },
            "colorscale": [
             [
              0,
              "#0d0887"
             ],
             [
              0.1111111111111111,
              "#46039f"
             ],
             [
              0.2222222222222222,
              "#7201a8"
             ],
             [
              0.3333333333333333,
              "#9c179e"
             ],
             [
              0.4444444444444444,
              "#bd3786"
             ],
             [
              0.5555555555555556,
              "#d8576b"
             ],
             [
              0.6666666666666666,
              "#ed7953"
             ],
             [
              0.7777777777777778,
              "#fb9f3a"
             ],
             [
              0.8888888888888888,
              "#fdca26"
             ],
             [
              1,
              "#f0f921"
             ]
            ],
            "type": "surface"
           }
          ],
          "table": [
           {
            "cells": {
             "fill": {
              "color": "#EBF0F8"
             },
             "line": {
              "color": "white"
             }
            },
            "header": {
             "fill": {
              "color": "#C8D4E3"
             },
             "line": {
              "color": "white"
             }
            },
            "type": "table"
           }
          ]
         },
         "layout": {
          "annotationdefaults": {
           "arrowcolor": "#2a3f5f",
           "arrowhead": 0,
           "arrowwidth": 1
          },
          "autotypenumbers": "strict",
          "coloraxis": {
           "colorbar": {
            "outlinewidth": 0,
            "ticks": ""
           }
          },
          "colorscale": {
           "diverging": [
            [
             0,
             "#8e0152"
            ],
            [
             0.1,
             "#c51b7d"
            ],
            [
             0.2,
             "#de77ae"
            ],
            [
             0.3,
             "#f1b6da"
            ],
            [
             0.4,
             "#fde0ef"
            ],
            [
             0.5,
             "#f7f7f7"
            ],
            [
             0.6,
             "#e6f5d0"
            ],
            [
             0.7,
             "#b8e186"
            ],
            [
             0.8,
             "#7fbc41"
            ],
            [
             0.9,
             "#4d9221"
            ],
            [
             1,
             "#276419"
            ]
           ],
           "sequential": [
            [
             0,
             "#0d0887"
            ],
            [
             0.1111111111111111,
             "#46039f"
            ],
            [
             0.2222222222222222,
             "#7201a8"
            ],
            [
             0.3333333333333333,
             "#9c179e"
            ],
            [
             0.4444444444444444,
             "#bd3786"
            ],
            [
             0.5555555555555556,
             "#d8576b"
            ],
            [
             0.6666666666666666,
             "#ed7953"
            ],
            [
             0.7777777777777778,
             "#fb9f3a"
            ],
            [
             0.8888888888888888,
             "#fdca26"
            ],
            [
             1,
             "#f0f921"
            ]
           ],
           "sequentialminus": [
            [
             0,
             "#0d0887"
            ],
            [
             0.1111111111111111,
             "#46039f"
            ],
            [
             0.2222222222222222,
             "#7201a8"
            ],
            [
             0.3333333333333333,
             "#9c179e"
            ],
            [
             0.4444444444444444,
             "#bd3786"
            ],
            [
             0.5555555555555556,
             "#d8576b"
            ],
            [
             0.6666666666666666,
             "#ed7953"
            ],
            [
             0.7777777777777778,
             "#fb9f3a"
            ],
            [
             0.8888888888888888,
             "#fdca26"
            ],
            [
             1,
             "#f0f921"
            ]
           ]
          },
          "colorway": [
           "#636efa",
           "#EF553B",
           "#00cc96",
           "#ab63fa",
           "#FFA15A",
           "#19d3f3",
           "#FF6692",
           "#B6E880",
           "#FF97FF",
           "#FECB52"
          ],
          "font": {
           "color": "#2a3f5f"
          },
          "geo": {
           "bgcolor": "white",
           "lakecolor": "white",
           "landcolor": "#E5ECF6",
           "showlakes": true,
           "showland": true,
           "subunitcolor": "white"
          },
          "hoverlabel": {
           "align": "left"
          },
          "hovermode": "closest",
          "mapbox": {
           "style": "light"
          },
          "paper_bgcolor": "white",
          "plot_bgcolor": "#E5ECF6",
          "polar": {
           "angularaxis": {
            "gridcolor": "white",
            "linecolor": "white",
            "ticks": ""
           },
           "bgcolor": "#E5ECF6",
           "radialaxis": {
            "gridcolor": "white",
            "linecolor": "white",
            "ticks": ""
           }
          },
          "scene": {
           "xaxis": {
            "backgroundcolor": "#E5ECF6",
            "gridcolor": "white",
            "gridwidth": 2,
            "linecolor": "white",
            "showbackground": true,
            "ticks": "",
            "zerolinecolor": "white"
           },
           "yaxis": {
            "backgroundcolor": "#E5ECF6",
            "gridcolor": "white",
            "gridwidth": 2,
            "linecolor": "white",
            "showbackground": true,
            "ticks": "",
            "zerolinecolor": "white"
           },
           "zaxis": {
            "backgroundcolor": "#E5ECF6",
            "gridcolor": "white",
            "gridwidth": 2,
            "linecolor": "white",
            "showbackground": true,
            "ticks": "",
            "zerolinecolor": "white"
           }
          },
          "shapedefaults": {
           "line": {
            "color": "#2a3f5f"
           }
          },
          "ternary": {
           "aaxis": {
            "gridcolor": "white",
            "linecolor": "white",
            "ticks": ""
           },
           "baxis": {
            "gridcolor": "white",
            "linecolor": "white",
            "ticks": ""
           },
           "bgcolor": "#E5ECF6",
           "caxis": {
            "gridcolor": "white",
            "linecolor": "white",
            "ticks": ""
           }
          },
          "title": {
           "x": 0.05
          },
          "xaxis": {
           "automargin": true,
           "gridcolor": "white",
           "linecolor": "white",
           "ticks": "",
           "title": {
            "standoff": 15
           },
           "zerolinecolor": "white",
           "zerolinewidth": 2
          },
          "yaxis": {
           "automargin": true,
           "gridcolor": "white",
           "linecolor": "white",
           "ticks": "",
           "title": {
            "standoff": 15
           },
           "zerolinecolor": "white",
           "zerolinewidth": 2
          }
         }
        },
        "title": {
         "text": "Cálculo",
         "x": 0.5,
         "xanchor": "center"
        },
        "xaxis": {
         "title": {
          "text": "Interesse"
         }
        },
        "yaxis": {
         "title": {
          "text": "Frequência"
         }
        }
       }
      }
     },
     "metadata": {},
     "output_type": "display_data"
    },
    {
     "data": {
      "application/vnd.plotly.v1+json": {
       "config": {
        "plotlyServerURL": "https://plot.ly"
       },
       "data": [
        {
         "marker": {
          "color": "royalblue"
         },
         "type": "bar",
         "x": [
          1,
          2,
          3,
          4,
          5
         ],
         "y": [
          12,
          2,
          0,
          1,
          0
         ]
        }
       ],
       "layout": {
        "annotations": [
         {
          "arrowhead": 2,
          "ax": 0,
          "ay": -40,
          "bgcolor": "white",
          "font": {
           "color": "red",
           "size": 14
          },
          "showarrow": true,
          "text": "Média: 1.33",
          "x": 1.3333333333333333,
          "y": 10.8
         }
        ],
        "template": {
         "data": {
          "bar": [
           {
            "error_x": {
             "color": "#2a3f5f"
            },
            "error_y": {
             "color": "#2a3f5f"
            },
            "marker": {
             "line": {
              "color": "#E5ECF6",
              "width": 0.5
             },
             "pattern": {
              "fillmode": "overlay",
              "size": 10,
              "solidity": 0.2
             }
            },
            "type": "bar"
           }
          ],
          "barpolar": [
           {
            "marker": {
             "line": {
              "color": "#E5ECF6",
              "width": 0.5
             },
             "pattern": {
              "fillmode": "overlay",
              "size": 10,
              "solidity": 0.2
             }
            },
            "type": "barpolar"
           }
          ],
          "carpet": [
           {
            "aaxis": {
             "endlinecolor": "#2a3f5f",
             "gridcolor": "white",
             "linecolor": "white",
             "minorgridcolor": "white",
             "startlinecolor": "#2a3f5f"
            },
            "baxis": {
             "endlinecolor": "#2a3f5f",
             "gridcolor": "white",
             "linecolor": "white",
             "minorgridcolor": "white",
             "startlinecolor": "#2a3f5f"
            },
            "type": "carpet"
           }
          ],
          "choropleth": [
           {
            "colorbar": {
             "outlinewidth": 0,
             "ticks": ""
            },
            "type": "choropleth"
           }
          ],
          "contour": [
           {
            "colorbar": {
             "outlinewidth": 0,
             "ticks": ""
            },
            "colorscale": [
             [
              0,
              "#0d0887"
             ],
             [
              0.1111111111111111,
              "#46039f"
             ],
             [
              0.2222222222222222,
              "#7201a8"
             ],
             [
              0.3333333333333333,
              "#9c179e"
             ],
             [
              0.4444444444444444,
              "#bd3786"
             ],
             [
              0.5555555555555556,
              "#d8576b"
             ],
             [
              0.6666666666666666,
              "#ed7953"
             ],
             [
              0.7777777777777778,
              "#fb9f3a"
             ],
             [
              0.8888888888888888,
              "#fdca26"
             ],
             [
              1,
              "#f0f921"
             ]
            ],
            "type": "contour"
           }
          ],
          "contourcarpet": [
           {
            "colorbar": {
             "outlinewidth": 0,
             "ticks": ""
            },
            "type": "contourcarpet"
           }
          ],
          "heatmap": [
           {
            "colorbar": {
             "outlinewidth": 0,
             "ticks": ""
            },
            "colorscale": [
             [
              0,
              "#0d0887"
             ],
             [
              0.1111111111111111,
              "#46039f"
             ],
             [
              0.2222222222222222,
              "#7201a8"
             ],
             [
              0.3333333333333333,
              "#9c179e"
             ],
             [
              0.4444444444444444,
              "#bd3786"
             ],
             [
              0.5555555555555556,
              "#d8576b"
             ],
             [
              0.6666666666666666,
              "#ed7953"
             ],
             [
              0.7777777777777778,
              "#fb9f3a"
             ],
             [
              0.8888888888888888,
              "#fdca26"
             ],
             [
              1,
              "#f0f921"
             ]
            ],
            "type": "heatmap"
           }
          ],
          "heatmapgl": [
           {
            "colorbar": {
             "outlinewidth": 0,
             "ticks": ""
            },
            "colorscale": [
             [
              0,
              "#0d0887"
             ],
             [
              0.1111111111111111,
              "#46039f"
             ],
             [
              0.2222222222222222,
              "#7201a8"
             ],
             [
              0.3333333333333333,
              "#9c179e"
             ],
             [
              0.4444444444444444,
              "#bd3786"
             ],
             [
              0.5555555555555556,
              "#d8576b"
             ],
             [
              0.6666666666666666,
              "#ed7953"
             ],
             [
              0.7777777777777778,
              "#fb9f3a"
             ],
             [
              0.8888888888888888,
              "#fdca26"
             ],
             [
              1,
              "#f0f921"
             ]
            ],
            "type": "heatmapgl"
           }
          ],
          "histogram": [
           {
            "marker": {
             "pattern": {
              "fillmode": "overlay",
              "size": 10,
              "solidity": 0.2
             }
            },
            "type": "histogram"
           }
          ],
          "histogram2d": [
           {
            "colorbar": {
             "outlinewidth": 0,
             "ticks": ""
            },
            "colorscale": [
             [
              0,
              "#0d0887"
             ],
             [
              0.1111111111111111,
              "#46039f"
             ],
             [
              0.2222222222222222,
              "#7201a8"
             ],
             [
              0.3333333333333333,
              "#9c179e"
             ],
             [
              0.4444444444444444,
              "#bd3786"
             ],
             [
              0.5555555555555556,
              "#d8576b"
             ],
             [
              0.6666666666666666,
              "#ed7953"
             ],
             [
              0.7777777777777778,
              "#fb9f3a"
             ],
             [
              0.8888888888888888,
              "#fdca26"
             ],
             [
              1,
              "#f0f921"
             ]
            ],
            "type": "histogram2d"
           }
          ],
          "histogram2dcontour": [
           {
            "colorbar": {
             "outlinewidth": 0,
             "ticks": ""
            },
            "colorscale": [
             [
              0,
              "#0d0887"
             ],
             [
              0.1111111111111111,
              "#46039f"
             ],
             [
              0.2222222222222222,
              "#7201a8"
             ],
             [
              0.3333333333333333,
              "#9c179e"
             ],
             [
              0.4444444444444444,
              "#bd3786"
             ],
             [
              0.5555555555555556,
              "#d8576b"
             ],
             [
              0.6666666666666666,
              "#ed7953"
             ],
             [
              0.7777777777777778,
              "#fb9f3a"
             ],
             [
              0.8888888888888888,
              "#fdca26"
             ],
             [
              1,
              "#f0f921"
             ]
            ],
            "type": "histogram2dcontour"
           }
          ],
          "mesh3d": [
           {
            "colorbar": {
             "outlinewidth": 0,
             "ticks": ""
            },
            "type": "mesh3d"
           }
          ],
          "parcoords": [
           {
            "line": {
             "colorbar": {
              "outlinewidth": 0,
              "ticks": ""
             }
            },
            "type": "parcoords"
           }
          ],
          "pie": [
           {
            "automargin": true,
            "type": "pie"
           }
          ],
          "scatter": [
           {
            "fillpattern": {
             "fillmode": "overlay",
             "size": 10,
             "solidity": 0.2
            },
            "type": "scatter"
           }
          ],
          "scatter3d": [
           {
            "line": {
             "colorbar": {
              "outlinewidth": 0,
              "ticks": ""
             }
            },
            "marker": {
             "colorbar": {
              "outlinewidth": 0,
              "ticks": ""
             }
            },
            "type": "scatter3d"
           }
          ],
          "scattercarpet": [
           {
            "marker": {
             "colorbar": {
              "outlinewidth": 0,
              "ticks": ""
             }
            },
            "type": "scattercarpet"
           }
          ],
          "scattergeo": [
           {
            "marker": {
             "colorbar": {
              "outlinewidth": 0,
              "ticks": ""
             }
            },
            "type": "scattergeo"
           }
          ],
          "scattergl": [
           {
            "marker": {
             "colorbar": {
              "outlinewidth": 0,
              "ticks": ""
             }
            },
            "type": "scattergl"
           }
          ],
          "scattermapbox": [
           {
            "marker": {
             "colorbar": {
              "outlinewidth": 0,
              "ticks": ""
             }
            },
            "type": "scattermapbox"
           }
          ],
          "scatterpolar": [
           {
            "marker": {
             "colorbar": {
              "outlinewidth": 0,
              "ticks": ""
             }
            },
            "type": "scatterpolar"
           }
          ],
          "scatterpolargl": [
           {
            "marker": {
             "colorbar": {
              "outlinewidth": 0,
              "ticks": ""
             }
            },
            "type": "scatterpolargl"
           }
          ],
          "scatterternary": [
           {
            "marker": {
             "colorbar": {
              "outlinewidth": 0,
              "ticks": ""
             }
            },
            "type": "scatterternary"
           }
          ],
          "surface": [
           {
            "colorbar": {
             "outlinewidth": 0,
             "ticks": ""
            },
            "colorscale": [
             [
              0,
              "#0d0887"
             ],
             [
              0.1111111111111111,
              "#46039f"
             ],
             [
              0.2222222222222222,
              "#7201a8"
             ],
             [
              0.3333333333333333,
              "#9c179e"
             ],
             [
              0.4444444444444444,
              "#bd3786"
             ],
             [
              0.5555555555555556,
              "#d8576b"
             ],
             [
              0.6666666666666666,
              "#ed7953"
             ],
             [
              0.7777777777777778,
              "#fb9f3a"
             ],
             [
              0.8888888888888888,
              "#fdca26"
             ],
             [
              1,
              "#f0f921"
             ]
            ],
            "type": "surface"
           }
          ],
          "table": [
           {
            "cells": {
             "fill": {
              "color": "#EBF0F8"
             },
             "line": {
              "color": "white"
             }
            },
            "header": {
             "fill": {
              "color": "#C8D4E3"
             },
             "line": {
              "color": "white"
             }
            },
            "type": "table"
           }
          ]
         },
         "layout": {
          "annotationdefaults": {
           "arrowcolor": "#2a3f5f",
           "arrowhead": 0,
           "arrowwidth": 1
          },
          "autotypenumbers": "strict",
          "coloraxis": {
           "colorbar": {
            "outlinewidth": 0,
            "ticks": ""
           }
          },
          "colorscale": {
           "diverging": [
            [
             0,
             "#8e0152"
            ],
            [
             0.1,
             "#c51b7d"
            ],
            [
             0.2,
             "#de77ae"
            ],
            [
             0.3,
             "#f1b6da"
            ],
            [
             0.4,
             "#fde0ef"
            ],
            [
             0.5,
             "#f7f7f7"
            ],
            [
             0.6,
             "#e6f5d0"
            ],
            [
             0.7,
             "#b8e186"
            ],
            [
             0.8,
             "#7fbc41"
            ],
            [
             0.9,
             "#4d9221"
            ],
            [
             1,
             "#276419"
            ]
           ],
           "sequential": [
            [
             0,
             "#0d0887"
            ],
            [
             0.1111111111111111,
             "#46039f"
            ],
            [
             0.2222222222222222,
             "#7201a8"
            ],
            [
             0.3333333333333333,
             "#9c179e"
            ],
            [
             0.4444444444444444,
             "#bd3786"
            ],
            [
             0.5555555555555556,
             "#d8576b"
            ],
            [
             0.6666666666666666,
             "#ed7953"
            ],
            [
             0.7777777777777778,
             "#fb9f3a"
            ],
            [
             0.8888888888888888,
             "#fdca26"
            ],
            [
             1,
             "#f0f921"
            ]
           ],
           "sequentialminus": [
            [
             0,
             "#0d0887"
            ],
            [
             0.1111111111111111,
             "#46039f"
            ],
            [
             0.2222222222222222,
             "#7201a8"
            ],
            [
             0.3333333333333333,
             "#9c179e"
            ],
            [
             0.4444444444444444,
             "#bd3786"
            ],
            [
             0.5555555555555556,
             "#d8576b"
            ],
            [
             0.6666666666666666,
             "#ed7953"
            ],
            [
             0.7777777777777778,
             "#fb9f3a"
            ],
            [
             0.8888888888888888,
             "#fdca26"
            ],
            [
             1,
             "#f0f921"
            ]
           ]
          },
          "colorway": [
           "#636efa",
           "#EF553B",
           "#00cc96",
           "#ab63fa",
           "#FFA15A",
           "#19d3f3",
           "#FF6692",
           "#B6E880",
           "#FF97FF",
           "#FECB52"
          ],
          "font": {
           "color": "#2a3f5f"
          },
          "geo": {
           "bgcolor": "white",
           "lakecolor": "white",
           "landcolor": "#E5ECF6",
           "showlakes": true,
           "showland": true,
           "subunitcolor": "white"
          },
          "hoverlabel": {
           "align": "left"
          },
          "hovermode": "closest",
          "mapbox": {
           "style": "light"
          },
          "paper_bgcolor": "white",
          "plot_bgcolor": "#E5ECF6",
          "polar": {
           "angularaxis": {
            "gridcolor": "white",
            "linecolor": "white",
            "ticks": ""
           },
           "bgcolor": "#E5ECF6",
           "radialaxis": {
            "gridcolor": "white",
            "linecolor": "white",
            "ticks": ""
           }
          },
          "scene": {
           "xaxis": {
            "backgroundcolor": "#E5ECF6",
            "gridcolor": "white",
            "gridwidth": 2,
            "linecolor": "white",
            "showbackground": true,
            "ticks": "",
            "zerolinecolor": "white"
           },
           "yaxis": {
            "backgroundcolor": "#E5ECF6",
            "gridcolor": "white",
            "gridwidth": 2,
            "linecolor": "white",
            "showbackground": true,
            "ticks": "",
            "zerolinecolor": "white"
           },
           "zaxis": {
            "backgroundcolor": "#E5ECF6",
            "gridcolor": "white",
            "gridwidth": 2,
            "linecolor": "white",
            "showbackground": true,
            "ticks": "",
            "zerolinecolor": "white"
           }
          },
          "shapedefaults": {
           "line": {
            "color": "#2a3f5f"
           }
          },
          "ternary": {
           "aaxis": {
            "gridcolor": "white",
            "linecolor": "white",
            "ticks": ""
           },
           "baxis": {
            "gridcolor": "white",
            "linecolor": "white",
            "ticks": ""
           },
           "bgcolor": "#E5ECF6",
           "caxis": {
            "gridcolor": "white",
            "linecolor": "white",
            "ticks": ""
           }
          },
          "title": {
           "x": 0.05
          },
          "xaxis": {
           "automargin": true,
           "gridcolor": "white",
           "linecolor": "white",
           "ticks": "",
           "title": {
            "standoff": 15
           },
           "zerolinecolor": "white",
           "zerolinewidth": 2
          },
          "yaxis": {
           "automargin": true,
           "gridcolor": "white",
           "linecolor": "white",
           "ticks": "",
           "title": {
            "standoff": 15
           },
           "zerolinecolor": "white",
           "zerolinewidth": 2
          }
         }
        },
        "title": {
         "text": "Álgebra linear",
         "x": 0.5,
         "xanchor": "center"
        },
        "xaxis": {
         "title": {
          "text": "Interesse"
         }
        },
        "yaxis": {
         "title": {
          "text": "Frequência"
         }
        }
       }
      }
     },
     "metadata": {},
     "output_type": "display_data"
    },
    {
     "data": {
      "application/vnd.plotly.v1+json": {
       "config": {
        "plotlyServerURL": "https://plot.ly"
       },
       "data": [
        {
         "marker": {
          "color": "royalblue"
         },
         "type": "bar",
         "x": [
          1,
          2,
          3,
          4,
          5
         ],
         "y": [
          3,
          3,
          5,
          4,
          0
         ]
        }
       ],
       "layout": {
        "annotations": [
         {
          "arrowhead": 2,
          "ax": 0,
          "ay": -40,
          "bgcolor": "white",
          "font": {
           "color": "red",
           "size": 14
          },
          "showarrow": true,
          "text": "Média: 2.67",
          "x": 2.6666666666666665,
          "y": 4.5
         }
        ],
        "template": {
         "data": {
          "bar": [
           {
            "error_x": {
             "color": "#2a3f5f"
            },
            "error_y": {
             "color": "#2a3f5f"
            },
            "marker": {
             "line": {
              "color": "#E5ECF6",
              "width": 0.5
             },
             "pattern": {
              "fillmode": "overlay",
              "size": 10,
              "solidity": 0.2
             }
            },
            "type": "bar"
           }
          ],
          "barpolar": [
           {
            "marker": {
             "line": {
              "color": "#E5ECF6",
              "width": 0.5
             },
             "pattern": {
              "fillmode": "overlay",
              "size": 10,
              "solidity": 0.2
             }
            },
            "type": "barpolar"
           }
          ],
          "carpet": [
           {
            "aaxis": {
             "endlinecolor": "#2a3f5f",
             "gridcolor": "white",
             "linecolor": "white",
             "minorgridcolor": "white",
             "startlinecolor": "#2a3f5f"
            },
            "baxis": {
             "endlinecolor": "#2a3f5f",
             "gridcolor": "white",
             "linecolor": "white",
             "minorgridcolor": "white",
             "startlinecolor": "#2a3f5f"
            },
            "type": "carpet"
           }
          ],
          "choropleth": [
           {
            "colorbar": {
             "outlinewidth": 0,
             "ticks": ""
            },
            "type": "choropleth"
           }
          ],
          "contour": [
           {
            "colorbar": {
             "outlinewidth": 0,
             "ticks": ""
            },
            "colorscale": [
             [
              0,
              "#0d0887"
             ],
             [
              0.1111111111111111,
              "#46039f"
             ],
             [
              0.2222222222222222,
              "#7201a8"
             ],
             [
              0.3333333333333333,
              "#9c179e"
             ],
             [
              0.4444444444444444,
              "#bd3786"
             ],
             [
              0.5555555555555556,
              "#d8576b"
             ],
             [
              0.6666666666666666,
              "#ed7953"
             ],
             [
              0.7777777777777778,
              "#fb9f3a"
             ],
             [
              0.8888888888888888,
              "#fdca26"
             ],
             [
              1,
              "#f0f921"
             ]
            ],
            "type": "contour"
           }
          ],
          "contourcarpet": [
           {
            "colorbar": {
             "outlinewidth": 0,
             "ticks": ""
            },
            "type": "contourcarpet"
           }
          ],
          "heatmap": [
           {
            "colorbar": {
             "outlinewidth": 0,
             "ticks": ""
            },
            "colorscale": [
             [
              0,
              "#0d0887"
             ],
             [
              0.1111111111111111,
              "#46039f"
             ],
             [
              0.2222222222222222,
              "#7201a8"
             ],
             [
              0.3333333333333333,
              "#9c179e"
             ],
             [
              0.4444444444444444,
              "#bd3786"
             ],
             [
              0.5555555555555556,
              "#d8576b"
             ],
             [
              0.6666666666666666,
              "#ed7953"
             ],
             [
              0.7777777777777778,
              "#fb9f3a"
             ],
             [
              0.8888888888888888,
              "#fdca26"
             ],
             [
              1,
              "#f0f921"
             ]
            ],
            "type": "heatmap"
           }
          ],
          "heatmapgl": [
           {
            "colorbar": {
             "outlinewidth": 0,
             "ticks": ""
            },
            "colorscale": [
             [
              0,
              "#0d0887"
             ],
             [
              0.1111111111111111,
              "#46039f"
             ],
             [
              0.2222222222222222,
              "#7201a8"
             ],
             [
              0.3333333333333333,
              "#9c179e"
             ],
             [
              0.4444444444444444,
              "#bd3786"
             ],
             [
              0.5555555555555556,
              "#d8576b"
             ],
             [
              0.6666666666666666,
              "#ed7953"
             ],
             [
              0.7777777777777778,
              "#fb9f3a"
             ],
             [
              0.8888888888888888,
              "#fdca26"
             ],
             [
              1,
              "#f0f921"
             ]
            ],
            "type": "heatmapgl"
           }
          ],
          "histogram": [
           {
            "marker": {
             "pattern": {
              "fillmode": "overlay",
              "size": 10,
              "solidity": 0.2
             }
            },
            "type": "histogram"
           }
          ],
          "histogram2d": [
           {
            "colorbar": {
             "outlinewidth": 0,
             "ticks": ""
            },
            "colorscale": [
             [
              0,
              "#0d0887"
             ],
             [
              0.1111111111111111,
              "#46039f"
             ],
             [
              0.2222222222222222,
              "#7201a8"
             ],
             [
              0.3333333333333333,
              "#9c179e"
             ],
             [
              0.4444444444444444,
              "#bd3786"
             ],
             [
              0.5555555555555556,
              "#d8576b"
             ],
             [
              0.6666666666666666,
              "#ed7953"
             ],
             [
              0.7777777777777778,
              "#fb9f3a"
             ],
             [
              0.8888888888888888,
              "#fdca26"
             ],
             [
              1,
              "#f0f921"
             ]
            ],
            "type": "histogram2d"
           }
          ],
          "histogram2dcontour": [
           {
            "colorbar": {
             "outlinewidth": 0,
             "ticks": ""
            },
            "colorscale": [
             [
              0,
              "#0d0887"
             ],
             [
              0.1111111111111111,
              "#46039f"
             ],
             [
              0.2222222222222222,
              "#7201a8"
             ],
             [
              0.3333333333333333,
              "#9c179e"
             ],
             [
              0.4444444444444444,
              "#bd3786"
             ],
             [
              0.5555555555555556,
              "#d8576b"
             ],
             [
              0.6666666666666666,
              "#ed7953"
             ],
             [
              0.7777777777777778,
              "#fb9f3a"
             ],
             [
              0.8888888888888888,
              "#fdca26"
             ],
             [
              1,
              "#f0f921"
             ]
            ],
            "type": "histogram2dcontour"
           }
          ],
          "mesh3d": [
           {
            "colorbar": {
             "outlinewidth": 0,
             "ticks": ""
            },
            "type": "mesh3d"
           }
          ],
          "parcoords": [
           {
            "line": {
             "colorbar": {
              "outlinewidth": 0,
              "ticks": ""
             }
            },
            "type": "parcoords"
           }
          ],
          "pie": [
           {
            "automargin": true,
            "type": "pie"
           }
          ],
          "scatter": [
           {
            "fillpattern": {
             "fillmode": "overlay",
             "size": 10,
             "solidity": 0.2
            },
            "type": "scatter"
           }
          ],
          "scatter3d": [
           {
            "line": {
             "colorbar": {
              "outlinewidth": 0,
              "ticks": ""
             }
            },
            "marker": {
             "colorbar": {
              "outlinewidth": 0,
              "ticks": ""
             }
            },
            "type": "scatter3d"
           }
          ],
          "scattercarpet": [
           {
            "marker": {
             "colorbar": {
              "outlinewidth": 0,
              "ticks": ""
             }
            },
            "type": "scattercarpet"
           }
          ],
          "scattergeo": [
           {
            "marker": {
             "colorbar": {
              "outlinewidth": 0,
              "ticks": ""
             }
            },
            "type": "scattergeo"
           }
          ],
          "scattergl": [
           {
            "marker": {
             "colorbar": {
              "outlinewidth": 0,
              "ticks": ""
             }
            },
            "type": "scattergl"
           }
          ],
          "scattermapbox": [
           {
            "marker": {
             "colorbar": {
              "outlinewidth": 0,
              "ticks": ""
             }
            },
            "type": "scattermapbox"
           }
          ],
          "scatterpolar": [
           {
            "marker": {
             "colorbar": {
              "outlinewidth": 0,
              "ticks": ""
             }
            },
            "type": "scatterpolar"
           }
          ],
          "scatterpolargl": [
           {
            "marker": {
             "colorbar": {
              "outlinewidth": 0,
              "ticks": ""
             }
            },
            "type": "scatterpolargl"
           }
          ],
          "scatterternary": [
           {
            "marker": {
             "colorbar": {
              "outlinewidth": 0,
              "ticks": ""
             }
            },
            "type": "scatterternary"
           }
          ],
          "surface": [
           {
            "colorbar": {
             "outlinewidth": 0,
             "ticks": ""
            },
            "colorscale": [
             [
              0,
              "#0d0887"
             ],
             [
              0.1111111111111111,
              "#46039f"
             ],
             [
              0.2222222222222222,
              "#7201a8"
             ],
             [
              0.3333333333333333,
              "#9c179e"
             ],
             [
              0.4444444444444444,
              "#bd3786"
             ],
             [
              0.5555555555555556,
              "#d8576b"
             ],
             [
              0.6666666666666666,
              "#ed7953"
             ],
             [
              0.7777777777777778,
              "#fb9f3a"
             ],
             [
              0.8888888888888888,
              "#fdca26"
             ],
             [
              1,
              "#f0f921"
             ]
            ],
            "type": "surface"
           }
          ],
          "table": [
           {
            "cells": {
             "fill": {
              "color": "#EBF0F8"
             },
             "line": {
              "color": "white"
             }
            },
            "header": {
             "fill": {
              "color": "#C8D4E3"
             },
             "line": {
              "color": "white"
             }
            },
            "type": "table"
           }
          ]
         },
         "layout": {
          "annotationdefaults": {
           "arrowcolor": "#2a3f5f",
           "arrowhead": 0,
           "arrowwidth": 1
          },
          "autotypenumbers": "strict",
          "coloraxis": {
           "colorbar": {
            "outlinewidth": 0,
            "ticks": ""
           }
          },
          "colorscale": {
           "diverging": [
            [
             0,
             "#8e0152"
            ],
            [
             0.1,
             "#c51b7d"
            ],
            [
             0.2,
             "#de77ae"
            ],
            [
             0.3,
             "#f1b6da"
            ],
            [
             0.4,
             "#fde0ef"
            ],
            [
             0.5,
             "#f7f7f7"
            ],
            [
             0.6,
             "#e6f5d0"
            ],
            [
             0.7,
             "#b8e186"
            ],
            [
             0.8,
             "#7fbc41"
            ],
            [
             0.9,
             "#4d9221"
            ],
            [
             1,
             "#276419"
            ]
           ],
           "sequential": [
            [
             0,
             "#0d0887"
            ],
            [
             0.1111111111111111,
             "#46039f"
            ],
            [
             0.2222222222222222,
             "#7201a8"
            ],
            [
             0.3333333333333333,
             "#9c179e"
            ],
            [
             0.4444444444444444,
             "#bd3786"
            ],
            [
             0.5555555555555556,
             "#d8576b"
            ],
            [
             0.6666666666666666,
             "#ed7953"
            ],
            [
             0.7777777777777778,
             "#fb9f3a"
            ],
            [
             0.8888888888888888,
             "#fdca26"
            ],
            [
             1,
             "#f0f921"
            ]
           ],
           "sequentialminus": [
            [
             0,
             "#0d0887"
            ],
            [
             0.1111111111111111,
             "#46039f"
            ],
            [
             0.2222222222222222,
             "#7201a8"
            ],
            [
             0.3333333333333333,
             "#9c179e"
            ],
            [
             0.4444444444444444,
             "#bd3786"
            ],
            [
             0.5555555555555556,
             "#d8576b"
            ],
            [
             0.6666666666666666,
             "#ed7953"
            ],
            [
             0.7777777777777778,
             "#fb9f3a"
            ],
            [
             0.8888888888888888,
             "#fdca26"
            ],
            [
             1,
             "#f0f921"
            ]
           ]
          },
          "colorway": [
           "#636efa",
           "#EF553B",
           "#00cc96",
           "#ab63fa",
           "#FFA15A",
           "#19d3f3",
           "#FF6692",
           "#B6E880",
           "#FF97FF",
           "#FECB52"
          ],
          "font": {
           "color": "#2a3f5f"
          },
          "geo": {
           "bgcolor": "white",
           "lakecolor": "white",
           "landcolor": "#E5ECF6",
           "showlakes": true,
           "showland": true,
           "subunitcolor": "white"
          },
          "hoverlabel": {
           "align": "left"
          },
          "hovermode": "closest",
          "mapbox": {
           "style": "light"
          },
          "paper_bgcolor": "white",
          "plot_bgcolor": "#E5ECF6",
          "polar": {
           "angularaxis": {
            "gridcolor": "white",
            "linecolor": "white",
            "ticks": ""
           },
           "bgcolor": "#E5ECF6",
           "radialaxis": {
            "gridcolor": "white",
            "linecolor": "white",
            "ticks": ""
           }
          },
          "scene": {
           "xaxis": {
            "backgroundcolor": "#E5ECF6",
            "gridcolor": "white",
            "gridwidth": 2,
            "linecolor": "white",
            "showbackground": true,
            "ticks": "",
            "zerolinecolor": "white"
           },
           "yaxis": {
            "backgroundcolor": "#E5ECF6",
            "gridcolor": "white",
            "gridwidth": 2,
            "linecolor": "white",
            "showbackground": true,
            "ticks": "",
            "zerolinecolor": "white"
           },
           "zaxis": {
            "backgroundcolor": "#E5ECF6",
            "gridcolor": "white",
            "gridwidth": 2,
            "linecolor": "white",
            "showbackground": true,
            "ticks": "",
            "zerolinecolor": "white"
           }
          },
          "shapedefaults": {
           "line": {
            "color": "#2a3f5f"
           }
          },
          "ternary": {
           "aaxis": {
            "gridcolor": "white",
            "linecolor": "white",
            "ticks": ""
           },
           "baxis": {
            "gridcolor": "white",
            "linecolor": "white",
            "ticks": ""
           },
           "bgcolor": "#E5ECF6",
           "caxis": {
            "gridcolor": "white",
            "linecolor": "white",
            "ticks": ""
           }
          },
          "title": {
           "x": 0.05
          },
          "xaxis": {
           "automargin": true,
           "gridcolor": "white",
           "linecolor": "white",
           "ticks": "",
           "title": {
            "standoff": 15
           },
           "zerolinecolor": "white",
           "zerolinewidth": 2
          },
          "yaxis": {
           "automargin": true,
           "gridcolor": "white",
           "linecolor": "white",
           "ticks": "",
           "title": {
            "standoff": 15
           },
           "zerolinecolor": "white",
           "zerolinewidth": 2
          }
         }
        },
        "title": {
         "text": "Estatística",
         "x": 0.5,
         "xanchor": "center"
        },
        "xaxis": {
         "title": {
          "text": "Interesse"
         }
        },
        "yaxis": {
         "title": {
          "text": "Frequência"
         }
        }
       }
      }
     },
     "metadata": {},
     "output_type": "display_data"
    },
    {
     "data": {
      "application/vnd.plotly.v1+json": {
       "config": {
        "plotlyServerURL": "https://plot.ly"
       },
       "data": [
        {
         "marker": {
          "color": "royalblue"
         },
         "type": "bar",
         "x": [
          1,
          2,
          3,
          4,
          5
         ],
         "y": [
          3,
          5,
          4,
          1,
          2
         ]
        }
       ],
       "layout": {
        "annotations": [
         {
          "arrowhead": 2,
          "ax": 0,
          "ay": -40,
          "bgcolor": "white",
          "font": {
           "color": "red",
           "size": 14
          },
          "showarrow": true,
          "text": "Média: 2.60",
          "x": 2.6,
          "y": 4.5
         }
        ],
        "template": {
         "data": {
          "bar": [
           {
            "error_x": {
             "color": "#2a3f5f"
            },
            "error_y": {
             "color": "#2a3f5f"
            },
            "marker": {
             "line": {
              "color": "#E5ECF6",
              "width": 0.5
             },
             "pattern": {
              "fillmode": "overlay",
              "size": 10,
              "solidity": 0.2
             }
            },
            "type": "bar"
           }
          ],
          "barpolar": [
           {
            "marker": {
             "line": {
              "color": "#E5ECF6",
              "width": 0.5
             },
             "pattern": {
              "fillmode": "overlay",
              "size": 10,
              "solidity": 0.2
             }
            },
            "type": "barpolar"
           }
          ],
          "carpet": [
           {
            "aaxis": {
             "endlinecolor": "#2a3f5f",
             "gridcolor": "white",
             "linecolor": "white",
             "minorgridcolor": "white",
             "startlinecolor": "#2a3f5f"
            },
            "baxis": {
             "endlinecolor": "#2a3f5f",
             "gridcolor": "white",
             "linecolor": "white",
             "minorgridcolor": "white",
             "startlinecolor": "#2a3f5f"
            },
            "type": "carpet"
           }
          ],
          "choropleth": [
           {
            "colorbar": {
             "outlinewidth": 0,
             "ticks": ""
            },
            "type": "choropleth"
           }
          ],
          "contour": [
           {
            "colorbar": {
             "outlinewidth": 0,
             "ticks": ""
            },
            "colorscale": [
             [
              0,
              "#0d0887"
             ],
             [
              0.1111111111111111,
              "#46039f"
             ],
             [
              0.2222222222222222,
              "#7201a8"
             ],
             [
              0.3333333333333333,
              "#9c179e"
             ],
             [
              0.4444444444444444,
              "#bd3786"
             ],
             [
              0.5555555555555556,
              "#d8576b"
             ],
             [
              0.6666666666666666,
              "#ed7953"
             ],
             [
              0.7777777777777778,
              "#fb9f3a"
             ],
             [
              0.8888888888888888,
              "#fdca26"
             ],
             [
              1,
              "#f0f921"
             ]
            ],
            "type": "contour"
           }
          ],
          "contourcarpet": [
           {
            "colorbar": {
             "outlinewidth": 0,
             "ticks": ""
            },
            "type": "contourcarpet"
           }
          ],
          "heatmap": [
           {
            "colorbar": {
             "outlinewidth": 0,
             "ticks": ""
            },
            "colorscale": [
             [
              0,
              "#0d0887"
             ],
             [
              0.1111111111111111,
              "#46039f"
             ],
             [
              0.2222222222222222,
              "#7201a8"
             ],
             [
              0.3333333333333333,
              "#9c179e"
             ],
             [
              0.4444444444444444,
              "#bd3786"
             ],
             [
              0.5555555555555556,
              "#d8576b"
             ],
             [
              0.6666666666666666,
              "#ed7953"
             ],
             [
              0.7777777777777778,
              "#fb9f3a"
             ],
             [
              0.8888888888888888,
              "#fdca26"
             ],
             [
              1,
              "#f0f921"
             ]
            ],
            "type": "heatmap"
           }
          ],
          "heatmapgl": [
           {
            "colorbar": {
             "outlinewidth": 0,
             "ticks": ""
            },
            "colorscale": [
             [
              0,
              "#0d0887"
             ],
             [
              0.1111111111111111,
              "#46039f"
             ],
             [
              0.2222222222222222,
              "#7201a8"
             ],
             [
              0.3333333333333333,
              "#9c179e"
             ],
             [
              0.4444444444444444,
              "#bd3786"
             ],
             [
              0.5555555555555556,
              "#d8576b"
             ],
             [
              0.6666666666666666,
              "#ed7953"
             ],
             [
              0.7777777777777778,
              "#fb9f3a"
             ],
             [
              0.8888888888888888,
              "#fdca26"
             ],
             [
              1,
              "#f0f921"
             ]
            ],
            "type": "heatmapgl"
           }
          ],
          "histogram": [
           {
            "marker": {
             "pattern": {
              "fillmode": "overlay",
              "size": 10,
              "solidity": 0.2
             }
            },
            "type": "histogram"
           }
          ],
          "histogram2d": [
           {
            "colorbar": {
             "outlinewidth": 0,
             "ticks": ""
            },
            "colorscale": [
             [
              0,
              "#0d0887"
             ],
             [
              0.1111111111111111,
              "#46039f"
             ],
             [
              0.2222222222222222,
              "#7201a8"
             ],
             [
              0.3333333333333333,
              "#9c179e"
             ],
             [
              0.4444444444444444,
              "#bd3786"
             ],
             [
              0.5555555555555556,
              "#d8576b"
             ],
             [
              0.6666666666666666,
              "#ed7953"
             ],
             [
              0.7777777777777778,
              "#fb9f3a"
             ],
             [
              0.8888888888888888,
              "#fdca26"
             ],
             [
              1,
              "#f0f921"
             ]
            ],
            "type": "histogram2d"
           }
          ],
          "histogram2dcontour": [
           {
            "colorbar": {
             "outlinewidth": 0,
             "ticks": ""
            },
            "colorscale": [
             [
              0,
              "#0d0887"
             ],
             [
              0.1111111111111111,
              "#46039f"
             ],
             [
              0.2222222222222222,
              "#7201a8"
             ],
             [
              0.3333333333333333,
              "#9c179e"
             ],
             [
              0.4444444444444444,
              "#bd3786"
             ],
             [
              0.5555555555555556,
              "#d8576b"
             ],
             [
              0.6666666666666666,
              "#ed7953"
             ],
             [
              0.7777777777777778,
              "#fb9f3a"
             ],
             [
              0.8888888888888888,
              "#fdca26"
             ],
             [
              1,
              "#f0f921"
             ]
            ],
            "type": "histogram2dcontour"
           }
          ],
          "mesh3d": [
           {
            "colorbar": {
             "outlinewidth": 0,
             "ticks": ""
            },
            "type": "mesh3d"
           }
          ],
          "parcoords": [
           {
            "line": {
             "colorbar": {
              "outlinewidth": 0,
              "ticks": ""
             }
            },
            "type": "parcoords"
           }
          ],
          "pie": [
           {
            "automargin": true,
            "type": "pie"
           }
          ],
          "scatter": [
           {
            "fillpattern": {
             "fillmode": "overlay",
             "size": 10,
             "solidity": 0.2
            },
            "type": "scatter"
           }
          ],
          "scatter3d": [
           {
            "line": {
             "colorbar": {
              "outlinewidth": 0,
              "ticks": ""
             }
            },
            "marker": {
             "colorbar": {
              "outlinewidth": 0,
              "ticks": ""
             }
            },
            "type": "scatter3d"
           }
          ],
          "scattercarpet": [
           {
            "marker": {
             "colorbar": {
              "outlinewidth": 0,
              "ticks": ""
             }
            },
            "type": "scattercarpet"
           }
          ],
          "scattergeo": [
           {
            "marker": {
             "colorbar": {
              "outlinewidth": 0,
              "ticks": ""
             }
            },
            "type": "scattergeo"
           }
          ],
          "scattergl": [
           {
            "marker": {
             "colorbar": {
              "outlinewidth": 0,
              "ticks": ""
             }
            },
            "type": "scattergl"
           }
          ],
          "scattermapbox": [
           {
            "marker": {
             "colorbar": {
              "outlinewidth": 0,
              "ticks": ""
             }
            },
            "type": "scattermapbox"
           }
          ],
          "scatterpolar": [
           {
            "marker": {
             "colorbar": {
              "outlinewidth": 0,
              "ticks": ""
             }
            },
            "type": "scatterpolar"
           }
          ],
          "scatterpolargl": [
           {
            "marker": {
             "colorbar": {
              "outlinewidth": 0,
              "ticks": ""
             }
            },
            "type": "scatterpolargl"
           }
          ],
          "scatterternary": [
           {
            "marker": {
             "colorbar": {
              "outlinewidth": 0,
              "ticks": ""
             }
            },
            "type": "scatterternary"
           }
          ],
          "surface": [
           {
            "colorbar": {
             "outlinewidth": 0,
             "ticks": ""
            },
            "colorscale": [
             [
              0,
              "#0d0887"
             ],
             [
              0.1111111111111111,
              "#46039f"
             ],
             [
              0.2222222222222222,
              "#7201a8"
             ],
             [
              0.3333333333333333,
              "#9c179e"
             ],
             [
              0.4444444444444444,
              "#bd3786"
             ],
             [
              0.5555555555555556,
              "#d8576b"
             ],
             [
              0.6666666666666666,
              "#ed7953"
             ],
             [
              0.7777777777777778,
              "#fb9f3a"
             ],
             [
              0.8888888888888888,
              "#fdca26"
             ],
             [
              1,
              "#f0f921"
             ]
            ],
            "type": "surface"
           }
          ],
          "table": [
           {
            "cells": {
             "fill": {
              "color": "#EBF0F8"
             },
             "line": {
              "color": "white"
             }
            },
            "header": {
             "fill": {
              "color": "#C8D4E3"
             },
             "line": {
              "color": "white"
             }
            },
            "type": "table"
           }
          ]
         },
         "layout": {
          "annotationdefaults": {
           "arrowcolor": "#2a3f5f",
           "arrowhead": 0,
           "arrowwidth": 1
          },
          "autotypenumbers": "strict",
          "coloraxis": {
           "colorbar": {
            "outlinewidth": 0,
            "ticks": ""
           }
          },
          "colorscale": {
           "diverging": [
            [
             0,
             "#8e0152"
            ],
            [
             0.1,
             "#c51b7d"
            ],
            [
             0.2,
             "#de77ae"
            ],
            [
             0.3,
             "#f1b6da"
            ],
            [
             0.4,
             "#fde0ef"
            ],
            [
             0.5,
             "#f7f7f7"
            ],
            [
             0.6,
             "#e6f5d0"
            ],
            [
             0.7,
             "#b8e186"
            ],
            [
             0.8,
             "#7fbc41"
            ],
            [
             0.9,
             "#4d9221"
            ],
            [
             1,
             "#276419"
            ]
           ],
           "sequential": [
            [
             0,
             "#0d0887"
            ],
            [
             0.1111111111111111,
             "#46039f"
            ],
            [
             0.2222222222222222,
             "#7201a8"
            ],
            [
             0.3333333333333333,
             "#9c179e"
            ],
            [
             0.4444444444444444,
             "#bd3786"
            ],
            [
             0.5555555555555556,
             "#d8576b"
            ],
            [
             0.6666666666666666,
             "#ed7953"
            ],
            [
             0.7777777777777778,
             "#fb9f3a"
            ],
            [
             0.8888888888888888,
             "#fdca26"
            ],
            [
             1,
             "#f0f921"
            ]
           ],
           "sequentialminus": [
            [
             0,
             "#0d0887"
            ],
            [
             0.1111111111111111,
             "#46039f"
            ],
            [
             0.2222222222222222,
             "#7201a8"
            ],
            [
             0.3333333333333333,
             "#9c179e"
            ],
            [
             0.4444444444444444,
             "#bd3786"
            ],
            [
             0.5555555555555556,
             "#d8576b"
            ],
            [
             0.6666666666666666,
             "#ed7953"
            ],
            [
             0.7777777777777778,
             "#fb9f3a"
            ],
            [
             0.8888888888888888,
             "#fdca26"
            ],
            [
             1,
             "#f0f921"
            ]
           ]
          },
          "colorway": [
           "#636efa",
           "#EF553B",
           "#00cc96",
           "#ab63fa",
           "#FFA15A",
           "#19d3f3",
           "#FF6692",
           "#B6E880",
           "#FF97FF",
           "#FECB52"
          ],
          "font": {
           "color": "#2a3f5f"
          },
          "geo": {
           "bgcolor": "white",
           "lakecolor": "white",
           "landcolor": "#E5ECF6",
           "showlakes": true,
           "showland": true,
           "subunitcolor": "white"
          },
          "hoverlabel": {
           "align": "left"
          },
          "hovermode": "closest",
          "mapbox": {
           "style": "light"
          },
          "paper_bgcolor": "white",
          "plot_bgcolor": "#E5ECF6",
          "polar": {
           "angularaxis": {
            "gridcolor": "white",
            "linecolor": "white",
            "ticks": ""
           },
           "bgcolor": "#E5ECF6",
           "radialaxis": {
            "gridcolor": "white",
            "linecolor": "white",
            "ticks": ""
           }
          },
          "scene": {
           "xaxis": {
            "backgroundcolor": "#E5ECF6",
            "gridcolor": "white",
            "gridwidth": 2,
            "linecolor": "white",
            "showbackground": true,
            "ticks": "",
            "zerolinecolor": "white"
           },
           "yaxis": {
            "backgroundcolor": "#E5ECF6",
            "gridcolor": "white",
            "gridwidth": 2,
            "linecolor": "white",
            "showbackground": true,
            "ticks": "",
            "zerolinecolor": "white"
           },
           "zaxis": {
            "backgroundcolor": "#E5ECF6",
            "gridcolor": "white",
            "gridwidth": 2,
            "linecolor": "white",
            "showbackground": true,
            "ticks": "",
            "zerolinecolor": "white"
           }
          },
          "shapedefaults": {
           "line": {
            "color": "#2a3f5f"
           }
          },
          "ternary": {
           "aaxis": {
            "gridcolor": "white",
            "linecolor": "white",
            "ticks": ""
           },
           "baxis": {
            "gridcolor": "white",
            "linecolor": "white",
            "ticks": ""
           },
           "bgcolor": "#E5ECF6",
           "caxis": {
            "gridcolor": "white",
            "linecolor": "white",
            "ticks": ""
           }
          },
          "title": {
           "x": 0.05
          },
          "xaxis": {
           "automargin": true,
           "gridcolor": "white",
           "linecolor": "white",
           "ticks": "",
           "title": {
            "standoff": 15
           },
           "zerolinecolor": "white",
           "zerolinewidth": 2
          },
          "yaxis": {
           "automargin": true,
           "gridcolor": "white",
           "linecolor": "white",
           "ticks": "",
           "title": {
            "standoff": 15
           },
           "zerolinecolor": "white",
           "zerolinewidth": 2
          }
         }
        },
        "title": {
         "text": "Probabilidade",
         "x": 0.5,
         "xanchor": "center"
        },
        "xaxis": {
         "title": {
          "text": "Interesse"
         }
        },
        "yaxis": {
         "title": {
          "text": "Frequência"
         }
        }
       }
      }
     },
     "metadata": {},
     "output_type": "display_data"
    },
    {
     "data": {
      "application/vnd.plotly.v1+json": {
       "config": {
        "plotlyServerURL": "https://plot.ly"
       },
       "data": [
        {
         "marker": {
          "color": "royalblue"
         },
         "type": "bar",
         "x": [
          1,
          2,
          3,
          4,
          5
         ],
         "y": [
          4,
          4,
          5,
          2,
          0
         ]
        }
       ],
       "layout": {
        "annotations": [
         {
          "arrowhead": 2,
          "ax": 0,
          "ay": -40,
          "bgcolor": "white",
          "font": {
           "color": "red",
           "size": 14
          },
          "showarrow": true,
          "text": "Média: 2.33",
          "x": 2.3333333333333335,
          "y": 4.5
         }
        ],
        "template": {
         "data": {
          "bar": [
           {
            "error_x": {
             "color": "#2a3f5f"
            },
            "error_y": {
             "color": "#2a3f5f"
            },
            "marker": {
             "line": {
              "color": "#E5ECF6",
              "width": 0.5
             },
             "pattern": {
              "fillmode": "overlay",
              "size": 10,
              "solidity": 0.2
             }
            },
            "type": "bar"
           }
          ],
          "barpolar": [
           {
            "marker": {
             "line": {
              "color": "#E5ECF6",
              "width": 0.5
             },
             "pattern": {
              "fillmode": "overlay",
              "size": 10,
              "solidity": 0.2
             }
            },
            "type": "barpolar"
           }
          ],
          "carpet": [
           {
            "aaxis": {
             "endlinecolor": "#2a3f5f",
             "gridcolor": "white",
             "linecolor": "white",
             "minorgridcolor": "white",
             "startlinecolor": "#2a3f5f"
            },
            "baxis": {
             "endlinecolor": "#2a3f5f",
             "gridcolor": "white",
             "linecolor": "white",
             "minorgridcolor": "white",
             "startlinecolor": "#2a3f5f"
            },
            "type": "carpet"
           }
          ],
          "choropleth": [
           {
            "colorbar": {
             "outlinewidth": 0,
             "ticks": ""
            },
            "type": "choropleth"
           }
          ],
          "contour": [
           {
            "colorbar": {
             "outlinewidth": 0,
             "ticks": ""
            },
            "colorscale": [
             [
              0,
              "#0d0887"
             ],
             [
              0.1111111111111111,
              "#46039f"
             ],
             [
              0.2222222222222222,
              "#7201a8"
             ],
             [
              0.3333333333333333,
              "#9c179e"
             ],
             [
              0.4444444444444444,
              "#bd3786"
             ],
             [
              0.5555555555555556,
              "#d8576b"
             ],
             [
              0.6666666666666666,
              "#ed7953"
             ],
             [
              0.7777777777777778,
              "#fb9f3a"
             ],
             [
              0.8888888888888888,
              "#fdca26"
             ],
             [
              1,
              "#f0f921"
             ]
            ],
            "type": "contour"
           }
          ],
          "contourcarpet": [
           {
            "colorbar": {
             "outlinewidth": 0,
             "ticks": ""
            },
            "type": "contourcarpet"
           }
          ],
          "heatmap": [
           {
            "colorbar": {
             "outlinewidth": 0,
             "ticks": ""
            },
            "colorscale": [
             [
              0,
              "#0d0887"
             ],
             [
              0.1111111111111111,
              "#46039f"
             ],
             [
              0.2222222222222222,
              "#7201a8"
             ],
             [
              0.3333333333333333,
              "#9c179e"
             ],
             [
              0.4444444444444444,
              "#bd3786"
             ],
             [
              0.5555555555555556,
              "#d8576b"
             ],
             [
              0.6666666666666666,
              "#ed7953"
             ],
             [
              0.7777777777777778,
              "#fb9f3a"
             ],
             [
              0.8888888888888888,
              "#fdca26"
             ],
             [
              1,
              "#f0f921"
             ]
            ],
            "type": "heatmap"
           }
          ],
          "heatmapgl": [
           {
            "colorbar": {
             "outlinewidth": 0,
             "ticks": ""
            },
            "colorscale": [
             [
              0,
              "#0d0887"
             ],
             [
              0.1111111111111111,
              "#46039f"
             ],
             [
              0.2222222222222222,
              "#7201a8"
             ],
             [
              0.3333333333333333,
              "#9c179e"
             ],
             [
              0.4444444444444444,
              "#bd3786"
             ],
             [
              0.5555555555555556,
              "#d8576b"
             ],
             [
              0.6666666666666666,
              "#ed7953"
             ],
             [
              0.7777777777777778,
              "#fb9f3a"
             ],
             [
              0.8888888888888888,
              "#fdca26"
             ],
             [
              1,
              "#f0f921"
             ]
            ],
            "type": "heatmapgl"
           }
          ],
          "histogram": [
           {
            "marker": {
             "pattern": {
              "fillmode": "overlay",
              "size": 10,
              "solidity": 0.2
             }
            },
            "type": "histogram"
           }
          ],
          "histogram2d": [
           {
            "colorbar": {
             "outlinewidth": 0,
             "ticks": ""
            },
            "colorscale": [
             [
              0,
              "#0d0887"
             ],
             [
              0.1111111111111111,
              "#46039f"
             ],
             [
              0.2222222222222222,
              "#7201a8"
             ],
             [
              0.3333333333333333,
              "#9c179e"
             ],
             [
              0.4444444444444444,
              "#bd3786"
             ],
             [
              0.5555555555555556,
              "#d8576b"
             ],
             [
              0.6666666666666666,
              "#ed7953"
             ],
             [
              0.7777777777777778,
              "#fb9f3a"
             ],
             [
              0.8888888888888888,
              "#fdca26"
             ],
             [
              1,
              "#f0f921"
             ]
            ],
            "type": "histogram2d"
           }
          ],
          "histogram2dcontour": [
           {
            "colorbar": {
             "outlinewidth": 0,
             "ticks": ""
            },
            "colorscale": [
             [
              0,
              "#0d0887"
             ],
             [
              0.1111111111111111,
              "#46039f"
             ],
             [
              0.2222222222222222,
              "#7201a8"
             ],
             [
              0.3333333333333333,
              "#9c179e"
             ],
             [
              0.4444444444444444,
              "#bd3786"
             ],
             [
              0.5555555555555556,
              "#d8576b"
             ],
             [
              0.6666666666666666,
              "#ed7953"
             ],
             [
              0.7777777777777778,
              "#fb9f3a"
             ],
             [
              0.8888888888888888,
              "#fdca26"
             ],
             [
              1,
              "#f0f921"
             ]
            ],
            "type": "histogram2dcontour"
           }
          ],
          "mesh3d": [
           {
            "colorbar": {
             "outlinewidth": 0,
             "ticks": ""
            },
            "type": "mesh3d"
           }
          ],
          "parcoords": [
           {
            "line": {
             "colorbar": {
              "outlinewidth": 0,
              "ticks": ""
             }
            },
            "type": "parcoords"
           }
          ],
          "pie": [
           {
            "automargin": true,
            "type": "pie"
           }
          ],
          "scatter": [
           {
            "fillpattern": {
             "fillmode": "overlay",
             "size": 10,
             "solidity": 0.2
            },
            "type": "scatter"
           }
          ],
          "scatter3d": [
           {
            "line": {
             "colorbar": {
              "outlinewidth": 0,
              "ticks": ""
             }
            },
            "marker": {
             "colorbar": {
              "outlinewidth": 0,
              "ticks": ""
             }
            },
            "type": "scatter3d"
           }
          ],
          "scattercarpet": [
           {
            "marker": {
             "colorbar": {
              "outlinewidth": 0,
              "ticks": ""
             }
            },
            "type": "scattercarpet"
           }
          ],
          "scattergeo": [
           {
            "marker": {
             "colorbar": {
              "outlinewidth": 0,
              "ticks": ""
             }
            },
            "type": "scattergeo"
           }
          ],
          "scattergl": [
           {
            "marker": {
             "colorbar": {
              "outlinewidth": 0,
              "ticks": ""
             }
            },
            "type": "scattergl"
           }
          ],
          "scattermapbox": [
           {
            "marker": {
             "colorbar": {
              "outlinewidth": 0,
              "ticks": ""
             }
            },
            "type": "scattermapbox"
           }
          ],
          "scatterpolar": [
           {
            "marker": {
             "colorbar": {
              "outlinewidth": 0,
              "ticks": ""
             }
            },
            "type": "scatterpolar"
           }
          ],
          "scatterpolargl": [
           {
            "marker": {
             "colorbar": {
              "outlinewidth": 0,
              "ticks": ""
             }
            },
            "type": "scatterpolargl"
           }
          ],
          "scatterternary": [
           {
            "marker": {
             "colorbar": {
              "outlinewidth": 0,
              "ticks": ""
             }
            },
            "type": "scatterternary"
           }
          ],
          "surface": [
           {
            "colorbar": {
             "outlinewidth": 0,
             "ticks": ""
            },
            "colorscale": [
             [
              0,
              "#0d0887"
             ],
             [
              0.1111111111111111,
              "#46039f"
             ],
             [
              0.2222222222222222,
              "#7201a8"
             ],
             [
              0.3333333333333333,
              "#9c179e"
             ],
             [
              0.4444444444444444,
              "#bd3786"
             ],
             [
              0.5555555555555556,
              "#d8576b"
             ],
             [
              0.6666666666666666,
              "#ed7953"
             ],
             [
              0.7777777777777778,
              "#fb9f3a"
             ],
             [
              0.8888888888888888,
              "#fdca26"
             ],
             [
              1,
              "#f0f921"
             ]
            ],
            "type": "surface"
           }
          ],
          "table": [
           {
            "cells": {
             "fill": {
              "color": "#EBF0F8"
             },
             "line": {
              "color": "white"
             }
            },
            "header": {
             "fill": {
              "color": "#C8D4E3"
             },
             "line": {
              "color": "white"
             }
            },
            "type": "table"
           }
          ]
         },
         "layout": {
          "annotationdefaults": {
           "arrowcolor": "#2a3f5f",
           "arrowhead": 0,
           "arrowwidth": 1
          },
          "autotypenumbers": "strict",
          "coloraxis": {
           "colorbar": {
            "outlinewidth": 0,
            "ticks": ""
           }
          },
          "colorscale": {
           "diverging": [
            [
             0,
             "#8e0152"
            ],
            [
             0.1,
             "#c51b7d"
            ],
            [
             0.2,
             "#de77ae"
            ],
            [
             0.3,
             "#f1b6da"
            ],
            [
             0.4,
             "#fde0ef"
            ],
            [
             0.5,
             "#f7f7f7"
            ],
            [
             0.6,
             "#e6f5d0"
            ],
            [
             0.7,
             "#b8e186"
            ],
            [
             0.8,
             "#7fbc41"
            ],
            [
             0.9,
             "#4d9221"
            ],
            [
             1,
             "#276419"
            ]
           ],
           "sequential": [
            [
             0,
             "#0d0887"
            ],
            [
             0.1111111111111111,
             "#46039f"
            ],
            [
             0.2222222222222222,
             "#7201a8"
            ],
            [
             0.3333333333333333,
             "#9c179e"
            ],
            [
             0.4444444444444444,
             "#bd3786"
            ],
            [
             0.5555555555555556,
             "#d8576b"
            ],
            [
             0.6666666666666666,
             "#ed7953"
            ],
            [
             0.7777777777777778,
             "#fb9f3a"
            ],
            [
             0.8888888888888888,
             "#fdca26"
            ],
            [
             1,
             "#f0f921"
            ]
           ],
           "sequentialminus": [
            [
             0,
             "#0d0887"
            ],
            [
             0.1111111111111111,
             "#46039f"
            ],
            [
             0.2222222222222222,
             "#7201a8"
            ],
            [
             0.3333333333333333,
             "#9c179e"
            ],
            [
             0.4444444444444444,
             "#bd3786"
            ],
            [
             0.5555555555555556,
             "#d8576b"
            ],
            [
             0.6666666666666666,
             "#ed7953"
            ],
            [
             0.7777777777777778,
             "#fb9f3a"
            ],
            [
             0.8888888888888888,
             "#fdca26"
            ],
            [
             1,
             "#f0f921"
            ]
           ]
          },
          "colorway": [
           "#636efa",
           "#EF553B",
           "#00cc96",
           "#ab63fa",
           "#FFA15A",
           "#19d3f3",
           "#FF6692",
           "#B6E880",
           "#FF97FF",
           "#FECB52"
          ],
          "font": {
           "color": "#2a3f5f"
          },
          "geo": {
           "bgcolor": "white",
           "lakecolor": "white",
           "landcolor": "#E5ECF6",
           "showlakes": true,
           "showland": true,
           "subunitcolor": "white"
          },
          "hoverlabel": {
           "align": "left"
          },
          "hovermode": "closest",
          "mapbox": {
           "style": "light"
          },
          "paper_bgcolor": "white",
          "plot_bgcolor": "#E5ECF6",
          "polar": {
           "angularaxis": {
            "gridcolor": "white",
            "linecolor": "white",
            "ticks": ""
           },
           "bgcolor": "#E5ECF6",
           "radialaxis": {
            "gridcolor": "white",
            "linecolor": "white",
            "ticks": ""
           }
          },
          "scene": {
           "xaxis": {
            "backgroundcolor": "#E5ECF6",
            "gridcolor": "white",
            "gridwidth": 2,
            "linecolor": "white",
            "showbackground": true,
            "ticks": "",
            "zerolinecolor": "white"
           },
           "yaxis": {
            "backgroundcolor": "#E5ECF6",
            "gridcolor": "white",
            "gridwidth": 2,
            "linecolor": "white",
            "showbackground": true,
            "ticks": "",
            "zerolinecolor": "white"
           },
           "zaxis": {
            "backgroundcolor": "#E5ECF6",
            "gridcolor": "white",
            "gridwidth": 2,
            "linecolor": "white",
            "showbackground": true,
            "ticks": "",
            "zerolinecolor": "white"
           }
          },
          "shapedefaults": {
           "line": {
            "color": "#2a3f5f"
           }
          },
          "ternary": {
           "aaxis": {
            "gridcolor": "white",
            "linecolor": "white",
            "ticks": ""
           },
           "baxis": {
            "gridcolor": "white",
            "linecolor": "white",
            "ticks": ""
           },
           "bgcolor": "#E5ECF6",
           "caxis": {
            "gridcolor": "white",
            "linecolor": "white",
            "ticks": ""
           }
          },
          "title": {
           "x": 0.05
          },
          "xaxis": {
           "automargin": true,
           "gridcolor": "white",
           "linecolor": "white",
           "ticks": "",
           "title": {
            "standoff": 15
           },
           "zerolinecolor": "white",
           "zerolinewidth": 2
          },
          "yaxis": {
           "automargin": true,
           "gridcolor": "white",
           "linecolor": "white",
           "ticks": "",
           "title": {
            "standoff": 15
           },
           "zerolinecolor": "white",
           "zerolinewidth": 2
          }
         }
        },
        "title": {
         "text": "Computação",
         "x": 0.5,
         "xanchor": "center"
        },
        "xaxis": {
         "title": {
          "text": "Interesse"
         }
        },
        "yaxis": {
         "title": {
          "text": "Frequência"
         }
        }
       }
      }
     },
     "metadata": {},
     "output_type": "display_data"
    },
    {
     "data": {
      "application/vnd.plotly.v1+json": {
       "config": {
        "plotlyServerURL": "https://plot.ly"
       },
       "data": [
        {
         "marker": {
          "color": "royalblue"
         },
         "type": "bar",
         "x": [
          1,
          2,
          3,
          4,
          5
         ],
         "y": [
          2,
          2,
          9,
          1,
          1
         ]
        }
       ],
       "layout": {
        "annotations": [
         {
          "arrowhead": 2,
          "ax": 0,
          "ay": -40,
          "bgcolor": "white",
          "font": {
           "color": "red",
           "size": 14
          },
          "showarrow": true,
          "text": "Média: 2.80",
          "x": 2.8,
          "y": 8.1
         }
        ],
        "template": {
         "data": {
          "bar": [
           {
            "error_x": {
             "color": "#2a3f5f"
            },
            "error_y": {
             "color": "#2a3f5f"
            },
            "marker": {
             "line": {
              "color": "#E5ECF6",
              "width": 0.5
             },
             "pattern": {
              "fillmode": "overlay",
              "size": 10,
              "solidity": 0.2
             }
            },
            "type": "bar"
           }
          ],
          "barpolar": [
           {
            "marker": {
             "line": {
              "color": "#E5ECF6",
              "width": 0.5
             },
             "pattern": {
              "fillmode": "overlay",
              "size": 10,
              "solidity": 0.2
             }
            },
            "type": "barpolar"
           }
          ],
          "carpet": [
           {
            "aaxis": {
             "endlinecolor": "#2a3f5f",
             "gridcolor": "white",
             "linecolor": "white",
             "minorgridcolor": "white",
             "startlinecolor": "#2a3f5f"
            },
            "baxis": {
             "endlinecolor": "#2a3f5f",
             "gridcolor": "white",
             "linecolor": "white",
             "minorgridcolor": "white",
             "startlinecolor": "#2a3f5f"
            },
            "type": "carpet"
           }
          ],
          "choropleth": [
           {
            "colorbar": {
             "outlinewidth": 0,
             "ticks": ""
            },
            "type": "choropleth"
           }
          ],
          "contour": [
           {
            "colorbar": {
             "outlinewidth": 0,
             "ticks": ""
            },
            "colorscale": [
             [
              0,
              "#0d0887"
             ],
             [
              0.1111111111111111,
              "#46039f"
             ],
             [
              0.2222222222222222,
              "#7201a8"
             ],
             [
              0.3333333333333333,
              "#9c179e"
             ],
             [
              0.4444444444444444,
              "#bd3786"
             ],
             [
              0.5555555555555556,
              "#d8576b"
             ],
             [
              0.6666666666666666,
              "#ed7953"
             ],
             [
              0.7777777777777778,
              "#fb9f3a"
             ],
             [
              0.8888888888888888,
              "#fdca26"
             ],
             [
              1,
              "#f0f921"
             ]
            ],
            "type": "contour"
           }
          ],
          "contourcarpet": [
           {
            "colorbar": {
             "outlinewidth": 0,
             "ticks": ""
            },
            "type": "contourcarpet"
           }
          ],
          "heatmap": [
           {
            "colorbar": {
             "outlinewidth": 0,
             "ticks": ""
            },
            "colorscale": [
             [
              0,
              "#0d0887"
             ],
             [
              0.1111111111111111,
              "#46039f"
             ],
             [
              0.2222222222222222,
              "#7201a8"
             ],
             [
              0.3333333333333333,
              "#9c179e"
             ],
             [
              0.4444444444444444,
              "#bd3786"
             ],
             [
              0.5555555555555556,
              "#d8576b"
             ],
             [
              0.6666666666666666,
              "#ed7953"
             ],
             [
              0.7777777777777778,
              "#fb9f3a"
             ],
             [
              0.8888888888888888,
              "#fdca26"
             ],
             [
              1,
              "#f0f921"
             ]
            ],
            "type": "heatmap"
           }
          ],
          "heatmapgl": [
           {
            "colorbar": {
             "outlinewidth": 0,
             "ticks": ""
            },
            "colorscale": [
             [
              0,
              "#0d0887"
             ],
             [
              0.1111111111111111,
              "#46039f"
             ],
             [
              0.2222222222222222,
              "#7201a8"
             ],
             [
              0.3333333333333333,
              "#9c179e"
             ],
             [
              0.4444444444444444,
              "#bd3786"
             ],
             [
              0.5555555555555556,
              "#d8576b"
             ],
             [
              0.6666666666666666,
              "#ed7953"
             ],
             [
              0.7777777777777778,
              "#fb9f3a"
             ],
             [
              0.8888888888888888,
              "#fdca26"
             ],
             [
              1,
              "#f0f921"
             ]
            ],
            "type": "heatmapgl"
           }
          ],
          "histogram": [
           {
            "marker": {
             "pattern": {
              "fillmode": "overlay",
              "size": 10,
              "solidity": 0.2
             }
            },
            "type": "histogram"
           }
          ],
          "histogram2d": [
           {
            "colorbar": {
             "outlinewidth": 0,
             "ticks": ""
            },
            "colorscale": [
             [
              0,
              "#0d0887"
             ],
             [
              0.1111111111111111,
              "#46039f"
             ],
             [
              0.2222222222222222,
              "#7201a8"
             ],
             [
              0.3333333333333333,
              "#9c179e"
             ],
             [
              0.4444444444444444,
              "#bd3786"
             ],
             [
              0.5555555555555556,
              "#d8576b"
             ],
             [
              0.6666666666666666,
              "#ed7953"
             ],
             [
              0.7777777777777778,
              "#fb9f3a"
             ],
             [
              0.8888888888888888,
              "#fdca26"
             ],
             [
              1,
              "#f0f921"
             ]
            ],
            "type": "histogram2d"
           }
          ],
          "histogram2dcontour": [
           {
            "colorbar": {
             "outlinewidth": 0,
             "ticks": ""
            },
            "colorscale": [
             [
              0,
              "#0d0887"
             ],
             [
              0.1111111111111111,
              "#46039f"
             ],
             [
              0.2222222222222222,
              "#7201a8"
             ],
             [
              0.3333333333333333,
              "#9c179e"
             ],
             [
              0.4444444444444444,
              "#bd3786"
             ],
             [
              0.5555555555555556,
              "#d8576b"
             ],
             [
              0.6666666666666666,
              "#ed7953"
             ],
             [
              0.7777777777777778,
              "#fb9f3a"
             ],
             [
              0.8888888888888888,
              "#fdca26"
             ],
             [
              1,
              "#f0f921"
             ]
            ],
            "type": "histogram2dcontour"
           }
          ],
          "mesh3d": [
           {
            "colorbar": {
             "outlinewidth": 0,
             "ticks": ""
            },
            "type": "mesh3d"
           }
          ],
          "parcoords": [
           {
            "line": {
             "colorbar": {
              "outlinewidth": 0,
              "ticks": ""
             }
            },
            "type": "parcoords"
           }
          ],
          "pie": [
           {
            "automargin": true,
            "type": "pie"
           }
          ],
          "scatter": [
           {
            "fillpattern": {
             "fillmode": "overlay",
             "size": 10,
             "solidity": 0.2
            },
            "type": "scatter"
           }
          ],
          "scatter3d": [
           {
            "line": {
             "colorbar": {
              "outlinewidth": 0,
              "ticks": ""
             }
            },
            "marker": {
             "colorbar": {
              "outlinewidth": 0,
              "ticks": ""
             }
            },
            "type": "scatter3d"
           }
          ],
          "scattercarpet": [
           {
            "marker": {
             "colorbar": {
              "outlinewidth": 0,
              "ticks": ""
             }
            },
            "type": "scattercarpet"
           }
          ],
          "scattergeo": [
           {
            "marker": {
             "colorbar": {
              "outlinewidth": 0,
              "ticks": ""
             }
            },
            "type": "scattergeo"
           }
          ],
          "scattergl": [
           {
            "marker": {
             "colorbar": {
              "outlinewidth": 0,
              "ticks": ""
             }
            },
            "type": "scattergl"
           }
          ],
          "scattermapbox": [
           {
            "marker": {
             "colorbar": {
              "outlinewidth": 0,
              "ticks": ""
             }
            },
            "type": "scattermapbox"
           }
          ],
          "scatterpolar": [
           {
            "marker": {
             "colorbar": {
              "outlinewidth": 0,
              "ticks": ""
             }
            },
            "type": "scatterpolar"
           }
          ],
          "scatterpolargl": [
           {
            "marker": {
             "colorbar": {
              "outlinewidth": 0,
              "ticks": ""
             }
            },
            "type": "scatterpolargl"
           }
          ],
          "scatterternary": [
           {
            "marker": {
             "colorbar": {
              "outlinewidth": 0,
              "ticks": ""
             }
            },
            "type": "scatterternary"
           }
          ],
          "surface": [
           {
            "colorbar": {
             "outlinewidth": 0,
             "ticks": ""
            },
            "colorscale": [
             [
              0,
              "#0d0887"
             ],
             [
              0.1111111111111111,
              "#46039f"
             ],
             [
              0.2222222222222222,
              "#7201a8"
             ],
             [
              0.3333333333333333,
              "#9c179e"
             ],
             [
              0.4444444444444444,
              "#bd3786"
             ],
             [
              0.5555555555555556,
              "#d8576b"
             ],
             [
              0.6666666666666666,
              "#ed7953"
             ],
             [
              0.7777777777777778,
              "#fb9f3a"
             ],
             [
              0.8888888888888888,
              "#fdca26"
             ],
             [
              1,
              "#f0f921"
             ]
            ],
            "type": "surface"
           }
          ],
          "table": [
           {
            "cells": {
             "fill": {
              "color": "#EBF0F8"
             },
             "line": {
              "color": "white"
             }
            },
            "header": {
             "fill": {
              "color": "#C8D4E3"
             },
             "line": {
              "color": "white"
             }
            },
            "type": "table"
           }
          ]
         },
         "layout": {
          "annotationdefaults": {
           "arrowcolor": "#2a3f5f",
           "arrowhead": 0,
           "arrowwidth": 1
          },
          "autotypenumbers": "strict",
          "coloraxis": {
           "colorbar": {
            "outlinewidth": 0,
            "ticks": ""
           }
          },
          "colorscale": {
           "diverging": [
            [
             0,
             "#8e0152"
            ],
            [
             0.1,
             "#c51b7d"
            ],
            [
             0.2,
             "#de77ae"
            ],
            [
             0.3,
             "#f1b6da"
            ],
            [
             0.4,
             "#fde0ef"
            ],
            [
             0.5,
             "#f7f7f7"
            ],
            [
             0.6,
             "#e6f5d0"
            ],
            [
             0.7,
             "#b8e186"
            ],
            [
             0.8,
             "#7fbc41"
            ],
            [
             0.9,
             "#4d9221"
            ],
            [
             1,
             "#276419"
            ]
           ],
           "sequential": [
            [
             0,
             "#0d0887"
            ],
            [
             0.1111111111111111,
             "#46039f"
            ],
            [
             0.2222222222222222,
             "#7201a8"
            ],
            [
             0.3333333333333333,
             "#9c179e"
            ],
            [
             0.4444444444444444,
             "#bd3786"
            ],
            [
             0.5555555555555556,
             "#d8576b"
            ],
            [
             0.6666666666666666,
             "#ed7953"
            ],
            [
             0.7777777777777778,
             "#fb9f3a"
            ],
            [
             0.8888888888888888,
             "#fdca26"
            ],
            [
             1,
             "#f0f921"
            ]
           ],
           "sequentialminus": [
            [
             0,
             "#0d0887"
            ],
            [
             0.1111111111111111,
             "#46039f"
            ],
            [
             0.2222222222222222,
             "#7201a8"
            ],
            [
             0.3333333333333333,
             "#9c179e"
            ],
            [
             0.4444444444444444,
             "#bd3786"
            ],
            [
             0.5555555555555556,
             "#d8576b"
            ],
            [
             0.6666666666666666,
             "#ed7953"
            ],
            [
             0.7777777777777778,
             "#fb9f3a"
            ],
            [
             0.8888888888888888,
             "#fdca26"
            ],
            [
             1,
             "#f0f921"
            ]
           ]
          },
          "colorway": [
           "#636efa",
           "#EF553B",
           "#00cc96",
           "#ab63fa",
           "#FFA15A",
           "#19d3f3",
           "#FF6692",
           "#B6E880",
           "#FF97FF",
           "#FECB52"
          ],
          "font": {
           "color": "#2a3f5f"
          },
          "geo": {
           "bgcolor": "white",
           "lakecolor": "white",
           "landcolor": "#E5ECF6",
           "showlakes": true,
           "showland": true,
           "subunitcolor": "white"
          },
          "hoverlabel": {
           "align": "left"
          },
          "hovermode": "closest",
          "mapbox": {
           "style": "light"
          },
          "paper_bgcolor": "white",
          "plot_bgcolor": "#E5ECF6",
          "polar": {
           "angularaxis": {
            "gridcolor": "white",
            "linecolor": "white",
            "ticks": ""
           },
           "bgcolor": "#E5ECF6",
           "radialaxis": {
            "gridcolor": "white",
            "linecolor": "white",
            "ticks": ""
           }
          },
          "scene": {
           "xaxis": {
            "backgroundcolor": "#E5ECF6",
            "gridcolor": "white",
            "gridwidth": 2,
            "linecolor": "white",
            "showbackground": true,
            "ticks": "",
            "zerolinecolor": "white"
           },
           "yaxis": {
            "backgroundcolor": "#E5ECF6",
            "gridcolor": "white",
            "gridwidth": 2,
            "linecolor": "white",
            "showbackground": true,
            "ticks": "",
            "zerolinecolor": "white"
           },
           "zaxis": {
            "backgroundcolor": "#E5ECF6",
            "gridcolor": "white",
            "gridwidth": 2,
            "linecolor": "white",
            "showbackground": true,
            "ticks": "",
            "zerolinecolor": "white"
           }
          },
          "shapedefaults": {
           "line": {
            "color": "#2a3f5f"
           }
          },
          "ternary": {
           "aaxis": {
            "gridcolor": "white",
            "linecolor": "white",
            "ticks": ""
           },
           "baxis": {
            "gridcolor": "white",
            "linecolor": "white",
            "ticks": ""
           },
           "bgcolor": "#E5ECF6",
           "caxis": {
            "gridcolor": "white",
            "linecolor": "white",
            "ticks": ""
           }
          },
          "title": {
           "x": 0.05
          },
          "xaxis": {
           "automargin": true,
           "gridcolor": "white",
           "linecolor": "white",
           "ticks": "",
           "title": {
            "standoff": 15
           },
           "zerolinecolor": "white",
           "zerolinewidth": 2
          },
          "yaxis": {
           "automargin": true,
           "gridcolor": "white",
           "linecolor": "white",
           "ticks": "",
           "title": {
            "standoff": 15
           },
           "zerolinecolor": "white",
           "zerolinewidth": 2
          }
         }
        },
        "title": {
         "text": "Matemática Financeira",
         "x": 0.5,
         "xanchor": "center"
        },
        "xaxis": {
         "title": {
          "text": "Interesse"
         }
        },
        "yaxis": {
         "title": {
          "text": "Frequência"
         }
        }
       }
      }
     },
     "metadata": {},
     "output_type": "display_data"
    },
    {
     "data": {
      "application/vnd.plotly.v1+json": {
       "config": {
        "plotlyServerURL": "https://plot.ly"
       },
       "data": [
        {
         "marker": {
          "color": "royalblue"
         },
         "type": "bar",
         "x": [
          1,
          2,
          3,
          4,
          5
         ],
         "y": [
          10,
          1,
          1,
          2,
          1
         ]
        }
       ],
       "layout": {
        "annotations": [
         {
          "arrowhead": 2,
          "ax": 0,
          "ay": -40,
          "bgcolor": "white",
          "font": {
           "color": "red",
           "size": 14
          },
          "showarrow": true,
          "text": "Média: 1.87",
          "x": 1.8666666666666667,
          "y": 9
         }
        ],
        "template": {
         "data": {
          "bar": [
           {
            "error_x": {
             "color": "#2a3f5f"
            },
            "error_y": {
             "color": "#2a3f5f"
            },
            "marker": {
             "line": {
              "color": "#E5ECF6",
              "width": 0.5
             },
             "pattern": {
              "fillmode": "overlay",
              "size": 10,
              "solidity": 0.2
             }
            },
            "type": "bar"
           }
          ],
          "barpolar": [
           {
            "marker": {
             "line": {
              "color": "#E5ECF6",
              "width": 0.5
             },
             "pattern": {
              "fillmode": "overlay",
              "size": 10,
              "solidity": 0.2
             }
            },
            "type": "barpolar"
           }
          ],
          "carpet": [
           {
            "aaxis": {
             "endlinecolor": "#2a3f5f",
             "gridcolor": "white",
             "linecolor": "white",
             "minorgridcolor": "white",
             "startlinecolor": "#2a3f5f"
            },
            "baxis": {
             "endlinecolor": "#2a3f5f",
             "gridcolor": "white",
             "linecolor": "white",
             "minorgridcolor": "white",
             "startlinecolor": "#2a3f5f"
            },
            "type": "carpet"
           }
          ],
          "choropleth": [
           {
            "colorbar": {
             "outlinewidth": 0,
             "ticks": ""
            },
            "type": "choropleth"
           }
          ],
          "contour": [
           {
            "colorbar": {
             "outlinewidth": 0,
             "ticks": ""
            },
            "colorscale": [
             [
              0,
              "#0d0887"
             ],
             [
              0.1111111111111111,
              "#46039f"
             ],
             [
              0.2222222222222222,
              "#7201a8"
             ],
             [
              0.3333333333333333,
              "#9c179e"
             ],
             [
              0.4444444444444444,
              "#bd3786"
             ],
             [
              0.5555555555555556,
              "#d8576b"
             ],
             [
              0.6666666666666666,
              "#ed7953"
             ],
             [
              0.7777777777777778,
              "#fb9f3a"
             ],
             [
              0.8888888888888888,
              "#fdca26"
             ],
             [
              1,
              "#f0f921"
             ]
            ],
            "type": "contour"
           }
          ],
          "contourcarpet": [
           {
            "colorbar": {
             "outlinewidth": 0,
             "ticks": ""
            },
            "type": "contourcarpet"
           }
          ],
          "heatmap": [
           {
            "colorbar": {
             "outlinewidth": 0,
             "ticks": ""
            },
            "colorscale": [
             [
              0,
              "#0d0887"
             ],
             [
              0.1111111111111111,
              "#46039f"
             ],
             [
              0.2222222222222222,
              "#7201a8"
             ],
             [
              0.3333333333333333,
              "#9c179e"
             ],
             [
              0.4444444444444444,
              "#bd3786"
             ],
             [
              0.5555555555555556,
              "#d8576b"
             ],
             [
              0.6666666666666666,
              "#ed7953"
             ],
             [
              0.7777777777777778,
              "#fb9f3a"
             ],
             [
              0.8888888888888888,
              "#fdca26"
             ],
             [
              1,
              "#f0f921"
             ]
            ],
            "type": "heatmap"
           }
          ],
          "heatmapgl": [
           {
            "colorbar": {
             "outlinewidth": 0,
             "ticks": ""
            },
            "colorscale": [
             [
              0,
              "#0d0887"
             ],
             [
              0.1111111111111111,
              "#46039f"
             ],
             [
              0.2222222222222222,
              "#7201a8"
             ],
             [
              0.3333333333333333,
              "#9c179e"
             ],
             [
              0.4444444444444444,
              "#bd3786"
             ],
             [
              0.5555555555555556,
              "#d8576b"
             ],
             [
              0.6666666666666666,
              "#ed7953"
             ],
             [
              0.7777777777777778,
              "#fb9f3a"
             ],
             [
              0.8888888888888888,
              "#fdca26"
             ],
             [
              1,
              "#f0f921"
             ]
            ],
            "type": "heatmapgl"
           }
          ],
          "histogram": [
           {
            "marker": {
             "pattern": {
              "fillmode": "overlay",
              "size": 10,
              "solidity": 0.2
             }
            },
            "type": "histogram"
           }
          ],
          "histogram2d": [
           {
            "colorbar": {
             "outlinewidth": 0,
             "ticks": ""
            },
            "colorscale": [
             [
              0,
              "#0d0887"
             ],
             [
              0.1111111111111111,
              "#46039f"
             ],
             [
              0.2222222222222222,
              "#7201a8"
             ],
             [
              0.3333333333333333,
              "#9c179e"
             ],
             [
              0.4444444444444444,
              "#bd3786"
             ],
             [
              0.5555555555555556,
              "#d8576b"
             ],
             [
              0.6666666666666666,
              "#ed7953"
             ],
             [
              0.7777777777777778,
              "#fb9f3a"
             ],
             [
              0.8888888888888888,
              "#fdca26"
             ],
             [
              1,
              "#f0f921"
             ]
            ],
            "type": "histogram2d"
           }
          ],
          "histogram2dcontour": [
           {
            "colorbar": {
             "outlinewidth": 0,
             "ticks": ""
            },
            "colorscale": [
             [
              0,
              "#0d0887"
             ],
             [
              0.1111111111111111,
              "#46039f"
             ],
             [
              0.2222222222222222,
              "#7201a8"
             ],
             [
              0.3333333333333333,
              "#9c179e"
             ],
             [
              0.4444444444444444,
              "#bd3786"
             ],
             [
              0.5555555555555556,
              "#d8576b"
             ],
             [
              0.6666666666666666,
              "#ed7953"
             ],
             [
              0.7777777777777778,
              "#fb9f3a"
             ],
             [
              0.8888888888888888,
              "#fdca26"
             ],
             [
              1,
              "#f0f921"
             ]
            ],
            "type": "histogram2dcontour"
           }
          ],
          "mesh3d": [
           {
            "colorbar": {
             "outlinewidth": 0,
             "ticks": ""
            },
            "type": "mesh3d"
           }
          ],
          "parcoords": [
           {
            "line": {
             "colorbar": {
              "outlinewidth": 0,
              "ticks": ""
             }
            },
            "type": "parcoords"
           }
          ],
          "pie": [
           {
            "automargin": true,
            "type": "pie"
           }
          ],
          "scatter": [
           {
            "fillpattern": {
             "fillmode": "overlay",
             "size": 10,
             "solidity": 0.2
            },
            "type": "scatter"
           }
          ],
          "scatter3d": [
           {
            "line": {
             "colorbar": {
              "outlinewidth": 0,
              "ticks": ""
             }
            },
            "marker": {
             "colorbar": {
              "outlinewidth": 0,
              "ticks": ""
             }
            },
            "type": "scatter3d"
           }
          ],
          "scattercarpet": [
           {
            "marker": {
             "colorbar": {
              "outlinewidth": 0,
              "ticks": ""
             }
            },
            "type": "scattercarpet"
           }
          ],
          "scattergeo": [
           {
            "marker": {
             "colorbar": {
              "outlinewidth": 0,
              "ticks": ""
             }
            },
            "type": "scattergeo"
           }
          ],
          "scattergl": [
           {
            "marker": {
             "colorbar": {
              "outlinewidth": 0,
              "ticks": ""
             }
            },
            "type": "scattergl"
           }
          ],
          "scattermapbox": [
           {
            "marker": {
             "colorbar": {
              "outlinewidth": 0,
              "ticks": ""
             }
            },
            "type": "scattermapbox"
           }
          ],
          "scatterpolar": [
           {
            "marker": {
             "colorbar": {
              "outlinewidth": 0,
              "ticks": ""
             }
            },
            "type": "scatterpolar"
           }
          ],
          "scatterpolargl": [
           {
            "marker": {
             "colorbar": {
              "outlinewidth": 0,
              "ticks": ""
             }
            },
            "type": "scatterpolargl"
           }
          ],
          "scatterternary": [
           {
            "marker": {
             "colorbar": {
              "outlinewidth": 0,
              "ticks": ""
             }
            },
            "type": "scatterternary"
           }
          ],
          "surface": [
           {
            "colorbar": {
             "outlinewidth": 0,
             "ticks": ""
            },
            "colorscale": [
             [
              0,
              "#0d0887"
             ],
             [
              0.1111111111111111,
              "#46039f"
             ],
             [
              0.2222222222222222,
              "#7201a8"
             ],
             [
              0.3333333333333333,
              "#9c179e"
             ],
             [
              0.4444444444444444,
              "#bd3786"
             ],
             [
              0.5555555555555556,
              "#d8576b"
             ],
             [
              0.6666666666666666,
              "#ed7953"
             ],
             [
              0.7777777777777778,
              "#fb9f3a"
             ],
             [
              0.8888888888888888,
              "#fdca26"
             ],
             [
              1,
              "#f0f921"
             ]
            ],
            "type": "surface"
           }
          ],
          "table": [
           {
            "cells": {
             "fill": {
              "color": "#EBF0F8"
             },
             "line": {
              "color": "white"
             }
            },
            "header": {
             "fill": {
              "color": "#C8D4E3"
             },
             "line": {
              "color": "white"
             }
            },
            "type": "table"
           }
          ]
         },
         "layout": {
          "annotationdefaults": {
           "arrowcolor": "#2a3f5f",
           "arrowhead": 0,
           "arrowwidth": 1
          },
          "autotypenumbers": "strict",
          "coloraxis": {
           "colorbar": {
            "outlinewidth": 0,
            "ticks": ""
           }
          },
          "colorscale": {
           "diverging": [
            [
             0,
             "#8e0152"
            ],
            [
             0.1,
             "#c51b7d"
            ],
            [
             0.2,
             "#de77ae"
            ],
            [
             0.3,
             "#f1b6da"
            ],
            [
             0.4,
             "#fde0ef"
            ],
            [
             0.5,
             "#f7f7f7"
            ],
            [
             0.6,
             "#e6f5d0"
            ],
            [
             0.7,
             "#b8e186"
            ],
            [
             0.8,
             "#7fbc41"
            ],
            [
             0.9,
             "#4d9221"
            ],
            [
             1,
             "#276419"
            ]
           ],
           "sequential": [
            [
             0,
             "#0d0887"
            ],
            [
             0.1111111111111111,
             "#46039f"
            ],
            [
             0.2222222222222222,
             "#7201a8"
            ],
            [
             0.3333333333333333,
             "#9c179e"
            ],
            [
             0.4444444444444444,
             "#bd3786"
            ],
            [
             0.5555555555555556,
             "#d8576b"
            ],
            [
             0.6666666666666666,
             "#ed7953"
            ],
            [
             0.7777777777777778,
             "#fb9f3a"
            ],
            [
             0.8888888888888888,
             "#fdca26"
            ],
            [
             1,
             "#f0f921"
            ]
           ],
           "sequentialminus": [
            [
             0,
             "#0d0887"
            ],
            [
             0.1111111111111111,
             "#46039f"
            ],
            [
             0.2222222222222222,
             "#7201a8"
            ],
            [
             0.3333333333333333,
             "#9c179e"
            ],
            [
             0.4444444444444444,
             "#bd3786"
            ],
            [
             0.5555555555555556,
             "#d8576b"
            ],
            [
             0.6666666666666666,
             "#ed7953"
            ],
            [
             0.7777777777777778,
             "#fb9f3a"
            ],
            [
             0.8888888888888888,
             "#fdca26"
            ],
            [
             1,
             "#f0f921"
            ]
           ]
          },
          "colorway": [
           "#636efa",
           "#EF553B",
           "#00cc96",
           "#ab63fa",
           "#FFA15A",
           "#19d3f3",
           "#FF6692",
           "#B6E880",
           "#FF97FF",
           "#FECB52"
          ],
          "font": {
           "color": "#2a3f5f"
          },
          "geo": {
           "bgcolor": "white",
           "lakecolor": "white",
           "landcolor": "#E5ECF6",
           "showlakes": true,
           "showland": true,
           "subunitcolor": "white"
          },
          "hoverlabel": {
           "align": "left"
          },
          "hovermode": "closest",
          "mapbox": {
           "style": "light"
          },
          "paper_bgcolor": "white",
          "plot_bgcolor": "#E5ECF6",
          "polar": {
           "angularaxis": {
            "gridcolor": "white",
            "linecolor": "white",
            "ticks": ""
           },
           "bgcolor": "#E5ECF6",
           "radialaxis": {
            "gridcolor": "white",
            "linecolor": "white",
            "ticks": ""
           }
          },
          "scene": {
           "xaxis": {
            "backgroundcolor": "#E5ECF6",
            "gridcolor": "white",
            "gridwidth": 2,
            "linecolor": "white",
            "showbackground": true,
            "ticks": "",
            "zerolinecolor": "white"
           },
           "yaxis": {
            "backgroundcolor": "#E5ECF6",
            "gridcolor": "white",
            "gridwidth": 2,
            "linecolor": "white",
            "showbackground": true,
            "ticks": "",
            "zerolinecolor": "white"
           },
           "zaxis": {
            "backgroundcolor": "#E5ECF6",
            "gridcolor": "white",
            "gridwidth": 2,
            "linecolor": "white",
            "showbackground": true,
            "ticks": "",
            "zerolinecolor": "white"
           }
          },
          "shapedefaults": {
           "line": {
            "color": "#2a3f5f"
           }
          },
          "ternary": {
           "aaxis": {
            "gridcolor": "white",
            "linecolor": "white",
            "ticks": ""
           },
           "baxis": {
            "gridcolor": "white",
            "linecolor": "white",
            "ticks": ""
           },
           "bgcolor": "#E5ECF6",
           "caxis": {
            "gridcolor": "white",
            "linecolor": "white",
            "ticks": ""
           }
          },
          "title": {
           "x": 0.05
          },
          "xaxis": {
           "automargin": true,
           "gridcolor": "white",
           "linecolor": "white",
           "ticks": "",
           "title": {
            "standoff": 15
           },
           "zerolinecolor": "white",
           "zerolinewidth": 2
          },
          "yaxis": {
           "automargin": true,
           "gridcolor": "white",
           "linecolor": "white",
           "ticks": "",
           "title": {
            "standoff": 15
           },
           "zerolinecolor": "white",
           "zerolinewidth": 2
          }
         }
        },
        "title": {
         "text": "Econometria",
         "x": 0.5,
         "xanchor": "center"
        },
        "xaxis": {
         "title": {
          "text": "Interesse"
         }
        },
        "yaxis": {
         "title": {
          "text": "Frequência"
         }
        }
       }
      }
     },
     "metadata": {},
     "output_type": "display_data"
    },
    {
     "data": {
      "application/vnd.plotly.v1+json": {
       "config": {
        "plotlyServerURL": "https://plot.ly"
       },
       "data": [
        {
         "marker": {
          "color": "royalblue"
         },
         "type": "bar",
         "x": [
          1,
          2,
          3,
          4,
          5
         ],
         "y": [
          3,
          0,
          6,
          5,
          1
         ]
        }
       ],
       "layout": {
        "annotations": [
         {
          "arrowhead": 2,
          "ax": 0,
          "ay": -40,
          "bgcolor": "white",
          "font": {
           "color": "red",
           "size": 14
          },
          "showarrow": true,
          "text": "Média: 3.07",
          "x": 3.066666666666667,
          "y": 5.4
         }
        ],
        "template": {
         "data": {
          "bar": [
           {
            "error_x": {
             "color": "#2a3f5f"
            },
            "error_y": {
             "color": "#2a3f5f"
            },
            "marker": {
             "line": {
              "color": "#E5ECF6",
              "width": 0.5
             },
             "pattern": {
              "fillmode": "overlay",
              "size": 10,
              "solidity": 0.2
             }
            },
            "type": "bar"
           }
          ],
          "barpolar": [
           {
            "marker": {
             "line": {
              "color": "#E5ECF6",
              "width": 0.5
             },
             "pattern": {
              "fillmode": "overlay",
              "size": 10,
              "solidity": 0.2
             }
            },
            "type": "barpolar"
           }
          ],
          "carpet": [
           {
            "aaxis": {
             "endlinecolor": "#2a3f5f",
             "gridcolor": "white",
             "linecolor": "white",
             "minorgridcolor": "white",
             "startlinecolor": "#2a3f5f"
            },
            "baxis": {
             "endlinecolor": "#2a3f5f",
             "gridcolor": "white",
             "linecolor": "white",
             "minorgridcolor": "white",
             "startlinecolor": "#2a3f5f"
            },
            "type": "carpet"
           }
          ],
          "choropleth": [
           {
            "colorbar": {
             "outlinewidth": 0,
             "ticks": ""
            },
            "type": "choropleth"
           }
          ],
          "contour": [
           {
            "colorbar": {
             "outlinewidth": 0,
             "ticks": ""
            },
            "colorscale": [
             [
              0,
              "#0d0887"
             ],
             [
              0.1111111111111111,
              "#46039f"
             ],
             [
              0.2222222222222222,
              "#7201a8"
             ],
             [
              0.3333333333333333,
              "#9c179e"
             ],
             [
              0.4444444444444444,
              "#bd3786"
             ],
             [
              0.5555555555555556,
              "#d8576b"
             ],
             [
              0.6666666666666666,
              "#ed7953"
             ],
             [
              0.7777777777777778,
              "#fb9f3a"
             ],
             [
              0.8888888888888888,
              "#fdca26"
             ],
             [
              1,
              "#f0f921"
             ]
            ],
            "type": "contour"
           }
          ],
          "contourcarpet": [
           {
            "colorbar": {
             "outlinewidth": 0,
             "ticks": ""
            },
            "type": "contourcarpet"
           }
          ],
          "heatmap": [
           {
            "colorbar": {
             "outlinewidth": 0,
             "ticks": ""
            },
            "colorscale": [
             [
              0,
              "#0d0887"
             ],
             [
              0.1111111111111111,
              "#46039f"
             ],
             [
              0.2222222222222222,
              "#7201a8"
             ],
             [
              0.3333333333333333,
              "#9c179e"
             ],
             [
              0.4444444444444444,
              "#bd3786"
             ],
             [
              0.5555555555555556,
              "#d8576b"
             ],
             [
              0.6666666666666666,
              "#ed7953"
             ],
             [
              0.7777777777777778,
              "#fb9f3a"
             ],
             [
              0.8888888888888888,
              "#fdca26"
             ],
             [
              1,
              "#f0f921"
             ]
            ],
            "type": "heatmap"
           }
          ],
          "heatmapgl": [
           {
            "colorbar": {
             "outlinewidth": 0,
             "ticks": ""
            },
            "colorscale": [
             [
              0,
              "#0d0887"
             ],
             [
              0.1111111111111111,
              "#46039f"
             ],
             [
              0.2222222222222222,
              "#7201a8"
             ],
             [
              0.3333333333333333,
              "#9c179e"
             ],
             [
              0.4444444444444444,
              "#bd3786"
             ],
             [
              0.5555555555555556,
              "#d8576b"
             ],
             [
              0.6666666666666666,
              "#ed7953"
             ],
             [
              0.7777777777777778,
              "#fb9f3a"
             ],
             [
              0.8888888888888888,
              "#fdca26"
             ],
             [
              1,
              "#f0f921"
             ]
            ],
            "type": "heatmapgl"
           }
          ],
          "histogram": [
           {
            "marker": {
             "pattern": {
              "fillmode": "overlay",
              "size": 10,
              "solidity": 0.2
             }
            },
            "type": "histogram"
           }
          ],
          "histogram2d": [
           {
            "colorbar": {
             "outlinewidth": 0,
             "ticks": ""
            },
            "colorscale": [
             [
              0,
              "#0d0887"
             ],
             [
              0.1111111111111111,
              "#46039f"
             ],
             [
              0.2222222222222222,
              "#7201a8"
             ],
             [
              0.3333333333333333,
              "#9c179e"
             ],
             [
              0.4444444444444444,
              "#bd3786"
             ],
             [
              0.5555555555555556,
              "#d8576b"
             ],
             [
              0.6666666666666666,
              "#ed7953"
             ],
             [
              0.7777777777777778,
              "#fb9f3a"
             ],
             [
              0.8888888888888888,
              "#fdca26"
             ],
             [
              1,
              "#f0f921"
             ]
            ],
            "type": "histogram2d"
           }
          ],
          "histogram2dcontour": [
           {
            "colorbar": {
             "outlinewidth": 0,
             "ticks": ""
            },
            "colorscale": [
             [
              0,
              "#0d0887"
             ],
             [
              0.1111111111111111,
              "#46039f"
             ],
             [
              0.2222222222222222,
              "#7201a8"
             ],
             [
              0.3333333333333333,
              "#9c179e"
             ],
             [
              0.4444444444444444,
              "#bd3786"
             ],
             [
              0.5555555555555556,
              "#d8576b"
             ],
             [
              0.6666666666666666,
              "#ed7953"
             ],
             [
              0.7777777777777778,
              "#fb9f3a"
             ],
             [
              0.8888888888888888,
              "#fdca26"
             ],
             [
              1,
              "#f0f921"
             ]
            ],
            "type": "histogram2dcontour"
           }
          ],
          "mesh3d": [
           {
            "colorbar": {
             "outlinewidth": 0,
             "ticks": ""
            },
            "type": "mesh3d"
           }
          ],
          "parcoords": [
           {
            "line": {
             "colorbar": {
              "outlinewidth": 0,
              "ticks": ""
             }
            },
            "type": "parcoords"
           }
          ],
          "pie": [
           {
            "automargin": true,
            "type": "pie"
           }
          ],
          "scatter": [
           {
            "fillpattern": {
             "fillmode": "overlay",
             "size": 10,
             "solidity": 0.2
            },
            "type": "scatter"
           }
          ],
          "scatter3d": [
           {
            "line": {
             "colorbar": {
              "outlinewidth": 0,
              "ticks": ""
             }
            },
            "marker": {
             "colorbar": {
              "outlinewidth": 0,
              "ticks": ""
             }
            },
            "type": "scatter3d"
           }
          ],
          "scattercarpet": [
           {
            "marker": {
             "colorbar": {
              "outlinewidth": 0,
              "ticks": ""
             }
            },
            "type": "scattercarpet"
           }
          ],
          "scattergeo": [
           {
            "marker": {
             "colorbar": {
              "outlinewidth": 0,
              "ticks": ""
             }
            },
            "type": "scattergeo"
           }
          ],
          "scattergl": [
           {
            "marker": {
             "colorbar": {
              "outlinewidth": 0,
              "ticks": ""
             }
            },
            "type": "scattergl"
           }
          ],
          "scattermapbox": [
           {
            "marker": {
             "colorbar": {
              "outlinewidth": 0,
              "ticks": ""
             }
            },
            "type": "scattermapbox"
           }
          ],
          "scatterpolar": [
           {
            "marker": {
             "colorbar": {
              "outlinewidth": 0,
              "ticks": ""
             }
            },
            "type": "scatterpolar"
           }
          ],
          "scatterpolargl": [
           {
            "marker": {
             "colorbar": {
              "outlinewidth": 0,
              "ticks": ""
             }
            },
            "type": "scatterpolargl"
           }
          ],
          "scatterternary": [
           {
            "marker": {
             "colorbar": {
              "outlinewidth": 0,
              "ticks": ""
             }
            },
            "type": "scatterternary"
           }
          ],
          "surface": [
           {
            "colorbar": {
             "outlinewidth": 0,
             "ticks": ""
            },
            "colorscale": [
             [
              0,
              "#0d0887"
             ],
             [
              0.1111111111111111,
              "#46039f"
             ],
             [
              0.2222222222222222,
              "#7201a8"
             ],
             [
              0.3333333333333333,
              "#9c179e"
             ],
             [
              0.4444444444444444,
              "#bd3786"
             ],
             [
              0.5555555555555556,
              "#d8576b"
             ],
             [
              0.6666666666666666,
              "#ed7953"
             ],
             [
              0.7777777777777778,
              "#fb9f3a"
             ],
             [
              0.8888888888888888,
              "#fdca26"
             ],
             [
              1,
              "#f0f921"
             ]
            ],
            "type": "surface"
           }
          ],
          "table": [
           {
            "cells": {
             "fill": {
              "color": "#EBF0F8"
             },
             "line": {
              "color": "white"
             }
            },
            "header": {
             "fill": {
              "color": "#C8D4E3"
             },
             "line": {
              "color": "white"
             }
            },
            "type": "table"
           }
          ]
         },
         "layout": {
          "annotationdefaults": {
           "arrowcolor": "#2a3f5f",
           "arrowhead": 0,
           "arrowwidth": 1
          },
          "autotypenumbers": "strict",
          "coloraxis": {
           "colorbar": {
            "outlinewidth": 0,
            "ticks": ""
           }
          },
          "colorscale": {
           "diverging": [
            [
             0,
             "#8e0152"
            ],
            [
             0.1,
             "#c51b7d"
            ],
            [
             0.2,
             "#de77ae"
            ],
            [
             0.3,
             "#f1b6da"
            ],
            [
             0.4,
             "#fde0ef"
            ],
            [
             0.5,
             "#f7f7f7"
            ],
            [
             0.6,
             "#e6f5d0"
            ],
            [
             0.7,
             "#b8e186"
            ],
            [
             0.8,
             "#7fbc41"
            ],
            [
             0.9,
             "#4d9221"
            ],
            [
             1,
             "#276419"
            ]
           ],
           "sequential": [
            [
             0,
             "#0d0887"
            ],
            [
             0.1111111111111111,
             "#46039f"
            ],
            [
             0.2222222222222222,
             "#7201a8"
            ],
            [
             0.3333333333333333,
             "#9c179e"
            ],
            [
             0.4444444444444444,
             "#bd3786"
            ],
            [
             0.5555555555555556,
             "#d8576b"
            ],
            [
             0.6666666666666666,
             "#ed7953"
            ],
            [
             0.7777777777777778,
             "#fb9f3a"
            ],
            [
             0.8888888888888888,
             "#fdca26"
            ],
            [
             1,
             "#f0f921"
            ]
           ],
           "sequentialminus": [
            [
             0,
             "#0d0887"
            ],
            [
             0.1111111111111111,
             "#46039f"
            ],
            [
             0.2222222222222222,
             "#7201a8"
            ],
            [
             0.3333333333333333,
             "#9c179e"
            ],
            [
             0.4444444444444444,
             "#bd3786"
            ],
            [
             0.5555555555555556,
             "#d8576b"
            ],
            [
             0.6666666666666666,
             "#ed7953"
            ],
            [
             0.7777777777777778,
             "#fb9f3a"
            ],
            [
             0.8888888888888888,
             "#fdca26"
            ],
            [
             1,
             "#f0f921"
            ]
           ]
          },
          "colorway": [
           "#636efa",
           "#EF553B",
           "#00cc96",
           "#ab63fa",
           "#FFA15A",
           "#19d3f3",
           "#FF6692",
           "#B6E880",
           "#FF97FF",
           "#FECB52"
          ],
          "font": {
           "color": "#2a3f5f"
          },
          "geo": {
           "bgcolor": "white",
           "lakecolor": "white",
           "landcolor": "#E5ECF6",
           "showlakes": true,
           "showland": true,
           "subunitcolor": "white"
          },
          "hoverlabel": {
           "align": "left"
          },
          "hovermode": "closest",
          "mapbox": {
           "style": "light"
          },
          "paper_bgcolor": "white",
          "plot_bgcolor": "#E5ECF6",
          "polar": {
           "angularaxis": {
            "gridcolor": "white",
            "linecolor": "white",
            "ticks": ""
           },
           "bgcolor": "#E5ECF6",
           "radialaxis": {
            "gridcolor": "white",
            "linecolor": "white",
            "ticks": ""
           }
          },
          "scene": {
           "xaxis": {
            "backgroundcolor": "#E5ECF6",
            "gridcolor": "white",
            "gridwidth": 2,
            "linecolor": "white",
            "showbackground": true,
            "ticks": "",
            "zerolinecolor": "white"
           },
           "yaxis": {
            "backgroundcolor": "#E5ECF6",
            "gridcolor": "white",
            "gridwidth": 2,
            "linecolor": "white",
            "showbackground": true,
            "ticks": "",
            "zerolinecolor": "white"
           },
           "zaxis": {
            "backgroundcolor": "#E5ECF6",
            "gridcolor": "white",
            "gridwidth": 2,
            "linecolor": "white",
            "showbackground": true,
            "ticks": "",
            "zerolinecolor": "white"
           }
          },
          "shapedefaults": {
           "line": {
            "color": "#2a3f5f"
           }
          },
          "ternary": {
           "aaxis": {
            "gridcolor": "white",
            "linecolor": "white",
            "ticks": ""
           },
           "baxis": {
            "gridcolor": "white",
            "linecolor": "white",
            "ticks": ""
           },
           "bgcolor": "#E5ECF6",
           "caxis": {
            "gridcolor": "white",
            "linecolor": "white",
            "ticks": ""
           }
          },
          "title": {
           "x": 0.05
          },
          "xaxis": {
           "automargin": true,
           "gridcolor": "white",
           "linecolor": "white",
           "ticks": "",
           "title": {
            "standoff": 15
           },
           "zerolinecolor": "white",
           "zerolinewidth": 2
          },
          "yaxis": {
           "automargin": true,
           "gridcolor": "white",
           "linecolor": "white",
           "ticks": "",
           "title": {
            "standoff": 15
           },
           "zerolinecolor": "white",
           "zerolinewidth": 2
          }
         }
        },
        "title": {
         "text": "Economia",
         "x": 0.5,
         "xanchor": "center"
        },
        "xaxis": {
         "title": {
          "text": "Interesse"
         }
        },
        "yaxis": {
         "title": {
          "text": "Frequência"
         }
        }
       }
      }
     },
     "metadata": {},
     "output_type": "display_data"
    },
    {
     "data": {
      "application/vnd.plotly.v1+json": {
       "config": {
        "plotlyServerURL": "https://plot.ly"
       },
       "data": [
        {
         "marker": {
          "color": "royalblue"
         },
         "type": "bar",
         "x": [
          1,
          2,
          3,
          4,
          5
         ],
         "y": [
          2,
          3,
          5,
          3,
          2
         ]
        }
       ],
       "layout": {
        "annotations": [
         {
          "arrowhead": 2,
          "ax": 0,
          "ay": -40,
          "bgcolor": "white",
          "font": {
           "color": "red",
           "size": 14
          },
          "showarrow": true,
          "text": "Média: 3.00",
          "x": 3,
          "y": 4.5
         }
        ],
        "template": {
         "data": {
          "bar": [
           {
            "error_x": {
             "color": "#2a3f5f"
            },
            "error_y": {
             "color": "#2a3f5f"
            },
            "marker": {
             "line": {
              "color": "#E5ECF6",
              "width": 0.5
             },
             "pattern": {
              "fillmode": "overlay",
              "size": 10,
              "solidity": 0.2
             }
            },
            "type": "bar"
           }
          ],
          "barpolar": [
           {
            "marker": {
             "line": {
              "color": "#E5ECF6",
              "width": 0.5
             },
             "pattern": {
              "fillmode": "overlay",
              "size": 10,
              "solidity": 0.2
             }
            },
            "type": "barpolar"
           }
          ],
          "carpet": [
           {
            "aaxis": {
             "endlinecolor": "#2a3f5f",
             "gridcolor": "white",
             "linecolor": "white",
             "minorgridcolor": "white",
             "startlinecolor": "#2a3f5f"
            },
            "baxis": {
             "endlinecolor": "#2a3f5f",
             "gridcolor": "white",
             "linecolor": "white",
             "minorgridcolor": "white",
             "startlinecolor": "#2a3f5f"
            },
            "type": "carpet"
           }
          ],
          "choropleth": [
           {
            "colorbar": {
             "outlinewidth": 0,
             "ticks": ""
            },
            "type": "choropleth"
           }
          ],
          "contour": [
           {
            "colorbar": {
             "outlinewidth": 0,
             "ticks": ""
            },
            "colorscale": [
             [
              0,
              "#0d0887"
             ],
             [
              0.1111111111111111,
              "#46039f"
             ],
             [
              0.2222222222222222,
              "#7201a8"
             ],
             [
              0.3333333333333333,
              "#9c179e"
             ],
             [
              0.4444444444444444,
              "#bd3786"
             ],
             [
              0.5555555555555556,
              "#d8576b"
             ],
             [
              0.6666666666666666,
              "#ed7953"
             ],
             [
              0.7777777777777778,
              "#fb9f3a"
             ],
             [
              0.8888888888888888,
              "#fdca26"
             ],
             [
              1,
              "#f0f921"
             ]
            ],
            "type": "contour"
           }
          ],
          "contourcarpet": [
           {
            "colorbar": {
             "outlinewidth": 0,
             "ticks": ""
            },
            "type": "contourcarpet"
           }
          ],
          "heatmap": [
           {
            "colorbar": {
             "outlinewidth": 0,
             "ticks": ""
            },
            "colorscale": [
             [
              0,
              "#0d0887"
             ],
             [
              0.1111111111111111,
              "#46039f"
             ],
             [
              0.2222222222222222,
              "#7201a8"
             ],
             [
              0.3333333333333333,
              "#9c179e"
             ],
             [
              0.4444444444444444,
              "#bd3786"
             ],
             [
              0.5555555555555556,
              "#d8576b"
             ],
             [
              0.6666666666666666,
              "#ed7953"
             ],
             [
              0.7777777777777778,
              "#fb9f3a"
             ],
             [
              0.8888888888888888,
              "#fdca26"
             ],
             [
              1,
              "#f0f921"
             ]
            ],
            "type": "heatmap"
           }
          ],
          "heatmapgl": [
           {
            "colorbar": {
             "outlinewidth": 0,
             "ticks": ""
            },
            "colorscale": [
             [
              0,
              "#0d0887"
             ],
             [
              0.1111111111111111,
              "#46039f"
             ],
             [
              0.2222222222222222,
              "#7201a8"
             ],
             [
              0.3333333333333333,
              "#9c179e"
             ],
             [
              0.4444444444444444,
              "#bd3786"
             ],
             [
              0.5555555555555556,
              "#d8576b"
             ],
             [
              0.6666666666666666,
              "#ed7953"
             ],
             [
              0.7777777777777778,
              "#fb9f3a"
             ],
             [
              0.8888888888888888,
              "#fdca26"
             ],
             [
              1,
              "#f0f921"
             ]
            ],
            "type": "heatmapgl"
           }
          ],
          "histogram": [
           {
            "marker": {
             "pattern": {
              "fillmode": "overlay",
              "size": 10,
              "solidity": 0.2
             }
            },
            "type": "histogram"
           }
          ],
          "histogram2d": [
           {
            "colorbar": {
             "outlinewidth": 0,
             "ticks": ""
            },
            "colorscale": [
             [
              0,
              "#0d0887"
             ],
             [
              0.1111111111111111,
              "#46039f"
             ],
             [
              0.2222222222222222,
              "#7201a8"
             ],
             [
              0.3333333333333333,
              "#9c179e"
             ],
             [
              0.4444444444444444,
              "#bd3786"
             ],
             [
              0.5555555555555556,
              "#d8576b"
             ],
             [
              0.6666666666666666,
              "#ed7953"
             ],
             [
              0.7777777777777778,
              "#fb9f3a"
             ],
             [
              0.8888888888888888,
              "#fdca26"
             ],
             [
              1,
              "#f0f921"
             ]
            ],
            "type": "histogram2d"
           }
          ],
          "histogram2dcontour": [
           {
            "colorbar": {
             "outlinewidth": 0,
             "ticks": ""
            },
            "colorscale": [
             [
              0,
              "#0d0887"
             ],
             [
              0.1111111111111111,
              "#46039f"
             ],
             [
              0.2222222222222222,
              "#7201a8"
             ],
             [
              0.3333333333333333,
              "#9c179e"
             ],
             [
              0.4444444444444444,
              "#bd3786"
             ],
             [
              0.5555555555555556,
              "#d8576b"
             ],
             [
              0.6666666666666666,
              "#ed7953"
             ],
             [
              0.7777777777777778,
              "#fb9f3a"
             ],
             [
              0.8888888888888888,
              "#fdca26"
             ],
             [
              1,
              "#f0f921"
             ]
            ],
            "type": "histogram2dcontour"
           }
          ],
          "mesh3d": [
           {
            "colorbar": {
             "outlinewidth": 0,
             "ticks": ""
            },
            "type": "mesh3d"
           }
          ],
          "parcoords": [
           {
            "line": {
             "colorbar": {
              "outlinewidth": 0,
              "ticks": ""
             }
            },
            "type": "parcoords"
           }
          ],
          "pie": [
           {
            "automargin": true,
            "type": "pie"
           }
          ],
          "scatter": [
           {
            "fillpattern": {
             "fillmode": "overlay",
             "size": 10,
             "solidity": 0.2
            },
            "type": "scatter"
           }
          ],
          "scatter3d": [
           {
            "line": {
             "colorbar": {
              "outlinewidth": 0,
              "ticks": ""
             }
            },
            "marker": {
             "colorbar": {
              "outlinewidth": 0,
              "ticks": ""
             }
            },
            "type": "scatter3d"
           }
          ],
          "scattercarpet": [
           {
            "marker": {
             "colorbar": {
              "outlinewidth": 0,
              "ticks": ""
             }
            },
            "type": "scattercarpet"
           }
          ],
          "scattergeo": [
           {
            "marker": {
             "colorbar": {
              "outlinewidth": 0,
              "ticks": ""
             }
            },
            "type": "scattergeo"
           }
          ],
          "scattergl": [
           {
            "marker": {
             "colorbar": {
              "outlinewidth": 0,
              "ticks": ""
             }
            },
            "type": "scattergl"
           }
          ],
          "scattermapbox": [
           {
            "marker": {
             "colorbar": {
              "outlinewidth": 0,
              "ticks": ""
             }
            },
            "type": "scattermapbox"
           }
          ],
          "scatterpolar": [
           {
            "marker": {
             "colorbar": {
              "outlinewidth": 0,
              "ticks": ""
             }
            },
            "type": "scatterpolar"
           }
          ],
          "scatterpolargl": [
           {
            "marker": {
             "colorbar": {
              "outlinewidth": 0,
              "ticks": ""
             }
            },
            "type": "scatterpolargl"
           }
          ],
          "scatterternary": [
           {
            "marker": {
             "colorbar": {
              "outlinewidth": 0,
              "ticks": ""
             }
            },
            "type": "scatterternary"
           }
          ],
          "surface": [
           {
            "colorbar": {
             "outlinewidth": 0,
             "ticks": ""
            },
            "colorscale": [
             [
              0,
              "#0d0887"
             ],
             [
              0.1111111111111111,
              "#46039f"
             ],
             [
              0.2222222222222222,
              "#7201a8"
             ],
             [
              0.3333333333333333,
              "#9c179e"
             ],
             [
              0.4444444444444444,
              "#bd3786"
             ],
             [
              0.5555555555555556,
              "#d8576b"
             ],
             [
              0.6666666666666666,
              "#ed7953"
             ],
             [
              0.7777777777777778,
              "#fb9f3a"
             ],
             [
              0.8888888888888888,
              "#fdca26"
             ],
             [
              1,
              "#f0f921"
             ]
            ],
            "type": "surface"
           }
          ],
          "table": [
           {
            "cells": {
             "fill": {
              "color": "#EBF0F8"
             },
             "line": {
              "color": "white"
             }
            },
            "header": {
             "fill": {
              "color": "#C8D4E3"
             },
             "line": {
              "color": "white"
             }
            },
            "type": "table"
           }
          ]
         },
         "layout": {
          "annotationdefaults": {
           "arrowcolor": "#2a3f5f",
           "arrowhead": 0,
           "arrowwidth": 1
          },
          "autotypenumbers": "strict",
          "coloraxis": {
           "colorbar": {
            "outlinewidth": 0,
            "ticks": ""
           }
          },
          "colorscale": {
           "diverging": [
            [
             0,
             "#8e0152"
            ],
            [
             0.1,
             "#c51b7d"
            ],
            [
             0.2,
             "#de77ae"
            ],
            [
             0.3,
             "#f1b6da"
            ],
            [
             0.4,
             "#fde0ef"
            ],
            [
             0.5,
             "#f7f7f7"
            ],
            [
             0.6,
             "#e6f5d0"
            ],
            [
             0.7,
             "#b8e186"
            ],
            [
             0.8,
             "#7fbc41"
            ],
            [
             0.9,
             "#4d9221"
            ],
            [
             1,
             "#276419"
            ]
           ],
           "sequential": [
            [
             0,
             "#0d0887"
            ],
            [
             0.1111111111111111,
             "#46039f"
            ],
            [
             0.2222222222222222,
             "#7201a8"
            ],
            [
             0.3333333333333333,
             "#9c179e"
            ],
            [
             0.4444444444444444,
             "#bd3786"
            ],
            [
             0.5555555555555556,
             "#d8576b"
            ],
            [
             0.6666666666666666,
             "#ed7953"
            ],
            [
             0.7777777777777778,
             "#fb9f3a"
            ],
            [
             0.8888888888888888,
             "#fdca26"
            ],
            [
             1,
             "#f0f921"
            ]
           ],
           "sequentialminus": [
            [
             0,
             "#0d0887"
            ],
            [
             0.1111111111111111,
             "#46039f"
            ],
            [
             0.2222222222222222,
             "#7201a8"
            ],
            [
             0.3333333333333333,
             "#9c179e"
            ],
            [
             0.4444444444444444,
             "#bd3786"
            ],
            [
             0.5555555555555556,
             "#d8576b"
            ],
            [
             0.6666666666666666,
             "#ed7953"
            ],
            [
             0.7777777777777778,
             "#fb9f3a"
            ],
            [
             0.8888888888888888,
             "#fdca26"
            ],
            [
             1,
             "#f0f921"
            ]
           ]
          },
          "colorway": [
           "#636efa",
           "#EF553B",
           "#00cc96",
           "#ab63fa",
           "#FFA15A",
           "#19d3f3",
           "#FF6692",
           "#B6E880",
           "#FF97FF",
           "#FECB52"
          ],
          "font": {
           "color": "#2a3f5f"
          },
          "geo": {
           "bgcolor": "white",
           "lakecolor": "white",
           "landcolor": "#E5ECF6",
           "showlakes": true,
           "showland": true,
           "subunitcolor": "white"
          },
          "hoverlabel": {
           "align": "left"
          },
          "hovermode": "closest",
          "mapbox": {
           "style": "light"
          },
          "paper_bgcolor": "white",
          "plot_bgcolor": "#E5ECF6",
          "polar": {
           "angularaxis": {
            "gridcolor": "white",
            "linecolor": "white",
            "ticks": ""
           },
           "bgcolor": "#E5ECF6",
           "radialaxis": {
            "gridcolor": "white",
            "linecolor": "white",
            "ticks": ""
           }
          },
          "scene": {
           "xaxis": {
            "backgroundcolor": "#E5ECF6",
            "gridcolor": "white",
            "gridwidth": 2,
            "linecolor": "white",
            "showbackground": true,
            "ticks": "",
            "zerolinecolor": "white"
           },
           "yaxis": {
            "backgroundcolor": "#E5ECF6",
            "gridcolor": "white",
            "gridwidth": 2,
            "linecolor": "white",
            "showbackground": true,
            "ticks": "",
            "zerolinecolor": "white"
           },
           "zaxis": {
            "backgroundcolor": "#E5ECF6",
            "gridcolor": "white",
            "gridwidth": 2,
            "linecolor": "white",
            "showbackground": true,
            "ticks": "",
            "zerolinecolor": "white"
           }
          },
          "shapedefaults": {
           "line": {
            "color": "#2a3f5f"
           }
          },
          "ternary": {
           "aaxis": {
            "gridcolor": "white",
            "linecolor": "white",
            "ticks": ""
           },
           "baxis": {
            "gridcolor": "white",
            "linecolor": "white",
            "ticks": ""
           },
           "bgcolor": "#E5ECF6",
           "caxis": {
            "gridcolor": "white",
            "linecolor": "white",
            "ticks": ""
           }
          },
          "title": {
           "x": 0.05
          },
          "xaxis": {
           "automargin": true,
           "gridcolor": "white",
           "linecolor": "white",
           "ticks": "",
           "title": {
            "standoff": 15
           },
           "zerolinecolor": "white",
           "zerolinewidth": 2
          },
          "yaxis": {
           "automargin": true,
           "gridcolor": "white",
           "linecolor": "white",
           "ticks": "",
           "title": {
            "standoff": 15
           },
           "zerolinecolor": "white",
           "zerolinewidth": 2
          }
         }
        },
        "title": {
         "text": "Negócios",
         "x": 0.5,
         "xanchor": "center"
        },
        "xaxis": {
         "title": {
          "text": "Interesse"
         }
        },
        "yaxis": {
         "title": {
          "text": "Frequência"
         }
        }
       }
      }
     },
     "metadata": {},
     "output_type": "display_data"
    }
   ],
   "source": [
    "# O código abaixo gera, exibe e guarda uma série de gráficos de barras que visualizam a distribuição dos níveis de competência\n",
    "# dos membros que pretendem continuar ativos.\n",
    "\n",
    "bar_charts_competencias = []\n",
    "for column in df_ativos_competencias.iloc[:, 1:].columns:\n",
    "    # Cria a série de valores.\n",
    "    serie = df_ativos_competencias[column]\n",
    "    \n",
    "    # Calcula a média dos valores.\n",
    "    media = serie.mean()\n",
    "     \n",
    "    # Conta a frequência de cada valor.\n",
    "    frequencias = serie.value_counts().reindex([1.0, 2.0, 3.0, 4.0, 5.0], fill_value=0)\n",
    "    \n",
    "    # Cria o gráfico e adiciona à lista.\n",
    "    fig = criar_grafico_barras(frequencias, f\"{column}\", \"Interesse\", \"Frequência\", media)\n",
    "    bar_charts_competencias.append(fig)\n",
    "    \n",
    "    # Exibe o gráfico\n",
    "    fig.show()"
   ]
  },
  {
   "cell_type": "markdown",
   "metadata": {},
   "source": [
    "### Como é a distribuição dos interesses dos membros que pretendem continuar ativos ?"
   ]
  },
  {
   "cell_type": "code",
   "execution_count": null,
   "metadata": {},
   "outputs": [
    {
     "data": {
      "text/html": [
       "<div>\n",
       "<style scoped>\n",
       "    .dataframe tbody tr th:only-of-type {\n",
       "        vertical-align: middle;\n",
       "    }\n",
       "\n",
       "    .dataframe tbody tr th {\n",
       "        vertical-align: top;\n",
       "    }\n",
       "\n",
       "    .dataframe thead th {\n",
       "        text-align: right;\n",
       "    }\n",
       "</style>\n",
       "<table border=\"1\" class=\"dataframe\">\n",
       "  <thead>\n",
       "    <tr style=\"text-align: right;\">\n",
       "      <th></th>\n",
       "      <th>Nome</th>\n",
       "      <th>1º tema de interesse:</th>\n",
       "      <th>2º tema de interesse:</th>\n",
       "      <th>3º tema de interesse:</th>\n",
       "      <th>4º tema de interesse:</th>\n",
       "    </tr>\n",
       "  </thead>\n",
       "  <tbody>\n",
       "    <tr>\n",
       "      <th>4</th>\n",
       "      <td>Vitor Aratani Katayama</td>\n",
       "      <td>Ciência de Dados</td>\n",
       "      <td>Inteligência Artificial</td>\n",
       "      <td>Finanças Qualitativas</td>\n",
       "      <td>Finanças Quantitativas</td>\n",
       "    </tr>\n",
       "    <tr>\n",
       "      <th>5</th>\n",
       "      <td>Gabriel Finamore</td>\n",
       "      <td>Finanças Quantitativas</td>\n",
       "      <td>Finanças Qualitativas</td>\n",
       "      <td>Excel</td>\n",
       "      <td>Criptomoedas</td>\n",
       "    </tr>\n",
       "    <tr>\n",
       "      <th>8</th>\n",
       "      <td>Anna Yoshi Une Mesquita</td>\n",
       "      <td>Excel</td>\n",
       "      <td>Ciência de Dados</td>\n",
       "      <td>Banco de dados</td>\n",
       "      <td>Finanças Quantitativas</td>\n",
       "    </tr>\n",
       "    <tr>\n",
       "      <th>10</th>\n",
       "      <td>Luisa Yumi Aoki Ribas</td>\n",
       "      <td>Finanças Quantitativas</td>\n",
       "      <td>Inteligência Artificial</td>\n",
       "      <td>Finanças Qualitativas</td>\n",
       "      <td>Excel</td>\n",
       "    </tr>\n",
       "    <tr>\n",
       "      <th>12</th>\n",
       "      <td>Jessica Sayuri Goya Higa</td>\n",
       "      <td>Excel</td>\n",
       "      <td>Visualização de Dados</td>\n",
       "      <td>Finanças Quantitativas</td>\n",
       "      <td>Finanças Qualitativas</td>\n",
       "    </tr>\n",
       "    <tr>\n",
       "      <th>13</th>\n",
       "      <td>José Eduardo Santos Sarrico</td>\n",
       "      <td>Web Scrapping</td>\n",
       "      <td>Inteligência Artificial</td>\n",
       "      <td>Computação em nuvem (Cloud)</td>\n",
       "      <td>Finanças Qualitativas</td>\n",
       "    </tr>\n",
       "    <tr>\n",
       "      <th>14</th>\n",
       "      <td>Felipe da Silva Melo</td>\n",
       "      <td>Ciência de Dados</td>\n",
       "      <td>Finanças Quantitativas</td>\n",
       "      <td>Desenvolvimento Web</td>\n",
       "      <td>Inteligência Artificial</td>\n",
       "    </tr>\n",
       "    <tr>\n",
       "      <th>15</th>\n",
       "      <td>Henrique Nogueira Pedro Lindoso</td>\n",
       "      <td>Ciência de Dados</td>\n",
       "      <td>Inteligência Artificial</td>\n",
       "      <td>Visualização de Dados</td>\n",
       "      <td>Finanças Quantitativas</td>\n",
       "    </tr>\n",
       "    <tr>\n",
       "      <th>18</th>\n",
       "      <td>Rafael Derrico dos Santos Abreu</td>\n",
       "      <td>Ciência de Dados</td>\n",
       "      <td>Visualização de Dados</td>\n",
       "      <td>Excel</td>\n",
       "      <td>Engenharia de Dados</td>\n",
       "    </tr>\n",
       "    <tr>\n",
       "      <th>19</th>\n",
       "      <td>Lucas Tortelli de Moura</td>\n",
       "      <td>Finanças Quantitativas</td>\n",
       "      <td>Banco de dados</td>\n",
       "      <td>Web Scrapping</td>\n",
       "      <td>Excel</td>\n",
       "    </tr>\n",
       "    <tr>\n",
       "      <th>26</th>\n",
       "      <td>Ygor Ronnan Miguel Reis</td>\n",
       "      <td>Ciência de Dados</td>\n",
       "      <td>Finanças Qualitativas</td>\n",
       "      <td>Inteligência Artificial</td>\n",
       "      <td>Excel</td>\n",
       "    </tr>\n",
       "    <tr>\n",
       "      <th>27</th>\n",
       "      <td>Felippe Gomes Bertollo</td>\n",
       "      <td>Ciência de Dados</td>\n",
       "      <td>Finanças Quantitativas</td>\n",
       "      <td>Excel</td>\n",
       "      <td>Finanças Qualitativas</td>\n",
       "    </tr>\n",
       "    <tr>\n",
       "      <th>28</th>\n",
       "      <td>Felipe Hideki Komi</td>\n",
       "      <td>Excel</td>\n",
       "      <td>Visualização de Dados</td>\n",
       "      <td>Banco de dados</td>\n",
       "      <td>Ciência de Dados</td>\n",
       "    </tr>\n",
       "    <tr>\n",
       "      <th>29</th>\n",
       "      <td>Emmanuelita Stephene Emmanuel</td>\n",
       "      <td>Ciência de Dados</td>\n",
       "      <td>Web Scrapping</td>\n",
       "      <td>Inteligência Artificial</td>\n",
       "      <td>Finanças Quantitativas</td>\n",
       "    </tr>\n",
       "    <tr>\n",
       "      <th>31</th>\n",
       "      <td>Caio Huang</td>\n",
       "      <td>Finanças Quantitativas</td>\n",
       "      <td>Finanças Qualitativas</td>\n",
       "      <td>Engenharia de Dados</td>\n",
       "      <td>Ciência de Dados</td>\n",
       "    </tr>\n",
       "  </tbody>\n",
       "</table>\n",
       "</div>"
      ],
      "text/plain": [
       "                                Nome   1º tema de interesse:  \\\n",
       "4             Vitor Aratani Katayama        Ciência de Dados   \n",
       "5                   Gabriel Finamore  Finanças Quantitativas   \n",
       "8            Anna Yoshi Une Mesquita                   Excel   \n",
       "10            Luisa Yumi Aoki Ribas   Finanças Quantitativas   \n",
       "12          Jessica Sayuri Goya Higa                   Excel   \n",
       "13      José Eduardo Santos Sarrico            Web Scrapping   \n",
       "14              Felipe da Silva Melo        Ciência de Dados   \n",
       "15   Henrique Nogueira Pedro Lindoso        Ciência de Dados   \n",
       "18  Rafael Derrico dos Santos Abreu         Ciência de Dados   \n",
       "19           Lucas Tortelli de Moura  Finanças Quantitativas   \n",
       "26           Ygor Ronnan Miguel Reis        Ciência de Dados   \n",
       "27            Felippe Gomes Bertollo        Ciência de Dados   \n",
       "28                Felipe Hideki Komi                   Excel   \n",
       "29    Emmanuelita Stephene Emmanuel         Ciência de Dados   \n",
       "31                        Caio Huang  Finanças Quantitativas   \n",
       "\n",
       "      2º tema de interesse:        3º tema de interesse:  \\\n",
       "4   Inteligência Artificial        Finanças Qualitativas   \n",
       "5     Finanças Qualitativas                        Excel   \n",
       "8          Ciência de Dados               Banco de dados   \n",
       "10  Inteligência Artificial        Finanças Qualitativas   \n",
       "12    Visualização de Dados       Finanças Quantitativas   \n",
       "13  Inteligência Artificial  Computação em nuvem (Cloud)   \n",
       "14   Finanças Quantitativas          Desenvolvimento Web   \n",
       "15  Inteligência Artificial        Visualização de Dados   \n",
       "18    Visualização de Dados                        Excel   \n",
       "19           Banco de dados                Web Scrapping   \n",
       "26    Finanças Qualitativas      Inteligência Artificial   \n",
       "27   Finanças Quantitativas                        Excel   \n",
       "28    Visualização de Dados               Banco de dados   \n",
       "29            Web Scrapping      Inteligência Artificial   \n",
       "31    Finanças Qualitativas          Engenharia de Dados   \n",
       "\n",
       "      4º tema de interesse:  \n",
       "4    Finanças Quantitativas  \n",
       "5              Criptomoedas  \n",
       "8    Finanças Quantitativas  \n",
       "10                    Excel  \n",
       "12    Finanças Qualitativas  \n",
       "13    Finanças Qualitativas  \n",
       "14  Inteligência Artificial  \n",
       "15   Finanças Quantitativas  \n",
       "18      Engenharia de Dados  \n",
       "19                    Excel  \n",
       "26                    Excel  \n",
       "27    Finanças Qualitativas  \n",
       "28         Ciência de Dados  \n",
       "29   Finanças Quantitativas  \n",
       "31         Ciência de Dados  "
      ]
     },
     "execution_count": 23,
     "metadata": {},
     "output_type": "execute_result"
    }
   ],
   "source": [
    "# Filtra as colunas específicas do DataFrame 'df_ativos' que contêm informações sobre os nomes dos ativos e suas competências.\n",
    "df_ativos_interesses = df_ativos[['Nome','1º tema de interesse:','2º tema de interesse:','3º tema de interesse:','4º tema de interesse:']]\n",
    "\n",
    "# Exibe o DataFrame resultante contendo apenas as colunas selecionadas.\n",
    "df_ativos_interesses"
   ]
  },
  {
   "cell_type": "code",
   "execution_count": 24,
   "metadata": {},
   "outputs": [
    {
     "data": {
      "application/vnd.plotly.v1+json": {
       "config": {
        "plotlyServerURL": "https://plot.ly"
       },
       "data": [
        {
         "marker": {
          "color": "royalblue"
         },
         "type": "bar",
         "x": [
          "Ciência de Dados",
          "Finanças Quantitativas",
          "Excel",
          "Web Scrapping"
         ],
         "y": [
          7,
          4,
          3,
          1
         ]
        }
       ],
       "layout": {
        "template": {
         "data": {
          "bar": [
           {
            "error_x": {
             "color": "#2a3f5f"
            },
            "error_y": {
             "color": "#2a3f5f"
            },
            "marker": {
             "line": {
              "color": "#E5ECF6",
              "width": 0.5
             },
             "pattern": {
              "fillmode": "overlay",
              "size": 10,
              "solidity": 0.2
             }
            },
            "type": "bar"
           }
          ],
          "barpolar": [
           {
            "marker": {
             "line": {
              "color": "#E5ECF6",
              "width": 0.5
             },
             "pattern": {
              "fillmode": "overlay",
              "size": 10,
              "solidity": 0.2
             }
            },
            "type": "barpolar"
           }
          ],
          "carpet": [
           {
            "aaxis": {
             "endlinecolor": "#2a3f5f",
             "gridcolor": "white",
             "linecolor": "white",
             "minorgridcolor": "white",
             "startlinecolor": "#2a3f5f"
            },
            "baxis": {
             "endlinecolor": "#2a3f5f",
             "gridcolor": "white",
             "linecolor": "white",
             "minorgridcolor": "white",
             "startlinecolor": "#2a3f5f"
            },
            "type": "carpet"
           }
          ],
          "choropleth": [
           {
            "colorbar": {
             "outlinewidth": 0,
             "ticks": ""
            },
            "type": "choropleth"
           }
          ],
          "contour": [
           {
            "colorbar": {
             "outlinewidth": 0,
             "ticks": ""
            },
            "colorscale": [
             [
              0,
              "#0d0887"
             ],
             [
              0.1111111111111111,
              "#46039f"
             ],
             [
              0.2222222222222222,
              "#7201a8"
             ],
             [
              0.3333333333333333,
              "#9c179e"
             ],
             [
              0.4444444444444444,
              "#bd3786"
             ],
             [
              0.5555555555555556,
              "#d8576b"
             ],
             [
              0.6666666666666666,
              "#ed7953"
             ],
             [
              0.7777777777777778,
              "#fb9f3a"
             ],
             [
              0.8888888888888888,
              "#fdca26"
             ],
             [
              1,
              "#f0f921"
             ]
            ],
            "type": "contour"
           }
          ],
          "contourcarpet": [
           {
            "colorbar": {
             "outlinewidth": 0,
             "ticks": ""
            },
            "type": "contourcarpet"
           }
          ],
          "heatmap": [
           {
            "colorbar": {
             "outlinewidth": 0,
             "ticks": ""
            },
            "colorscale": [
             [
              0,
              "#0d0887"
             ],
             [
              0.1111111111111111,
              "#46039f"
             ],
             [
              0.2222222222222222,
              "#7201a8"
             ],
             [
              0.3333333333333333,
              "#9c179e"
             ],
             [
              0.4444444444444444,
              "#bd3786"
             ],
             [
              0.5555555555555556,
              "#d8576b"
             ],
             [
              0.6666666666666666,
              "#ed7953"
             ],
             [
              0.7777777777777778,
              "#fb9f3a"
             ],
             [
              0.8888888888888888,
              "#fdca26"
             ],
             [
              1,
              "#f0f921"
             ]
            ],
            "type": "heatmap"
           }
          ],
          "heatmapgl": [
           {
            "colorbar": {
             "outlinewidth": 0,
             "ticks": ""
            },
            "colorscale": [
             [
              0,
              "#0d0887"
             ],
             [
              0.1111111111111111,
              "#46039f"
             ],
             [
              0.2222222222222222,
              "#7201a8"
             ],
             [
              0.3333333333333333,
              "#9c179e"
             ],
             [
              0.4444444444444444,
              "#bd3786"
             ],
             [
              0.5555555555555556,
              "#d8576b"
             ],
             [
              0.6666666666666666,
              "#ed7953"
             ],
             [
              0.7777777777777778,
              "#fb9f3a"
             ],
             [
              0.8888888888888888,
              "#fdca26"
             ],
             [
              1,
              "#f0f921"
             ]
            ],
            "type": "heatmapgl"
           }
          ],
          "histogram": [
           {
            "marker": {
             "pattern": {
              "fillmode": "overlay",
              "size": 10,
              "solidity": 0.2
             }
            },
            "type": "histogram"
           }
          ],
          "histogram2d": [
           {
            "colorbar": {
             "outlinewidth": 0,
             "ticks": ""
            },
            "colorscale": [
             [
              0,
              "#0d0887"
             ],
             [
              0.1111111111111111,
              "#46039f"
             ],
             [
              0.2222222222222222,
              "#7201a8"
             ],
             [
              0.3333333333333333,
              "#9c179e"
             ],
             [
              0.4444444444444444,
              "#bd3786"
             ],
             [
              0.5555555555555556,
              "#d8576b"
             ],
             [
              0.6666666666666666,
              "#ed7953"
             ],
             [
              0.7777777777777778,
              "#fb9f3a"
             ],
             [
              0.8888888888888888,
              "#fdca26"
             ],
             [
              1,
              "#f0f921"
             ]
            ],
            "type": "histogram2d"
           }
          ],
          "histogram2dcontour": [
           {
            "colorbar": {
             "outlinewidth": 0,
             "ticks": ""
            },
            "colorscale": [
             [
              0,
              "#0d0887"
             ],
             [
              0.1111111111111111,
              "#46039f"
             ],
             [
              0.2222222222222222,
              "#7201a8"
             ],
             [
              0.3333333333333333,
              "#9c179e"
             ],
             [
              0.4444444444444444,
              "#bd3786"
             ],
             [
              0.5555555555555556,
              "#d8576b"
             ],
             [
              0.6666666666666666,
              "#ed7953"
             ],
             [
              0.7777777777777778,
              "#fb9f3a"
             ],
             [
              0.8888888888888888,
              "#fdca26"
             ],
             [
              1,
              "#f0f921"
             ]
            ],
            "type": "histogram2dcontour"
           }
          ],
          "mesh3d": [
           {
            "colorbar": {
             "outlinewidth": 0,
             "ticks": ""
            },
            "type": "mesh3d"
           }
          ],
          "parcoords": [
           {
            "line": {
             "colorbar": {
              "outlinewidth": 0,
              "ticks": ""
             }
            },
            "type": "parcoords"
           }
          ],
          "pie": [
           {
            "automargin": true,
            "type": "pie"
           }
          ],
          "scatter": [
           {
            "fillpattern": {
             "fillmode": "overlay",
             "size": 10,
             "solidity": 0.2
            },
            "type": "scatter"
           }
          ],
          "scatter3d": [
           {
            "line": {
             "colorbar": {
              "outlinewidth": 0,
              "ticks": ""
             }
            },
            "marker": {
             "colorbar": {
              "outlinewidth": 0,
              "ticks": ""
             }
            },
            "type": "scatter3d"
           }
          ],
          "scattercarpet": [
           {
            "marker": {
             "colorbar": {
              "outlinewidth": 0,
              "ticks": ""
             }
            },
            "type": "scattercarpet"
           }
          ],
          "scattergeo": [
           {
            "marker": {
             "colorbar": {
              "outlinewidth": 0,
              "ticks": ""
             }
            },
            "type": "scattergeo"
           }
          ],
          "scattergl": [
           {
            "marker": {
             "colorbar": {
              "outlinewidth": 0,
              "ticks": ""
             }
            },
            "type": "scattergl"
           }
          ],
          "scattermapbox": [
           {
            "marker": {
             "colorbar": {
              "outlinewidth": 0,
              "ticks": ""
             }
            },
            "type": "scattermapbox"
           }
          ],
          "scatterpolar": [
           {
            "marker": {
             "colorbar": {
              "outlinewidth": 0,
              "ticks": ""
             }
            },
            "type": "scatterpolar"
           }
          ],
          "scatterpolargl": [
           {
            "marker": {
             "colorbar": {
              "outlinewidth": 0,
              "ticks": ""
             }
            },
            "type": "scatterpolargl"
           }
          ],
          "scatterternary": [
           {
            "marker": {
             "colorbar": {
              "outlinewidth": 0,
              "ticks": ""
             }
            },
            "type": "scatterternary"
           }
          ],
          "surface": [
           {
            "colorbar": {
             "outlinewidth": 0,
             "ticks": ""
            },
            "colorscale": [
             [
              0,
              "#0d0887"
             ],
             [
              0.1111111111111111,
              "#46039f"
             ],
             [
              0.2222222222222222,
              "#7201a8"
             ],
             [
              0.3333333333333333,
              "#9c179e"
             ],
             [
              0.4444444444444444,
              "#bd3786"
             ],
             [
              0.5555555555555556,
              "#d8576b"
             ],
             [
              0.6666666666666666,
              "#ed7953"
             ],
             [
              0.7777777777777778,
              "#fb9f3a"
             ],
             [
              0.8888888888888888,
              "#fdca26"
             ],
             [
              1,
              "#f0f921"
             ]
            ],
            "type": "surface"
           }
          ],
          "table": [
           {
            "cells": {
             "fill": {
              "color": "#EBF0F8"
             },
             "line": {
              "color": "white"
             }
            },
            "header": {
             "fill": {
              "color": "#C8D4E3"
             },
             "line": {
              "color": "white"
             }
            },
            "type": "table"
           }
          ]
         },
         "layout": {
          "annotationdefaults": {
           "arrowcolor": "#2a3f5f",
           "arrowhead": 0,
           "arrowwidth": 1
          },
          "autotypenumbers": "strict",
          "coloraxis": {
           "colorbar": {
            "outlinewidth": 0,
            "ticks": ""
           }
          },
          "colorscale": {
           "diverging": [
            [
             0,
             "#8e0152"
            ],
            [
             0.1,
             "#c51b7d"
            ],
            [
             0.2,
             "#de77ae"
            ],
            [
             0.3,
             "#f1b6da"
            ],
            [
             0.4,
             "#fde0ef"
            ],
            [
             0.5,
             "#f7f7f7"
            ],
            [
             0.6,
             "#e6f5d0"
            ],
            [
             0.7,
             "#b8e186"
            ],
            [
             0.8,
             "#7fbc41"
            ],
            [
             0.9,
             "#4d9221"
            ],
            [
             1,
             "#276419"
            ]
           ],
           "sequential": [
            [
             0,
             "#0d0887"
            ],
            [
             0.1111111111111111,
             "#46039f"
            ],
            [
             0.2222222222222222,
             "#7201a8"
            ],
            [
             0.3333333333333333,
             "#9c179e"
            ],
            [
             0.4444444444444444,
             "#bd3786"
            ],
            [
             0.5555555555555556,
             "#d8576b"
            ],
            [
             0.6666666666666666,
             "#ed7953"
            ],
            [
             0.7777777777777778,
             "#fb9f3a"
            ],
            [
             0.8888888888888888,
             "#fdca26"
            ],
            [
             1,
             "#f0f921"
            ]
           ],
           "sequentialminus": [
            [
             0,
             "#0d0887"
            ],
            [
             0.1111111111111111,
             "#46039f"
            ],
            [
             0.2222222222222222,
             "#7201a8"
            ],
            [
             0.3333333333333333,
             "#9c179e"
            ],
            [
             0.4444444444444444,
             "#bd3786"
            ],
            [
             0.5555555555555556,
             "#d8576b"
            ],
            [
             0.6666666666666666,
             "#ed7953"
            ],
            [
             0.7777777777777778,
             "#fb9f3a"
            ],
            [
             0.8888888888888888,
             "#fdca26"
            ],
            [
             1,
             "#f0f921"
            ]
           ]
          },
          "colorway": [
           "#636efa",
           "#EF553B",
           "#00cc96",
           "#ab63fa",
           "#FFA15A",
           "#19d3f3",
           "#FF6692",
           "#B6E880",
           "#FF97FF",
           "#FECB52"
          ],
          "font": {
           "color": "#2a3f5f"
          },
          "geo": {
           "bgcolor": "white",
           "lakecolor": "white",
           "landcolor": "#E5ECF6",
           "showlakes": true,
           "showland": true,
           "subunitcolor": "white"
          },
          "hoverlabel": {
           "align": "left"
          },
          "hovermode": "closest",
          "mapbox": {
           "style": "light"
          },
          "paper_bgcolor": "white",
          "plot_bgcolor": "#E5ECF6",
          "polar": {
           "angularaxis": {
            "gridcolor": "white",
            "linecolor": "white",
            "ticks": ""
           },
           "bgcolor": "#E5ECF6",
           "radialaxis": {
            "gridcolor": "white",
            "linecolor": "white",
            "ticks": ""
           }
          },
          "scene": {
           "xaxis": {
            "backgroundcolor": "#E5ECF6",
            "gridcolor": "white",
            "gridwidth": 2,
            "linecolor": "white",
            "showbackground": true,
            "ticks": "",
            "zerolinecolor": "white"
           },
           "yaxis": {
            "backgroundcolor": "#E5ECF6",
            "gridcolor": "white",
            "gridwidth": 2,
            "linecolor": "white",
            "showbackground": true,
            "ticks": "",
            "zerolinecolor": "white"
           },
           "zaxis": {
            "backgroundcolor": "#E5ECF6",
            "gridcolor": "white",
            "gridwidth": 2,
            "linecolor": "white",
            "showbackground": true,
            "ticks": "",
            "zerolinecolor": "white"
           }
          },
          "shapedefaults": {
           "line": {
            "color": "#2a3f5f"
           }
          },
          "ternary": {
           "aaxis": {
            "gridcolor": "white",
            "linecolor": "white",
            "ticks": ""
           },
           "baxis": {
            "gridcolor": "white",
            "linecolor": "white",
            "ticks": ""
           },
           "bgcolor": "#E5ECF6",
           "caxis": {
            "gridcolor": "white",
            "linecolor": "white",
            "ticks": ""
           }
          },
          "title": {
           "x": 0.05
          },
          "xaxis": {
           "automargin": true,
           "gridcolor": "white",
           "linecolor": "white",
           "ticks": "",
           "title": {
            "standoff": 15
           },
           "zerolinecolor": "white",
           "zerolinewidth": 2
          },
          "yaxis": {
           "automargin": true,
           "gridcolor": "white",
           "linecolor": "white",
           "ticks": "",
           "title": {
            "standoff": 15
           },
           "zerolinecolor": "white",
           "zerolinewidth": 2
          }
         }
        },
        "title": {
         "text": "1º tema de interesse",
         "x": 0.5,
         "xanchor": "center"
        },
        "xaxis": {
         "title": {
          "text": "Interesse"
         }
        },
        "yaxis": {
         "title": {
          "text": "Frequência"
         }
        }
       }
      }
     },
     "metadata": {},
     "output_type": "display_data"
    },
    {
     "data": {
      "application/vnd.plotly.v1+json": {
       "config": {
        "plotlyServerURL": "https://plot.ly"
       },
       "data": [
        {
         "marker": {
          "color": "royalblue"
         },
         "type": "bar",
         "x": [
          "Inteligência Artificial",
          "Finanças Qualitativas",
          "Visualização de Dados",
          "Finanças Quantitativas",
          "Ciência de Dados",
          "Banco de dados",
          "Web Scrapping"
         ],
         "y": [
          4,
          3,
          3,
          2,
          1,
          1,
          1
         ]
        }
       ],
       "layout": {
        "template": {
         "data": {
          "bar": [
           {
            "error_x": {
             "color": "#2a3f5f"
            },
            "error_y": {
             "color": "#2a3f5f"
            },
            "marker": {
             "line": {
              "color": "#E5ECF6",
              "width": 0.5
             },
             "pattern": {
              "fillmode": "overlay",
              "size": 10,
              "solidity": 0.2
             }
            },
            "type": "bar"
           }
          ],
          "barpolar": [
           {
            "marker": {
             "line": {
              "color": "#E5ECF6",
              "width": 0.5
             },
             "pattern": {
              "fillmode": "overlay",
              "size": 10,
              "solidity": 0.2
             }
            },
            "type": "barpolar"
           }
          ],
          "carpet": [
           {
            "aaxis": {
             "endlinecolor": "#2a3f5f",
             "gridcolor": "white",
             "linecolor": "white",
             "minorgridcolor": "white",
             "startlinecolor": "#2a3f5f"
            },
            "baxis": {
             "endlinecolor": "#2a3f5f",
             "gridcolor": "white",
             "linecolor": "white",
             "minorgridcolor": "white",
             "startlinecolor": "#2a3f5f"
            },
            "type": "carpet"
           }
          ],
          "choropleth": [
           {
            "colorbar": {
             "outlinewidth": 0,
             "ticks": ""
            },
            "type": "choropleth"
           }
          ],
          "contour": [
           {
            "colorbar": {
             "outlinewidth": 0,
             "ticks": ""
            },
            "colorscale": [
             [
              0,
              "#0d0887"
             ],
             [
              0.1111111111111111,
              "#46039f"
             ],
             [
              0.2222222222222222,
              "#7201a8"
             ],
             [
              0.3333333333333333,
              "#9c179e"
             ],
             [
              0.4444444444444444,
              "#bd3786"
             ],
             [
              0.5555555555555556,
              "#d8576b"
             ],
             [
              0.6666666666666666,
              "#ed7953"
             ],
             [
              0.7777777777777778,
              "#fb9f3a"
             ],
             [
              0.8888888888888888,
              "#fdca26"
             ],
             [
              1,
              "#f0f921"
             ]
            ],
            "type": "contour"
           }
          ],
          "contourcarpet": [
           {
            "colorbar": {
             "outlinewidth": 0,
             "ticks": ""
            },
            "type": "contourcarpet"
           }
          ],
          "heatmap": [
           {
            "colorbar": {
             "outlinewidth": 0,
             "ticks": ""
            },
            "colorscale": [
             [
              0,
              "#0d0887"
             ],
             [
              0.1111111111111111,
              "#46039f"
             ],
             [
              0.2222222222222222,
              "#7201a8"
             ],
             [
              0.3333333333333333,
              "#9c179e"
             ],
             [
              0.4444444444444444,
              "#bd3786"
             ],
             [
              0.5555555555555556,
              "#d8576b"
             ],
             [
              0.6666666666666666,
              "#ed7953"
             ],
             [
              0.7777777777777778,
              "#fb9f3a"
             ],
             [
              0.8888888888888888,
              "#fdca26"
             ],
             [
              1,
              "#f0f921"
             ]
            ],
            "type": "heatmap"
           }
          ],
          "heatmapgl": [
           {
            "colorbar": {
             "outlinewidth": 0,
             "ticks": ""
            },
            "colorscale": [
             [
              0,
              "#0d0887"
             ],
             [
              0.1111111111111111,
              "#46039f"
             ],
             [
              0.2222222222222222,
              "#7201a8"
             ],
             [
              0.3333333333333333,
              "#9c179e"
             ],
             [
              0.4444444444444444,
              "#bd3786"
             ],
             [
              0.5555555555555556,
              "#d8576b"
             ],
             [
              0.6666666666666666,
              "#ed7953"
             ],
             [
              0.7777777777777778,
              "#fb9f3a"
             ],
             [
              0.8888888888888888,
              "#fdca26"
             ],
             [
              1,
              "#f0f921"
             ]
            ],
            "type": "heatmapgl"
           }
          ],
          "histogram": [
           {
            "marker": {
             "pattern": {
              "fillmode": "overlay",
              "size": 10,
              "solidity": 0.2
             }
            },
            "type": "histogram"
           }
          ],
          "histogram2d": [
           {
            "colorbar": {
             "outlinewidth": 0,
             "ticks": ""
            },
            "colorscale": [
             [
              0,
              "#0d0887"
             ],
             [
              0.1111111111111111,
              "#46039f"
             ],
             [
              0.2222222222222222,
              "#7201a8"
             ],
             [
              0.3333333333333333,
              "#9c179e"
             ],
             [
              0.4444444444444444,
              "#bd3786"
             ],
             [
              0.5555555555555556,
              "#d8576b"
             ],
             [
              0.6666666666666666,
              "#ed7953"
             ],
             [
              0.7777777777777778,
              "#fb9f3a"
             ],
             [
              0.8888888888888888,
              "#fdca26"
             ],
             [
              1,
              "#f0f921"
             ]
            ],
            "type": "histogram2d"
           }
          ],
          "histogram2dcontour": [
           {
            "colorbar": {
             "outlinewidth": 0,
             "ticks": ""
            },
            "colorscale": [
             [
              0,
              "#0d0887"
             ],
             [
              0.1111111111111111,
              "#46039f"
             ],
             [
              0.2222222222222222,
              "#7201a8"
             ],
             [
              0.3333333333333333,
              "#9c179e"
             ],
             [
              0.4444444444444444,
              "#bd3786"
             ],
             [
              0.5555555555555556,
              "#d8576b"
             ],
             [
              0.6666666666666666,
              "#ed7953"
             ],
             [
              0.7777777777777778,
              "#fb9f3a"
             ],
             [
              0.8888888888888888,
              "#fdca26"
             ],
             [
              1,
              "#f0f921"
             ]
            ],
            "type": "histogram2dcontour"
           }
          ],
          "mesh3d": [
           {
            "colorbar": {
             "outlinewidth": 0,
             "ticks": ""
            },
            "type": "mesh3d"
           }
          ],
          "parcoords": [
           {
            "line": {
             "colorbar": {
              "outlinewidth": 0,
              "ticks": ""
             }
            },
            "type": "parcoords"
           }
          ],
          "pie": [
           {
            "automargin": true,
            "type": "pie"
           }
          ],
          "scatter": [
           {
            "fillpattern": {
             "fillmode": "overlay",
             "size": 10,
             "solidity": 0.2
            },
            "type": "scatter"
           }
          ],
          "scatter3d": [
           {
            "line": {
             "colorbar": {
              "outlinewidth": 0,
              "ticks": ""
             }
            },
            "marker": {
             "colorbar": {
              "outlinewidth": 0,
              "ticks": ""
             }
            },
            "type": "scatter3d"
           }
          ],
          "scattercarpet": [
           {
            "marker": {
             "colorbar": {
              "outlinewidth": 0,
              "ticks": ""
             }
            },
            "type": "scattercarpet"
           }
          ],
          "scattergeo": [
           {
            "marker": {
             "colorbar": {
              "outlinewidth": 0,
              "ticks": ""
             }
            },
            "type": "scattergeo"
           }
          ],
          "scattergl": [
           {
            "marker": {
             "colorbar": {
              "outlinewidth": 0,
              "ticks": ""
             }
            },
            "type": "scattergl"
           }
          ],
          "scattermapbox": [
           {
            "marker": {
             "colorbar": {
              "outlinewidth": 0,
              "ticks": ""
             }
            },
            "type": "scattermapbox"
           }
          ],
          "scatterpolar": [
           {
            "marker": {
             "colorbar": {
              "outlinewidth": 0,
              "ticks": ""
             }
            },
            "type": "scatterpolar"
           }
          ],
          "scatterpolargl": [
           {
            "marker": {
             "colorbar": {
              "outlinewidth": 0,
              "ticks": ""
             }
            },
            "type": "scatterpolargl"
           }
          ],
          "scatterternary": [
           {
            "marker": {
             "colorbar": {
              "outlinewidth": 0,
              "ticks": ""
             }
            },
            "type": "scatterternary"
           }
          ],
          "surface": [
           {
            "colorbar": {
             "outlinewidth": 0,
             "ticks": ""
            },
            "colorscale": [
             [
              0,
              "#0d0887"
             ],
             [
              0.1111111111111111,
              "#46039f"
             ],
             [
              0.2222222222222222,
              "#7201a8"
             ],
             [
              0.3333333333333333,
              "#9c179e"
             ],
             [
              0.4444444444444444,
              "#bd3786"
             ],
             [
              0.5555555555555556,
              "#d8576b"
             ],
             [
              0.6666666666666666,
              "#ed7953"
             ],
             [
              0.7777777777777778,
              "#fb9f3a"
             ],
             [
              0.8888888888888888,
              "#fdca26"
             ],
             [
              1,
              "#f0f921"
             ]
            ],
            "type": "surface"
           }
          ],
          "table": [
           {
            "cells": {
             "fill": {
              "color": "#EBF0F8"
             },
             "line": {
              "color": "white"
             }
            },
            "header": {
             "fill": {
              "color": "#C8D4E3"
             },
             "line": {
              "color": "white"
             }
            },
            "type": "table"
           }
          ]
         },
         "layout": {
          "annotationdefaults": {
           "arrowcolor": "#2a3f5f",
           "arrowhead": 0,
           "arrowwidth": 1
          },
          "autotypenumbers": "strict",
          "coloraxis": {
           "colorbar": {
            "outlinewidth": 0,
            "ticks": ""
           }
          },
          "colorscale": {
           "diverging": [
            [
             0,
             "#8e0152"
            ],
            [
             0.1,
             "#c51b7d"
            ],
            [
             0.2,
             "#de77ae"
            ],
            [
             0.3,
             "#f1b6da"
            ],
            [
             0.4,
             "#fde0ef"
            ],
            [
             0.5,
             "#f7f7f7"
            ],
            [
             0.6,
             "#e6f5d0"
            ],
            [
             0.7,
             "#b8e186"
            ],
            [
             0.8,
             "#7fbc41"
            ],
            [
             0.9,
             "#4d9221"
            ],
            [
             1,
             "#276419"
            ]
           ],
           "sequential": [
            [
             0,
             "#0d0887"
            ],
            [
             0.1111111111111111,
             "#46039f"
            ],
            [
             0.2222222222222222,
             "#7201a8"
            ],
            [
             0.3333333333333333,
             "#9c179e"
            ],
            [
             0.4444444444444444,
             "#bd3786"
            ],
            [
             0.5555555555555556,
             "#d8576b"
            ],
            [
             0.6666666666666666,
             "#ed7953"
            ],
            [
             0.7777777777777778,
             "#fb9f3a"
            ],
            [
             0.8888888888888888,
             "#fdca26"
            ],
            [
             1,
             "#f0f921"
            ]
           ],
           "sequentialminus": [
            [
             0,
             "#0d0887"
            ],
            [
             0.1111111111111111,
             "#46039f"
            ],
            [
             0.2222222222222222,
             "#7201a8"
            ],
            [
             0.3333333333333333,
             "#9c179e"
            ],
            [
             0.4444444444444444,
             "#bd3786"
            ],
            [
             0.5555555555555556,
             "#d8576b"
            ],
            [
             0.6666666666666666,
             "#ed7953"
            ],
            [
             0.7777777777777778,
             "#fb9f3a"
            ],
            [
             0.8888888888888888,
             "#fdca26"
            ],
            [
             1,
             "#f0f921"
            ]
           ]
          },
          "colorway": [
           "#636efa",
           "#EF553B",
           "#00cc96",
           "#ab63fa",
           "#FFA15A",
           "#19d3f3",
           "#FF6692",
           "#B6E880",
           "#FF97FF",
           "#FECB52"
          ],
          "font": {
           "color": "#2a3f5f"
          },
          "geo": {
           "bgcolor": "white",
           "lakecolor": "white",
           "landcolor": "#E5ECF6",
           "showlakes": true,
           "showland": true,
           "subunitcolor": "white"
          },
          "hoverlabel": {
           "align": "left"
          },
          "hovermode": "closest",
          "mapbox": {
           "style": "light"
          },
          "paper_bgcolor": "white",
          "plot_bgcolor": "#E5ECF6",
          "polar": {
           "angularaxis": {
            "gridcolor": "white",
            "linecolor": "white",
            "ticks": ""
           },
           "bgcolor": "#E5ECF6",
           "radialaxis": {
            "gridcolor": "white",
            "linecolor": "white",
            "ticks": ""
           }
          },
          "scene": {
           "xaxis": {
            "backgroundcolor": "#E5ECF6",
            "gridcolor": "white",
            "gridwidth": 2,
            "linecolor": "white",
            "showbackground": true,
            "ticks": "",
            "zerolinecolor": "white"
           },
           "yaxis": {
            "backgroundcolor": "#E5ECF6",
            "gridcolor": "white",
            "gridwidth": 2,
            "linecolor": "white",
            "showbackground": true,
            "ticks": "",
            "zerolinecolor": "white"
           },
           "zaxis": {
            "backgroundcolor": "#E5ECF6",
            "gridcolor": "white",
            "gridwidth": 2,
            "linecolor": "white",
            "showbackground": true,
            "ticks": "",
            "zerolinecolor": "white"
           }
          },
          "shapedefaults": {
           "line": {
            "color": "#2a3f5f"
           }
          },
          "ternary": {
           "aaxis": {
            "gridcolor": "white",
            "linecolor": "white",
            "ticks": ""
           },
           "baxis": {
            "gridcolor": "white",
            "linecolor": "white",
            "ticks": ""
           },
           "bgcolor": "#E5ECF6",
           "caxis": {
            "gridcolor": "white",
            "linecolor": "white",
            "ticks": ""
           }
          },
          "title": {
           "x": 0.05
          },
          "xaxis": {
           "automargin": true,
           "gridcolor": "white",
           "linecolor": "white",
           "ticks": "",
           "title": {
            "standoff": 15
           },
           "zerolinecolor": "white",
           "zerolinewidth": 2
          },
          "yaxis": {
           "automargin": true,
           "gridcolor": "white",
           "linecolor": "white",
           "ticks": "",
           "title": {
            "standoff": 15
           },
           "zerolinecolor": "white",
           "zerolinewidth": 2
          }
         }
        },
        "title": {
         "text": "2º tema de interesse",
         "x": 0.5,
         "xanchor": "center"
        },
        "xaxis": {
         "title": {
          "text": "Interesse"
         }
        },
        "yaxis": {
         "title": {
          "text": "Frequência"
         }
        }
       }
      }
     },
     "metadata": {},
     "output_type": "display_data"
    },
    {
     "data": {
      "application/vnd.plotly.v1+json": {
       "config": {
        "plotlyServerURL": "https://plot.ly"
       },
       "data": [
        {
         "marker": {
          "color": "royalblue"
         },
         "type": "bar",
         "x": [
          "Excel",
          "Finanças Qualitativas",
          "Banco de dados",
          "Inteligência Artificial",
          "Finanças Quantitativas",
          "Computação em nuvem (Cloud)",
          "Desenvolvimento Web",
          "Visualização de Dados",
          "Web Scrapping",
          "Engenharia de Dados"
         ],
         "y": [
          3,
          2,
          2,
          2,
          1,
          1,
          1,
          1,
          1,
          1
         ]
        }
       ],
       "layout": {
        "template": {
         "data": {
          "bar": [
           {
            "error_x": {
             "color": "#2a3f5f"
            },
            "error_y": {
             "color": "#2a3f5f"
            },
            "marker": {
             "line": {
              "color": "#E5ECF6",
              "width": 0.5
             },
             "pattern": {
              "fillmode": "overlay",
              "size": 10,
              "solidity": 0.2
             }
            },
            "type": "bar"
           }
          ],
          "barpolar": [
           {
            "marker": {
             "line": {
              "color": "#E5ECF6",
              "width": 0.5
             },
             "pattern": {
              "fillmode": "overlay",
              "size": 10,
              "solidity": 0.2
             }
            },
            "type": "barpolar"
           }
          ],
          "carpet": [
           {
            "aaxis": {
             "endlinecolor": "#2a3f5f",
             "gridcolor": "white",
             "linecolor": "white",
             "minorgridcolor": "white",
             "startlinecolor": "#2a3f5f"
            },
            "baxis": {
             "endlinecolor": "#2a3f5f",
             "gridcolor": "white",
             "linecolor": "white",
             "minorgridcolor": "white",
             "startlinecolor": "#2a3f5f"
            },
            "type": "carpet"
           }
          ],
          "choropleth": [
           {
            "colorbar": {
             "outlinewidth": 0,
             "ticks": ""
            },
            "type": "choropleth"
           }
          ],
          "contour": [
           {
            "colorbar": {
             "outlinewidth": 0,
             "ticks": ""
            },
            "colorscale": [
             [
              0,
              "#0d0887"
             ],
             [
              0.1111111111111111,
              "#46039f"
             ],
             [
              0.2222222222222222,
              "#7201a8"
             ],
             [
              0.3333333333333333,
              "#9c179e"
             ],
             [
              0.4444444444444444,
              "#bd3786"
             ],
             [
              0.5555555555555556,
              "#d8576b"
             ],
             [
              0.6666666666666666,
              "#ed7953"
             ],
             [
              0.7777777777777778,
              "#fb9f3a"
             ],
             [
              0.8888888888888888,
              "#fdca26"
             ],
             [
              1,
              "#f0f921"
             ]
            ],
            "type": "contour"
           }
          ],
          "contourcarpet": [
           {
            "colorbar": {
             "outlinewidth": 0,
             "ticks": ""
            },
            "type": "contourcarpet"
           }
          ],
          "heatmap": [
           {
            "colorbar": {
             "outlinewidth": 0,
             "ticks": ""
            },
            "colorscale": [
             [
              0,
              "#0d0887"
             ],
             [
              0.1111111111111111,
              "#46039f"
             ],
             [
              0.2222222222222222,
              "#7201a8"
             ],
             [
              0.3333333333333333,
              "#9c179e"
             ],
             [
              0.4444444444444444,
              "#bd3786"
             ],
             [
              0.5555555555555556,
              "#d8576b"
             ],
             [
              0.6666666666666666,
              "#ed7953"
             ],
             [
              0.7777777777777778,
              "#fb9f3a"
             ],
             [
              0.8888888888888888,
              "#fdca26"
             ],
             [
              1,
              "#f0f921"
             ]
            ],
            "type": "heatmap"
           }
          ],
          "heatmapgl": [
           {
            "colorbar": {
             "outlinewidth": 0,
             "ticks": ""
            },
            "colorscale": [
             [
              0,
              "#0d0887"
             ],
             [
              0.1111111111111111,
              "#46039f"
             ],
             [
              0.2222222222222222,
              "#7201a8"
             ],
             [
              0.3333333333333333,
              "#9c179e"
             ],
             [
              0.4444444444444444,
              "#bd3786"
             ],
             [
              0.5555555555555556,
              "#d8576b"
             ],
             [
              0.6666666666666666,
              "#ed7953"
             ],
             [
              0.7777777777777778,
              "#fb9f3a"
             ],
             [
              0.8888888888888888,
              "#fdca26"
             ],
             [
              1,
              "#f0f921"
             ]
            ],
            "type": "heatmapgl"
           }
          ],
          "histogram": [
           {
            "marker": {
             "pattern": {
              "fillmode": "overlay",
              "size": 10,
              "solidity": 0.2
             }
            },
            "type": "histogram"
           }
          ],
          "histogram2d": [
           {
            "colorbar": {
             "outlinewidth": 0,
             "ticks": ""
            },
            "colorscale": [
             [
              0,
              "#0d0887"
             ],
             [
              0.1111111111111111,
              "#46039f"
             ],
             [
              0.2222222222222222,
              "#7201a8"
             ],
             [
              0.3333333333333333,
              "#9c179e"
             ],
             [
              0.4444444444444444,
              "#bd3786"
             ],
             [
              0.5555555555555556,
              "#d8576b"
             ],
             [
              0.6666666666666666,
              "#ed7953"
             ],
             [
              0.7777777777777778,
              "#fb9f3a"
             ],
             [
              0.8888888888888888,
              "#fdca26"
             ],
             [
              1,
              "#f0f921"
             ]
            ],
            "type": "histogram2d"
           }
          ],
          "histogram2dcontour": [
           {
            "colorbar": {
             "outlinewidth": 0,
             "ticks": ""
            },
            "colorscale": [
             [
              0,
              "#0d0887"
             ],
             [
              0.1111111111111111,
              "#46039f"
             ],
             [
              0.2222222222222222,
              "#7201a8"
             ],
             [
              0.3333333333333333,
              "#9c179e"
             ],
             [
              0.4444444444444444,
              "#bd3786"
             ],
             [
              0.5555555555555556,
              "#d8576b"
             ],
             [
              0.6666666666666666,
              "#ed7953"
             ],
             [
              0.7777777777777778,
              "#fb9f3a"
             ],
             [
              0.8888888888888888,
              "#fdca26"
             ],
             [
              1,
              "#f0f921"
             ]
            ],
            "type": "histogram2dcontour"
           }
          ],
          "mesh3d": [
           {
            "colorbar": {
             "outlinewidth": 0,
             "ticks": ""
            },
            "type": "mesh3d"
           }
          ],
          "parcoords": [
           {
            "line": {
             "colorbar": {
              "outlinewidth": 0,
              "ticks": ""
             }
            },
            "type": "parcoords"
           }
          ],
          "pie": [
           {
            "automargin": true,
            "type": "pie"
           }
          ],
          "scatter": [
           {
            "fillpattern": {
             "fillmode": "overlay",
             "size": 10,
             "solidity": 0.2
            },
            "type": "scatter"
           }
          ],
          "scatter3d": [
           {
            "line": {
             "colorbar": {
              "outlinewidth": 0,
              "ticks": ""
             }
            },
            "marker": {
             "colorbar": {
              "outlinewidth": 0,
              "ticks": ""
             }
            },
            "type": "scatter3d"
           }
          ],
          "scattercarpet": [
           {
            "marker": {
             "colorbar": {
              "outlinewidth": 0,
              "ticks": ""
             }
            },
            "type": "scattercarpet"
           }
          ],
          "scattergeo": [
           {
            "marker": {
             "colorbar": {
              "outlinewidth": 0,
              "ticks": ""
             }
            },
            "type": "scattergeo"
           }
          ],
          "scattergl": [
           {
            "marker": {
             "colorbar": {
              "outlinewidth": 0,
              "ticks": ""
             }
            },
            "type": "scattergl"
           }
          ],
          "scattermapbox": [
           {
            "marker": {
             "colorbar": {
              "outlinewidth": 0,
              "ticks": ""
             }
            },
            "type": "scattermapbox"
           }
          ],
          "scatterpolar": [
           {
            "marker": {
             "colorbar": {
              "outlinewidth": 0,
              "ticks": ""
             }
            },
            "type": "scatterpolar"
           }
          ],
          "scatterpolargl": [
           {
            "marker": {
             "colorbar": {
              "outlinewidth": 0,
              "ticks": ""
             }
            },
            "type": "scatterpolargl"
           }
          ],
          "scatterternary": [
           {
            "marker": {
             "colorbar": {
              "outlinewidth": 0,
              "ticks": ""
             }
            },
            "type": "scatterternary"
           }
          ],
          "surface": [
           {
            "colorbar": {
             "outlinewidth": 0,
             "ticks": ""
            },
            "colorscale": [
             [
              0,
              "#0d0887"
             ],
             [
              0.1111111111111111,
              "#46039f"
             ],
             [
              0.2222222222222222,
              "#7201a8"
             ],
             [
              0.3333333333333333,
              "#9c179e"
             ],
             [
              0.4444444444444444,
              "#bd3786"
             ],
             [
              0.5555555555555556,
              "#d8576b"
             ],
             [
              0.6666666666666666,
              "#ed7953"
             ],
             [
              0.7777777777777778,
              "#fb9f3a"
             ],
             [
              0.8888888888888888,
              "#fdca26"
             ],
             [
              1,
              "#f0f921"
             ]
            ],
            "type": "surface"
           }
          ],
          "table": [
           {
            "cells": {
             "fill": {
              "color": "#EBF0F8"
             },
             "line": {
              "color": "white"
             }
            },
            "header": {
             "fill": {
              "color": "#C8D4E3"
             },
             "line": {
              "color": "white"
             }
            },
            "type": "table"
           }
          ]
         },
         "layout": {
          "annotationdefaults": {
           "arrowcolor": "#2a3f5f",
           "arrowhead": 0,
           "arrowwidth": 1
          },
          "autotypenumbers": "strict",
          "coloraxis": {
           "colorbar": {
            "outlinewidth": 0,
            "ticks": ""
           }
          },
          "colorscale": {
           "diverging": [
            [
             0,
             "#8e0152"
            ],
            [
             0.1,
             "#c51b7d"
            ],
            [
             0.2,
             "#de77ae"
            ],
            [
             0.3,
             "#f1b6da"
            ],
            [
             0.4,
             "#fde0ef"
            ],
            [
             0.5,
             "#f7f7f7"
            ],
            [
             0.6,
             "#e6f5d0"
            ],
            [
             0.7,
             "#b8e186"
            ],
            [
             0.8,
             "#7fbc41"
            ],
            [
             0.9,
             "#4d9221"
            ],
            [
             1,
             "#276419"
            ]
           ],
           "sequential": [
            [
             0,
             "#0d0887"
            ],
            [
             0.1111111111111111,
             "#46039f"
            ],
            [
             0.2222222222222222,
             "#7201a8"
            ],
            [
             0.3333333333333333,
             "#9c179e"
            ],
            [
             0.4444444444444444,
             "#bd3786"
            ],
            [
             0.5555555555555556,
             "#d8576b"
            ],
            [
             0.6666666666666666,
             "#ed7953"
            ],
            [
             0.7777777777777778,
             "#fb9f3a"
            ],
            [
             0.8888888888888888,
             "#fdca26"
            ],
            [
             1,
             "#f0f921"
            ]
           ],
           "sequentialminus": [
            [
             0,
             "#0d0887"
            ],
            [
             0.1111111111111111,
             "#46039f"
            ],
            [
             0.2222222222222222,
             "#7201a8"
            ],
            [
             0.3333333333333333,
             "#9c179e"
            ],
            [
             0.4444444444444444,
             "#bd3786"
            ],
            [
             0.5555555555555556,
             "#d8576b"
            ],
            [
             0.6666666666666666,
             "#ed7953"
            ],
            [
             0.7777777777777778,
             "#fb9f3a"
            ],
            [
             0.8888888888888888,
             "#fdca26"
            ],
            [
             1,
             "#f0f921"
            ]
           ]
          },
          "colorway": [
           "#636efa",
           "#EF553B",
           "#00cc96",
           "#ab63fa",
           "#FFA15A",
           "#19d3f3",
           "#FF6692",
           "#B6E880",
           "#FF97FF",
           "#FECB52"
          ],
          "font": {
           "color": "#2a3f5f"
          },
          "geo": {
           "bgcolor": "white",
           "lakecolor": "white",
           "landcolor": "#E5ECF6",
           "showlakes": true,
           "showland": true,
           "subunitcolor": "white"
          },
          "hoverlabel": {
           "align": "left"
          },
          "hovermode": "closest",
          "mapbox": {
           "style": "light"
          },
          "paper_bgcolor": "white",
          "plot_bgcolor": "#E5ECF6",
          "polar": {
           "angularaxis": {
            "gridcolor": "white",
            "linecolor": "white",
            "ticks": ""
           },
           "bgcolor": "#E5ECF6",
           "radialaxis": {
            "gridcolor": "white",
            "linecolor": "white",
            "ticks": ""
           }
          },
          "scene": {
           "xaxis": {
            "backgroundcolor": "#E5ECF6",
            "gridcolor": "white",
            "gridwidth": 2,
            "linecolor": "white",
            "showbackground": true,
            "ticks": "",
            "zerolinecolor": "white"
           },
           "yaxis": {
            "backgroundcolor": "#E5ECF6",
            "gridcolor": "white",
            "gridwidth": 2,
            "linecolor": "white",
            "showbackground": true,
            "ticks": "",
            "zerolinecolor": "white"
           },
           "zaxis": {
            "backgroundcolor": "#E5ECF6",
            "gridcolor": "white",
            "gridwidth": 2,
            "linecolor": "white",
            "showbackground": true,
            "ticks": "",
            "zerolinecolor": "white"
           }
          },
          "shapedefaults": {
           "line": {
            "color": "#2a3f5f"
           }
          },
          "ternary": {
           "aaxis": {
            "gridcolor": "white",
            "linecolor": "white",
            "ticks": ""
           },
           "baxis": {
            "gridcolor": "white",
            "linecolor": "white",
            "ticks": ""
           },
           "bgcolor": "#E5ECF6",
           "caxis": {
            "gridcolor": "white",
            "linecolor": "white",
            "ticks": ""
           }
          },
          "title": {
           "x": 0.05
          },
          "xaxis": {
           "automargin": true,
           "gridcolor": "white",
           "linecolor": "white",
           "ticks": "",
           "title": {
            "standoff": 15
           },
           "zerolinecolor": "white",
           "zerolinewidth": 2
          },
          "yaxis": {
           "automargin": true,
           "gridcolor": "white",
           "linecolor": "white",
           "ticks": "",
           "title": {
            "standoff": 15
           },
           "zerolinecolor": "white",
           "zerolinewidth": 2
          }
         }
        },
        "title": {
         "text": "3º tema de interesse",
         "x": 0.5,
         "xanchor": "center"
        },
        "xaxis": {
         "title": {
          "text": "Interesse"
         }
        },
        "yaxis": {
         "title": {
          "text": "Frequência"
         }
        }
       }
      }
     },
     "metadata": {},
     "output_type": "display_data"
    },
    {
     "data": {
      "application/vnd.plotly.v1+json": {
       "config": {
        "plotlyServerURL": "https://plot.ly"
       },
       "data": [
        {
         "marker": {
          "color": "royalblue"
         },
         "type": "bar",
         "x": [
          "Finanças Quantitativas",
          "Excel",
          "Finanças Qualitativas",
          "Ciência de Dados",
          "Criptomoedas",
          "Inteligência Artificial",
          "Engenharia de Dados"
         ],
         "y": [
          4,
          3,
          3,
          2,
          1,
          1,
          1
         ]
        }
       ],
       "layout": {
        "template": {
         "data": {
          "bar": [
           {
            "error_x": {
             "color": "#2a3f5f"
            },
            "error_y": {
             "color": "#2a3f5f"
            },
            "marker": {
             "line": {
              "color": "#E5ECF6",
              "width": 0.5
             },
             "pattern": {
              "fillmode": "overlay",
              "size": 10,
              "solidity": 0.2
             }
            },
            "type": "bar"
           }
          ],
          "barpolar": [
           {
            "marker": {
             "line": {
              "color": "#E5ECF6",
              "width": 0.5
             },
             "pattern": {
              "fillmode": "overlay",
              "size": 10,
              "solidity": 0.2
             }
            },
            "type": "barpolar"
           }
          ],
          "carpet": [
           {
            "aaxis": {
             "endlinecolor": "#2a3f5f",
             "gridcolor": "white",
             "linecolor": "white",
             "minorgridcolor": "white",
             "startlinecolor": "#2a3f5f"
            },
            "baxis": {
             "endlinecolor": "#2a3f5f",
             "gridcolor": "white",
             "linecolor": "white",
             "minorgridcolor": "white",
             "startlinecolor": "#2a3f5f"
            },
            "type": "carpet"
           }
          ],
          "choropleth": [
           {
            "colorbar": {
             "outlinewidth": 0,
             "ticks": ""
            },
            "type": "choropleth"
           }
          ],
          "contour": [
           {
            "colorbar": {
             "outlinewidth": 0,
             "ticks": ""
            },
            "colorscale": [
             [
              0,
              "#0d0887"
             ],
             [
              0.1111111111111111,
              "#46039f"
             ],
             [
              0.2222222222222222,
              "#7201a8"
             ],
             [
              0.3333333333333333,
              "#9c179e"
             ],
             [
              0.4444444444444444,
              "#bd3786"
             ],
             [
              0.5555555555555556,
              "#d8576b"
             ],
             [
              0.6666666666666666,
              "#ed7953"
             ],
             [
              0.7777777777777778,
              "#fb9f3a"
             ],
             [
              0.8888888888888888,
              "#fdca26"
             ],
             [
              1,
              "#f0f921"
             ]
            ],
            "type": "contour"
           }
          ],
          "contourcarpet": [
           {
            "colorbar": {
             "outlinewidth": 0,
             "ticks": ""
            },
            "type": "contourcarpet"
           }
          ],
          "heatmap": [
           {
            "colorbar": {
             "outlinewidth": 0,
             "ticks": ""
            },
            "colorscale": [
             [
              0,
              "#0d0887"
             ],
             [
              0.1111111111111111,
              "#46039f"
             ],
             [
              0.2222222222222222,
              "#7201a8"
             ],
             [
              0.3333333333333333,
              "#9c179e"
             ],
             [
              0.4444444444444444,
              "#bd3786"
             ],
             [
              0.5555555555555556,
              "#d8576b"
             ],
             [
              0.6666666666666666,
              "#ed7953"
             ],
             [
              0.7777777777777778,
              "#fb9f3a"
             ],
             [
              0.8888888888888888,
              "#fdca26"
             ],
             [
              1,
              "#f0f921"
             ]
            ],
            "type": "heatmap"
           }
          ],
          "heatmapgl": [
           {
            "colorbar": {
             "outlinewidth": 0,
             "ticks": ""
            },
            "colorscale": [
             [
              0,
              "#0d0887"
             ],
             [
              0.1111111111111111,
              "#46039f"
             ],
             [
              0.2222222222222222,
              "#7201a8"
             ],
             [
              0.3333333333333333,
              "#9c179e"
             ],
             [
              0.4444444444444444,
              "#bd3786"
             ],
             [
              0.5555555555555556,
              "#d8576b"
             ],
             [
              0.6666666666666666,
              "#ed7953"
             ],
             [
              0.7777777777777778,
              "#fb9f3a"
             ],
             [
              0.8888888888888888,
              "#fdca26"
             ],
             [
              1,
              "#f0f921"
             ]
            ],
            "type": "heatmapgl"
           }
          ],
          "histogram": [
           {
            "marker": {
             "pattern": {
              "fillmode": "overlay",
              "size": 10,
              "solidity": 0.2
             }
            },
            "type": "histogram"
           }
          ],
          "histogram2d": [
           {
            "colorbar": {
             "outlinewidth": 0,
             "ticks": ""
            },
            "colorscale": [
             [
              0,
              "#0d0887"
             ],
             [
              0.1111111111111111,
              "#46039f"
             ],
             [
              0.2222222222222222,
              "#7201a8"
             ],
             [
              0.3333333333333333,
              "#9c179e"
             ],
             [
              0.4444444444444444,
              "#bd3786"
             ],
             [
              0.5555555555555556,
              "#d8576b"
             ],
             [
              0.6666666666666666,
              "#ed7953"
             ],
             [
              0.7777777777777778,
              "#fb9f3a"
             ],
             [
              0.8888888888888888,
              "#fdca26"
             ],
             [
              1,
              "#f0f921"
             ]
            ],
            "type": "histogram2d"
           }
          ],
          "histogram2dcontour": [
           {
            "colorbar": {
             "outlinewidth": 0,
             "ticks": ""
            },
            "colorscale": [
             [
              0,
              "#0d0887"
             ],
             [
              0.1111111111111111,
              "#46039f"
             ],
             [
              0.2222222222222222,
              "#7201a8"
             ],
             [
              0.3333333333333333,
              "#9c179e"
             ],
             [
              0.4444444444444444,
              "#bd3786"
             ],
             [
              0.5555555555555556,
              "#d8576b"
             ],
             [
              0.6666666666666666,
              "#ed7953"
             ],
             [
              0.7777777777777778,
              "#fb9f3a"
             ],
             [
              0.8888888888888888,
              "#fdca26"
             ],
             [
              1,
              "#f0f921"
             ]
            ],
            "type": "histogram2dcontour"
           }
          ],
          "mesh3d": [
           {
            "colorbar": {
             "outlinewidth": 0,
             "ticks": ""
            },
            "type": "mesh3d"
           }
          ],
          "parcoords": [
           {
            "line": {
             "colorbar": {
              "outlinewidth": 0,
              "ticks": ""
             }
            },
            "type": "parcoords"
           }
          ],
          "pie": [
           {
            "automargin": true,
            "type": "pie"
           }
          ],
          "scatter": [
           {
            "fillpattern": {
             "fillmode": "overlay",
             "size": 10,
             "solidity": 0.2
            },
            "type": "scatter"
           }
          ],
          "scatter3d": [
           {
            "line": {
             "colorbar": {
              "outlinewidth": 0,
              "ticks": ""
             }
            },
            "marker": {
             "colorbar": {
              "outlinewidth": 0,
              "ticks": ""
             }
            },
            "type": "scatter3d"
           }
          ],
          "scattercarpet": [
           {
            "marker": {
             "colorbar": {
              "outlinewidth": 0,
              "ticks": ""
             }
            },
            "type": "scattercarpet"
           }
          ],
          "scattergeo": [
           {
            "marker": {
             "colorbar": {
              "outlinewidth": 0,
              "ticks": ""
             }
            },
            "type": "scattergeo"
           }
          ],
          "scattergl": [
           {
            "marker": {
             "colorbar": {
              "outlinewidth": 0,
              "ticks": ""
             }
            },
            "type": "scattergl"
           }
          ],
          "scattermapbox": [
           {
            "marker": {
             "colorbar": {
              "outlinewidth": 0,
              "ticks": ""
             }
            },
            "type": "scattermapbox"
           }
          ],
          "scatterpolar": [
           {
            "marker": {
             "colorbar": {
              "outlinewidth": 0,
              "ticks": ""
             }
            },
            "type": "scatterpolar"
           }
          ],
          "scatterpolargl": [
           {
            "marker": {
             "colorbar": {
              "outlinewidth": 0,
              "ticks": ""
             }
            },
            "type": "scatterpolargl"
           }
          ],
          "scatterternary": [
           {
            "marker": {
             "colorbar": {
              "outlinewidth": 0,
              "ticks": ""
             }
            },
            "type": "scatterternary"
           }
          ],
          "surface": [
           {
            "colorbar": {
             "outlinewidth": 0,
             "ticks": ""
            },
            "colorscale": [
             [
              0,
              "#0d0887"
             ],
             [
              0.1111111111111111,
              "#46039f"
             ],
             [
              0.2222222222222222,
              "#7201a8"
             ],
             [
              0.3333333333333333,
              "#9c179e"
             ],
             [
              0.4444444444444444,
              "#bd3786"
             ],
             [
              0.5555555555555556,
              "#d8576b"
             ],
             [
              0.6666666666666666,
              "#ed7953"
             ],
             [
              0.7777777777777778,
              "#fb9f3a"
             ],
             [
              0.8888888888888888,
              "#fdca26"
             ],
             [
              1,
              "#f0f921"
             ]
            ],
            "type": "surface"
           }
          ],
          "table": [
           {
            "cells": {
             "fill": {
              "color": "#EBF0F8"
             },
             "line": {
              "color": "white"
             }
            },
            "header": {
             "fill": {
              "color": "#C8D4E3"
             },
             "line": {
              "color": "white"
             }
            },
            "type": "table"
           }
          ]
         },
         "layout": {
          "annotationdefaults": {
           "arrowcolor": "#2a3f5f",
           "arrowhead": 0,
           "arrowwidth": 1
          },
          "autotypenumbers": "strict",
          "coloraxis": {
           "colorbar": {
            "outlinewidth": 0,
            "ticks": ""
           }
          },
          "colorscale": {
           "diverging": [
            [
             0,
             "#8e0152"
            ],
            [
             0.1,
             "#c51b7d"
            ],
            [
             0.2,
             "#de77ae"
            ],
            [
             0.3,
             "#f1b6da"
            ],
            [
             0.4,
             "#fde0ef"
            ],
            [
             0.5,
             "#f7f7f7"
            ],
            [
             0.6,
             "#e6f5d0"
            ],
            [
             0.7,
             "#b8e186"
            ],
            [
             0.8,
             "#7fbc41"
            ],
            [
             0.9,
             "#4d9221"
            ],
            [
             1,
             "#276419"
            ]
           ],
           "sequential": [
            [
             0,
             "#0d0887"
            ],
            [
             0.1111111111111111,
             "#46039f"
            ],
            [
             0.2222222222222222,
             "#7201a8"
            ],
            [
             0.3333333333333333,
             "#9c179e"
            ],
            [
             0.4444444444444444,
             "#bd3786"
            ],
            [
             0.5555555555555556,
             "#d8576b"
            ],
            [
             0.6666666666666666,
             "#ed7953"
            ],
            [
             0.7777777777777778,
             "#fb9f3a"
            ],
            [
             0.8888888888888888,
             "#fdca26"
            ],
            [
             1,
             "#f0f921"
            ]
           ],
           "sequentialminus": [
            [
             0,
             "#0d0887"
            ],
            [
             0.1111111111111111,
             "#46039f"
            ],
            [
             0.2222222222222222,
             "#7201a8"
            ],
            [
             0.3333333333333333,
             "#9c179e"
            ],
            [
             0.4444444444444444,
             "#bd3786"
            ],
            [
             0.5555555555555556,
             "#d8576b"
            ],
            [
             0.6666666666666666,
             "#ed7953"
            ],
            [
             0.7777777777777778,
             "#fb9f3a"
            ],
            [
             0.8888888888888888,
             "#fdca26"
            ],
            [
             1,
             "#f0f921"
            ]
           ]
          },
          "colorway": [
           "#636efa",
           "#EF553B",
           "#00cc96",
           "#ab63fa",
           "#FFA15A",
           "#19d3f3",
           "#FF6692",
           "#B6E880",
           "#FF97FF",
           "#FECB52"
          ],
          "font": {
           "color": "#2a3f5f"
          },
          "geo": {
           "bgcolor": "white",
           "lakecolor": "white",
           "landcolor": "#E5ECF6",
           "showlakes": true,
           "showland": true,
           "subunitcolor": "white"
          },
          "hoverlabel": {
           "align": "left"
          },
          "hovermode": "closest",
          "mapbox": {
           "style": "light"
          },
          "paper_bgcolor": "white",
          "plot_bgcolor": "#E5ECF6",
          "polar": {
           "angularaxis": {
            "gridcolor": "white",
            "linecolor": "white",
            "ticks": ""
           },
           "bgcolor": "#E5ECF6",
           "radialaxis": {
            "gridcolor": "white",
            "linecolor": "white",
            "ticks": ""
           }
          },
          "scene": {
           "xaxis": {
            "backgroundcolor": "#E5ECF6",
            "gridcolor": "white",
            "gridwidth": 2,
            "linecolor": "white",
            "showbackground": true,
            "ticks": "",
            "zerolinecolor": "white"
           },
           "yaxis": {
            "backgroundcolor": "#E5ECF6",
            "gridcolor": "white",
            "gridwidth": 2,
            "linecolor": "white",
            "showbackground": true,
            "ticks": "",
            "zerolinecolor": "white"
           },
           "zaxis": {
            "backgroundcolor": "#E5ECF6",
            "gridcolor": "white",
            "gridwidth": 2,
            "linecolor": "white",
            "showbackground": true,
            "ticks": "",
            "zerolinecolor": "white"
           }
          },
          "shapedefaults": {
           "line": {
            "color": "#2a3f5f"
           }
          },
          "ternary": {
           "aaxis": {
            "gridcolor": "white",
            "linecolor": "white",
            "ticks": ""
           },
           "baxis": {
            "gridcolor": "white",
            "linecolor": "white",
            "ticks": ""
           },
           "bgcolor": "#E5ECF6",
           "caxis": {
            "gridcolor": "white",
            "linecolor": "white",
            "ticks": ""
           }
          },
          "title": {
           "x": 0.05
          },
          "xaxis": {
           "automargin": true,
           "gridcolor": "white",
           "linecolor": "white",
           "ticks": "",
           "title": {
            "standoff": 15
           },
           "zerolinecolor": "white",
           "zerolinewidth": 2
          },
          "yaxis": {
           "automargin": true,
           "gridcolor": "white",
           "linecolor": "white",
           "ticks": "",
           "title": {
            "standoff": 15
           },
           "zerolinecolor": "white",
           "zerolinewidth": 2
          }
         }
        },
        "title": {
         "text": "4º tema de interesse",
         "x": 0.5,
         "xanchor": "center"
        },
        "xaxis": {
         "title": {
          "text": "Interesse"
         }
        },
        "yaxis": {
         "title": {
          "text": "Frequência"
         }
        }
       }
      }
     },
     "metadata": {},
     "output_type": "display_data"
    }
   ],
   "source": [
    "# O código abaixo gera, exibe e guarda uma série de gráficos de barras que mostram a distribuição dos interesse\n",
    "# dos membros que pretendem continuar ativos.\n",
    "\n",
    "bar_charts_interesses = []\n",
    "for column in df_ativos_interesses.iloc[:, 1:].columns:\n",
    "    # Cria a série de valores.\n",
    "    serie = df_ativos_interesses[column]\n",
    "    \n",
    "    # Conta a frequência de cada valor.\n",
    "    frequencias = serie.value_counts()\n",
    "    \n",
    "    # Cria o gráfico e adiciona à lista.\n",
    "    fig = criar_grafico_barras(frequencias, f\"{column}\"[:-1], \"Interesse\", \"Frequência\")\n",
    "    bar_charts_interesses.append(fig)\n",
    "    \n",
    "    # Exibe o gráfico\n",
    "    fig.show()"
   ]
  },
  {
   "cell_type": "markdown",
   "metadata": {},
   "source": [
    "## **Report**"
   ]
  },
  {
   "cell_type": "code",
   "execution_count": 25,
   "metadata": {},
   "outputs": [],
   "source": [
    "def create_bar_char_section(titulo_secao:str, lista_graficos:list, id_prefixo=\"graph\") -> html.Div:\n",
    "    \"\"\"\n",
    "        Description:\n",
    "            Gera uma seção com gráficos de barras exibidos lado a lado.\n",
    "        Args:\n",
    "            titulo (str): Título da seção.\n",
    "            lista_graficos (list): Lista de figuras do Plotly para exibição.\n",
    "            id_prefixo (str, opcional): Prefixo para os IDs dos gráficos. Padrão é \"graph\".\n",
    "        Return:\n",
    "            html.Div: Componente contendo a seção estruturada.\n",
    "    \"\"\"\n",
    "    \n",
    "    return html.Div([\n",
    "        # Linha contendo o título da seção, centralizado horizontalmente.\n",
    "        dbc.Row(\n",
    "            dbc.Col(\n",
    "                html.H2(titulo_secao, className=\"text-left\"),\n",
    "                width=12\n",
    "            ),\n",
    "            justify=\"center\",\n",
    "            style={\"width\": \"80%\", \"margin\": \"0 auto\", \"marginTop\": \"5%\"}\n",
    "        ),\n",
    "\n",
    "        # Container principal dos gráficos.\n",
    "        html.Div(\n",
    "            dbc.Row(\n",
    "                dbc.Col(\n",
    "                    html.Div(\n",
    "                        [\n",
    "                            # Geração dinâmica dos gráficos com IDs únicos baseados no índice.\n",
    "                            dcc.Graph(\n",
    "                                id=f'{id_prefixo}{i}',  # Exemplo: \"graph0\", \"graph1\", ...\n",
    "                                figure=bar_chart  # Objeto gráfico do Plotly.\n",
    "                            ) for i, bar_chart in enumerate(lista_graficos)\n",
    "                        ],\n",
    "                        style={\n",
    "                            'display': 'flex',         # Exibição dos gráficos em linha.\n",
    "                            'flexDirection': 'row',    # Mantém os gráficos lado a lado.\n",
    "                            'width': 'max-content'     # Ajusta a largura ao conteúdo.\n",
    "                        }\n",
    "                    ),\n",
    "                    width=12\n",
    "                ),\n",
    "                justify=\"start\"  # Alinha os gráficos à esquerda dentro da linha.\n",
    "            ),\n",
    "            style={\n",
    "                'overflowX': 'auto',  # Permite rolagem horizontal caso os gráficos ultrapassem a largura.\n",
    "                'width': '80%',       # Define a largura da área de gráficos.\n",
    "                'margin': '0 auto'    # Centraliza horizontalmente o container dos gráficos.\n",
    "            }\n",
    "        )\n",
    "    ])"
   ]
  },
  {
   "cell_type": "code",
   "execution_count": 26,
   "metadata": {},
   "outputs": [],
   "source": [
    "def create_bar_chart() -> dcc.Graph:\n",
    "    \"\"\"\n",
    "        Description:\n",
    "            Cria um gráfico de barras utilizando Plotly Express.\n",
    "        Args:\n",
    "            Nenhum argumento é necessário, pois os dados são extraídos de um DataFrame global (`df`).\n",
    "        Returns:\n",
    "            dcc.Graph: Componente Dash contendo o gráfico de barras.\n",
    "    \"\"\"\n",
    "\n",
    "    return dcc.Graph(\n",
    "        figure=px.bar(\n",
    "            df,  # DataFrame contendo os dados para o gráfico.\n",
    "            x=\"Categoria\",  # Define a variável para o eixo X.\n",
    "            y=\"Valor\",  # Define a variável para o eixo Y.\n",
    "            title=\"Gráfico de Barra\"  # Define o título do gráfico.\n",
    "        )\n",
    "    )"
   ]
  },
  {
   "cell_type": "code",
   "execution_count": 27,
   "metadata": {},
   "outputs": [],
   "source": [
    "def create_card(title=\"Título do Card\", text=\"Texto dentro do Card\") -> dbc.Card:\n",
    "    \"\"\"\n",
    "        Description:    \n",
    "            Cria um cartão estilizado com um título e um corpo de texto.\n",
    "        Args:\n",
    "            title (str, opcional): Título exibido na parte superior do cartão. Padrão é \"Título do Card\".\n",
    "            text (str, opcional): Texto exibido dentro do corpo do cartão. Padrão é \"Texto dentro do Card\".\n",
    "        Returns:\n",
    "            dbc.Card: Componente Bootstrap contendo o cartão estruturado.\n",
    "    \"\"\"\n",
    "\n",
    "    return dbc.Card(\n",
    "        [\n",
    "            dbc.CardHeader(title),  # Cabeçalho do cartão contendo o título.\n",
    "            dbc.CardBody([\n",
    "                html.Pre(text),  # Exibe o texto preservando quebras de linha e espaços.\n",
    "            ])\n",
    "        ]\n",
    "    )"
   ]
  },
  {
   "cell_type": "code",
   "execution_count": 28,
   "metadata": {},
   "outputs": [],
   "source": [
    "def create_card_row(num_cards:int, titles_list:list, texts_list:list) -> dbc.Row:\n",
    "    \"\"\"\n",
    "        Description:\n",
    "            Cria uma linha contendo múltiplos cartões dispostos horizontalmente.\n",
    "        Args:\n",
    "            num_cards (int): Número de cartões a serem exibidos na linha.\n",
    "            titles_list (list): Lista contendo os títulos de cada cartão.\n",
    "            texts_list (list): Lista contendo os textos descritivos de cada cartão.\n",
    "        Returns:\n",
    "            dbc.Row: Componente contendo os cartões organizados em colunas.\n",
    "    \"\"\"\n",
    "\n",
    "    # Garante que há títulos e textos suficientes para preencher os cartões.\n",
    "    return dbc.Row(\n",
    "        [\n",
    "            dbc.Col(\n",
    "                create_card(titles_list[i], texts_list[i]),  # Criação individual de cada cartão.\n",
    "                width=12 // num_cards  # Define a largura proporcional de cada coluna.\n",
    "            ) \n",
    "            for i in range(num_cards)\n",
    "        ],\n",
    "        justify=\"between\",  # Distribui os cartões de forma equilibrada na linha.\n",
    "        style={\n",
    "            \"width\": \"80%\",          # Define a largura da linha.\n",
    "            \"margin\": \"0 auto\",      # Centraliza a linha horizontalmente.\n",
    "            \"marginTop\": \"5%\",       # Adiciona espaçamento superior.\n",
    "            \"marginBottom\": \"5%\"     # Adiciona espaçamento inferior.\n",
    "        }\n",
    "    )"
   ]
  },
  {
   "cell_type": "code",
   "execution_count": 29,
   "metadata": {},
   "outputs": [
    {
     "data": {
      "text/html": [
       "\n",
       "        <iframe\n",
       "            width=\"100%\"\n",
       "            height=\"650\"\n",
       "            src=\"http://127.0.0.1:8050/\"\n",
       "            frameborder=\"0\"\n",
       "            allowfullscreen\n",
       "            \n",
       "        ></iframe>\n",
       "        "
      ],
      "text/plain": [
       "<IPython.lib.display.IFrame at 0x7297484adb10>"
      ]
     },
     "metadata": {},
     "output_type": "display_data"
    },
    {
     "name": "stderr",
     "output_type": "stream",
     "text": [
      "Exception in thread Thread-25:\n",
      "Traceback (most recent call last):\n",
      "  File \"/usr/lib/python3.10/threading.py\", line 1016, in _bootstrap_inner\n",
      "    self.run()\n",
      "  File \"/usr/lib/python3.10/threading.py\", line 1378, in run\n",
      "    self.function(*self.args, **self.kwargs)\n",
      "TypeError: 'bool' object is not callable\n"
     ]
    }
   ],
   "source": [
    "# Inicializa o aplicativo Dash com o tema Bootstrap para estilização.\n",
    "app = dash.Dash(__name__, external_stylesheets=[dbc.themes.BOOTSTRAP])\n",
    "\n",
    "# Texto de introdução do relatório.\n",
    "texto_introducao = (\n",
    "    \"O presente relatório tem como objetivo fornecer à atual gestão da FEA.Dev uma análise detalhada \"\n",
    "    \"sobre a situação dos membros ativos da entidade, com ênfase em suas prioridades, competências e áreas de \"\n",
    "    \"interesse. A pesquisa aborda aspectos chave como as prioridades individuais de cada membro, o interesse \"\n",
    "    \"em liderar projetos e as áreas de conhecimento específicas, incluindo Cálculo, Álgebra Linear, Estatística, \"\n",
    "    \"Probabilidade, entre outras. Além disso, o relatório oferece uma visão geral sobre a \"\n",
    "    \"distribuição das competências entre os membros ativos da organização.\"\n",
    ")\n",
    "\n",
    "# Observação sobre o número de membros ativos na entidade.\n",
    "observacao = (\n",
    "    \"Observação: No momento, a entidade conta com apenas 15 membros ativos, excluindo a atual gestão e os calouros \"\n",
    "    \"participantes do processo seletivo para o curso de Python.\"\n",
    ")\n",
    "\n",
    "# Seções de gráficos de barras sobre competências e interesses.\n",
    "secao_graficos_barras_competencias = create_bar_char_section(\n",
    "    \"Nível das competências dos membros que optaram por continuar ativos na entidade\",\n",
    "    bar_charts_competencias,\n",
    "    \"competencias_\"\n",
    ")\n",
    "secao_graficos_barras_interesses = create_bar_char_section(\n",
    "    \"Interesses dos membros que optaram por continuar ativos na entidade\",\n",
    "    bar_charts_interesses,\n",
    "    \"interesses_\"\n",
    ")\n",
    "\n",
    "# Definição do layout principal da aplicação.\n",
    "app.layout = dbc.Container(\n",
    "    [\n",
    "        dbc.Container(\n",
    "            dbc.Row(\n",
    "                dbc.Col(html.H5(texto_introducao, className=\"text-left\")),\n",
    "                justify=\"center\"\n",
    "            ),\n",
    "            style={\"padding\": \"2rem\", \"width\": \"80%\", \"marginTop\": \"5%\", \"backgroundColor\": \"#f8f9fa\"}\n",
    "        ),\n",
    "        \n",
    "        # Seção de visão geral.\n",
    "        dbc.Row(\n",
    "            dbc.Col(html.H2(\"Visão geral da situação dos membros da entidade\", className=\"text-left\")),\n",
    "            justify=\"center\",\n",
    "            style={\"width\": \"80%\", \"margin\": \"0 auto\", \"marginTop\": \"5%\"}\n",
    "        ),\n",
    "        \n",
    "        # Primeira linha de cards: Membros ativos e inativos.\n",
    "        create_card_row(\n",
    "            2, \n",
    "            [\n",
    "                \"Membros que optaram por permanecer na entidade\",\n",
    "                \"Membros que optaram por se desligar da entidade\"\n",
    "            ], \n",
    "            [\n",
    "                \"\\n\".join(df_ativos['Nome']),  # Junta os nomes dos membros ativos.\n",
    "                \"\\n\".join(df_inativos['Nome'])  # Junta os nomes dos membros inativos.\n",
    "            ]\n",
    "        ),\n",
    "        \n",
    "        # Observação destacada em vermelho.\n",
    "        dbc.Row(\n",
    "            dbc.Col(html.Div(observacao, className=\"text-left\")),\n",
    "            justify=\"center\",\n",
    "            style={\"width\": \"80%\", \"margin\": \"0 auto\", \"marginTop\": \"5%\", \"color\": \"red\"}\n",
    "        ),\n",
    "        \n",
    "        # Segunda linha de cards: Priorização da entidade pelos membros ativos.\n",
    "        create_card_row(\n",
    "            2, \n",
    "            [\n",
    "                \"Membros que continuarão na entidade e a darão média prioridade em suas rotinas\",\n",
    "                \"Membros que continuarão na entidade e a darão alta prioridade em suas rotinas\"\n",
    "            ], \n",
    "            [\n",
    "                \"\\n\".join(ativos_prioridade_media),\n",
    "                \"\\n\".join(ativos_prioridade_alta)\n",
    "            ]\n",
    "        ),\n",
    "        \n",
    "        # Seções de gráficos: Competências e Interesses.\n",
    "        html.Div([secao_graficos_barras_competencias, secao_graficos_barras_interesses])\n",
    "    ],\n",
    "    fluid=True  # Garante que o layout seja responsivo.\n",
    ")\n",
    "\n",
    "\n",
    "# Inicializa o servidor para rodar o aplicativo.\n",
    "if __name__ == \"__main__\":\n",
    "    # Executa o servidor do Dash em modo debug, permitindo atualizações automáticas.\n",
    "    app.run_server(debug=True) \n",
    "    \n",
    "    # Inicia uma thread para abrir o navegador automaticamente após 1 segundo.\n",
    "    threading.Timer(1, webbrowser.open_new(\"http://127.0.0.1:8050/\")).start() "
   ]
  }
 ],
 "metadata": {
  "kernelspec": {
   "display_name": "Python 3",
   "language": "python",
   "name": "python3"
  },
  "language_info": {
   "codemirror_mode": {
    "name": "ipython",
    "version": 3
   },
   "file_extension": ".py",
   "mimetype": "text/x-python",
   "name": "python",
   "nbconvert_exporter": "python",
   "pygments_lexer": "ipython3",
   "version": "3.10.12"
  }
 },
 "nbformat": 4,
 "nbformat_minor": 2
}
